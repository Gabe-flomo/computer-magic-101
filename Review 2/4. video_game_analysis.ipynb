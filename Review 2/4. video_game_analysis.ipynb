{
 "cells": [
  {
   "cell_type": "markdown",
   "metadata": {},
   "source": [
    "# Instructions\n",
    "Given a dataset of video game data, complete the following tasks."
   ]
  },
  {
   "cell_type": "code",
   "execution_count": null,
   "metadata": {},
   "outputs": [],
   "source": [
    "import pandas as pd\n",
    "\n",
    "def get_game_data():\n",
    "    url = \"https://raw.githubusercontent.com/Gabe-flomo/Python-Course/main/Projects/3.%20Data%20structures%20/files/Video_Games_Sales_as_at_22_Dec_2016.csv\"\n",
    "    df = pd.read_csv(url, on_bad_lines='skip')[:3000]\n",
    "    return df.to_dict('records')\n",
    "\n",
    "games = get_game_data()\n",
    "games[:5]\n"
   ]
  },
  {
   "cell_type": "markdown",
   "metadata": {},
   "source": [
    "# Objective 1\n",
    "Determine how many games were released for each year\n",
    "\n",
    "## Example output\n",
    "```python\n",
    "games_per_year = {\n",
    "    '2010': 43,\n",
    "    '2011': 32,\n",
    "    '2012': 65\n",
    "}\n",
    "```"
   ]
  },
  {
   "cell_type": "code",
   "execution_count": null,
   "metadata": {},
   "outputs": [],
   "source": [
    "#TODO"
   ]
  },
  {
   "cell_type": "markdown",
   "metadata": {},
   "source": [
    "# Objective 2\n",
    "Based on how many games were released per year, find the year when the most games were released and then find out which `publisher` released the most games for that year and how many games that got released. \n",
    "\n",
    "## Example output\n",
    "```python\n",
    "max_release_year = 2012\n",
    "'In 2012 Nintendo released the most games with a total of 22'\n",
    "```"
   ]
  },
  {
   "cell_type": "code",
   "execution_count": null,
   "metadata": {},
   "outputs": [],
   "source": [
    "#TODO"
   ]
  },
  {
   "cell_type": "markdown",
   "metadata": {},
   "source": [
    "# Objective 3\n",
    "What is the most common game `genre` and which `publisher` released the most games under that `genre`?\n",
    "\n",
    "## Example output \n",
    "```python \n",
    "'The most common genre is Racing and Nintendo released the most racing games'\n",
    "```"
   ]
  },
  {
   "cell_type": "code",
   "execution_count": null,
   "metadata": {},
   "outputs": [],
   "source": [
    "#TODO"
   ]
  },
  {
   "cell_type": "markdown",
   "metadata": {},
   "source": [
    "# Objective 4\n",
    "Have the user input a year and find which `game` and `publisher` had the highest `Global_Sales` in that year, as well as the amount of global sales they had?\n",
    "\n",
    "## Example output\n",
    "```python\n",
    "\"The game Wii Sports Resort had the higherst global sales in 2009 with a total of 32.77\"\n",
    "```"
   ]
  },
  {
   "cell_type": "code",
   "execution_count": null,
   "metadata": {},
   "outputs": [],
   "source": [
    "#TODO"
   ]
  }
 ],
 "metadata": {
  "interpreter": {
   "hash": "f1a916808f2d29f1a5fbd48aa1cb9129993ca703ecce713879d0cd946e898e32"
  },
  "kernelspec": {
   "display_name": "Python 3.9.7 64-bit ('legacy': conda)",
   "language": "python",
   "name": "python3"
  },
  "language_info": {
   "codemirror_mode": {
    "name": "ipython",
    "version": 3
   },
   "file_extension": ".py",
   "mimetype": "text/x-python",
   "name": "python",
   "nbconvert_exporter": "python",
   "pygments_lexer": "ipython3",
   "version": "3.9.7"
  },
  "orig_nbformat": 4
 },
 "nbformat": 4,
 "nbformat_minor": 2
}
