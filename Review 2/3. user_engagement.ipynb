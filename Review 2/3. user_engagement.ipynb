{
 "cells": [
  {
   "cell_type": "markdown",
   "metadata": {},
   "source": [
    "# Instructions\n",
    "Given a list of user stats, calculate each users level of engagement. Engagement is calculated by taking a weighted score of each of the users stats and combining them into a total score. \n",
    "\n",
    "- likes have a weight of `20% `\n",
    "- comments have a weight of `30%`\n",
    "- saves have a weight of `50%`\n",
    "\n",
    "***Run the function below to generate a list of user stats dictionaries***"
   ]
  },
  {
   "cell_type": "code",
   "execution_count": 8,
   "metadata": {},
   "outputs": [],
   "source": [
    "from random import uniform, randint\n",
    "def get_user_data():\n",
    "    users = [f\"user_{num + 1}\" for num in range(200)]\n",
    "    likes = [randint(10, 150) for _ in range(200)]\n",
    "    comments = [randint(0, 60) for _ in range(200)]\n",
    "    saves = [randint(0, 20) for _ in range(200) ]\n",
    "\n",
    "    user_data = []\n",
    "    for user, like_count, comment_count, save_count in zip(users, likes, comments, saves):\n",
    "        stats = {\n",
    "            'username': user,\n",
    "            'like_count': like_count,\n",
    "            'comment_count': comment_count,\n",
    "            'saved_count': save_count\n",
    "        }\n",
    "\n",
    "        user_data.append(stats)\n",
    "\n",
    "    return user_data\n",
    "\n",
    "user_data = get_user_data()\n"
   ]
  },
  {
   "cell_type": "markdown",
   "metadata": {},
   "source": [
    "# Objective 1\n",
    "The first task is to calculate the user engagement, this can be done by completing the folllowing steps.\n",
    "\n",
    "## Steps\n",
    "- loop through each user in the user data list\n",
    "- extract the counts for the `likes`, `comments`, and `saved` for the user\n",
    "- multiply each score by its weight and add the results to caalculate the weighted average\n",
    "- save the results back to the stats data as `engagement`\n",
    "\n",
    "## Example output\n",
    "```python\n",
    "user_data = [\n",
    "    {\n",
    "        'username': 'user_1',\n",
    "        'like_count': 98,\n",
    "        'comment_count': 4,\n",
    "        'saved_count': 6\n",
    "    },\n",
    "    {\n",
    "        'username': 'user_2',\n",
    "        'like_count': 100,\n",
    "        'comment_count': 32,\n",
    "        'saved_count': 9\n",
    "    }\n",
    "]\n",
    "=============================================\n",
    "user_data = [\n",
    "    {\n",
    "        'username': 'user_1',\n",
    "        'like_count': 98,\n",
    "        'comment_count': 4,\n",
    "        'saved_count': 6,\n",
    "        'engagement': 23.8\n",
    "    },\n",
    "    {\n",
    "        'username': 'user_2',\n",
    "        'like_count': 100,\n",
    "        'comment_count': 32,\n",
    "        'saved_count': 9,\n",
    "        'engagement': 34.1\n",
    "    }\n",
    "]\n",
    "```\n",
    "\n",
    "\n"
   ]
  },
  {
   "cell_type": "code",
   "execution_count": null,
   "metadata": {},
   "outputs": [],
   "source": [
    "#TODO calculate engagement"
   ]
  },
  {
   "cell_type": "markdown",
   "metadata": {},
   "source": [
    "# Objective 2\n",
    "Have a user enter a metric (`like_count`, `comment_count`, `saved_count`, or `engagement`) and find the user with the highest engagement based on one of theses metrics.\n",
    "\n",
    "## Example output\n",
    "```python \n",
    "'Find the most engaging user based on: likes'\n",
    "'user_2 has the highest engagement based on overall likes'\n",
    "\n",
    "'Find the most engaging user based on: engagement'\n",
    "'user_43 has the highest engagement based on overall engagement'\n",
    "```\n",
    "\n",
    "***I suggest running the `get_user_data` function multiple times to get different results for this part***"
   ]
  },
  {
   "cell_type": "code",
   "execution_count": null,
   "metadata": {},
   "outputs": [],
   "source": [
    "#TODO"
   ]
  },
  {
   "cell_type": "markdown",
   "metadata": {},
   "source": [
    "# Bonus: Find the top 3 users with the highes overall engagement"
   ]
  },
  {
   "cell_type": "code",
   "execution_count": null,
   "metadata": {},
   "outputs": [],
   "source": [
    "#TODO"
   ]
  }
 ],
 "metadata": {
  "interpreter": {
   "hash": "f1a916808f2d29f1a5fbd48aa1cb9129993ca703ecce713879d0cd946e898e32"
  },
  "kernelspec": {
   "display_name": "Python 3.9.7 64-bit ('legacy': conda)",
   "language": "python",
   "name": "python3"
  },
  "language_info": {
   "codemirror_mode": {
    "name": "ipython",
    "version": 3
   },
   "file_extension": ".py",
   "mimetype": "text/x-python",
   "name": "python",
   "nbconvert_exporter": "python",
   "pygments_lexer": "ipython3",
   "version": "3.9.7"
  },
  "orig_nbformat": 4
 },
 "nbformat": 4,
 "nbformat_minor": 2
}
