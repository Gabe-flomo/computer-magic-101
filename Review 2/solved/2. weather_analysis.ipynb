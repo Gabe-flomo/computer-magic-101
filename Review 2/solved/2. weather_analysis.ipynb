{
 "cells": [
  {
   "cell_type": "markdown",
   "metadata": {},
   "source": [
    "# Instructions\n",
    "Given some weather data find complete the analysis.\n",
    "\n",
    "https://www.kaggle.com/muthuj7/weather-dataset?select=weatherHistory.csv"
   ]
  },
  {
   "cell_type": "code",
   "execution_count": null,
   "metadata": {},
   "outputs": [],
   "source": [
    "import pandas as pd\n",
    "import calendar\n",
    "def get_weather_data():\n",
    "    url = \"https://raw.githubusercontent.com/Gabe-flomo/Python-Course/main/Projects/3.%20Data%20structures%20/files/weatherHistory.csv\"\n",
    "    df = pd.read_csv(url)\n",
    "    df['year'] = df['Formatted Date'].apply(lambda x: pd.to_datetime(x).year)\n",
    "    df['month'] = df['Formatted Date'].apply(lambda x: calendar.month_name[pd.to_datetime(x).month])\n",
    "    return df.to_dict('records')\n",
    "\n",
    "weather = get_weather_data()\n",
    "weather"
   ]
  },
  {
   "cell_type": "markdown",
   "metadata": {},
   "source": [
    "# Objective 1\n",
    "What is the average `temperature (c)` for `april` in the year 2006?\n",
    "\n",
    "## Example output\n",
    "`The average temperature in april for the year 2006 was 10℃`"
   ]
  },
  {
   "cell_type": "code",
   "execution_count": 8,
   "metadata": {},
   "outputs": [
    {
     "name": "stdout",
     "output_type": "stream",
     "text": [
      "The average temperature in april for the year 2006 was 12.63\n"
     ]
    }
   ],
   "source": [
    "#TODO\n",
    "weather[:3]\n",
    "key = 'Temperature (C)'\n",
    "temps = []\n",
    "for obs in weather:\n",
    "    if obs['year'] == 2006 and obs['month'] == 'April':\n",
    "        temperature = obs[key]\n",
    "        temps.append(temperature)\n",
    "\n",
    "average = sum(temps)/len(temps)\n",
    "\n",
    "print(f\"The average temperature in april for the year 2006 was {round(average, 2)}\")"
   ]
  },
  {
   "cell_type": "code",
   "execution_count": 11,
   "metadata": {},
   "outputs": [
    {
     "data": {
      "text/plain": [
       "['Formatted Date',\n",
       " 'Summary',\n",
       " 'Precip Type',\n",
       " 'Temperature (C)',\n",
       " 'Apparent Temperature (C)',\n",
       " 'Humidity',\n",
       " 'Wind Speed (km/h)',\n",
       " 'Wind Bearing (degrees)',\n",
       " 'Visibility (km)',\n",
       " 'Loud Cover',\n",
       " 'Pressure (millibars)',\n",
       " 'Daily Summary',\n",
       " 'year',\n",
       " 'month']"
      ]
     },
     "execution_count": 11,
     "metadata": {},
     "output_type": "execute_result"
    }
   ],
   "source": [
    "list(weather[0].keys())"
   ]
  },
  {
   "cell_type": "markdown",
   "metadata": {},
   "source": [
    "# Objective 2\n",
    "Find all of the data for the year 2007 and determine which `summary` was most common for each `month`.\n",
    "\n",
    "## Example output\n",
    "```python\n",
    "summaries = {\n",
    "    'january': 'partly cloudy',\n",
    "    'february': 'mostly sunny',\n",
    "    'march': 'rainy',\n",
    "    ...\n",
    "}\n",
    "```"
   ]
  },
  {
   "cell_type": "code",
   "execution_count": 17,
   "metadata": {},
   "outputs": [
    {
     "data": {
      "text/plain": [
       "{'April': 'Partly Cloudy',\n",
       " 'August': 'Partly Cloudy',\n",
       " 'December': 'Overcast',\n",
       " 'February': 'Mostly Cloudy',\n",
       " 'January': 'Mostly Cloudy',\n",
       " 'July': 'Partly Cloudy',\n",
       " 'June': 'Partly Cloudy',\n",
       " 'March': 'Partly Cloudy',\n",
       " 'May': 'Partly Cloudy',\n",
       " 'November': 'Partly Cloudy',\n",
       " 'October': 'Overcast',\n",
       " 'September': 'Partly Cloudy'}"
      ]
     },
     "execution_count": 17,
     "metadata": {},
     "output_type": "execute_result"
    }
   ],
   "source": [
    "#TODO\n",
    "summaries = {}\n",
    "summary_counter = {}\n",
    "\n",
    "# loop through dataset\n",
    "for obs in weather:\n",
    "    # check to see if the year is 2007\n",
    "    if obs['year'] == 2007:\n",
    "        # add the summary to the summaries counter\n",
    "        summary_counter.setdefault(obs['month'], [])\n",
    "        summary_counter[obs['month']].append(obs['Summary'])\n",
    "\n",
    "# loop through the months\n",
    "for month in summary_counter:\n",
    "    # get the unique summaries\n",
    "    unique = set(summary_counter[month])\n",
    "    # set the max equal to zero for that month\n",
    "    max = 0\n",
    "    # count the occurences of the summaries and keep track of the one that appeared the most\n",
    "    for summary in unique:\n",
    "        amount = summary_counter[month].count(summary)\n",
    "        # print(f\"Month {month}, summary {summary}, frequency {amount}\")\n",
    "        if amount > max:\n",
    "            max = amount\n",
    "            most_common = summary\n",
    "    \n",
    "    # set the new value for that month equal to the most common summary\n",
    "    summaries.setdefault(month, most_common)\n",
    "\n",
    "summaries\n"
   ]
  },
  {
   "cell_type": "markdown",
   "metadata": {},
   "source": [
    "# Objective 3\n",
    "Find the max temperature for each month of each year and determine which month had the biggest increase in temperature difference from 2006 to 2007.\n",
    "\n",
    "```python \n",
    "temperatures = {\n",
    "    2006:{\n",
    "        'january': 1,\n",
    "        'february': 3,\n",
    "        'march': 9,\n",
    "        ...\n",
    "    },\n",
    "    2007: {\n",
    "        'january': 2,\n",
    "        'february': 9,\n",
    "        'march': 15,\n",
    "        ...\n",
    "    }\n",
    "\n",
    "}\n",
    "\n",
    "'The month february had the biggest temperature difference from 2006 to 2007, increaseing by 6℃'\n",
    "```"
   ]
  },
  {
   "cell_type": "code",
   "execution_count": null,
   "metadata": {},
   "outputs": [],
   "source": []
  }
 ],
 "metadata": {
  "interpreter": {
   "hash": "f1a916808f2d29f1a5fbd48aa1cb9129993ca703ecce713879d0cd946e898e32"
  },
  "kernelspec": {
   "display_name": "Python 3.9.7 64-bit ('legacy': conda)",
   "language": "python",
   "name": "python3"
  },
  "language_info": {
   "codemirror_mode": {
    "name": "ipython",
    "version": 3
   },
   "file_extension": ".py",
   "mimetype": "text/x-python",
   "name": "python",
   "nbconvert_exporter": "python",
   "pygments_lexer": "ipython3",
   "version": "3.9.7"
  },
  "orig_nbformat": 4
 },
 "nbformat": 4,
 "nbformat_minor": 2
}
