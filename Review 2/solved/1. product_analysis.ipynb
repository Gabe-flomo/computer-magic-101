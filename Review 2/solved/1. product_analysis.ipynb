{
 "cells": [
  {
   "cell_type": "markdown",
   "metadata": {},
   "source": [
    "# Instructions\n",
    "Below you are given 4 lists. One for products, price, product category, and rating. You are hired by the store that owns this data to do some organizing/analysis for them so that they can have a better understanding of their products"
   ]
  },
  {
   "cell_type": "code",
   "execution_count": 34,
   "metadata": {},
   "outputs": [],
   "source": [
    "import random\n",
    "categories = ['produce', 'electronics', 'home & kitchen', 'office supplies', 'gardening', 'games', 'beauty', 'appliances', 'movies', 'sports' ]\n",
    "\n",
    "product_name = [f\"product_{num + 1}\" for num in range(100)]\n",
    "product_price = [round(random.uniform(15, 70), 2) for _ in range(100)]\n",
    "product_catagory = [random.choice(categories) for _ in range(100)]\n",
    "product_rating = [round(random.uniform(0, 5), 1) for _ in range(100)]"
   ]
  },
  {
   "cell_type": "markdown",
   "metadata": {},
   "source": [
    "# Objective 1\n",
    "convert the 4 lists into a list of procduct dictionaries such that each element in the list is a dictionary with the information for each product.\n",
    "\n",
    "## Example output\n",
    "```python\n",
    "product_name = ['product_1', 'product_2']\n",
    "product_price = [20.54, 12.90]\n",
    "product_category = ['sports', 'games']\n",
    "product_rating = [3.4, 4.1]\n",
    "\n",
    "procucts = [\n",
    "    {\n",
    "        'product': 'product_1',\n",
    "        'price': 20.54,\n",
    "        'category': 'sports',\n",
    "        'rating': 3.4\n",
    "    },\n",
    "    {\n",
    "        'product': 'product_2',\n",
    "        'price': 12.90,\n",
    "        'category': 'games',\n",
    "        'rating': 4.1\n",
    "    }\n",
    "]\n",
    "```"
   ]
  },
  {
   "cell_type": "code",
   "execution_count": null,
   "metadata": {},
   "outputs": [],
   "source": [
    "#TODO create list of dictionaries here"
   ]
  },
  {
   "cell_type": "markdown",
   "metadata": {},
   "source": [
    "# Objective 2\n",
    "Find the average product price and average product rating.\n",
    "\n",
    "## Example output\n",
    "```python \n",
    "average_product_price = 16.72\n",
    "average_product_rating = 3.75\n",
    "```"
   ]
  },
  {
   "cell_type": "code",
   "execution_count": null,
   "metadata": {},
   "outputs": [],
   "source": [
    "#TODO find the average price and rating of all products"
   ]
  },
  {
   "cell_type": "markdown",
   "metadata": {},
   "source": [
    "# Objective 3\n",
    "Create a new dictionary called `groups` that consists of all product dictionaries grouped by category. The `groups` dictionary should be a nested data structure where each `key` is the product category and the `value` is a list of products that fall under that category.\n",
    "\n",
    "## Example output\n",
    "```python \n",
    "procucts = [\n",
    "    {\n",
    "        'product': 'product_1',\n",
    "        'price': 20.54,\n",
    "        'category': 'sports',\n",
    "        'rating': 3.4\n",
    "    },\n",
    "    {\n",
    "        'product': 'product_2',\n",
    "        'price': 2.54,\n",
    "        'category': 'sports',\n",
    "        'rating': 4.4\n",
    "    },\n",
    "    {\n",
    "        'product': 'product_3',\n",
    "        'price': 12.90,\n",
    "        'category': 'games',\n",
    "        'rating': 4.1\n",
    "    },\n",
    "    {\n",
    "        'product': 'product_4',\n",
    "        'price': 30.50,\n",
    "        'category': 'kitchen',\n",
    "        'rating': 4.1\n",
    "    }\n",
    "]\n",
    "\n",
    "groups = {\n",
    "    'sports': [\n",
    "        {\n",
    "            'product': 'product_1',\n",
    "            'price': 20.54,\n",
    "            'category': 'sports',\n",
    "            'rating': 3.4\n",
    "        },\n",
    "        {\n",
    "            'product': 'product_2',\n",
    "            'price': 2.54,\n",
    "            'category': 'sports',\n",
    "            'rating': 4.4\n",
    "        },\n",
    "    ],\n",
    "    'games': [\n",
    "        {\n",
    "            'product': 'product_3',\n",
    "            'price': 12.90,\n",
    "            'category': 'games',\n",
    "            'rating': 4.1\n",
    "        }\n",
    "    ],\n",
    "    'kitchen': [\n",
    "        {\n",
    "            'product': 'product_4',\n",
    "            'price': 30.50,\n",
    "            'category': 'kitchen',\n",
    "            'rating': 4.1\n",
    "        }\n",
    "    ]\n",
    "}\n"
   ]
  },
  {
   "cell_type": "code",
   "execution_count": null,
   "metadata": {},
   "outputs": [],
   "source": [
    "#TODO create groups here"
   ]
  },
  {
   "cell_type": "markdown",
   "metadata": {},
   "source": [
    "# Objective 4\n",
    "Now that you have groups of product categories, create a new dictionary called `group_stats`. This dictionary will hold data about each product category like:\n",
    "\n",
    "- average product cost\n",
    "- most expensive product \n",
    "- cheapest product\n",
    "- most liked product (max rating)\n",
    "- least liked product (min rating)\n",
    "\n",
    "## Example output\n",
    "```python \n",
    "groups = {\n",
    "    'sports': [\n",
    "        {\n",
    "            'product': 'product_1',\n",
    "            'price': 20.54,\n",
    "            'category': 'sports',\n",
    "            'rating': 3.4\n",
    "        },\n",
    "        {\n",
    "            'product': 'product_2',\n",
    "            'price': 2.54,\n",
    "            'category': 'sports',\n",
    "            'rating': 4.4\n",
    "        },\n",
    "    ],\n",
    "    'games': [\n",
    "        {\n",
    "            'product': 'product_3',\n",
    "            'price': 12.90,\n",
    "            'category': 'games',\n",
    "            'rating': 4.1\n",
    "        }\n",
    "    ],\n",
    "    'kitchen': [\n",
    "        {\n",
    "            'product': 'product_4',\n",
    "            'price': 30.50,\n",
    "            'category': 'kitchen',\n",
    "            'rating': 4.1\n",
    "        }\n",
    "    ]\n",
    "}\n",
    "\n",
    "stats = {\n",
    "    'sports':\n",
    "        {\n",
    "            'average product cost': 11.54,\n",
    "            'most expensive product': 'product_1',\n",
    "            'most liked': 'product_2',\n",
    "            'least liked': 'product_1'\n",
    "        },\n",
    "        ...\n",
    "}\n",
    "   \n",
    "        \n",
    "    \n",
    "\n",
    "\n",
    "```"
   ]
  },
  {
   "cell_type": "code",
   "execution_count": null,
   "metadata": {},
   "outputs": [],
   "source": [
    "#TODO create stats dictionary here"
   ]
  }
 ],
 "metadata": {
  "interpreter": {
   "hash": "f1a916808f2d29f1a5fbd48aa1cb9129993ca703ecce713879d0cd946e898e32"
  },
  "kernelspec": {
   "display_name": "Python 3.9.7 64-bit ('legacy': conda)",
   "language": "python",
   "name": "python3"
  },
  "language_info": {
   "codemirror_mode": {
    "name": "ipython",
    "version": 3
   },
   "file_extension": ".py",
   "mimetype": "text/x-python",
   "name": "python",
   "nbconvert_exporter": "python",
   "pygments_lexer": "ipython3",
   "version": "3.9.7"
  },
  "orig_nbformat": 4
 },
 "nbformat": 4,
 "nbformat_minor": 2
}
