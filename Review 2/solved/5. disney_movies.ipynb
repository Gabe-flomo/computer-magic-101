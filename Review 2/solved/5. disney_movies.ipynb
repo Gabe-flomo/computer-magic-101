{
 "cells": [
  {
   "cell_type": "markdown",
   "metadata": {},
   "source": [
    "# Instructions \n",
    "Complete the following objectives using the dataset provided."
   ]
  },
  {
   "cell_type": "code",
   "execution_count": 22,
   "metadata": {},
   "outputs": [
    {
     "data": {
      "text/plain": [
       "[{'show_id': 's1',\n",
       "  'type': 'Movie',\n",
       "  'title': 'Duck the Halls: A Mickey Mouse Christmas Special',\n",
       "  'director': 'Alonso Ramirez Ramos, Dave Wasson',\n",
       "  'cast': ['Chris Diamantopoulos',\n",
       "   'Tony Anselmo',\n",
       "   'Tress MacNeille',\n",
       "   'Bill Farmer',\n",
       "   'Russi Taylor',\n",
       "   'Corey Burton'],\n",
       "  'country': nan,\n",
       "  'date_added': 'November 26, 2021',\n",
       "  'release_year': 2016,\n",
       "  'rating': 'TV-G',\n",
       "  'duration': ['23', 'min'],\n",
       "  'listed_in': 'Animation, Family',\n",
       "  'description': 'Join Mickey and the gang as they duck the halls!'},\n",
       " {'show_id': 's2',\n",
       "  'type': 'Movie',\n",
       "  'title': 'Ernest Saves Christmas',\n",
       "  'director': 'John Cherry',\n",
       "  'cast': ['Jim Varney', 'Noelle Parker', 'Douglas Seale'],\n",
       "  'country': nan,\n",
       "  'date_added': 'November 26, 2021',\n",
       "  'release_year': 1988,\n",
       "  'rating': 'PG',\n",
       "  'duration': ['91', 'min'],\n",
       "  'listed_in': 'Comedy',\n",
       "  'description': 'Santa Claus passes his magic bag to a new St. Nic.'},\n",
       " {'show_id': 's3',\n",
       "  'type': 'Movie',\n",
       "  'title': 'Ice Age: A Mammoth Christmas',\n",
       "  'director': 'Karen Disher',\n",
       "  'cast': ['Raymond Albert Romano',\n",
       "   'John Leguizamo',\n",
       "   'Denis Leary',\n",
       "   'Queen Latifah'],\n",
       "  'country': 'United States',\n",
       "  'date_added': 'November 26, 2021',\n",
       "  'release_year': 2011,\n",
       "  'rating': 'TV-G',\n",
       "  'duration': ['23', 'min'],\n",
       "  'listed_in': 'Animation, Comedy, Family',\n",
       "  'description': \"Sid the Sloth is on Santa's naughty list.\"}]"
      ]
     },
     "execution_count": 22,
     "metadata": {},
     "output_type": "execute_result"
    }
   ],
   "source": [
    "import pandas as pd\n",
    "def get_movie_data():\n",
    "    url = \"https://raw.githubusercontent.com/Gabe-flomo/Python-Course/main/Projects/3.%20Data%20structures%20/files/disney_plus_titles.csv\"\n",
    "    df = pd.read_csv(url)\n",
    "    data = df.to_dict('records')\n",
    "    for row in data:\n",
    "        try:\n",
    "            row['cast'] = row['cast'].split(', ')\n",
    "            row['duration'] = row['duration'].split()\n",
    "        except Exception as e:\n",
    "            continue\n",
    "    return data\n",
    "\n",
    "movies = get_movie_data()\n",
    "movies[:3]"
   ]
  },
  {
   "cell_type": "markdown",
   "metadata": {},
   "source": [
    "# Objective 1\n",
    "How many movies and tv shows are on the disney plus platform?\n",
    "\n",
    "## Expected output (how your output should look)\n",
    "`There are 100 shows and 250 movies on disney plus`"
   ]
  },
  {
   "cell_type": "code",
   "execution_count": null,
   "metadata": {},
   "outputs": [],
   "source": []
  },
  {
   "cell_type": "markdown",
   "metadata": {},
   "source": [
    "# Objective 2\n",
    "How many shows and movies were added in august for the year 2021?\n",
    "\n",
    "## Expected output\n",
    "`In august 2021, Disney released 10 shows and 2 movies`"
   ]
  },
  {
   "cell_type": "code",
   "execution_count": null,
   "metadata": {},
   "outputs": [],
   "source": []
  },
  {
   "cell_type": "markdown",
   "metadata": {},
   "source": [
    "# Objective 3\n",
    "How many movies were released that have more than 3 cast members?\n",
    "\n",
    "## Expected output\n",
    "`There are 100 movies that have more than 3 cast members`"
   ]
  },
  {
   "cell_type": "code",
   "execution_count": null,
   "metadata": {},
   "outputs": [],
   "source": []
  },
  {
   "cell_type": "markdown",
   "metadata": {},
   "source": [
    "# Objective 4\n",
    "Out of all the movies and tv shows that were released in 2020, how many of them have a duration longer than 90 minuutes or more than 2 seasons?\n",
    "\n",
    "## Expected output\n",
    "`There are 23 movies released in 2020 that are longer than 90 minutes, and 12 tv shows that have more than 2 seasons`\n"
   ]
  },
  {
   "cell_type": "code",
   "execution_count": null,
   "metadata": {},
   "outputs": [],
   "source": []
  },
  {
   "cell_type": "markdown",
   "metadata": {},
   "source": [
    "# Objective 5\n",
    "How many shows and movies does star wars have on disney plus and what is the average duration for star wars movies?\n",
    "\n",
    "## Expected output\n",
    "`There are 13 star wars shows and 9 star wars movies with an average duration of 110 minutes`"
   ]
  },
  {
   "cell_type": "code",
   "execution_count": null,
   "metadata": {},
   "outputs": [],
   "source": []
  }
 ],
 "metadata": {
  "interpreter": {
   "hash": "f1a916808f2d29f1a5fbd48aa1cb9129993ca703ecce713879d0cd946e898e32"
  },
  "kernelspec": {
   "display_name": "Python 3.9.7 64-bit ('legacy': conda)",
   "language": "python",
   "name": "python3"
  },
  "language_info": {
   "codemirror_mode": {
    "name": "ipython",
    "version": 3
   },
   "file_extension": ".py",
   "mimetype": "text/x-python",
   "name": "python",
   "nbconvert_exporter": "python",
   "pygments_lexer": "ipython3",
   "version": "3.9.7"
  },
  "orig_nbformat": 4
 },
 "nbformat": 4,
 "nbformat_minor": 2
}
