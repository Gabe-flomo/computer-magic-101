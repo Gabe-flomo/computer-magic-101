{
 "cells": [
  {
   "cell_type": "markdown",
   "metadata": {},
   "source": [
    "# Instructions\n",
    "Given a list of user stats, calculate each users level of engagement. Engagement is calculated by taking a weighted score of each of the users stats and combining them into a total score. \n",
    "\n",
    "- likes have a weight of `20% `\n",
    "- comments have a weight of `30%`\n",
    "- saves have a weight of `50%`\n",
    "\n",
    "***Run the function below to generate a list of user stats dictionaries***"
   ]
  },
  {
   "cell_type": "code",
   "execution_count": null,
   "metadata": {},
   "outputs": [],
   "source": [
    "from random import uniform, randint\n",
    "def get_user_data():\n",
    "    users = [f\"user_{num + 1}\" for num in range(200)]\n",
    "    likes = [randint(10, 150) for _ in range(200)]\n",
    "    comments = [randint(0, 60) for _ in range(200)]\n",
    "    saves = [randint(0, 20) for _ in range(200) ]\n",
    "\n",
    "    user_data = []\n",
    "    for user, like_count, comment_count, save_count in zip(users, likes, comments, saves):\n",
    "        stats = {\n",
    "            'username': user,\n",
    "            'like_count': like_count,\n",
    "            'comment_count': comment_count,\n",
    "            'saved_count': save_count\n",
    "        }\n",
    "\n",
    "        user_data.append(stats)\n",
    "\n",
    "    return user_data\n",
    "\n",
    "user_data = get_user_data()\n"
   ]
  },
  {
   "cell_type": "markdown",
   "metadata": {},
   "source": [
    "# Objective 1\n",
    "The first task is to calculate the user engagement, this can be done by completing the folllowing steps.\n",
    "\n",
    "## Steps\n",
    "- loop through each user in the user data list\n",
    "- extract the counts for the `likes`, `comments`, and `saved` for the user\n",
    "- multiply each score by its weight and add the results to caalculate the weighted average\n",
    "- save the results back to the stats data as `engagement`\n",
    "\n",
    "## Example output\n",
    "```python\n",
    "user_data = [\n",
    "    {\n",
    "        'username': 'user_1',\n",
    "        'like_count': 98,\n",
    "        'comment_count': 4,\n",
    "        'saved_count': 6\n",
    "    },\n",
    "    {\n",
    "        'username': 'user_2',\n",
    "        'like_count': 100,\n",
    "        'comment_count': 32,\n",
    "        'saved_count': 9\n",
    "    }\n",
    "]\n",
    "=============================================\n",
    "user_data = [\n",
    "    {\n",
    "        'username': 'user_1',\n",
    "        'like_count': 98,\n",
    "        'comment_count': 4,\n",
    "        'saved_count': 6,\n",
    "        'engagement': 23.8\n",
    "    },\n",
    "    {\n",
    "        'username': 'user_2',\n",
    "        'like_count': 100,\n",
    "        'comment_count': 32,\n",
    "        'saved_count': 9,\n",
    "        'engagement': 34.1\n",
    "    }\n",
    "]\n",
    "```\n",
    "\n",
    "\n"
   ]
  },
  {
   "cell_type": "code",
   "execution_count": null,
   "metadata": {},
   "outputs": [],
   "source": [
    "#TODO calculate engagement\n",
    "like_weight = .2\n",
    "comment_weight = .3\n",
    "saved_weight = .5\n",
    "\n",
    "for user in user_data:\n",
    "    likes = user['like_count'] * like_weight\n",
    "    comments = user['comment_count'] * comment_weight\n",
    "    saved = user['saved_count'] * saved_weight\n",
    "    engagement = likes + comments + saved \n",
    "    user['engagement'] = engagement\n",
    "\n",
    "user_data[:3]\n",
    "    "
   ]
  },
  {
   "cell_type": "markdown",
   "metadata": {},
   "source": [
    "# Objective 2\n",
    "Have a user enter a metric (`like_count`, `comment_count`, `saved_count`, or `engagement`) and find the user with the highest engagement based on one of theses metrics.\n",
    "\n",
    "## Example output\n",
    "```python \n",
    "'Find the most engaging user based on: likes'\n",
    "'user_2 has the highest engagement based on overall likes'\n",
    "\n",
    "'Find the most engaging user based on: engagement'\n",
    "'user_43 has the highest engagement based on overall engagement'\n",
    "```\n",
    "\n",
    "***I suggest running the `get_user_data` function multiple times to get different results for this part***"
   ]
  },
  {
   "cell_type": "code",
   "execution_count": 17,
   "metadata": {},
   "outputs": [
    {
     "name": "stdout",
     "output_type": "stream",
     "text": [
      "User user_91 has the highest overall like_count with a score of 150\n",
      "User user_36 has the highest overall comment_count with a score of 60\n",
      "Your options are (likes, comments, saved, engagement)\n",
      "User user_20 has the highest overall engagement with a score of 52.5\n"
     ]
    },
    {
     "ename": "KeyboardInterrupt",
     "evalue": "Interrupted by user",
     "output_type": "error",
     "traceback": [
      "\u001b[0;31m---------------------------------------------------------------------------\u001b[0m",
      "\u001b[0;31mKeyboardInterrupt\u001b[0m                         Traceback (most recent call last)",
      "\u001b[0;32m/var/folders/sb/42h02tv100xgqdxwz9k49_y80000gn/T/ipykernel_35732/1604430969.py\u001b[0m in \u001b[0;36m<module>\u001b[0;34m\u001b[0m\n\u001b[1;32m     11\u001b[0m \u001b[0;32mwhile\u001b[0m \u001b[0mans\u001b[0m \u001b[0;34m!=\u001b[0m \u001b[0;34m'quit'\u001b[0m\u001b[0;34m:\u001b[0m\u001b[0;34m\u001b[0m\u001b[0;34m\u001b[0m\u001b[0m\n\u001b[1;32m     12\u001b[0m     \u001b[0;31m# get the users answer\u001b[0m\u001b[0;34m\u001b[0m\u001b[0;34m\u001b[0m\u001b[0m\n\u001b[0;32m---> 13\u001b[0;31m     \u001b[0mans\u001b[0m \u001b[0;34m=\u001b[0m \u001b[0minput\u001b[0m\u001b[0;34m(\u001b[0m\u001b[0;34m\"Find the most engaging user based on: \"\u001b[0m\u001b[0;34m)\u001b[0m\u001b[0;34m\u001b[0m\u001b[0;34m\u001b[0m\u001b[0m\n\u001b[0m\u001b[1;32m     14\u001b[0m \u001b[0;34m\u001b[0m\u001b[0m\n\u001b[1;32m     15\u001b[0m     \u001b[0;31m# checking these conditions\u001b[0m\u001b[0;34m\u001b[0m\u001b[0;34m\u001b[0m\u001b[0m\n",
      "\u001b[0;32m~/opt/anaconda3/envs/legacy/lib/python3.9/site-packages/ipykernel/kernelbase.py\u001b[0m in \u001b[0;36mraw_input\u001b[0;34m(self, prompt)\u001b[0m\n\u001b[1;32m   1004\u001b[0m                 \u001b[0;34m\"raw_input was called, but this frontend does not support input requests.\"\u001b[0m\u001b[0;34m\u001b[0m\u001b[0;34m\u001b[0m\u001b[0m\n\u001b[1;32m   1005\u001b[0m             )\n\u001b[0;32m-> 1006\u001b[0;31m         return self._input_request(\n\u001b[0m\u001b[1;32m   1007\u001b[0m             \u001b[0mstr\u001b[0m\u001b[0;34m(\u001b[0m\u001b[0mprompt\u001b[0m\u001b[0;34m)\u001b[0m\u001b[0;34m,\u001b[0m\u001b[0;34m\u001b[0m\u001b[0;34m\u001b[0m\u001b[0m\n\u001b[1;32m   1008\u001b[0m             \u001b[0mself\u001b[0m\u001b[0;34m.\u001b[0m\u001b[0m_parent_ident\u001b[0m\u001b[0;34m[\u001b[0m\u001b[0;34m\"shell\"\u001b[0m\u001b[0;34m]\u001b[0m\u001b[0;34m,\u001b[0m\u001b[0;34m\u001b[0m\u001b[0;34m\u001b[0m\u001b[0m\n",
      "\u001b[0;32m~/opt/anaconda3/envs/legacy/lib/python3.9/site-packages/ipykernel/kernelbase.py\u001b[0m in \u001b[0;36m_input_request\u001b[0;34m(self, prompt, ident, parent, password)\u001b[0m\n\u001b[1;32m   1049\u001b[0m             \u001b[0;32mexcept\u001b[0m \u001b[0mKeyboardInterrupt\u001b[0m\u001b[0;34m:\u001b[0m\u001b[0;34m\u001b[0m\u001b[0;34m\u001b[0m\u001b[0m\n\u001b[1;32m   1050\u001b[0m                 \u001b[0;31m# re-raise KeyboardInterrupt, to truncate traceback\u001b[0m\u001b[0;34m\u001b[0m\u001b[0;34m\u001b[0m\u001b[0m\n\u001b[0;32m-> 1051\u001b[0;31m                 \u001b[0;32mraise\u001b[0m \u001b[0mKeyboardInterrupt\u001b[0m\u001b[0;34m(\u001b[0m\u001b[0;34m\"Interrupted by user\"\u001b[0m\u001b[0;34m)\u001b[0m \u001b[0;32mfrom\u001b[0m \u001b[0;32mNone\u001b[0m\u001b[0;34m\u001b[0m\u001b[0;34m\u001b[0m\u001b[0m\n\u001b[0m\u001b[1;32m   1052\u001b[0m             \u001b[0;32mexcept\u001b[0m \u001b[0mException\u001b[0m\u001b[0;34m:\u001b[0m\u001b[0;34m\u001b[0m\u001b[0;34m\u001b[0m\u001b[0m\n\u001b[1;32m   1053\u001b[0m                 \u001b[0mself\u001b[0m\u001b[0;34m.\u001b[0m\u001b[0mlog\u001b[0m\u001b[0;34m.\u001b[0m\u001b[0mwarning\u001b[0m\u001b[0;34m(\u001b[0m\u001b[0;34m\"Invalid Message:\"\u001b[0m\u001b[0;34m,\u001b[0m \u001b[0mexc_info\u001b[0m\u001b[0;34m=\u001b[0m\u001b[0;32mTrue\u001b[0m\u001b[0;34m)\u001b[0m\u001b[0;34m\u001b[0m\u001b[0;34m\u001b[0m\u001b[0m\n",
      "\u001b[0;31mKeyboardInterrupt\u001b[0m: Interrupted by user"
     ]
    }
   ],
   "source": [
    "#TODO\n",
    "mapping = {\n",
    "    'likes': 'like_count',\n",
    "    'comments': 'comment_count',\n",
    "    'saved': 'saved_count',\n",
    "    'engagement': 'engagement',\n",
    "}\n",
    "ans = None\n",
    "\n",
    "# start an event loop\n",
    "while ans != 'quit':\n",
    "    # get the users answer\n",
    "    ans = input(\"Find the most engaging user based on: \")\n",
    "\n",
    "    # checking these conditions\n",
    "    if ans == 'quit':\n",
    "        break\n",
    "    elif ans not in mapping:\n",
    "        print(\"Your options are (likes, comments, saved, engagement)\")\n",
    "        continue\n",
    "    \n",
    "    # get the metric to check highest score\n",
    "    metric = mapping[ans]\n",
    "    # set the max score \n",
    "    max = 0\n",
    "    # loop through each user\n",
    "    for user in user_data:\n",
    "        # get the value for the desired metric\n",
    "        value = user[metric]\n",
    "        # set the new max if applicable\n",
    "        if value > max:\n",
    "            max = value\n",
    "            username = user['username']\n",
    "    # print results\n",
    "    print(f'User {username} has the highest overall {metric} with a score of {max}')\n",
    "\n",
    "\n"
   ]
  },
  {
   "cell_type": "markdown",
   "metadata": {},
   "source": [
    "# Bonus: Find the top 3 users with the highes overall engagement"
   ]
  },
  {
   "cell_type": "code",
   "execution_count": null,
   "metadata": {},
   "outputs": [],
   "source": [
    "#TODO"
   ]
  }
 ],
 "metadata": {
  "interpreter": {
   "hash": "f1a916808f2d29f1a5fbd48aa1cb9129993ca703ecce713879d0cd946e898e32"
  },
  "kernelspec": {
   "display_name": "Python 3.9.7 64-bit ('legacy': conda)",
   "language": "python",
   "name": "python3"
  },
  "language_info": {
   "codemirror_mode": {
    "name": "ipython",
    "version": 3
   },
   "file_extension": ".py",
   "mimetype": "text/x-python",
   "name": "python",
   "nbconvert_exporter": "python",
   "pygments_lexer": "ipython3",
   "version": "3.9.7"
  },
  "orig_nbformat": 4
 },
 "nbformat": 4,
 "nbformat_minor": 2
}
