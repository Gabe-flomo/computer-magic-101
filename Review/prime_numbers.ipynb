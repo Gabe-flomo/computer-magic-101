{
  "nbformat": 4,
  "nbformat_minor": 0,
  "metadata": {
    "interpreter": {
      "hash": "fd61235da8d855c081cbd5d7c6398e4c179a40a950675235256f7f30499f1124"
    },
    "kernelspec": {
      "display_name": "Python 3.7.4 64-bit ('base': conda)",
      "language": "python",
      "name": "python3"
    },
    "language_info": {
      "codemirror_mode": {
        "name": "ipython",
        "version": 3
      },
      "file_extension": ".py",
      "mimetype": "text/x-python",
      "name": "python",
      "nbconvert_exporter": "python",
      "pygments_lexer": "ipython3",
      "version": "3.7.4"
    },
    "orig_nbformat": 4,
    "colab": {
      "name": "prime_numbers.ipynb",
      "provenance": [],
      "include_colab_link": true
    }
  },
  "cells": [
    {
      "cell_type": "markdown",
      "metadata": {
        "id": "view-in-github",
        "colab_type": "text"
      },
      "source": [
        "<a href=\"https://colab.research.google.com/github/Gabe-flomo/computer-magic-101/blob/master/Review/prime_numbers.ipynb\" target=\"_parent\"><img src=\"https://colab.research.google.com/assets/colab-badge.svg\" alt=\"Open In Colab\"/></a>"
      ]
    },
    {
      "cell_type": "markdown",
      "metadata": {
        "id": "XzS0jSopkPWT"
      },
      "source": [
        "# Instructions\n",
        "Ask the user to input a starting value and a stopping value. Loop from the start to the stop and keep track of all of the prime numbers as well as the non-prime numbers. Once the loop has been completed, print out all of the prime numbers and non-prime numbers, as well as a count of each.\n",
        "\n",
        "- **A prime number is any number that can only be divided by 1 or itself.**\n",
        "- **All prime numbers are greater than 1**\n",
        "\n",
        "### Example output\n",
        "* `start = 3`, `end = 15`\n",
        "* `prime numbers [3, 5, 7, 11, 13]`\n",
        "* `non-prime numbers [4, 6, 8, 9, 10, 12, 14, 15]`\n",
        "* `\"There are 5 prime numbers and 8 non prime numbers between 3 and 15\"`\n",
        "\n",
        "\n",
        "### How can I know if a number is prime or not (Pseduo-code)\n",
        "Say we `start` at the number `5` and `stop` at the number `20`, we can calculate which numbers are prime by doing the following steps.\n",
        "1. set the start and stop values\n",
        "2. create 2 lists to hold the `primes` and `non_primes`\n",
        "3. start looping through the range of numbers from `5` to `20` with the current number being `x`. **(on your first iteration `x` is 5)**\n",
        "4. create an `is_prime` flag and set it to `True`\n",
        "5. Before iterating to the next `x` value **(for example 6)**, check to see if `x` can be evenly divided by any of the numbers from `2` up to `x` **(This will be a nested loop)**\n",
        "    - If `x` cannot be evenly divided by any of the numbers, then the number is prime.\n",
        "    - If `x` can be evenly divided by any of the numbers, then the `x` is not prime and the `is_prime` flag can be set to `False`\n",
        "6. If the `is_prime` flag is still `True`, add the current number, `x`, to the `primes` list. Otherwise add the it to the `non_primes` list\n",
        "7. After both loops have completed, print out the primes and non primes as well as the count of each."
      ]
    },
    {
      "cell_type": "code",
      "metadata": {
        "id": "0wuOkseAkPWe"
      },
      "source": [
        "# get the start number\n",
        "start = int(input(\"Enter a start value: \"))\n",
        "# get the stop number\n",
        "stop = int(input(\"Enter a stop value: \"))\n",
        "# create an empty list to hold all prime numbers\n",
        "# create an empty list to hold all the non_prime numbers\n",
        "primes = []\n",
        "non_primes = [] \n",
        "\n",
        "#TODO your solution goes here\n",
        "\n",
        "print(f\"There are {len(primes)} prime numbers and {len(non_primes)} non-prime numbers between {start} and {stop}\")\n",
        "print(f\"Primes: {primes}\")\n",
        "print(f\"Non-Primes: {non_primes}\")\n"
      ],
      "execution_count": null,
      "outputs": []
    },
    {
      "cell_type": "markdown",
      "metadata": {
        "id": "7vyBn0GMkPWi"
      },
      "source": [
        "# Bonus \n",
        "Out of all the non-prime numbers, find the numbers that when divided by a prime number results in another prime number.\n",
        "\n",
        "### Example:\n",
        "* `77 / 7 = 11`\n",
        "* `9 / 3 = 3`\n",
        "* `15 / 5 = 3`\n",
        "* so `[77, 15, 9]` are only divisible by prime numbers"
      ]
    },
    {
      "cell_type": "code",
      "metadata": {
        "id": "3wfk9jPEkPWj"
      },
      "source": [
        "divisible_by_primes = []\n",
        "#TODO Your solution goes here"
      ],
      "execution_count": null,
      "outputs": []
    }
  ]
}