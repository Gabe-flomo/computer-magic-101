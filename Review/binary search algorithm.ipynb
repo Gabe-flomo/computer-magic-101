{
  "nbformat": 4,
  "nbformat_minor": 0,
  "metadata": {
    "interpreter": {
      "hash": "fd61235da8d855c081cbd5d7c6398e4c179a40a950675235256f7f30499f1124"
    },
    "kernelspec": {
      "display_name": "Python 3.7.4 64-bit ('base': conda)",
      "language": "python",
      "name": "python3"
    },
    "language_info": {
      "codemirror_mode": {
        "name": "ipython",
        "version": 3
      },
      "file_extension": ".py",
      "mimetype": "text/x-python",
      "name": "python",
      "nbconvert_exporter": "python",
      "pygments_lexer": "ipython3",
      "version": "3.7.4"
    },
    "orig_nbformat": 4,
    "colab": {
      "name": "binary search algorithm.ipynb",
      "provenance": [],
      "include_colab_link": true
    }
  },
  "cells": [
    {
      "cell_type": "markdown",
      "metadata": {
        "id": "view-in-github",
        "colab_type": "text"
      },
      "source": [
        "<a href=\"https://colab.research.google.com/github/Gabe-flomo/Python-Course/blob/main/Projects/Review/binary%20search%20algorithm.ipynb\" target=\"_parent\"><img src=\"https://colab.research.google.com/assets/colab-badge.svg\" alt=\"Open In Colab\"/></a>"
      ]
    },
    {
      "cell_type": "markdown",
      "metadata": {
        "id": "_xSIHBfuuUTN"
      },
      "source": [
        "# Instructions \n",
        "In this challenge you are tasked with implementing the binary search algorithm. This is a searching algorithm that works by splitting the list in half until it finds the value you're looking for. Intuitively it works as follows:\n",
        "```\n",
        "list = [5,2,1,4,3]\n",
        "searching_for = 2\n",
        "\n",
        "sort the list -> [1,2,3,4,5]\n",
        "find the value at the middle index -> index = 2, value = 3\n",
        "\n",
        "is the value we're searching for equal to the value at the middle index? No\n",
        "is the value we're searching for greater than the value at the middle index? No\n",
        "is the value we're searching for less than the value at the middle index? Yes\n",
        "\n",
        "since the value we're searching for is less than the value at the middle index, lets make the middle value be the end of our list. -> [1,2,3]\n",
        "\n",
        "Now lets repeat the process.\n",
        "list = [1,2,3]\n",
        "find the value at the middle index -> index = 1, value = 2\n",
        "is the value we're searching for equal to the value at the middle index? Yes\n",
        "\n",
        "Great! you have found the value you were searching for\n",
        "```\n",
        "\n",
        "\n",
        "* sort the array \n",
        "* create a variable called `low` and set it equal to 0\n",
        "* create a variable called `high` and set it equal to the length of the list minus one\n",
        "* create a variable called `found` and set it equal to False\n",
        "* start a loop that loops while `low` <= `high`\n",
        "* calculate the array `midpoint` by adding the `low` to the `high` and dividing by 2\n",
        "* if the element at the `midpoint` is equal to the element you're searching for, set found equal to true and print the index that the element was found at\n",
        "* Otherwise\n",
        "    * if the element you're searching for is less than the element at the `midpoint`, change the value of `high` to `midpoint - 1`\n",
        "    * if the element you're searching for is greater than the element at the `midpoint`, change the value of `low` to `midpoint + 1`\n"
      ]
    },
    {
      "cell_type": "code",
      "metadata": {
        "id": "OAs0wTlkuUTQ"
      },
      "source": [
        "var = [5, 12, 43, 11, 6, 16, 7, 22, 8]\n",
        "#TODO implement the algorithm and search for the value 6"
      ],
      "execution_count": null,
      "outputs": []
    }
  ]
}