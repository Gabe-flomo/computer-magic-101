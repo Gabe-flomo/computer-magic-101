{
  "nbformat": 4,
  "nbformat_minor": 0,
  "metadata": {
    "language_info": {
      "name": "python"
    },
    "orig_nbformat": 4,
    "colab": {
      "name": "how many pairs.ipynb",
      "provenance": [],
      "include_colab_link": true
    }
  },
  "cells": [
    {
      "cell_type": "markdown",
      "metadata": {
        "id": "view-in-github",
        "colab_type": "text"
      },
      "source": [
        "<a href=\"https://colab.research.google.com/github/Gabe-flomo/Python-Course/blob/main/Projects/Review/how%20many%20pairs.ipynb\" target=\"_parent\"><img src=\"https://colab.research.google.com/assets/colab-badge.svg\" alt=\"Open In Colab\"/></a>"
      ]
    },
    {
      "cell_type": "markdown",
      "metadata": {
        "id": "39S7uSLHZ9-j"
      },
      "source": [
        "# Instructions\n",
        "Generate a list of 50 random numbers between 1 and 10 and write an algorithm that can count how many times a pair of numbers appears. A pair is any number that appears at least twice, so if the number `3` appears 5 times then there are 2 pairs of `3`. Create a list of tuples with the first index as the original number and the second index as the count of pairs. Print out the list of pair tuples and out how many pairs there were total.\n",
        "\n",
        "## Expectations\n",
        "1. Generate a list of 50 random numbers\n",
        "2. Count the amount of pairs for each number\n",
        "3. Create a list of pair tuples `(original_number, pair_count)` \n",
        "4. Count the total number of pairs\n",
        "\n",
        "## Example\n",
        "```python\n",
        "numbers = [2,9,1,5,2,7,5,9,9,9,2,1,1,5,1]\n",
        "pairs = [\n",
        "    (1, 2),\n",
        "    (2, 1),\n",
        "    (4, 1),\n",
        "    (5, 1),\n",
        "    (7, 0),\n",
        "    (9, 2)\n",
        "]\n",
        "\n",
        "print(pairs)\n",
        "```\n",
        "`There are 7 pairs total`\n"
      ]
    },
    {
      "cell_type": "code",
      "metadata": {
        "id": "2tavHoCSZ9-p"
      },
      "source": [
        "#TODO Code goes here "
      ],
      "execution_count": null,
      "outputs": []
    }
  ]
}