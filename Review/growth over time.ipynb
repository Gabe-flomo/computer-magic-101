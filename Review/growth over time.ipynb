{
  "nbformat": 4,
  "nbformat_minor": 0,
  "metadata": {
    "language_info": {
      "name": "python"
    },
    "orig_nbformat": 4,
    "colab": {
      "name": "growth over time.ipynb",
      "provenance": [],
      "include_colab_link": true
    }
  },
  "cells": [
    {
      "cell_type": "markdown",
      "metadata": {
        "id": "view-in-github",
        "colab_type": "text"
      },
      "source": [
        "<a href=\"https://colab.research.google.com/github/Gabe-flomo/Python-Course/blob/main/Projects/Review/growth%20over%20time.ipynb\" target=\"_parent\"><img src=\"https://colab.research.google.com/assets/colab-badge.svg\" alt=\"Open In Colab\"/></a>"
      ]
    },
    {
      "cell_type": "markdown",
      "metadata": {
        "id": "hF6kkB9EZm3L"
      },
      "source": [
        "# Instructions\n",
        "You are working for a shoe company and they need help tracking their instagram growth over time. You are given a list of their followers for each month of the year and you are asked to calculate the follower change from month to month. You are also asked to report which month had the biggest increase in follower count.\n",
        "\n",
        "## Explaination\n",
        "You can calculate the change in follower count by subtracting the `current` count from the `next`. For example, consider the list `[3, 5, 20]`, by looping through the list we can index the `current` and `next` value simultaneously. Subtracting the `current` from the `next` will give us the change in followers. \n",
        "\n",
        "`current = 3, next = 5 -> difference = 2` <br>\n",
        "`current = 5, next = 20 -> difference = 15`\n",
        "\n",
        "Each time we calculate the difference in followers we can add the change to a new list called `activity`. This list should only have 11 values since we are calculating the month to month change. You can determine which month did the best by keeping track of the largest change in followers from month to month.\n",
        "\n",
        "## Expectations\n",
        "1. loop through the list of followers\n",
        "2. calculate the change in followers from the `current` and `next` month \n",
        "3. keep track of the month with the higest change in followers\n",
        "4. save the month to month activity in a list called `activity`\n",
        "5. print out the activity and which month did the best\n",
        "\n",
        "\n",
        "```python\n",
        "followers = [12, 34, 62, 54, 79, 73, 121, 138, 133, 177, 214, 266]\n",
        "months = ['jan', 'feb', 'march', 'april', 'may', 'june', 'july', 'aug', 'sept', 'oct', 'nov', 'dec']\n",
        "activity = [22, 28, -8, 25, 6, 48, 17, -5, 44, 37, 52]\n",
        "```\n",
        "\n",
        "`This is the change in followers over time [22, 28, -8, 25, 6, 48, 17, -5, 44, 37, 52] with december having the biggest increase in followers.`"
      ]
    },
    {
      "cell_type": "code",
      "metadata": {
        "id": "iwzfwr7wZm3S"
      },
      "source": [
        "followers = [121, 345, 622, 545, 790, 731, 1217, 1388, 1339, 1777, 2140, 2662]\n",
        "months = ['jan', 'feb', 'march', 'april', 'may',\n",
        "          'june', 'july', 'aug', 'sept', 'oct', 'nov', 'dec']\n",
        "\n",
        "#TODO Calculate activity over time and the month with the biggest increase."
      ],
      "execution_count": null,
      "outputs": []
    }
  ]
}