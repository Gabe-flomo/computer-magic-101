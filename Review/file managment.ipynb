{
  "cells": [
    {
      "cell_type": "markdown",
      "metadata": {
        "colab_type": "text",
        "id": "view-in-github"
      },
      "source": [
        "<a href=\"https://colab.research.google.com/github/Gabe-flomo/Python-Course/blob/main/Projects/Review/file%20managment.ipynb\" target=\"_parent\"><img src=\"https://colab.research.google.com/assets/colab-badge.svg\" alt=\"Open In Colab\"/></a>"
      ]
    },
    {
      "cell_type": "markdown",
      "metadata": {
        "id": "yDScB4s_ua15"
      },
      "source": [
        "# Instructions\n",
        "You are given a list of filenames along with their extensions. There are 3 different types of files, `.wav, .doc, .mp3`. We want all of the audio files to be added to a list called audio and all the documents to be added to a list called documents. Since the `.mp3` files are also audio, convert the filetype from `mp3` to `wav` and add those to the audio list as well.\n",
        "\n",
        "### Example\n",
        "`files = ['file1.wav', 'file2.wav', 'file3.doc', 'file4.doc', 'file5.wav', 'file6.wav', 'file7.doc', 'file8.mp3']`<br>\n",
        "`audio = ['file1.wav', 'file2.wav', 'file5.wav', 'file6.wav', 'file8.wav']`<br>\n",
        "`documents = ['file3.doc', 'file4.doc', 'file7.doc']` <br>\n",
        "`There are 4 audio files and 3 documents`"
      ]
    },
    {
      "cell_type": "code",
      "execution_count": 1,
      "metadata": {
        "id": "60gNdH45ua17"
      },
      "outputs": [],
      "source": [
        "from random import choice\n",
        "files = [f\"file_{i+1}{choice(['.wav', '.doc', '.mp3'])}\" for i in range(50) ]\n",
        "\n"
      ]
    }
  ],
  "metadata": {
    "colab": {
      "include_colab_link": true,
      "name": "file managment.ipynb",
      "provenance": []
    },
    "interpreter": {
      "hash": "fd61235da8d855c081cbd5d7c6398e4c179a40a950675235256f7f30499f1124"
    },
    "kernelspec": {
      "display_name": "Python 3.7.4 64-bit ('base': conda)",
      "language": "python",
      "name": "python3"
    },
    "language_info": {
      "codemirror_mode": {
        "name": "ipython",
        "version": 3
      },
      "file_extension": ".py",
      "mimetype": "text/x-python",
      "name": "python",
      "nbconvert_exporter": "python",
      "pygments_lexer": "ipython3",
      "version": "3.7.4"
    },
    "orig_nbformat": 4
  },
  "nbformat": 4,
  "nbformat_minor": 0
}
