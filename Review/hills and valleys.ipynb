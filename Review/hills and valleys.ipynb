{
 "cells": [
  {
   "cell_type": "markdown",
   "metadata": {},
   "source": [
    "An avid hiker keeps meticulous records of their hikes. During the last hike that took exactly ***x*** steps, for every step it was noted ***U*** if it was an uphill, or a ***D*** if it was downhill step. Hikes always start and end at sea level, and each step up or down represents a ***1*** unit change in altitude. We define the following terms:\n",
    "\n",
    "* A mountain is a sequence of consecutive steps above sea level, starting with a step up from sea level and ending with a step down to sea level.\n",
    "* A valley is a sequence of consecutive steps below sea level, starting with a step down from sea level and ending with a step up to sea level.\n",
    "\n",
    "Given the sequence of up and down steps during a hike, find and print the number of valleys walked through.\n",
    "\n",
    "## Example\n",
    "`steps =  [D, D, U, U, U, U, D, D]`\n",
    "\n",
    "The hiker first enters a valley ***2*** units deep. Then they climb out and up onto a mountain ***2*** units high. Finally, the hiker returns to sea level and ends the hike.\n",
    "\n",
    "If we represent _ as sea level, a step up as /, and a step down as \\, the hike can be drawn as:\n",
    "\n",
    "```\n",
    "      /\\\n",
    "_    /  \\_\n",
    " \\  /\n",
    "  \\/     \n",
    "```      \n",
    "`The hiker enters and leaves 1 valley and 1 mountain.`\n",
    "\n",
    "***Hint: keep track of when the hiker crosses the sea level as wll as thier current altitude.***\n"
   ]
  },
  {
   "cell_type": "code",
   "execution_count": null,
   "metadata": {},
   "outputs": [],
   "source": [
    "path1 = [\"D\", \"D\", \"U\", \"U\", \"U\", \"U\", \"D\", \"D\"]\n",
    "path2 = [\"D\", \"D\", \"U\", \"U\", \"U\", \"U\", \"D\", \"D\", \"D\", \"D\", \"U\"]\n",
    "path3 = [\"U\", \"U\", \"D\", \"D\", \"U\", \"U\", \"D\", \"D\", \"D\", \"D\", \"D\", \"D\", \"U\", \"U\", \"U\", \"U\"]\n",
    "\n",
    "#TODO count the hills and valleys"
   ]
  },
  {
   "cell_type": "code",
   "execution_count": 5,
   "metadata": {},
   "outputs": [
    {
     "name": "stdout",
     "output_type": "stream",
     "text": [
      "1\n",
      "[2, 3, 4]\n",
      "2\n",
      "[3, 4]\n",
      "3\n",
      "[4]\n",
      "4\n",
      "[]\n"
     ]
    }
   ],
   "source": [
    "x = [1,2,3,4]\n",
    "for i in x.copy():\n",
    "    index = x.index(i)\n",
    "    val = x.pop(index)\n",
    "    print(val)\n",
    "    print(x)"
   ]
  },
  {
   "cell_type": "code",
   "execution_count": null,
   "metadata": {},
   "outputs": [],
   "source": []
  }
 ],
 "metadata": {
  "interpreter": {
   "hash": "fd61235da8d855c081cbd5d7c6398e4c179a40a950675235256f7f30499f1124"
  },
  "kernelspec": {
   "display_name": "Python 3.7.4 64-bit ('base': conda)",
   "language": "python",
   "name": "python3"
  },
  "language_info": {
   "codemirror_mode": {
    "name": "ipython",
    "version": 3
   },
   "file_extension": ".py",
   "mimetype": "text/x-python",
   "name": "python",
   "nbconvert_exporter": "python",
   "pygments_lexer": "ipython3",
   "version": "3.7.4"
  },
  "orig_nbformat": 4
 },
 "nbformat": 4,
 "nbformat_minor": 2
}
