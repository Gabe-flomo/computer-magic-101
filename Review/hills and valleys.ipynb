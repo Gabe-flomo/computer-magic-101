{
 "cells": [
  {
   "cell_type": "markdown",
   "metadata": {},
   "source": [
    "An avid hiker keeps meticulous records of their hikes. During the last hike that took exactly ***x*** steps, for every step it was noted ***U*** if it was an uphill, or a ***D*** if it was downhill step. Hikes always start and end at sea level, and each step up or down represents a ***1*** unit change in altitude. We define the following terms:\n",
    "\n",
    "* A mountain is a sequence of consecutive steps above sea level, starting with a step up from sea level and ending with a step down to sea level.\n",
    "* A valley is a sequence of consecutive steps below sea level, starting with a step down from sea level and ending with a step up to sea level.\n",
    "\n",
    "Given the sequence of up and down steps during a hike, find and print the number of valleys walked through.\n",
    "\n",
    "## Example\n",
    "`steps =  [D, D, U, U, U, U, D, D]`\n",
    "\n",
    "The hiker first enters a valley ***2*** units deep. Then they climb out and up onto a mountain ***2*** units high. Finally, the hiker returns to sea level and ends the hike.\n",
    "\n",
    "If we represent _ as sea level, a step up as /, and a step down as \\, the hike can be drawn as:\n",
    "\n",
    "```\n",
    "      /\\\n",
    "_    /  \\_\n",
    " \\  /\n",
    "  \\/     \n",
    "```      \n",
    "`The hiker enters and leaves 1 valley and 1 mountain.`\n",
    "\n",
    "***Hint: keep track of when the hiker crosses the sea level as wll as thier current altitude.***\n"
   ]
  },
  {
   "cell_type": "code",
   "execution_count": null,
   "metadata": {},
   "outputs": [],
   "source": [
    "path1 = [\"D\", \"D\", \"U\", \"U\", \"U\", \"U\", \"D\", \"D\"]\n",
    "path2 = [\"D\", \"D\", \"U\", \"U\", \"U\", \"U\", \"D\", \"D\", \"D\", \"D\", \"U\"]\n",
    "path3 = [\"U\", \"U\", \"D\", \"D\", \"U\", \"U\", \"D\", \"D\", \"D\", \"D\", \"D\", \"D\", \"U\", \"U\", \"U\", \"U\"]\n",
    "\n",
    "#TODO count the hills and valleys"
   ]
  }
 ],
 "metadata": {
  "language_info": {
   "name": "python"
  },
  "orig_nbformat": 4
 },
 "nbformat": 4,
 "nbformat_minor": 2
}
