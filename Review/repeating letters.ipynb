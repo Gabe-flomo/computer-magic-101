{
 "cells": [
  {
   "cell_type": "markdown",
   "metadata": {},
   "source": [
    "# Instructions\n",
    "Below you are given a list of words and you need to find all the words that have repeated letters. An example of a word with a repeating letter is `noon` since the O's repeat. The word `eye` does not count since the E's dont come right after eachother. \n",
    "\n",
    "### Expectations\n",
    "* loop through the list of words\n",
    "* find the words that have repeated characters\n",
    "* create a tuple of the original word and the characters that repeat\n",
    "* add the tuple to a list called `repeats`\n",
    "* display all the repeats\n",
    "\n",
    "### Example output\n",
    "```\n",
    "words = [\n",
    "    \"soon\",\n",
    "    \"Moon\",\n",
    "    \"excite\",\n",
    "    \"boson\",\n",
    "    \"toon\"\n",
    "]\n",
    "\n",
    "#output\n",
    "[\n",
    "    (soon, \"oo\"),\n",
    "    (moon, \"oo\"),\n",
    "    (toon, \"oo\")\n",
    "]\n",
    "```"
   ]
  },
  {
   "cell_type": "code",
   "execution_count": null,
   "metadata": {},
   "outputs": [],
   "source": [
    "words = [\n",
    "    \"Hood\",\n",
    "    \"Water\",\n",
    "    \"Seek\",\n",
    "    'Poppins',\n",
    "    \"Lucid\",\n",
    "    \"Hotter\",\n",
    "    \"Tattoo\",\n",
    "    \"Book\"\n",
    "]\n",
    "\n",
    "repeats = []\n",
    "\n",
    "#TODO Solution goes here"
   ]
  }
 ],
 "metadata": {
  "interpreter": {
   "hash": "aee8b7b246df8f9039afb4144a1f6fd8d2ca17a180786b69acc140d282b71a49"
  },
  "kernelspec": {
   "display_name": "Python 3.10.0 64-bit",
   "language": "python",
   "name": "python3"
  },
  "language_info": {
   "codemirror_mode": {
    "name": "ipython",
    "version": 3
   },
   "file_extension": ".py",
   "mimetype": "text/x-python",
   "name": "python",
   "nbconvert_exporter": "python",
   "pygments_lexer": "ipython3",
   "version": "3.10.0"
  },
  "orig_nbformat": 4
 },
 "nbformat": 4,
 "nbformat_minor": 2
}
