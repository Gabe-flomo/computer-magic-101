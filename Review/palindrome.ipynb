{
  "nbformat": 4,
  "nbformat_minor": 0,
  "metadata": {
    "language_info": {
      "name": "python"
    },
    "orig_nbformat": 4,
    "colab": {
      "name": "palindrome.ipynb",
      "provenance": [],
      "include_colab_link": true
    }
  },
  "cells": [
    {
      "cell_type": "markdown",
      "metadata": {
        "id": "view-in-github",
        "colab_type": "text"
      },
      "source": [
        "<a href=\"https://colab.research.google.com/github/Gabe-flomo/Python-Course/blob/main/Projects/Review/palindrome.ipynb\" target=\"_parent\"><img src=\"https://colab.research.google.com/assets/colab-badge.svg\" alt=\"Open In Colab\"/></a>"
      ]
    },
    {
      "cell_type": "markdown",
      "metadata": {
        "id": "YmH3wUHpaRIU"
      },
      "source": [
        "# Instructions \n",
        "A palindrome is any word or phrase that is the same when read normally or reversed. \n",
        "---\n",
        "\n",
        "***Your task is to write an algorithm that checks if a given string is a palindrome or not***"
      ]
    },
    {
      "cell_type": "code",
      "metadata": {
        "id": "AXvIr66ZaRIe"
      },
      "source": [
        "strings = [\n",
        "    \"racecar\",\n",
        "    \"washburn\",\n",
        "    \"radar\",\n",
        "    \"top spot\",\n",
        "    \"never\",\n",
        "    \"stats\"    \n",
        "]\n",
        "\n",
        "#TODO find all palindromes"
      ],
      "execution_count": null,
      "outputs": []
    }
  ]
}