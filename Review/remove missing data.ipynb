{
  "nbformat": 4,
  "nbformat_minor": 0,
  "metadata": {
    "interpreter": {
      "hash": "fd61235da8d855c081cbd5d7c6398e4c179a40a950675235256f7f30499f1124"
    },
    "kernelspec": {
      "display_name": "Python 3.7.4 64-bit ('base': conda)",
      "language": "python",
      "name": "python3"
    },
    "language_info": {
      "codemirror_mode": {
        "name": "ipython",
        "version": 3
      },
      "file_extension": ".py",
      "mimetype": "text/x-python",
      "name": "python",
      "nbconvert_exporter": "python",
      "pygments_lexer": "ipython3",
      "version": "3.7.4"
    },
    "orig_nbformat": 4,
    "colab": {
      "name": "remove missing data.ipynb",
      "provenance": [],
      "include_colab_link": true
    }
  },
  "cells": [
    {
      "cell_type": "markdown",
      "metadata": {
        "id": "view-in-github",
        "colab_type": "text"
      },
      "source": [
        "<a href=\"https://colab.research.google.com/github/Gabe-flomo/Python-Course/blob/main/Projects/Review/remove%20missing%20data.ipynb\" target=\"_parent\"><img src=\"https://colab.research.google.com/assets/colab-badge.svg\" alt=\"Open In Colab\"/></a>"
      ]
    },
    {
      "cell_type": "markdown",
      "metadata": {
        "id": "vqauMN16aaHq"
      },
      "source": [
        "# Instructions \n",
        "The CEO of a company called *`we love numbers`* has noticed that some of their datasets don't look right. Parts of the dataset have values other than numbers, which makes the CEO very mad because he loves numbers 😡. You've been hired to help clean their datasets by removing any of the rows that contain values other than numbers. \n",
        "--\n",
        "\n",
        "### Expectations\n",
        "1. Remove any rows that have elements other than the type `int` or `float`\n",
        "2. Convert data types that can be converted to a `float`\n",
        "3. Count how many rows that were to be removed\n",
        "\n",
        "### Example output\n",
        "```python \n",
        "data = [\n",
        "    [1,1,1,0,2,\"3\",True, True],\n",
        "    [1.54,1,[],0,2,[],None, True],\n",
        "    [1,0,0,1,5,\"3\",1, 1],\n",
        "    [1,1.6,1,0,6,\"0.93\",False, 0],\n",
        "    [1,1,1.9,0,7,\"3\",None, True],\n",
        "    [1,1,1,0,\"8\",\"3.23\",.5, \"32\"],\n",
        "    [1,1,1,0,2.2,.99,.432, 1.55]\n",
        "]\n",
        "```\n",
        "`There were 2 rows removed`\n",
        "\n",
        "`Cleaned data`\n",
        "```python\n",
        "    [1,1,1,0,2,3,1, 1],\n",
        "    [1,0,0,1,5,3,1, 1],\n",
        "    [1,1.6,1,0,6,0.93,0, 0],\n",
        "    [1,1,1,0,8,3.23,.5, 32],\n",
        "    [1,1,1,0,2.2,.99,.432, 1.55]\n",
        "\n",
        "```\n",
        "\n"
      ]
    },
    {
      "cell_type": "code",
      "metadata": {
        "id": "9-nHTN5qaaHz"
      },
      "source": [
        "#TODO Clean the dataset\n",
        "data = [\n",
        "    [1, 1, 1, 0, 2, \"3\", True, True],\n",
        "    [1.54, 1, [], 0, 2, [], None, True],\n",
        "    [1, 0, 0, 1, 5, \"3\", 1, 1],\n",
        "    [1, 1.6, 1, 0, 6, \"0.93\", False, 0],\n",
        "    [1, 1, 1.9, 0, 7, \"3\", None, True],\n",
        "    [1, 1, 1, 0, \"8\", \"3.23\", .5, \"32\"],\n",
        "    [1, 1, 1, 0, 2.2, .99, .432, 1.55]\n",
        "]"
      ],
      "execution_count": null,
      "outputs": []
    }
  ]
}