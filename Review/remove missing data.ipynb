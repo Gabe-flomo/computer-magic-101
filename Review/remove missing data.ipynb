{
  "cells": [
    {
      "cell_type": "markdown",
      "metadata": {
        "colab_type": "text",
        "id": "view-in-github"
      },
      "source": [
        "<a href=\"https://colab.research.google.com/github/Gabe-flomo/Python-Course/blob/main/Projects/Review/remove%20missing%20data.ipynb\" target=\"_parent\"><img src=\"https://colab.research.google.com/assets/colab-badge.svg\" alt=\"Open In Colab\"/></a>"
      ]
    },
    {
      "cell_type": "markdown",
      "metadata": {
        "id": "vqauMN16aaHq"
      },
      "source": [
        "# Instructions \n",
        "The CEO of a company called *`we love numbers`* has noticed that some of their datasets don't look right. Parts of the dataset have values other than numbers, which makes the CEO very mad because he loves numbers 😡. You've been hired to help clean their datasets by adding the rows that contain numbers only to a new list called `cleaned_data`. Any of the rows that have the data types `str` or `bool` can be converted to `floats`, however, `lists` and `None` cannot be converted to `floats`.\n",
        "--\n",
        "\n",
        "### Expectations\n",
        "1. Remove any rows that have elements other than the type `int` or `float`\n",
        "2. Convert data types that can be converted to a `float`\n",
        "3. Count how many rows that were to be removed\n",
        "\n",
        "### Example output\n",
        "```python \n",
        "data = [\n",
        "    [1,1,1,0,2,\"3\",True, True],\n",
        "    [1.54,1,[],0,2,[],None, True],\n",
        "    [1,0,0,1,5,\"3\",1, 1],\n",
        "    [1,1.6,1,0,6,\"0.93\",False, 0],\n",
        "    [1,1,1.9,0,7,\"3\",None, True],\n",
        "    [1,1,1,0,\"8\",\"3.23\",.5, \"32\"],\n",
        "    [1,1,1,0,2.2,.99,.432, 1.55]\n",
        "]\n",
        "```\n",
        "`There were 2 rows removed`\n",
        "\n",
        "`Cleaned data`\n",
        "```python\n",
        "    [1,1,1,0,2,3,1, 1],\n",
        "    [1,0,0,1,5,3,1, 1],\n",
        "    [1,1.6,1,0,6,0.93,0, 0],\n",
        "    [1,1,1,0,8,3.23,.5, 32],\n",
        "    [1,1,1,0,2.2,.99,.432, 1.55]\n",
        "\n",
        "```\n",
        "\n"
      ]
    },
    {
      "cell_type": "code",
      "execution_count": 15,
      "metadata": {
        "id": "9-nHTN5qaaHz"
      },
      "outputs": [
        {
          "name": "stdout",
          "output_type": "stream",
          "text": [
            "Row values: [1, 1, 1, 0, 2, '3', True, True]\n",
            "Row values: [1.54, 1, [], 0, 2, [], None, True]\n",
            "Row values: [1, 0, 0, 1, 5, '3', 1, 1]\n",
            "Row values: [1, 1.6, 1, 0, 6, '0.93', False, 0]\n",
            "Row values: [1, 1, 1.9, 0, 7, '3', None, True]\n",
            "Row values: [1, 1, 1, 0, '8', '3.23', 0.5, '32']\n",
            "Row values: [1, 1, 1, 0, 2.2, 0.99, 0.432, 1.55]\n"
          ]
        },
        {
          "data": {
            "text/plain": [
              "[[1.0, 1.0, 1.0, 0.0, 2.0, 3.0, 1.0, 1.0],\n",
              " [1.0, 0.0, 0.0, 1.0, 5.0, 3.0, 1.0, 1.0],\n",
              " [1.0, 1.6, 1.0, 0.0, 6.0, 0.93, 0.0, 0.0],\n",
              " [1.0, 1.0, 1.0, 0.0, 8.0, 3.23, 0.5, 32.0],\n",
              " [1.0, 1.0, 1.0, 0.0, 2.2, 0.99, 0.432, 1.55]]"
            ]
          },
          "execution_count": 15,
          "metadata": {},
          "output_type": "execute_result"
        }
      ],
      "source": [
        "#TODO Clean the dataset\n",
        "data = [\n",
        "    [1, 1, 1, 0, 2, \"3\", True, True],\n",
        "    [1.54, 1, [], 0, 2, [], None, True],\n",
        "    [1, 0, 0, 1, 5, \"3\", 1, 1],\n",
        "    [1, 1.6, 1, 0, 6, \"0.93\", False, 0],\n",
        "    [1, 1, 1.9, 0, 7, \"3\", None, True],\n",
        "    [1, 1, 1, 0, \"8\", \"3.23\", .5, \"32\"],\n",
        "    [1, 1, 1, 0, 2.2, .99, .432, 1.55]\n",
        "]\n",
        "cleaned_dataset = []\n",
        "\n",
        "for index in range(len(data)):\n",
        "    remove_row = False\n",
        "    row = data[index]\n",
        "    for col in range(len(row)):\n",
        "        value = row[col]\n",
        "        if type(value) == list or value == None:\n",
        "            remove_row = True\n",
        "            break\n",
        "        else:\n",
        "            row[col] = float(row[col])\n",
        "    \n",
        "    if not remove_row:\n",
        "        cleaned_dataset.append(row)\n",
        "\n",
        "cleaned_dataset\n"
      ]
    },
    {
      "cell_type": "code",
      "execution_count": 9,
      "metadata": {},
      "outputs": [
        {
          "data": {
            "text/plain": [
              "NoneType"
            ]
          },
          "execution_count": 9,
          "metadata": {},
          "output_type": "execute_result"
        }
      ],
      "source": [
        "type(None)"
      ]
    },
    {
      "cell_type": "code",
      "execution_count": null,
      "metadata": {},
      "outputs": [],
      "source": []
    }
  ],
  "metadata": {
    "colab": {
      "include_colab_link": true,
      "name": "remove missing data.ipynb",
      "provenance": []
    },
    "interpreter": {
      "hash": "fd61235da8d855c081cbd5d7c6398e4c179a40a950675235256f7f30499f1124"
    },
    "kernelspec": {
      "display_name": "Python 3.7.4 64-bit ('base': conda)",
      "language": "python",
      "name": "python3"
    },
    "language_info": {
      "codemirror_mode": {
        "name": "ipython",
        "version": 3
      },
      "file_extension": ".py",
      "mimetype": "text/x-python",
      "name": "python",
      "nbconvert_exporter": "python",
      "pygments_lexer": "ipython3",
      "version": "3.7.4"
    },
    "orig_nbformat": 4
  },
  "nbformat": 4,
  "nbformat_minor": 0
}
