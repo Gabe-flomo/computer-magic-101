{
 "cells": [
  {
   "cell_type": "markdown",
   "metadata": {},
   "source": [
    "# Instructions \n",
    "Below is a dataset consisting of country data. Your task is to analyze the data to create the following report.\n",
    "* Country with the highest population and the total number of people\n",
    "* Country with the lowest population and the total number of people\n",
    "* The average Population (Try out the [sum](https://www.programiz.com/python-programming/methods/built-in/sum) function for this)\n",
    "* The total population\n",
    "* The population range (max population - min population)\n",
    "* Which country has a population closest to the average\n",
    "\n",
    "### Example output \n",
    "```\n",
    "China: 1439323776\n",
    "France: 67886231\n",
    "Average Population: 890324555\n",
    "Total Population: 4562679231\n",
    "Population Range: 1371437542\n",
    "```\n"
   ]
  },
  {
   "cell_type": "code",
   "execution_count": null,
   "metadata": {},
   "outputs": [],
   "source": [
    "data = [\n",
    "    (\"USA\", 331002651 ),\n",
    "    (\"India\", 1380004385 ),\n",
    "    (\"Brazil\", 212559417),\n",
    "    (\"Nigeria\", 206139589 ),\n",
    "    (\"Mexico\", 128932753),\n",
    "    (\"China\", 1439323776),\n",
    "    (\"Russia\", 145934462),\n",
    "    (\"Iran\", 83992949),\n",
    "    (\"Elmos world\", 1039894432 ),\n",
    "    (\"Egypt\", 102334404),\n",
    "    (\"UK\", 67886231 ),\n",
    "]"
   ]
  }
 ],
 "metadata": {
  "interpreter": {
   "hash": "aee8b7b246df8f9039afb4144a1f6fd8d2ca17a180786b69acc140d282b71a49"
  },
  "kernelspec": {
   "display_name": "Python 3.10.0 64-bit",
   "language": "python",
   "name": "python3"
  },
  "language_info": {
   "codemirror_mode": {
    "name": "ipython",
    "version": 3
   },
   "file_extension": ".py",
   "mimetype": "text/x-python",
   "name": "python",
   "nbconvert_exporter": "python",
   "pygments_lexer": "ipython3",
   "version": "3.10.0"
  },
  "orig_nbformat": 4
 },
 "nbformat": 4,
 "nbformat_minor": 2
}
