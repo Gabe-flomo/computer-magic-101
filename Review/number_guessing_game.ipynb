{
 "cells": [
  {
   "cell_type": "markdown",
   "metadata": {},
   "source": [
    "# Instructions \n",
    "In this challenge, it's you against the computer. The computer will generate a number between 1 and 100 and you have 6 attempts to guess what the number is.\n",
    "\n",
    "### Expectations\n",
    "- after each guess, print out the value of the guess\n",
    "- **For high guesses**\n",
    "    - if the guess is more than 20 numbers off, print `guess is too high`\n",
    "    - if the guess is equal to or less than 10 numbers off, print `just a little lower`\n",
    "    - otherwise print, `close, but your guess is high`\n",
    "- **For low guesses**\n",
    "    - if the guess is more than 20 numbers off, print `guess is too low`\n",
    "    - if the guess is equal to or less than 10 numbers off, print `just a little higher`\n",
    "    - otherwise print, `close, but your guess is low`\n",
    "- If the user can guess the number within the allowed number of attempts, print that they won and how many attepmts they had left\n",
    "- If the user loses, print that they lost along with what the number was.\n",
    "\n",
    "### Example output\n",
    "```\n",
    "You guessed 5\n",
    "Guess is too low\n",
    "\n",
    "You guessed 54\n",
    "Just a little higher\n",
    "\n",
    "You guessed 58\n",
    "Just a little higher\n",
    "\n",
    "You guessed 59\n",
    "Just a little higher\n",
    "\n",
    "You guessed 62\n",
    "You won!!! With 1 remaining moves \n",
    "```"
   ]
  },
  {
   "cell_type": "code",
   "execution_count": null,
   "metadata": {},
   "outputs": [],
   "source": [
    "from random import randint\n",
    "# generate a random number\n",
    "number = randint(1, 100)\n",
    "# set the attempts counter\n",
    "\n",
    "#TODO Solution goes here\n"
   ]
  }
 ],
 "metadata": {
  "interpreter": {
   "hash": "fd61235da8d855c081cbd5d7c6398e4c179a40a950675235256f7f30499f1124"
  },
  "kernelspec": {
   "display_name": "Python 3.7.4 64-bit ('base': conda)",
   "language": "python",
   "name": "python3"
  },
  "language_info": {
   "codemirror_mode": {
    "name": "ipython",
    "version": 3
   },
   "file_extension": ".py",
   "mimetype": "text/x-python",
   "name": "python",
   "nbconvert_exporter": "python",
   "pygments_lexer": "ipython3",
   "version": "3.7.4"
  },
  "orig_nbformat": 4
 },
 "nbformat": 4,
 "nbformat_minor": 2
}
