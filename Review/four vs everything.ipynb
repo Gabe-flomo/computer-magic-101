{
  "nbformat": 4,
  "nbformat_minor": 0,
  "metadata": {
    "colab": {
      "name": "four vs everything.ipynb",
      "provenance": [],
      "include_colab_link": true
    },
    "interpreter": {
      "hash": "fd61235da8d855c081cbd5d7c6398e4c179a40a950675235256f7f30499f1124"
    },
    "kernelspec": {
      "display_name": "Python 3.7.4 64-bit ('base': conda)",
      "language": "python",
      "name": "python3"
    },
    "language_info": {
      "codemirror_mode": {
        "name": "ipython",
        "version": 3
      },
      "file_extension": ".py",
      "mimetype": "text/x-python",
      "name": "python",
      "nbconvert_exporter": "python",
      "pygments_lexer": "ipython3",
      "version": "3.7.4"
    },
    "orig_nbformat": 4
  },
  "cells": [
    {
      "cell_type": "markdown",
      "metadata": {
        "id": "view-in-github",
        "colab_type": "text"
      },
      "source": [
        "<a href=\"https://colab.research.google.com/github/Gabe-flomo/Python-Course/blob/main/Projects/Review/four%20vs%20everything.ipynb\" target=\"_parent\"><img src=\"https://colab.research.google.com/assets/colab-badge.svg\" alt=\"Open In Colab\"/></a>"
      ]
    },
    {
      "cell_type": "markdown",
      "metadata": {
        "id": "BAtCvEf1ZROD"
      },
      "source": [
        "# Instructions\n",
        "Generate a list of 24 random numbers. For each number in the list, check to see if it is divisible by 4. If the number is divisible by four, add it to a new list called `fours`, if it is not divisible by four add it to a list called `everything`. Once the loop is complete, find the sum of both lists and compare which list is bigger.\n",
        "\n",
        "### Example output\n",
        "`original = [2,4,6,8,10,12,14,16]`<br>\n",
        "`fours = [4,8,12,16]`<br>\n",
        "`everything = [2, 6, 10, 14]`<br>\n",
        "`everything_sum = 32`<br>\n",
        "`fours_sum = 40` <br>\n",
        "`The sum of everything is less than fours`"
      ]
    },
    {
      "cell_type": "code",
      "metadata": {
        "id": "ZFDPsQ3hZROM"
      },
      "source": [
        "#TODO Code goes here\n",
        "\n"
      ],
      "execution_count": null,
      "outputs": []
    }
  ]
}