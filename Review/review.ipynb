{
  "nbformat": 4,
  "nbformat_minor": 0,
  "metadata": {
    "interpreter": {
      "hash": "fd61235da8d855c081cbd5d7c6398e4c179a40a950675235256f7f30499f1124"
    },
    "kernelspec": {
      "display_name": "Python 3.7.4 64-bit ('base': conda)",
      "language": "python",
      "name": "python3"
    },
    "language_info": {
      "codemirror_mode": {
        "name": "ipython",
        "version": 3
      },
      "file_extension": ".py",
      "mimetype": "text/x-python",
      "name": "python",
      "nbconvert_exporter": "python",
      "pygments_lexer": "ipython3",
      "version": "3.7.4"
    },
    "orig_nbformat": 4,
    "colab": {
      "name": "review.ipynb",
      "provenance": [],
      "include_colab_link": true
    }
  },
  "cells": [
    {
      "cell_type": "markdown",
      "metadata": {
        "id": "view-in-github",
        "colab_type": "text"
      },
      "source": [
        "<a href=\"https://colab.research.google.com/github/Gabe-flomo/computer-magic-101/blob/master/Review/review.ipynb\" target=\"_parent\"><img src=\"https://colab.research.google.com/assets/colab-badge.svg\" alt=\"Open In Colab\"/></a>"
      ]
    },
    {
      "cell_type": "markdown",
      "metadata": {
        "id": "omlr7-j0k2P6"
      },
      "source": [
        "# Instructions\n",
        "This review is for anyone wanting to lookback on the most important concepts covered in the class so far. This section will cover everything in module 1 and module 2 in a shorter/information packed format.\n",
        "\n",
        "### Topics \n",
        "* **printing:** `multiple arguments, f-strings, keyword arguments`\n",
        "* **variables:** `assignment, data types, len(), and type()`\n",
        "* **operators and statements/expressions:** `expressions, statements, important operators`\n",
        "* **input and type conversion:** `explicit type conversion, user input`"
      ]
    },
    {
      "cell_type": "markdown",
      "metadata": {
        "id": "G9FhBVuek2P_"
      },
      "source": [
        "# Printing\n",
        "In python, the `print()` function is a way to display messages to the screen. It is useful when wanting to know what type of data a variable is holding, or to know what is going on in the execution of your program. \n",
        "--\n",
        "\n",
        "**To print anything in python, all you need to do is put what you want to print inside the parentheses of the print function.**\n",
        "--\n",
        "```python\n",
        "# print a string\n",
        "print(\"Hello you 😊\")\n",
        "\n",
        "# print multiple Strings\n",
        "print(\"Hello\", \"World\", \"!\")\n",
        "\n",
        "#print variables too\n",
        "var = 15\n",
        "print(\"This is the value\", var)\n",
        "```\n",
        "\n",
        "**You can also add some other arguments to the print function to add extra 'spice' to how things get displayed**\n",
        "--\n",
        "```python \n",
        "# use sep to change the default separator between print arguments (default is a space). The separator goes where the commas are \n",
        "print(\"Separate\", \"Me\", \"with\", \"smiles\", sep = '😊') # -> Sepearate 😊 Me 😊 with 😊 smiles\n",
        "```\n",
        "\n",
        "**The last and most powerful thing you can do with printing are f-strings. F-strings allow you to add variables directly to a string to display variable data on the fly. You create an f-string by putting an `f` before the opening quotation and insert variables in curly brackets**\n",
        "--\n",
        "```python\n",
        "# create a variable\n",
        "age = 22\n",
        "print(f\"I am {age} years old!\") # -> I am 22 years old!\n",
        "```\n"
      ]
    },
    {
      "cell_type": "code",
      "metadata": {
        "id": "4BbGitU1k2QB"
      },
      "source": [
        "#TODO print your name and your favorite food"
      ],
      "execution_count": null,
      "outputs": []
    },
    {
      "cell_type": "code",
      "metadata": {
        "id": "Pv6jG-Obk2QD"
      },
      "source": [
        "#TODO print your name, age, and favorite thing to do seperated by ':)' using the sep argument."
      ],
      "execution_count": null,
      "outputs": []
    },
    {
      "cell_type": "code",
      "metadata": {
        "id": "23Eeq_Ehk2QE"
      },
      "source": [
        "#TODO create 2 variables, one called birthday and one called present. Enter your birthday and what you want for a present, then print them using f-strings"
      ],
      "execution_count": null,
      "outputs": []
    },
    {
      "cell_type": "markdown",
      "metadata": {
        "id": "rHBCaNjwk2QE"
      },
      "source": [
        "# Variables\n",
        "variables in python are liked named containers in python that hold objects and data. To create a variable, simply write the name of the variable followed by an equals sign and the value you want to assign to the variable.\n",
        "--\n",
        "\n",
        "Variables can also take on many data types. The available data types in python are:\n",
        "- Numbers: integers, float, complex.\n",
        "- Strings: double quotes (\"\"), or single quotes ('')\n",
        "- Arrays: lists, tuples\n",
        "- Boolean: True and False\n",
        "\n",
        "```python\n",
        "# creating a numeric variable\n",
        "int = 23\n",
        "float = 3.33\n",
        "complex = 4j\n",
        "\n",
        "# creating a string\n",
        "string = \"Hello\"\n",
        "\n",
        "# strings can also be combined using the addition operator\n",
        "var = \"Hello\" + \"world\"\n",
        "print(var) # -> \"Hello world\"\n",
        "\n",
        "# creating a list and tuple\n",
        "list = [1,2,3,4,5]\n",
        "tuple = (5,4,3,2,1)\n",
        "\n",
        "# you can also add new values to a list by using the append method\n",
        "var = [56, 78, 90]\n",
        "var.append(123) # -> [56, 78, 90, 123]\n",
        "\n",
        "# you can index values in a list or tuple by using an index position (starting at 0)\n",
        "var[0] # -> 56\n",
        "var[3] # -> 123\n",
        "\n",
        "#indexing can also be done with strings\n",
        "var = \"Washburn\"\n",
        "var[2] # -> 's'\n",
        "\n",
        "# you can also change values at a certain index location by using the assignment operator (=)\n",
        "var[0] = \"Hello\"\n",
        "print(var) # -> [\"Hello\", 78, 90, 123]\n",
        "\n",
        "# create a boolean data type\n",
        "bool = True or False\n",
        "\n",
        "# you can also create multiple variables at Once on a single line\n",
        "x, y, z = 1, 2, 3\n",
        "\n",
        "# get the length of a string or list/tuple with the len() function\n",
        "len(\"Hello World\") -> 11\n",
        "len([1,2,3,4,5]) -> 5\n",
        "\n",
        "# get the data type of a variable with the type function\n",
        "type([1,2,3,4]) -> list\n",
        "type(\"Hello\") -> str\n",
        "```"
      ]
    },
    {
      "cell_type": "code",
      "metadata": {
        "id": "8KlFhKe-k2QG"
      },
      "source": [
        "#TODO create an integer variable and a float variable and print them using f-strings"
      ],
      "execution_count": null,
      "outputs": []
    },
    {
      "cell_type": "code",
      "metadata": {
        "id": "s1KvfUqgk2QH"
      },
      "source": [
        "#TODO create and assign a float, int, and bool to 3 variables at once on a single line"
      ],
      "execution_count": null,
      "outputs": []
    },
    {
      "cell_type": "code",
      "metadata": {
        "id": "EPAZHimuk2QI"
      },
      "source": [
        "#TODO ceate a list of integers, then append a float to the list"
      ],
      "execution_count": null,
      "outputs": []
    },
    {
      "cell_type": "code",
      "metadata": {
        "id": "Ms9BXRgmk2QJ"
      },
      "source": [
        "#TODO  create a list of integers then change one of the elements to a boolean value"
      ],
      "execution_count": null,
      "outputs": []
    },
    {
      "cell_type": "code",
      "metadata": {
        "id": "TR2ZpH-Zk2QJ"
      },
      "source": [
        "#TODO index the first and last elements from the list and add them together\n",
        "var = [1,2,3,4,5,6]"
      ],
      "execution_count": null,
      "outputs": []
    },
    {
      "cell_type": "markdown",
      "metadata": {
        "id": "MCdqEPuuk2QK"
      },
      "source": [
        "# Important Operators\n",
        "Operators in python are objects that manipulate data. For example, the `+` operator manipulates data by being able to combine values to create a new value. Here are some important operators that you should know. \n",
        "\n",
        "## Arithmetic\n",
        "\n",
        "| Operator | Meaning                                                      | Example                  |\n",
        "| :------: | :----------------------------------------------------------- | :----------------------- |\n",
        "|    +     | Add two operands or unary plus                               | x + y+ 2                 |\n",
        "|    -     | Subtract right operand from the left or unary minus          | x - y- 2                 |\n",
        "|    *     | Multiply two operands                                        | x * y                    |\n",
        "|    /     | Divide left operand by the right one (always results into float) | x / y                |\n",
        "|    %     | Modulus - remainder of the division of left operand by the right | x % y (remainder of x/y) |\n",
        "|    //    | Floor division - division that results into whole number adjusted to the left in the number line | x // y  |\n",
        "|    **    | Exponent - left operand raised to the power of right         | x**y (x to the power y)  |\n",
        "\n",
        "## Assignement\n",
        "| Operator | Example | Equivalent to |\n",
        "| :------- | :------ | :------------ |\n",
        "| =        | x = 5   | x = 5         |\n",
        "| +=       | x += 5  | x = x + 5     |\n",
        "| -=       | x -= 5  | x = x - 5     |\n",
        "\n",
        "## Comparison\n",
        "| Operator | Meaning                                                      | Example |\n",
        "| :------- | :----------------------------------------------------------- | :------ |\n",
        "| >        | Greater than - True if left operand is greater than the right | x > y   |\n",
        "| <        | Less than - True if left operand is less than the right      | x < y   |\n",
        "| ==       | Equal to - True if both operands are equal                   | x == y  |\n",
        "| !=       | Not equal to - True if operands are not equal                | x != y  |\n",
        "| >=       | Greater than or equal to - True if left operand is greater than or equal to the right | x >= y  |\n",
        "| <=       | Less than or equal to - True if left operand is less than or equal to the right | x <= y  |\n",
        "\n",
        "\n",
        "## Logical \n",
        "| Operator | Meaning                                            | Example |\n",
        "| :------- | :------------------------------------------------- | :------ |\n",
        "| and      | True if both the operands are true                 | x and y |\n",
        "| or       | True if either of the operands is true             | x or y  |\n",
        "| not      | True if operand is false (complements the operand) | not x   |\n",
        "\n",
        "## Membership\n",
        "| Operator | Meaning                                             | Example    |\n",
        "| :------- | :-------------------------------------------------- | :--------- |\n",
        "| in       | True if value/variable is found in the sequence     | 5 in x     |\n",
        "| not in   | True if value/variable is not found in the sequence | 5 not in x |\n",
        "\n",
        "## Identity\n",
        "| Operator | Meaning                                                      | Example       |\n",
        "| :------- | :----------------------------------------------------------- | :------------ |\n",
        "| is       | True if the operands are identical (refer to the same object) | x is True     |\n",
        "| is not   | True if the operands are not identical (do not refer to the same object) | x is not True |"
      ]
    },
    {
      "cell_type": "code",
      "metadata": {
        "id": "rqTdwXO9k2QL"
      },
      "source": [
        "#TODO use the arithmetic operators to create a variable that is equal to the sum of 10 and 20 (sum means addition)"
      ],
      "execution_count": null,
      "outputs": []
    },
    {
      "cell_type": "code",
      "metadata": {
        "id": "oQa5fbEQk2QL"
      },
      "source": [
        "#TODO use arithmetic operators to create a variable that is the difference of 20 and 15 (difference means subtraction)"
      ],
      "execution_count": null,
      "outputs": []
    },
    {
      "cell_type": "code",
      "metadata": {
        "id": "P2es0TG6k2QL"
      },
      "source": [
        "#TODO use arithmetic operators to find 5 squared"
      ],
      "execution_count": null,
      "outputs": []
    },
    {
      "cell_type": "code",
      "metadata": {
        "id": "DWtXnGFZk2QM"
      },
      "source": [
        "#TODO use comparison operators to see if 10 is greater than 5"
      ],
      "execution_count": null,
      "outputs": []
    },
    {
      "cell_type": "code",
      "metadata": {
        "id": "Hja8C61Yk2QM"
      },
      "source": [
        "#TODO use comparison operators to see if 10 is equal to 7"
      ],
      "execution_count": null,
      "outputs": []
    },
    {
      "cell_type": "code",
      "metadata": {
        "id": "MBmT4IaWk2QN"
      },
      "source": [
        "#TODO use logical operators to see what the result of True and True is"
      ],
      "execution_count": null,
      "outputs": []
    },
    {
      "cell_type": "code",
      "metadata": {
        "id": "V6PwiXP8k2QN"
      },
      "source": [
        "#TODO Feel free to experiment here with the different types of Operators"
      ],
      "execution_count": null,
      "outputs": []
    },
    {
      "cell_type": "markdown",
      "metadata": {
        "id": "NsE5_sqEk2QN"
      },
      "source": [
        "# Input and type conversion\n",
        "\n",
        "```python \n",
        "#getting user input\n",
        "name = input(\"Enter your name\")\n",
        "\n",
        "# converting string input to an integer\n",
        "int(input(\"Enter your age\"))\n",
        "\n",
        "# converting an int to a string\n",
        "var = 45\n",
        "str(var) -> \"45\"\n",
        "```\n",
        "\n",
        "### Allowable conversions\n",
        "- int -> str \n",
        "- int -> float \n",
        "#\n",
        "- float -> int\n",
        "- float -> str\n",
        "#\n",
        "- str -> int (if the string is a number)\n",
        "- str -> float (if the string is a number)\n",
        "- str -> list \n",
        "- str -> tuple\n",
        "#\n",
        "- list -> tuple \n",
        "- list -> set \n",
        "- list -> str\n",
        "#\n",
        "- tuple -> list \n",
        "- tuple -> set\n",
        "- tuple -> str"
      ]
    },
    {
      "cell_type": "code",
      "metadata": {
        "id": "vyqSucyHk2QO"
      },
      "source": [
        "#TODO have the user input their age and convert it to an integer"
      ],
      "execution_count": null,
      "outputs": []
    },
    {
      "cell_type": "code",
      "metadata": {
        "id": "Hwhyyiw3k2QO"
      },
      "source": [
        "#TODO convert the variables into floats and multiply them together\n",
        "var = '5'\n",
        "var2 = '20'"
      ],
      "execution_count": null,
      "outputs": []
    },
    {
      "cell_type": "code",
      "metadata": {
        "id": "2sR4WFEVk2QP"
      },
      "source": [
        "#TODO convert the list into a tuple\n",
        "var = [1,2,3,4,5]"
      ],
      "execution_count": null,
      "outputs": []
    }
  ]
}