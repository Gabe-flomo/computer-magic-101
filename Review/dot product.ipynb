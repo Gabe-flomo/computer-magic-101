{
  "nbformat": 4,
  "nbformat_minor": 0,
  "metadata": {
    "language_info": {
      "name": "python"
    },
    "orig_nbformat": 4,
    "colab": {
      "name": "dot product.ipynb",
      "provenance": [],
      "include_colab_link": true
    }
  },
  "cells": [
    {
      "cell_type": "markdown",
      "metadata": {
        "id": "view-in-github",
        "colab_type": "text"
      },
      "source": [
        "<a href=\"https://colab.research.google.com/github/Gabe-flomo/Python-Course/blob/main/Projects/Review/dot%20product.ipynb\" target=\"_parent\"><img src=\"https://colab.research.google.com/assets/colab-badge.svg\" alt=\"Open In Colab\"/></a>"
      ]
    },
    {
      "cell_type": "markdown",
      "metadata": {
        "id": "0vKGvqliZFIa"
      },
      "source": [
        "# Instructions\n",
        "You are on a team of 6 game developers working on minecraft 2. Games usually require lots of linear algebra and one operation in particular is calculating the dot product of two vectors (a list of numbers). The dot product is a scalar value (ordinary number) that tells you how strongly two vectors are pointing in the same direction.\n",
        "--\n",
        "\n",
        "**The dot product of two vectors can only be calculated when the vecors have the same length. Given this is true, find the dot product by calculating the sum of each element in one vector multiplied by the element in the same position of the other vector**\n",
        "--\n",
        "\n",
        "```python\n",
        "v1 = [2, -5, 6]\n",
        "v2 = [7, 2, 1]\n",
        "\n",
        "dot = (2*7) + (-5*2) + (6*1)\n",
        "\n",
        "print(dot) -> 10\n",
        "```\n",
        "\n",
        "* If the dot product is positive, the vectors point in the same direction\n",
        "* If the dot product in negative, the vectors point in opposite directions\n",
        "* If the dot product is zero, then the vectors are orthogonal (at right angles to eachother)\n",
        "\n",
        "***Your task is to write an algorithm to calculate the dot product of two vectors and say which direction they point in.***\n",
        "--\n",
        "\n",
        "## Example output\n",
        "```python\n",
        "v1 = [2, -5, 6]\n",
        "v2 = [7, 2, 1]\n",
        "```\n",
        "**`The dot product is 10 and the vectors point in the same direction`**"
      ]
    },
    {
      "cell_type": "code",
      "metadata": {
        "id": "XFwIxd13ZFIg"
      },
      "source": [
        "# Vector pairs\n",
        "v1 = [-1, 1]\n",
        "v2 = [0, -1]\n",
        "\n",
        "v3 = [-2, 1]\n",
        "v4 = [-1, 3]\n",
        "\n",
        "v5 = [5, 2, 4]\n",
        "v6 = [2, 6]\n",
        "\n",
        "v7 = [4, 2, -1]\n",
        "v8 = [3, -1, 2]\n",
        "\n",
        "v9 = [4, 6, 2]\n",
        "v10 = [-2, 4, 0]\n",
        "\n",
        "v11 = [1, 0, -2, 1]\n",
        "v12 = [0, 1, 1, 2]"
      ],
      "execution_count": null,
      "outputs": []
    },
    {
      "cell_type": "code",
      "metadata": {
        "id": "IEOrfqTrZFIj"
      },
      "source": [
        "#TODO find the dot product of each of the vector pairs"
      ],
      "execution_count": null,
      "outputs": []
    }
  ]
}