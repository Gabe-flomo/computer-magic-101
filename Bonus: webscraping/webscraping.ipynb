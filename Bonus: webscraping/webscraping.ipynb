{
 "cells": [
  {
   "cell_type": "markdown",
   "metadata": {},
   "source": [
    "## websites to scrape\n",
    "* [Simple page](https://dataquestio.github.io/web-scraping-pages/simple.html)\n",
    "* [Another simple page](https://realpython.github.io/fake-jobs/jobs/senior-python-developer-0.html)\n",
    "* [More complex webpage](https://au.indeed.com/software-developer-jobs-in-Australia?vjk=6fcf7af0c601fbca)\n",
    "* [Complex webpage](https://www.pacsun.com/mens/)\n",
    "\n",
    "## [BeautifulSoup documentation](https://beautiful-soup-4.readthedocs.io/en/latest/)"
   ]
  },
  {
   "cell_type": "code",
   "execution_count": null,
   "metadata": {},
   "outputs": [],
   "source": [
    "# Install beautifulsoup\n",
    "!pip install beautifulsoup4"
   ]
  },
  {
   "cell_type": "code",
   "execution_count": 2,
   "metadata": {},
   "outputs": [],
   "source": [
    "from bs4 import BeautifulSoup # import the package\n",
    "import requests\n",
    "\n",
    "# variable that holds our URL\n",
    "url = \"\"\n",
    "\n",
    "# make a request to the URL and extract the HTML text with requests"
   ]
  },
  {
   "cell_type": "code",
   "execution_count": null,
   "metadata": {},
   "outputs": [],
   "source": []
  }
 ],
 "metadata": {
  "interpreter": {
   "hash": "f1a916808f2d29f1a5fbd48aa1cb9129993ca703ecce713879d0cd946e898e32"
  },
  "kernelspec": {
   "display_name": "Python 3.9.7 ('legacy')",
   "language": "python",
   "name": "python3"
  },
  "language_info": {
   "codemirror_mode": {
    "name": "ipython",
    "version": 3
   },
   "file_extension": ".py",
   "mimetype": "text/x-python",
   "name": "python",
   "nbconvert_exporter": "python",
   "pygments_lexer": "ipython3",
   "version": "3.9.7"
  },
  "orig_nbformat": 4
 },
 "nbformat": 4,
 "nbformat_minor": 2
}
