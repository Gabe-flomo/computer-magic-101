{
 "cells": [
  {
   "cell_type": "markdown",
   "metadata": {},
   "source": [
    "# TASK 1\n",
    "Create a class called user that has the following attributes\n",
    "\n",
    "- username (string)\n",
    "- follower_type `[secondary, primary]` (string)\n",
    "- private (bool)\n",
    "\n",
    "### Example output\n",
    "```python\n",
    "user = User(\"gabeflomo\", \"primary\", True)\n",
    "print(user.username) -> \"gabeflomo\"\n",
    "```"
   ]
  },
  {
   "cell_type": "code",
   "execution_count": null,
   "metadata": {},
   "outputs": [],
   "source": [
    "#TODO"
   ]
  },
  {
   "cell_type": "markdown",
   "metadata": {},
   "source": [
    "# TASK 2\n",
    "Write a method for your user class called `greet` that will print out:\n",
    "```python\n",
    "\"Hello my name is {username} and I am a {follower_type} follower.\n",
    "```"
   ]
  },
  {
   "cell_type": "code",
   "execution_count": null,
   "metadata": {},
   "outputs": [],
   "source": [
    "#TODO"
   ]
  },
  {
   "cell_type": "markdown",
   "metadata": {},
   "source": [
    "# TASK 3\n",
    "Below is a function that will download some user data as a list of dictionaries. Create an instance of a user object for each user from the downloaded dataset as a list of users. Then print out every users `username` and `private` values.\n",
    "\n",
    "### Example output\n",
    "```python\n",
    "data = [\n",
    "    {'friend_of': '232825282',\n",
    "  'username': 'psyfusion20',\n",
    "  'name': 'wickr me: tommy076',\n",
    "  'is_private': True,\n",
    "  'type': 'secondary'},\n",
    "\n",
    "  {'friend_of': '232825282',\n",
    "  'username': 'ewvissss',\n",
    "  'name': 'p. elvis',\n",
    "  'is_private': True,\n",
    "  'type': 'primary'}\n",
    "]\n",
    "\n",
    "# create a user instance for each user\n",
    "users = [list of users]\n",
    "\n",
    "# print each username and private\n",
    "\"psyfusion20\", True\n",
    "\"ewvissss\", True\n",
    "```"
   ]
  },
  {
   "cell_type": "code",
   "execution_count": null,
   "metadata": {},
   "outputs": [],
   "source": [
    "import requests\n",
    "import json\n",
    "def generate_json():\n",
    "    url = \"https://raw.githubusercontent.com/Gabe-flomo/Instagram-Dashboard/master/JSON/followers.json?token=GHSAT0AAAAAABPLRJR656YF6L6OW7XUG4GMYQ7XCFQ\"\n",
    "    data = requests.get(url).json()\n",
    "    data = [data[user] for user in data][100:120]\n",
    "    return data\n",
    "    \n",
    "generate_json()"
   ]
  },
  {
   "cell_type": "code",
   "execution_count": null,
   "metadata": {},
   "outputs": [],
   "source": [
    "#TODO"
   ]
  },
  {
   "cell_type": "markdown",
   "metadata": {},
   "source": [
    "# TASK 4\n",
    "Create a planet class that has the following attributes\n",
    "- `name:` the name of the planet\n",
    "- `position (x, y):` Randon integer between `-1000 - 1000` for `x` and `-500 - 500` for `y`\n",
    "- `size:` a random choice of `small, medium, large`\n",
    "- `life:` a random boolean that is `True` or `False`\n",
    "\n",
    "### Example output\n",
    "```python\n",
    "planet = Planet('Earth')\n",
    "\n",
    "print(planet.life) -> True\n",
    "print(planet.size) -> medium\n",
    "print(planet.position) -> (230, 47)\n",
    "```"
   ]
  },
  {
   "cell_type": "code",
   "execution_count": null,
   "metadata": {},
   "outputs": [],
   "source": [
    "#TODO"
   ]
  },
  {
   "cell_type": "markdown",
   "metadata": {},
   "source": [
    "# TASK 5\n",
    "Create a list of 25 planets, then write a function that will create a dictionary that will group the planets by size.\n",
    "\n",
    "### Example output\n",
    "```python\n",
    "planets = [list_of_planets]\n",
    "groups = group_planets(planets)\n",
    "\n",
    "groups = {\n",
    "    'small': [\n",
    "        'planet_1',\n",
    "        'planet_2'\n",
    "    ],\n",
    "    'medium': [\n",
    "        'planet_10',\n",
    "        'planet_5',\n",
    "        'planet_3'\n",
    "    ],\n",
    "    'large': [\n",
    "        'planet_9',\n",
    "        'planet_7',\n",
    "    ]\n",
    "}\n",
    "```\n",
    "\n",
    "***Print out how many planets there are per group***"
   ]
  },
  {
   "cell_type": "code",
   "execution_count": null,
   "metadata": {},
   "outputs": [],
   "source": [
    "#TODO"
   ]
  },
  {
   "cell_type": "markdown",
   "metadata": {},
   "source": [
    "# TASK 6\n",
    "In your planet class, write a method called `distance` that will be used to calculate the distance between the current planet and another planet using the `position` attribute. \n",
    "\n",
    "The distance function should take a tuple coordinates `(x, y)` as an argument and will use the distance formula below to calculate the distance in meters. The function should return a single value.\n",
    "\n",
    "### Distance formula\n",
    "$d=\\sqrt{\\left( x_{2}-x_{1}\\right) ^{2}+\\left( y_{2}-y_{1}\\right) ^{2}}$\n",
    "\n",
    "### Expected output\n",
    "```python\n",
    "planet1 = Planet('Planet1')\n",
    "planet2 = Planet('Planet2')\n",
    "\n",
    "planet1.distance(planet2.position) -> 34.8\n",
    "\n",
    "\"Planet1 is 34.8 miles away from Planet2\"\n",
    "```"
   ]
  },
  {
   "cell_type": "code",
   "execution_count": 24,
   "metadata": {},
   "outputs": [],
   "source": [
    "#TODO\n",
    "from math import sqrt # use this to calculate the square root of a value"
   ]
  },
  {
   "cell_type": "markdown",
   "metadata": {},
   "source": [
    "# TASK 7\n",
    "Write a class method called `move_planet` that will move the planet to a new position. If new coordinates aren't given, have the planet move to a random position, if coordinates are given (as an argument to the function) move the planet to those coordinates. Then print out the new position and calculate the distance the planet has moved from its previous position.\n",
    "\n",
    "***By default, the `coordinate` argument should be set to `None`*** \n",
    "\n",
    "### Example output\n",
    "```python \n",
    "planet = Planet('new_planet')\n",
    "planet.position -> (532, 177)\n",
    "\n",
    "# move to specific location\n",
    "planet.move_planet(coordinates = (333, 125)) -> f\"The planet has moved {distance} miles from the previous position of {previous_position}\"\n",
    "\n",
    "# move to a random location\n",
    "planet.move_planet() -> f\"The planet has moved {distance} miles from the previous position of {previous_position}\""
   ]
  },
  {
   "cell_type": "code",
   "execution_count": 4,
   "metadata": {},
   "outputs": [],
   "source": [
    "#TODO"
   ]
  },
  {
   "cell_type": "markdown",
   "metadata": {},
   "source": [
    "# TASK 8\n",
    "Create three new attibutes and one method\n",
    "\n",
    "- `trips`: A list that keeps track of the distance the planet has moved every time the planet moves\n",
    "- `distance_traveled`: A value that tells you to total distance the planet has traveled\n",
    "- `trip_count`: A value that is equal to the amount of times the planet has moved\n",
    "- `status()`: A function that will print out the status of the planet such as:\n",
    "    - The number of trips the planet has made\n",
    "    - The total distance traveled\n",
    "    - The average distance traveled\n",
    "    - The longest trip (trip with the highest distance)\n",
    "\n",
    "\n",
    "Each time the `move_planet` function is called, all three of these attributes should be updated.\n",
    "\n",
    "### Example output\n",
    "```python\n",
    "planet = Planet('new_planet')\n",
    "planet.position -> (532, 177)\n",
    "\n",
    "# move to random location\n",
    "planet.move_planet() -> \"The planet has moved 14 miles from the previous position of (532, 177)\"\n",
    "\n",
    "# get the planet info\n",
    "planet.status()\n",
    "# \"The planet has made 1 trip\"\n",
    "# \"The total distance traveled is 14 miles\"\n",
    "# \"The average distance traveled is 14 miles\"\n",
    "# \"The longest trip was 14 miles\"\n",
    "\n",
    "# move to random location\n",
    "planet.move_planet() -> \"The planet has moved 53 miles from the previous position of (511, 17)\"\n",
    "planet.status()\n",
    "# \"The planet has made 2 trips\"\n",
    "# \"The total distance traveled is 67 miles\"\n",
    "# \"The average distance traveled is 33.5 miles\"\n",
    "# \"The longest trip was 53 miles\"\n",
    "```"
   ]
  },
  {
   "cell_type": "code",
   "execution_count": null,
   "metadata": {},
   "outputs": [],
   "source": []
  }
 ],
 "metadata": {
  "interpreter": {
   "hash": "f1a916808f2d29f1a5fbd48aa1cb9129993ca703ecce713879d0cd946e898e32"
  },
  "kernelspec": {
   "display_name": "Python 3.9.7 ('legacy')",
   "language": "python",
   "name": "python3"
  },
  "language_info": {
   "codemirror_mode": {
    "name": "ipython",
    "version": 3
   },
   "file_extension": ".py",
   "mimetype": "text/x-python",
   "name": "python",
   "nbconvert_exporter": "python",
   "pygments_lexer": "ipython3",
   "version": "3.9.7"
  },
  "orig_nbformat": 4
 },
 "nbformat": 4,
 "nbformat_minor": 2
}
