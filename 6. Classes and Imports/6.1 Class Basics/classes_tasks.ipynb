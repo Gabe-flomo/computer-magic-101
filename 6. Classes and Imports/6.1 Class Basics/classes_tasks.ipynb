{
 "cells": [
  {
   "cell_type": "markdown",
   "metadata": {},
   "source": [
    "# TASK 1\n",
    "Create a class called user that has the following attributes\n",
    "\n",
    "- username (string)\n",
    "- follower_type (string)\n",
    "- private (bool)\n",
    "\n",
    "### Example output\n",
    "```python\n",
    "user = User(\"gabeflomo\", \"primary\", True)\n",
    "print(user.username) -> \"gabeflomo\"\n",
    "```"
   ]
  },
  {
   "cell_type": "code",
   "execution_count": null,
   "metadata": {},
   "outputs": [],
   "source": [
    "#TODO"
   ]
  },
  {
   "cell_type": "markdown",
   "metadata": {},
   "source": [
    "# TASK 2\n",
    "Write a method for your user class called `greet` that will print out:\n",
    "```python\n",
    "\"Hello my name is {username} and I am a {follower_type} follower.\n",
    "```"
   ]
  },
  {
   "cell_type": "code",
   "execution_count": null,
   "metadata": {},
   "outputs": [],
   "source": [
    "#TODO"
   ]
  },
  {
   "cell_type": "markdown",
   "metadata": {},
   "source": [
    "# TASK 3\n",
    "Below is a function that will download some user data as a list of dictionaries. Create an instance of a user object for each user from the downloaded dataset as a list of users. Then print out every users `username` and `private` values.\n",
    "\n",
    "### Example output\n",
    "```python\n",
    "data = [\n",
    "    {'friend_of': '232825282',\n",
    "  'username': 'psyfusion20',\n",
    "  'name': 'wickr me: tommy076',\n",
    "  'is_private': True,\n",
    "  'type': 'secondary'},\n",
    "\n",
    "  {'friend_of': '232825282',\n",
    "  'username': 'ewvissss',\n",
    "  'name': 'p. elvis',\n",
    "  'is_private': True,\n",
    "  'type': 'primary'}\n",
    "]\n",
    "\n",
    "# create a user instance for each user\n",
    "users = [list of users]\n",
    "\n",
    "# print each username and private\n",
    "\"psyfusion20\", True\n",
    "\"ewvissss\", True\n",
    "```"
   ]
  },
  {
   "cell_type": "code",
   "execution_count": null,
   "metadata": {},
   "outputs": [],
   "source": [
    "import requests\n",
    "import json\n",
    "def generate_json():\n",
    "    url = \"https://raw.githubusercontent.com/Gabe-flomo/Instagram-Dashboard/master/JSON/followers.json?token=GHSAT0AAAAAABPLRJR656YF6L6OW7XUG4GMYQ7XCFQ\"\n",
    "    data = requests.get(url).json()\n",
    "    data = [data[user] for user in data][100:120]\n",
    "    return data\n",
    "    \n",
    "generate_json()"
   ]
  },
  {
   "cell_type": "code",
   "execution_count": null,
   "metadata": {},
   "outputs": [],
   "source": [
    "#TODO"
   ]
  },
  {
   "cell_type": "markdown",
   "metadata": {},
   "source": []
  },
  {
   "cell_type": "markdown",
   "metadata": {},
   "source": [
    "# TASK 4\n",
    "Create a planet class that has the following attributes\n",
    "- name: the name of the planet\n",
    "- position (x, y): Randon integer between 0 - 1000 for `x` and 0 - 500 for `y`\n",
    "- size: a choice of `small, medium, large`\n",
    "- life: a random boolean that is `True` or `False`\n",
    "\n",
    "### Example output\n",
    "```python\n",
    "planet = Planet('Earth')\n",
    "\n",
    "print(planet.life) -> True\n",
    "print(planet.size) -> medium\n",
    "print(planet.position) -> (230, 47)\n",
    "```"
   ]
  },
  {
   "cell_type": "code",
   "execution_count": null,
   "metadata": {},
   "outputs": [],
   "source": [
    "#TODO"
   ]
  },
  {
   "cell_type": "markdown",
   "metadata": {},
   "source": [
    "# TASK 5\n",
    "Create a list of 25 planets, then write a function that will create a dictionary that will group the planets by size.\n",
    "\n",
    "### Example output\n",
    "```python\n",
    "planets = [list_of_planets]\n",
    "groups = group_planets(planets)\n",
    "\n",
    "groups = {\n",
    "    'small': [\n",
    "        'planet_1',\n",
    "        'planet_2'\n",
    "    ],\n",
    "    'medium': [\n",
    "        'planet_10',\n",
    "        'planet_5',\n",
    "        'planet_3'\n",
    "    ],\n",
    "    'large': [\n",
    "        'planet_9',\n",
    "        'planet_7',\n",
    "    ]\n",
    "}\n",
    "```\n",
    "\n",
    "***Print out how many planets there are per group***"
   ]
  },
  {
   "cell_type": "code",
   "execution_count": null,
   "metadata": {},
   "outputs": [],
   "source": [
    "#TODO"
   ]
  },
  {
   "cell_type": "markdown",
   "metadata": {},
   "source": [
    "# TASK 6\n",
    "In your planet class, write a method called `distance` that will be used to calculate the distance between the current planet and another planet using the `position` attribute. \n",
    "\n",
    "The distance function should take another planet as an argument and will use the distance formula below to calculate the distance in meters. The function should return a single value.\n",
    "\n",
    "### Distance formula\n",
    "$d=\\sqrt{\\left( x_{2}-x_{1}\\right) ^{2}+\\left( y_{2}-y_{1}\\right) ^{2}}$\n",
    "\n",
    "### Expected output\n",
    "```python\n",
    "planet1 = Planet('Planet1')\n",
    "planet2 = Planet('Planet2')\n",
    "\n",
    "planet1.distance(planet2) -> 34.8\n",
    "\n",
    "\"Planet1 is 34.8 miles away from planet2\"\n",
    "```"
   ]
  },
  {
   "cell_type": "code",
   "execution_count": null,
   "metadata": {},
   "outputs": [],
   "source": [
    "#TODO"
   ]
  },
  {
   "cell_type": "markdown",
   "metadata": {},
   "source": [
    "# TASK 7\n",
    "Write a function that will count how many planets have life.\n",
    "\n",
    "### Example output\n",
    "```python \n",
    "planets = [list_of_planets]\n",
    "count_life(planets) -> \"10 planets have life on them\"\n",
    "```"
   ]
  },
  {
   "cell_type": "code",
   "execution_count": null,
   "metadata": {},
   "outputs": [],
   "source": [
    "#TODO"
   ]
  }
 ],
 "metadata": {
  "interpreter": {
   "hash": "f1a916808f2d29f1a5fbd48aa1cb9129993ca703ecce713879d0cd946e898e32"
  },
  "kernelspec": {
   "display_name": "Python 3.9.7 ('legacy')",
   "language": "python",
   "name": "python3"
  },
  "language_info": {
   "codemirror_mode": {
    "name": "ipython",
    "version": 3
   },
   "file_extension": ".py",
   "mimetype": "text/x-python",
   "name": "python",
   "nbconvert_exporter": "python",
   "pygments_lexer": "ipython3",
   "version": "3.9.7"
  },
  "orig_nbformat": 4
 },
 "nbformat": 4,
 "nbformat_minor": 2
}
