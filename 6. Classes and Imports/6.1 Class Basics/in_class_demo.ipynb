{
 "cells": [
  {
   "cell_type": "markdown",
   "metadata": {},
   "source": [
    "# What are classes\n",
    "In programmimg, there is a concept called *Object Oriented Programming*. In this model of programming, the way that you interact with and manipulate data is done through the means of an object. An object in this context is just a data structure that has certain properties that can describe the object and functionality that allows the object to behave in specific ways.\n",
    "\n",
    "`Classes` are a blueprint for creating `objects`. \n",
    "\n",
    "***For Example:*** Consider the objects below\n",
    "- Tesla \n",
    "- Lamborghini\n",
    "- Ferrari\n",
    "\n",
    "Something that is common about all of these objects is that they are all instances of vehicles. So we could make a generic blueprint called `Vehicle` and create all of these objects as instances of the vehicle class with different properties. The properties are what creates the variety in your objects, if the properties you gave to one object were the same as the properties you gave to another object, then you'd have *identical* objects."
   ]
  },
  {
   "cell_type": "markdown",
   "metadata": {},
   "source": [
    "# Creating a class\n",
    "To create a class, use the `class` keyword followed by the name of your class.\n",
    "```python\n",
    "class Vehicle:\n",
    "    pass\n",
    "```"
   ]
  },
  {
   "cell_type": "code",
   "execution_count": 2,
   "metadata": {},
   "outputs": [],
   "source": [
    "# Create a vehicle class\n",
    "class Vehicle:\n",
    "    pass"
   ]
  },
  {
   "cell_type": "markdown",
   "metadata": {},
   "source": [
    "# Instantiating a class\n",
    "To actually use our class as an object we have to create an instance of our class. In order to do that, all we have to do is call our class (like a function) and assign it to a variable.\n",
    "```python \n",
    "class Vehicle:\n",
    "    pass\n",
    "\n",
    "tesla = Vehicle()\n",
    "```"
   ]
  },
  {
   "cell_type": "code",
   "execution_count": 6,
   "metadata": {},
   "outputs": [],
   "source": [
    "#TODO Create an instance of the vehicle class\n",
    "tesla = Vehicle()\n"
   ]
  },
  {
   "cell_type": "code",
   "execution_count": 9,
   "metadata": {},
   "outputs": [
    {
     "data": {
      "text/plain": [
       "('black', 'Blue')"
      ]
     },
     "execution_count": 9,
     "metadata": {},
     "output_type": "execute_result"
    }
   ],
   "source": [
    "class Vehicle:\n",
    "\n",
    "    def __init__(self, color):\n",
    "        self.color = color\n",
    "\n",
    "tesla = Vehicle('black')\n",
    "ford = Vehicle('Blue')\n",
    "\n",
    "tesla.color, ford.color"
   ]
  },
  {
   "cell_type": "markdown",
   "metadata": {},
   "source": [
    "# Constructors and Attributes\n",
    "A constructor is a special class method that is used to \"build\" an initial instance of a class. Without constructors, all instances of a class would have the exact same starting conditions making each instance identical to every other instance. Constructors make it so that each class can be 'setup' with specific values that allow for different instances of the same class to have different properties.\n",
    "\n",
    "```python \n",
    "class Vehicle:\n",
    "\n",
    "    # constructor\n",
    "    def __init__(self, name):\n",
    "        self.name = name\n",
    "```\n",
    "\n",
    "## Magic methods\n",
    "Notice how the `__init__` method has two underscores before and after it, this is because this is one of pythons many *magic methods*. A magic method is a class function that is not explicitly invoked (called) by you, these methods are only called in the background when necessary. For example, the `__init__` method is only called once during the creation of the class, otherwise it is never called again. \n",
    "\n",
    "***You will see other examples of these magic methods and they will be explained as they come up.***\n",
    "\n",
    "## The `self` keyword\n",
    "Also notice how the keyword `self` shows up two times in two different contexts. The first time you see it is in the context of an `argument`, and the second time you see it is in the context of an `instance attribute`. The `self` keyword is used to represent an instance of the given class inside of the class. \n",
    "\n",
    "The `self` keyword is used in all class functions and attributes so that when you create an instance of that class, it can have its own *\"Identity\"*. All `instance attributes` need to start with `self` and all `instance methods` need to have the first argument be `self`.\n",
    "\n",
    "## Instantiating a class using a constructor\n",
    "```python \n",
    "class Vehicle:\n",
    "\n",
    "    # constructor\n",
    "    def __init__(self, name):\n",
    "        self.name = name\n",
    "\n",
    "tesla = Vehicle(\"Tesla\")\n",
    "print(tesla.name) -> \"Tesla\"\n",
    "```"
   ]
  },
  {
   "cell_type": "code",
   "execution_count": 10,
   "metadata": {},
   "outputs": [
    {
     "data": {
      "text/plain": [
       "('tesla', 'red', 'electric')"
      ]
     },
     "execution_count": 10,
     "metadata": {},
     "output_type": "execute_result"
    }
   ],
   "source": [
    "#TODO create a constructor for the vehicle class with the attributes 'name' and 'engine_type'\n",
    "class Vehicle: \n",
    "\n",
    "    def __init__(self, name, color, engine_type):\n",
    "        self.name = name\n",
    "        self.color = color\n",
    "        self.engine_type = engine_type\n",
    "\n",
    "tesla = Vehicle('tesla', 'red', 'electric')\n",
    "tesla.name, tesla.color, tesla.engine_type"
   ]
  },
  {
   "cell_type": "markdown",
   "metadata": {},
   "source": [
    "## Adding more attributes\n",
    "Attributes are class variables that represent the state of an instance of the class. You can add as many attributes you want to your class and not all of them need to be passed as arguments to the class.\n",
    "```python \n",
    "from random import randint, choice\n",
    "\n",
    "class Vehicle:\n",
    "\n",
    "    def __init__(self, name, engine_type):\n",
    "        self.name = name\n",
    "        self.engine_type = engine_type\n",
    "        self.year = randint(2012, 2021)\n",
    "\n",
    "ford = Vehicle('focus', 'gasoline')\n",
    "ford.year -> 2017\n",
    "```"
   ]
  },
  {
   "cell_type": "code",
   "execution_count": 40,
   "metadata": {},
   "outputs": [
    {
     "data": {
      "text/plain": [
       "False"
      ]
     },
     "execution_count": 40,
     "metadata": {},
     "output_type": "execute_result"
    }
   ],
   "source": [
    "#TODO add the attributes for year, color, and a boolean representing if the car was used or not\n",
    "from random import randint, choice\n",
    "\n",
    "class Vehicle: \n",
    "\n",
    "    def __init__(self, name, color, engine_type):\n",
    "        self.name = name\n",
    "        self.color = color\n",
    "        self.engine_type = engine_type\n",
    "        self.used = choice([True, False])\n",
    "\n",
    "tesla = Vehicle(\"tesla\", 'blue', 'E')\n",
    "tesla.used"
   ]
  },
  {
   "cell_type": "markdown",
   "metadata": {},
   "source": [
    "# Methods\n",
    "If an attribute is a variable that determines the current state of the object, then methods are functions that can change the state of the object. You write methods for your class the same way you would write a normal function, the only difference  is that the first argument when defining it needs to be `self`.\n",
    "\n",
    "```python\n",
    "class Vehicle:\n",
    "\n",
    "    def __init__(self, name, engine_type):\n",
    "        self.name = name\n",
    "        self.engine_type = engine_type\n",
    "        self.year = randint(2012, 2021)\n",
    "\n",
    "    def go_vroom(self, times):\n",
    "        vroom = \", \".join([\"Vroom\" for _ in range(times)])\n",
    "        print(vroom)\n",
    "    \n",
    "    def honk(self, times):\n",
    "        honk = \", \".join([\"honk\" for _ in range(times)])\n",
    "        print(honk)\n",
    "```\n",
    "\n"
   ]
  },
  {
   "cell_type": "code",
   "execution_count": 39,
   "metadata": {},
   "outputs": [
    {
     "name": "stdout",
     "output_type": "stream",
     "text": [
      "honk, honk, honk, honk\n"
     ]
    }
   ],
   "source": [
    "class Vehicle:\n",
    "\n",
    "    def __init__(self, name, engine_type):\n",
    "        self.name = name\n",
    "        self.engine_type = engine_type\n",
    "        self.year = randint(2012, 2021)\n",
    "\n",
    "    def go_vroom(self, times):\n",
    "        vroom = \", \".join([\"Vroom\" for _ in range(times)])\n",
    "        print(vroom)\n",
    "    \n",
    "    def honk(self, times):\n",
    "        honk = \", \".join([\"honk\" for _ in range(times)])\n",
    "        print(honk)\n",
    "\n",
    "car = Vehicle('myCar', 'E')\n",
    "car.honk(4)"
   ]
  },
  {
   "cell_type": "code",
   "execution_count": 49,
   "metadata": {},
   "outputs": [
    {
     "name": "stdout",
     "output_type": "stream",
     "text": [
      "[-5, 3]\n",
      "The car has moved forward to the new position: [0, 3]\n",
      "The car has moved backwards to the new position: [-5, 3]\n",
      "The car has moved up to the new position: [-5, 8]\n"
     ]
    }
   ],
   "source": [
    "#TODO: lets add a position (x, y) attribute to our class that will determine where our `Vehicle` is located, \n",
    "# then write a move horizontal function that will change the position of our x coordinate,\n",
    "# then write a move vertical function that will change our y coordinate.\n",
    "# print out the new position every time the car is moved\n",
    "class Vehicle: \n",
    "\n",
    "    def __init__(self, name, color, engine_type):\n",
    "        self.name = name\n",
    "        self.color = color\n",
    "        self.engine_type = engine_type\n",
    "        self.used = choice([True, False])\n",
    "        self.position = [randint(-10, 10), randint(-10, 10)]\n",
    "    \n",
    "    def move(self, direction):\n",
    "        '''\n",
    "            This method will take in a direction (forward, backwards, up, or down) and move the car 5 units in that direction\n",
    "        '''\n",
    "\n",
    "        if direction.lower() == 'forward':\n",
    "            self.position[0] = self.position[0] + 5\n",
    "        elif direction.lower() == 'backwards':\n",
    "            self.position[0] -= 5\n",
    "        elif direction.lower() == 'up':\n",
    "            self.position[-1] += 5\n",
    "        elif direction.lower() == 'down':\n",
    "            self.position[-1] -= 5\n",
    "\n",
    "        print(f\"The car has moved {direction} to the new position: {self.position}\")\n",
    "\n",
    "\n",
    "\n",
    "tesla = Vehicle('Tesla', 'black', \"E\")\n",
    "print(tesla.position)\n",
    "tesla.move('forward')\n",
    "# print(tesla.position)\n",
    "tesla.move('backwards')\n",
    "# print(tesla.position)\n",
    "tesla.move('up')"
   ]
  },
  {
   "cell_type": "code",
   "execution_count": 51,
   "metadata": {},
   "outputs": [
    {
     "name": "stdout",
     "output_type": "stream",
     "text": [
      "[3, -1]\n",
      "The car has moved forward to the new position: [8, -1]\n",
      "The car has made 1 moves\n",
      "The car has moved backwards to the new position: [3, -1]\n",
      "The car has moved up to the new position: [3, 4]\n",
      "The car has made 3 moves\n"
     ]
    },
    {
     "data": {
      "text/plain": [
       "['forward', 'backwards', 'up']"
      ]
     },
     "execution_count": 51,
     "metadata": {},
     "output_type": "execute_result"
    }
   ],
   "source": [
    "#TODO: add an attribute called `traveled` that will be a single value that is updated every time the car either moves forward or backwards\n",
    "class Vehicle: \n",
    "\n",
    "    def __init__(self, name, color, engine_type):\n",
    "        self.name = name\n",
    "        self.color = color\n",
    "        self.engine_type = engine_type\n",
    "        self.used = choice([True, False])\n",
    "        self.position = [randint(-10, 10), randint(-10, 10)]\n",
    "        self.traveled = 0\n",
    "        self.moves = []\n",
    "    \n",
    "    def move(self, direction):\n",
    "        '''\n",
    "            This method will take in a direction (forward, backwards, up, or down) and move the car 5 units in that direction\n",
    "        '''\n",
    "\n",
    "        if direction.lower() == 'forward':\n",
    "            self.position[0] = self.position[0] + 5\n",
    "\n",
    "        elif direction.lower() == 'backwards':\n",
    "            self.position[0] -= 5\n",
    "\n",
    "        elif direction.lower() == 'up':\n",
    "            self.position[-1] += 5\n",
    "\n",
    "        elif direction.lower() == 'down':\n",
    "            self.position[-1] -= 5\n",
    "\n",
    "        print(f\"The car has moved {direction} to the new position: {self.position}\")\n",
    "        self.traveled += 1\n",
    "        self.moves.append(direction.lower())\n",
    "\n",
    "tesla = Vehicle('Tesla', 'black', \"E\")\n",
    "print(tesla.position)\n",
    "tesla.move('forward')\n",
    "print(f\"The car has made {tesla.traveled} moves\")\n",
    "# print(tesla.position)\n",
    "tesla.move('backwards')\n",
    "# print(tesla.position)\n",
    "tesla.move('up')\n",
    "print(f\"The car has made {tesla.traveled} moves\")\n",
    "tesla.moves"
   ]
  },
  {
   "cell_type": "markdown",
   "metadata": {},
   "source": [
    "# Classes and other Data structures"
   ]
  },
  {
   "cell_type": "code",
   "execution_count": 53,
   "metadata": {},
   "outputs": [
    {
     "name": "stdout",
     "output_type": "stream",
     "text": [
      "red car_0\n",
      "black car_1\n",
      "black car_2\n",
      "blue car_3\n",
      "black car_4\n",
      "red car_5\n",
      "black car_6\n",
      "black car_7\n",
      "blue car_8\n",
      "red car_9\n"
     ]
    }
   ],
   "source": [
    "#TODO Generate a list 10 of cars \n",
    "cars = [Vehicle(f\"car_{number}\", f\"{choice(['black', 'blue', 'red'])}\", f\"{choice(['Electric', 'Gasoline'])}\") for number in range(10)]\n",
    "for car in cars:\n",
    "    print(car.color, car.name)"
   ]
  },
  {
   "cell_type": "code",
   "execution_count": 66,
   "metadata": {},
   "outputs": [
    {
     "name": "stdout",
     "output_type": "stream",
     "text": [
      "black car_1\n",
      "black car_2\n",
      "black car_4\n",
      "black car_6\n",
      "black car_7\n",
      "blue car_3\n",
      "blue car_8\n",
      "red car_0\n",
      "red car_5\n",
      "red car_9\n"
     ]
    }
   ],
   "source": [
    "cars.sort(key = lambda car: car.color)\n",
    "for car in cars:\n",
    "    print(car.color, car.name)"
   ]
  },
  {
   "cell_type": "code",
   "execution_count": null,
   "metadata": {},
   "outputs": [],
   "source": [
    "#TODO sort the cars by year"
   ]
  },
  {
   "cell_type": "code",
   "execution_count": 67,
   "metadata": {},
   "outputs": [
    {
     "name": "stdout",
     "output_type": "stream",
     "text": [
      "car_1 [2, 10] False\n",
      "car_2 [-9, 7] False\n",
      "car_4 [-3, 1] False\n",
      "car_6 [1, 6] True\n",
      "car_7 [9, -8] False\n",
      "car_3 [-4, -7] True\n",
      "car_8 [-7, 10] False\n",
      "car_0 [-4, 7] True\n",
      "car_5 [7, -4] False\n",
      "car_9 [-7, 5] True\n"
     ]
    }
   ],
   "source": [
    "# print out each cars name and the year\n",
    "for car in cars:\n",
    "    print(car.name, car.position, car.used)"
   ]
  },
  {
   "cell_type": "code",
   "execution_count": null,
   "metadata": {},
   "outputs": [],
   "source": []
  }
 ],
 "metadata": {
  "interpreter": {
   "hash": "f1a916808f2d29f1a5fbd48aa1cb9129993ca703ecce713879d0cd946e898e32"
  },
  "kernelspec": {
   "display_name": "Python 3.9.7 ('legacy')",
   "language": "python",
   "name": "python3"
  },
  "language_info": {
   "codemirror_mode": {
    "name": "ipython",
    "version": 3
   },
   "file_extension": ".py",
   "mimetype": "text/x-python",
   "name": "python",
   "nbconvert_exporter": "python",
   "pygments_lexer": "ipython3",
   "version": "3.9.7"
  },
  "orig_nbformat": 4
 },
 "nbformat": 4,
 "nbformat_minor": 2
}
