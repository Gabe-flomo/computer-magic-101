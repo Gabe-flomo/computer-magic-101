{
 "cells": [
  {
   "cell_type": "markdown",
   "metadata": {},
   "source": [
    "# What are classes\n",
    "In programmimg, there is a concept called *Object Oriented Programming*. In this model of programming, the way that you interact with and manipulate data is done through the means of an object. An object in this context is just a data structure that has certain properties that can describe the object and functionality that allows the object to behave in specific ways.\n",
    "\n",
    "`Classes` are a blueprint for creating `objects`. \n",
    "\n",
    "***For Example:*** Consider the objects below\n",
    "- Tesla \n",
    "- Lamborghini\n",
    "- Ferrari\n",
    "\n",
    "Something that is common about all of these objects is that they are all instances of vehicles. So we could make a generic blueprint called `Vehicle` and create all of these objects as instances of the vehicle class with different properties. The properties are what creates the variety in your objects, if the properties you gave to one object were the same as the properties you gave to another object, then you'd have *identical* objects."
   ]
  },
  {
   "cell_type": "markdown",
   "metadata": {},
   "source": [
    "# Creating a class\n",
    "To create a class, use the `class` keyword followed by the name of your class.\n",
    "```python\n",
    "class Vehicle:\n",
    "    pass\n",
    "```"
   ]
  },
  {
   "cell_type": "code",
   "execution_count": 8,
   "metadata": {},
   "outputs": [],
   "source": [
    "# Create a vehicle class\n",
    "class Vehicle:\n",
    "    pass\n"
   ]
  },
  {
   "cell_type": "markdown",
   "metadata": {},
   "source": [
    "# Instantiating a class\n",
    "To actually use our class as an object we have to create an instance of our class. In order to do that, all we have to do is call our class (like a function) and assign it to a variable.\n",
    "```python \n",
    "class Vehicle:\n",
    "    pass\n",
    "\n",
    "tesla = Vehicle()\n",
    "```"
   ]
  },
  {
   "cell_type": "code",
   "execution_count": 5,
   "metadata": {},
   "outputs": [],
   "source": [
    "#TODO Create an instance of the vehicle class"
   ]
  },
  {
   "cell_type": "markdown",
   "metadata": {},
   "source": [
    "# Constructors and Attributes\n",
    "A constructor is a special class method that is used to \"build\" an initial instance of a class. Without constructors, all instances of a class would have the exact same starting conditions making each instance identical to every other instance. Constructors make it so that each class can be 'setup' with specific values that allow for different instances of the same class to have different properties.\n",
    "\n",
    "```python \n",
    "class Vehicle:\n",
    "\n",
    "    # constructor\n",
    "    def __init__(self, name):\n",
    "        self.name = name\n",
    "```\n",
    "\n",
    "## Magic methods\n",
    "Notice how the `__init__` method has two underscores before and after it, this is because this is one of pythons many *magic methods*. A magic method is a class function that is not explicitly invoked (called) by you, these methods are only called in the background when necessary. For example, the `__init__` method is only called once during the creation of the class, otherwise it is never called again. \n",
    "\n",
    "***You will see other examples of these magic methods and they will be explained as they come up.***\n",
    "\n",
    "## The `self` keyword\n",
    "Also notice how the keyword `self` shows up two times in two different contexts. The first time you see it is in the context of an `argument`, and the second time you see it is in the context of an `instance attribute`. The `self` keyword is used to represent an instance of the given class inside of the class. \n",
    "\n",
    "The `self` keyword is used in all class functions and attributes so that when you create an instance of that class, it can have its own *\"Identity\"*. All `instance attributes` need to start with `self` and all `instance methods` need to have the first argument be `self`.\n",
    "\n",
    "## Instantiating a class using a constructor\n",
    "```python \n",
    "class Vehicle:\n",
    "\n",
    "    # constructor\n",
    "    def __init__(self, name):\n",
    "        self.name = name\n",
    "\n",
    "tesla = Vehicle(\"Tesla\")\n",
    "print(tesla.name) -> \"Tesla\"\n",
    "```"
   ]
  },
  {
   "cell_type": "code",
   "execution_count": null,
   "metadata": {},
   "outputs": [],
   "source": [
    "#TODO create a constructor for the vehicle class with the attributes 'name' and 'engine_type'"
   ]
  },
  {
   "cell_type": "markdown",
   "metadata": {},
   "source": [
    "## Adding more attributes\n",
    "Attributes are class variables that represent the state of an instance of the class. You can add as many attributes you want to your class and not all of them need to be passed as arguments to the class.\n",
    "```python \n",
    "from random import randint, choice\n",
    "\n",
    "class Vehicle:\n",
    "\n",
    "    def __init__(self, name, engine_type):\n",
    "        self.name = name\n",
    "        self.engine_type = engine_type\n",
    "        self.year = randint(2012, 2021)\n",
    "\n",
    "ford = Vehicle('focus', 'gasoline')\n",
    "ford.year -> 2017\n",
    "```"
   ]
  },
  {
   "cell_type": "code",
   "execution_count": null,
   "metadata": {},
   "outputs": [],
   "source": [
    "#TODO add the attributes for year, color, and a boolean representing if the car was used or not"
   ]
  },
  {
   "cell_type": "markdown",
   "metadata": {},
   "source": [
    "# Methods\n",
    "If an attribute is a variable that determines the current state of the object, then methods or functions that can change the state of the object. You write methods for your class the same way you would write a normal function, the only difference  is that the first argument when defining it needs to be `self`.\n",
    "\n",
    "```python\n",
    "class Vehicle:\n",
    "\n",
    "    def __init__(self, name, engine_type):\n",
    "        self.name = name\n",
    "        self.engine_type = engine_type\n",
    "        self.year = randint(2012, 2021)\n",
    "\n",
    "    def go_vroom(self, times):\n",
    "        vroom = \", \".join([\"Vroom\" for _ in range(times)])\n",
    "        print(vroom)\n",
    "    \n",
    "    def honk(self, times):\n",
    "        honk = \", \".join([\"honk\" for _ in range(times)])\n",
    "        print(honk)\n",
    "```\n",
    "\n"
   ]
  },
  {
   "cell_type": "code",
   "execution_count": 4,
   "metadata": {},
   "outputs": [],
   "source": [
    "#TODO: lets add a position (x, y) attribute to our class that will determine where our `Vehicle` is located, \n",
    "# then write a move horizontal function that will change the position of our x coordinate,\n",
    "# then write a move vertical function that will change our y coordinate.\n",
    "# print out the new position every time the car is moved"
   ]
  },
  {
   "cell_type": "markdown",
   "metadata": {},
   "source": [
    "# Creating a list of objects"
   ]
  },
  {
   "cell_type": "code",
   "execution_count": null,
   "metadata": {},
   "outputs": [],
   "source": [
    "#TODO Generate a list 10 of cars "
   ]
  },
  {
   "cell_type": "code",
   "execution_count": null,
   "metadata": {},
   "outputs": [],
   "source": [
    "#TODO sort the cars by year"
   ]
  },
  {
   "cell_type": "code",
   "execution_count": null,
   "metadata": {},
   "outputs": [],
   "source": [
    "# print out each cars name and the year"
   ]
  }
 ],
 "metadata": {
  "interpreter": {
   "hash": "f1a916808f2d29f1a5fbd48aa1cb9129993ca703ecce713879d0cd946e898e32"
  },
  "kernelspec": {
   "display_name": "Python 3.9.7 ('legacy')",
   "language": "python",
   "name": "python3"
  },
  "language_info": {
   "codemirror_mode": {
    "name": "ipython",
    "version": 3
   },
   "file_extension": ".py",
   "mimetype": "text/x-python",
   "name": "python",
   "nbconvert_exporter": "python",
   "pygments_lexer": "ipython3",
   "version": "3.9.7"
  },
  "orig_nbformat": 4
 },
 "nbformat": 4,
 "nbformat_minor": 2
}
