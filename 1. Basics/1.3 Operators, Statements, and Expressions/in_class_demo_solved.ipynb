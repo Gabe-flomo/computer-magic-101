{
 "cells": [
  {
   "cell_type": "markdown",
   "source": [
    "# Expressions\r\n",
    "Expressions are evaluations or operations that are reduced down to one or more values. In other words, expressions are ways to represent values. \r\n",
    "\r\n",
    "Examples of expressions are:\r\n",
    "* Doing Math        \r\n",
    "* evaluating Truth\r\n",
    "* concatenating strings\r\n",
    "* checking for membership\r\n",
    "\r\n",
    "**Lets look at some examples to see what this means**"
   ],
   "metadata": {}
  },
  {
   "cell_type": "code",
   "execution_count": null,
   "source": [
    "# expressions always produce a value \r\n",
    "# Write an expression that evaluates to 10\r\n"
   ],
   "outputs": [],
   "metadata": {}
  },
  {
   "cell_type": "code",
   "execution_count": null,
   "source": [
    "# more complex expression\r\n",
    "# write an expression that uses multiplication, division, subtraction and addition\r\n"
   ],
   "outputs": [],
   "metadata": {}
  },
  {
   "cell_type": "code",
   "execution_count": null,
   "source": [
    "var = [1,2,3,4]\r\n",
    "var2 = 10\r\n",
    "len(var) + var2"
   ],
   "outputs": [],
   "metadata": {}
  },
  {
   "cell_type": "markdown",
   "source": [
    "<b>Expressions always involve values or functions and operators that evaluate to a new value</b>"
   ],
   "metadata": {}
  },
  {
   "cell_type": "markdown",
   "source": [
    "# Statements\r\n",
    "Statements are actions or commands that do something. Statements are like sentences that are made up of expressions.\r\n",
    "\r\n",
    "Examples of statements are:\r\n",
    "* variable assignment\r\n",
    "* printing \r\n",
    "* conditionals\r\n",
    "* loops"
   ],
   "metadata": {}
  },
  {
   "cell_type": "code",
   "execution_count": null,
   "source": [
    "# write variable assignment statement that creates a list\r\n",
    "var = [1,2,3,4,5]"
   ],
   "outputs": [],
   "metadata": {}
  },
  {
   "cell_type": "code",
   "execution_count": null,
   "source": [
    "# print Statement\r\n",
    "print(\"This is a print statement\")"
   ],
   "outputs": [],
   "metadata": {}
  },
  {
   "cell_type": "code",
   "execution_count": null,
   "source": [
    "# statement made from an expression\r\n",
    "var = 54 / 9"
   ],
   "outputs": [],
   "metadata": {}
  },
  {
   "cell_type": "markdown",
   "source": [
    "# The boolean Data type\r\n",
    "Booleans are used to indicate truth and can only have the values: True or False\r\n",
    "\r\n",
    "They are useful when writing logical or conditional expressions, or evaluating the truth of an expression (you will see examples of this soon)."
   ],
   "metadata": {}
  },
  {
   "cell_type": "code",
   "execution_count": null,
   "source": [
    "var = True\r\n",
    "var is True"
   ],
   "outputs": [],
   "metadata": {}
  },
  {
   "cell_type": "code",
   "execution_count": null,
   "source": [
    "var = False\r\n",
    "var is True"
   ],
   "outputs": [],
   "metadata": {}
  },
  {
   "cell_type": "markdown",
   "source": [
    "# Arithmetic Operators\r\n",
    "**Arithmetic operators are used to perform mathematical operations like addition, subtraction, multiplication, etc.**\r\n",
    "\r\n",
    "| Operator | Meaning                                                      | Example                  |\r\n",
    "| :------: | :----------------------------------------------------------- | :----------------------- |\r\n",
    "|    +     | Add two operands or unary plus                               | x + y+ 2                 |\r\n",
    "|    -     | Subtract right operand from the left or unary minus          | x - y- 2                 |\r\n",
    "|    *     | Multiply two operands                                        | x * y                    |\r\n",
    "|    /     | Divide left operand by the right one (always results into float) | x / y                |\r\n",
    "|    %     | Modulus - remainder of the division of left operand by the right | x % y (remainder of x/y) |\r\n",
    "|    //    | Floor division - division that results into whole number adjusted to the left in the number line | x // y  |\r\n",
    "|    **    | Exponent - left operand raised to the power of right         | x**y (x to the power y)  |\r\n",
    "\r\n"
   ],
   "metadata": {}
  },
  {
   "cell_type": "code",
   "execution_count": 5,
   "source": [
    "# arithmetic expressions \r\n",
    "print(f\"Addition: 5 + 5 = {5+5}\")\r\n",
    "print(f\"Subtraction: 20 - 15 = {20 - 15}\")\r\n",
    "print(f\"Multiplication: 10 * 10 = {10*10}\")\r\n",
    "print(f\"Division: 10/5 = {10/5}\")\r\n",
    "print(f\"Remainder Division: 10 % 4 = {10%4}\")\r\n",
    "print(f\"Floor Division: 20 // 7 = {20 // 7}\")\r\n",
    "print(f\"Exponent: 10 ** 3  {10 ** 3}\")\r\n",
    "\r\n"
   ],
   "outputs": [
    {
     "output_type": "stream",
     "name": "stdout",
     "text": [
      "Addition: 5 + 5 = 10\n",
      "Subtraction: 20 - 15 = 5\n",
      "Multiplication: 10 * 10 = 100\n",
      "Division: 10/5 = 2.0\n",
      "Remainder Division: 10 % 4 = 2\n",
      "Floor Division: 20 // 7 = 2\n",
      "Exponent: 10 ** 3  1000\n"
     ]
    }
   ],
   "metadata": {}
  },
  {
   "cell_type": "markdown",
   "source": [
    "# Assignment Operators\r\n",
    "Assignment operators are used in Python to assign values to variables.\r\n",
    "\r\n",
    "a = 5 is a simple assignment operator that assigns the value 5 on the right to the variable a on the left.\r\n",
    "\r\n",
    "There are also various compound operators in Python like a += 5 that adds to the variable and later assigns the same. It is equivalent to a = a + 5.\r\n",
    "| Operator | Example | Equivalent to |\r\n",
    "| :------- | :------ | :------------ |\r\n",
    "| =        | x = 5   | x = 5         |\r\n",
    "| +=       | x += 5  | x = x + 5     |\r\n",
    "| -=       | x -= 5  | x = x - 5     |\r\n",
    "| *=       | x *= 5  | x = x * 5     |\r\n",
    "| /=       | x /= 5  | x = x / 5     |\r\n",
    "| %=       | x %= 5  | x = x % 5     |\r\n",
    "| //=      | x //= 5 | x = x // 5    |\r\n",
    "| **=      | x **= 5 | x = x ** 5    |"
   ],
   "metadata": {}
  },
  {
   "cell_type": "code",
   "execution_count": null,
   "source": [
    "# Simple assignment\r\n",
    "x = 5\r\n",
    "print(f\"x = 5: {x}\")\r\n",
    "\r\n",
    "# Compound assignment\r\n",
    "x += 10\r\n",
    "print(f\"x += 10: {x}\")\r\n",
    "\r\n",
    "x -= 10\r\n",
    "print(f\"x -= 10: {x}\")\r\n",
    "\r\n",
    "x *= 5\r\n",
    "print(f\"x *= 5: {x}\")\r\n",
    "\r\n",
    "x /= 5\r\n",
    "print(f\"x /= 5: {x}\")\r\n",
    "\r\n",
    "x **= 4\r\n",
    "print(f\"x **= 4: {x}\")\r\n"
   ],
   "outputs": [],
   "metadata": {}
  },
  {
   "cell_type": "markdown",
   "source": [
    "# Comparison operators\r\n",
    "Comparison operators are used to compare values. It returns either True or False according to the condition.\r\n",
    "\r\n",
    "| Operator | Meaning                                                      | Example |\r\n",
    "| :------- | :----------------------------------------------------------- | :------ |\r\n",
    "| >        | Greater than - True if left operand is greater than the right | x > y   |\r\n",
    "| <        | Less than - True if left operand is less than the right      | x < y   |\r\n",
    "| ==       | Equal to - True if both operands are equal                   | x == y  |\r\n",
    "| !=       | Not equal to - True if operands are not equal                | x != y  |\r\n",
    "| >=       | Greater than or equal to - True if left operand is greater than or equal to the right | x >= y  |\r\n",
    "| <=       | Less than or equal to - True if left operand is less than or equal to the right | x <= y  |"
   ],
   "metadata": {}
  },
  {
   "cell_type": "code",
   "execution_count": null,
   "source": [
    "# comparison expressions\r\n",
    "print(f\"5 is greater than 2:             {5 > 2}\")\r\n",
    "print(f\"5 is less than 2:                {5 < 2}\")\r\n",
    "print(f\"5 is equal to 2:                 {5 == 2}\")\r\n",
    "print(f\"5 is not equal to two:           {5 != 2}\")\r\n",
    "print(f\"5 is greater than or equal to 2: {5 >= 2}\")\r\n",
    "print(f\"5 is less than or equal to 2:    {5 <= 2}\")\r\n"
   ],
   "outputs": [],
   "metadata": {}
  },
  {
   "cell_type": "markdown",
   "source": [
    "# Logical operators\r\n",
    "Logical operators are used to evaluate the truth of an expression.\r\n",
    "\r\n",
    "| Operator | Meaning                                            | Example |\r\n",
    "| :------- | :------------------------------------------------- | :------ |\r\n",
    "| and      | True if both the operands are true                 | x and y |\r\n",
    "| or       | True if either of the operands is true             | x or y  |\r\n",
    "| not      | True if operand is false (complements the operand) | not x   |"
   ],
   "metadata": {}
  },
  {
   "cell_type": "code",
   "execution_count": null,
   "source": [
    "# Logical Expressions\r\n",
    "\r\n",
    "# AND\r\n",
    "print('AND \\n--------------------')\r\n",
    "print(f\"True and True is {True and True} \")\r\n",
    "print(f\"True and False is {True and False} \")\r\n",
    "print(f\"False and False is {False and False} \\n--------------------\\n\")\r\n",
    "\r\n",
    "# OR\r\n",
    "print(\"OR \\n--------------------\")\r\n",
    "print(f\"True or True is {True or True} \")\r\n",
    "print(f\"True or False is {True or False} \")\r\n",
    "print(f\"False or False is {False or False} \\n---------------------\\n\")\r\n",
    "\r\n",
    "# NOT\r\n",
    "print(\"NOT \\n--------------------\")\r\n",
    "print(f\"not True is {not True} \")\r\n",
    "print(f\"not False is {not False} \\n--------------------\")"
   ],
   "outputs": [],
   "metadata": {}
  },
  {
   "cell_type": "code",
   "execution_count": null,
   "source": [
    "# More Complex logical expressions\r\n",
    "\r\n",
    "# AND\r\n",
    "print(f\"(True and False) AND True is {(True and False) and True}\")\r\n",
    "print(f\"(True or False) AND (True and not False) is {(True or False) and (True and not False)}\")\r\n",
    "print(f\"(not True and not False) AND (False or not True) is {(not True and not False) and (False or not True)}\\n\\n\")\r\n",
    "\r\n",
    "# OR\r\n",
    "print(f\"(True and False) OR True is {(True and False) or True}\")\r\n",
    "print(f\"(True or False) OR (True and not False) is {(True or False) or (True and not False)}\")\r\n",
    "print(f\"(not True and not False) OR (False or not True) is {(not True and not False) or (False or not True)}\")\r\n"
   ],
   "outputs": [],
   "metadata": {}
  },
  {
   "cell_type": "markdown",
   "source": [
    "# Membership Operators\r\n",
    "used to test whether a value or variable is found in a sequence (string, list, tuple, set and dictionary).\r\n",
    "\r\n",
    "**<em>In a dictionary we can only test for presence of key, not the value.</em>**\r\n",
    "| Operator | Meaning                                             | Example    |\r\n",
    "| :------- | :-------------------------------------------------- | :--------- |\r\n",
    "| in       | True if value/variable is found in the sequence     | 5 in x     |\r\n",
    "| not in   | True if value/variable is not found in the sequence | 5 not in x |"
   ],
   "metadata": {}
  },
  {
   "cell_type": "code",
   "execution_count": null,
   "source": [
    "# String example\r\n",
    "var = \"Hello World\"\r\n",
    "\"World\" in var"
   ],
   "outputs": [],
   "metadata": {}
  },
  {
   "cell_type": "code",
   "execution_count": null,
   "source": [
    "# List example\r\n",
    "var = [23, 34, 1.43, 99]\r\n",
    "23 in var"
   ],
   "outputs": [],
   "metadata": {}
  },
  {
   "cell_type": "code",
   "execution_count": null,
   "source": [
    "# Dictionary example\r\n",
    "var = {'Apple':'iphone', 'Google':\"Pixel\"}\r\n",
    "\"apple\" in var"
   ],
   "outputs": [],
   "metadata": {}
  },
  {
   "cell_type": "code",
   "execution_count": null,
   "source": [
    "var = [12,23,34,45,56]\r\n",
    "11 not in var"
   ],
   "outputs": [],
   "metadata": {}
  },
  {
   "cell_type": "markdown",
   "source": [
    "# Identity Operators\r\n",
    "**is** and **is not** are the identity operators in Python. They are used to check if two values (or variables) are located on the same part of the memory. \r\n",
    "\r\n",
    "***Two variables that are equal does not imply that they are identical.***\r\n",
    "\r\n",
    "| Operator | Meaning                                                      | Example       |\r\n",
    "| :------- | :----------------------------------------------------------- | :------------ |\r\n",
    "| is       | True if the operands are identical (refer to the same object) | x is True     |\r\n",
    "| is not   | True if the operands are not identical (do not refer to the same object) | x is not True |\r\n",
    "\r\n",
    "<em><b>The concept of objects will make more sense when we cover objects in Module 7</b></em>"
   ],
   "metadata": {}
  },
  {
   "cell_type": "code",
   "execution_count": null,
   "source": [
    "# remember the id() function?\r\n",
    "var = 25\r\n",
    "print(f\"Memory address of var: {id(var)}\")\r\n",
    "print(f\"Memory address of 25: {id(25)}\")\r\n",
    "print(f\"Is var and 25 identical? {var is 25}\\n\")\r\n",
    "\r\n",
    "# Two variables that are equal does not imply that they are identical.\r\n",
    "var2 = [1,2,3,4]\r\n",
    "var3 = [1,2,3,4]\r\n",
    "print(f\"Memory address of the list [1,2,3,4]: {id([1,2,3,4])}\")\r\n",
    "print(f\"Memory address of var2: {id(var2)}\")\r\n",
    "print(f\"Memory address of var3: {id(var3)}\")\r\n",
    "print(f\"Is var and var2 identical? {var2 is var3}\\n\")\r\n",
    "\r\n",
    "# creating identical variables\r\n",
    "var4 = [4,3,2,1]\r\n",
    "var5 = var4\r\n",
    "print(f\"Memory address of the list [4,3,2,1]: {id([4,3,2,1])}\")\r\n",
    "print(f\"Memory address of var4: {id(var4)}\")\r\n",
    "print(f\"Memory address of var5: {id(var5)}\")\r\n",
    "print(f\"Is var and var2 identical? {var4 is var5}\")\r\n"
   ],
   "outputs": [],
   "metadata": {}
  },
  {
   "cell_type": "markdown",
   "source": [
    "## Why is this the case???\r\n",
    "\r\n",
    "In the first example, we have the literal value 25. When we assign 25 to var, nothing new happens, we are simply referencing the memory address where 25 is located with a variable. \r\n",
    "\r\n",
    "In the second example, we create a list of 4 elements. Lists aren't literal values, they're objects. Each time an object is created, it is assigned its own location in memory, even if the elements are the same. This is because we don't actually care about what the list is holding, we only care about the object itself. Since each list is created at different moments, they are different instances of list objects. Since theyre different objects, they are assigned different memory locations. So when we check to see if the two lists are identical, we see that this is false because they do not share memory locations.\r\n",
    "\r\n",
    "In the third example, we create the variable 'var4' and assign a 4 element list to it. We then create the variable 'var5' and assign it the value of 'var4'. What this basically does is make var5 and var4 point to the value at the same memory address, which is the 4 element list. No new object is created, it's just that two variable now reference the same memory location.\r\n",
    "\r\n",
    "<img src = \"objects.png\" width = 900 height = 500>\r\n"
   ],
   "metadata": {}
  }
 ],
 "metadata": {
  "orig_nbformat": 4,
  "language_info": {
   "name": "python",
   "version": "3.7.4",
   "mimetype": "text/x-python",
   "codemirror_mode": {
    "name": "ipython",
    "version": 3
   },
   "pygments_lexer": "ipython3",
   "nbconvert_exporter": "python",
   "file_extension": ".py"
  },
  "kernelspec": {
   "name": "python3",
   "display_name": "Python 3.7.4 64-bit ('base': conda)"
  },
  "interpreter": {
   "hash": "fd61235da8d855c081cbd5d7c6398e4c179a40a950675235256f7f30499f1124"
  }
 },
 "nbformat": 4,
 "nbformat_minor": 2
}