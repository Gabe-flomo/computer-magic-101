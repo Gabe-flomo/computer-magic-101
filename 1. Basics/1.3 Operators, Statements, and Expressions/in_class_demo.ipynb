{
 "cells": [
  {
   "cell_type": "markdown",
   "metadata": {},
   "source": [
    "# Expressions\n",
    "Expressions are evaluations or operations that are reduced down to one or more values. In other words, expressions are ways to represent values. \n",
    "\n",
    "Examples of expressions are:\n",
    "* Doing Math        \n",
    "* evaluating Truth\n",
    "* concatenating strings\n",
    "* checking for membership\n",
    "\n",
    "**Lets look at some examples to see what this means**"
   ]
  },
  {
   "cell_type": "code",
   "execution_count": null,
   "metadata": {},
   "outputs": [],
   "source": [
    "# expressions always produce a value \n",
    "#TODO: Write an expression that evaluates to 10\n"
   ]
  },
  {
   "cell_type": "code",
   "execution_count": null,
   "metadata": {},
   "outputs": [],
   "source": [
    "# more complex expression\n",
    "#TODO:  write an expression that uses multiplication, division, subtraction and addition\n"
   ]
  },
  {
   "cell_type": "markdown",
   "metadata": {},
   "source": [
    "<b>Expressions always involve values or functions and operators that evaluate to a new value</b>"
   ]
  },
  {
   "cell_type": "markdown",
   "metadata": {},
   "source": [
    "# Statements\n",
    "Statements are actions or commands that do something. Statements are like sentences that are made up of expressions.\n",
    "\n",
    "Examples of statements are:\n",
    "* variable assignment\n",
    "* printing \n",
    "* conditionals\n",
    "* loops"
   ]
  },
  {
   "cell_type": "code",
   "execution_count": null,
   "metadata": {},
   "outputs": [],
   "source": [
    "#TODO:  write variable assignment statement that creates a 5 element list\n"
   ]
  },
  {
   "cell_type": "code",
   "execution_count": null,
   "metadata": {},
   "outputs": [],
   "source": [
    "#TODO:  Write a print statement\n"
   ]
  },
  {
   "cell_type": "code",
   "execution_count": null,
   "metadata": {},
   "outputs": [],
   "source": [
    "#TODO:  create a statement made from an expression\n"
   ]
  },
  {
   "cell_type": "markdown",
   "metadata": {},
   "source": [
    "# The boolean Data type\n",
    "Booleans are used to indicate truth and can only have the values: True or False\n",
    "\n",
    "They are useful when writing logical or conditional expressions, or evaluating the truth of an expression (you will see examples of this soon)."
   ]
  },
  {
   "cell_type": "code",
   "execution_count": null,
   "metadata": {},
   "outputs": [],
   "source": [
    "var = True\n",
    "var is True"
   ]
  },
  {
   "cell_type": "code",
   "execution_count": null,
   "metadata": {},
   "outputs": [],
   "source": [
    "var = False\n",
    "var is True"
   ]
  },
  {
   "cell_type": "markdown",
   "metadata": {},
   "source": [
    "# Arithmetic Operators\n",
    "**Arithmetic operators are used to perform mathematical operations like addition, subtraction, multiplication, etc.**\n",
    "\n",
    "| Operator | Meaning                                                      | Example                  |\n",
    "| :------: | :----------------------------------------------------------- | :----------------------- |\n",
    "|    +     | Add two operands or unary plus                               | x + y+ 2                 |\n",
    "|    -     | Subtract right operand from the left or unary minus          | x - y- 2                 |\n",
    "|    *     | Multiply two operands                                        | x * y                    |\n",
    "|    /     | Divide left operand by the right one (always results into float) | x / y                |\n",
    "|    %     | Modulus - remainder of the division of left operand by the right | x % y (remainder of x/y) |\n",
    "|    //    | Floor division - division that results into whole number adjusted to the left in the number line | x // y  |\n",
    "|    **    | Exponent - left operand raised to the power of right         | x**y (x to the power y)  |\n",
    "\n"
   ]
  },
  {
   "cell_type": "code",
   "execution_count": null,
   "metadata": {},
   "outputs": [],
   "source": [
    "# arithmetic expressions \n",
    "#TODO SHow use cases for each operator\n"
   ]
  },
  {
   "cell_type": "markdown",
   "metadata": {},
   "source": [
    "# Using the Modulus operator to check if a number is even or odd\n",
    "In programming, there will be a time where you may want to check if a number is even or odd. The Modulus operator gives us an easy way to do this check.\n",
    "\n",
    "**Remeber: Modulus division gives us the remainder**\n",
    "--\n",
    "\n",
    "**So if I were to do the following:**\n",
    "\n",
    "\n",
    "$9/2$ I get 4.5. Pretty simple\n",
    "\n",
    "**But now, If Instead I did:**\n",
    "\n",
    "$9\\% 2$ I get 1.\n",
    "\n",
    "This is because `2` can be multiplied `4` whole times which gives us `8`, but we can't add another `2`, otherwise we get `10`. So the remainder is `1`.\n",
    "\n",
    "**If I were to do this with an even number:**\n",
    "\n",
    "$10 \\% 2$ I get 0. *This is the case for any even number*\n",
    "\n",
    "**So, if we want to check if a number is even or odd, all we have to do is mod the number by 2 and check if the remainder is 0 or not.**\n",
    "--"
   ]
  },
  {
   "cell_type": "code",
   "execution_count": null,
   "metadata": {},
   "outputs": [],
   "source": [
    "from random import randint\n",
    "#TODO: Check if the values are even or odd"
   ]
  },
  {
   "cell_type": "markdown",
   "metadata": {},
   "source": [
    "# Assignment Operators\n",
    "Assignment operators are used in Python to assign values to variables.\n",
    "\n",
    "a = 5 is a simple assignment operator that assigns the value 5 on the right to the variable a on the left.\n",
    "\n",
    "There are also various compound operators in Python like a += 5 that adds to the variable and later assigns the same. It is equivalent to a = a + 5.\n",
    "| Operator | Example | Equivalent to |\n",
    "| :------- | :------ | :------------ |\n",
    "| =        | x = 5   | x = 5         |\n",
    "| +=       | x += 5  | x = x + 5     |\n",
    "| -=       | x -= 5  | x = x - 5     |\n",
    "| *=       | x *= 5  | x = x * 5     |\n",
    "| /=       | x /= 5  | x = x / 5     |\n",
    "| %=       | x %= 5  | x = x % 5     |\n",
    "| //=      | x //= 5 | x = x // 5    |\n",
    "| **=      | x **= 5 | x = x ** 5    |"
   ]
  },
  {
   "cell_type": "code",
   "execution_count": null,
   "metadata": {},
   "outputs": [],
   "source": [
    "# Write a Simple assignment\n",
    "#TODO\n",
    "print(f\"x = {x}\")\n",
    "\n",
    "# Write Compound assignments\n",
    "\n",
    "#TODO:  addition\n",
    "print(f\"x = {x}\")\n",
    "\n",
    "#TODO: subtraction\n",
    "print(f\"x = {x}\")\n",
    "\n",
    "#TODO: multiplication\n",
    "print(f\"x = {x}\")\n",
    "\n",
    "#TODO: division\n",
    "print(f\"x = {x}\")\n",
    "\n",
    "#TODO: exponentiation\n",
    "print(f\"x = {x}\")\n"
   ]
  },
  {
   "cell_type": "markdown",
   "metadata": {},
   "source": [
    "# Comparison operators\n",
    "Comparison operators are used to compare values. It returns either True or False according to the condition.\n",
    "\n",
    "| Operator | Meaning                                                      | Example |\n",
    "| :------- | :----------------------------------------------------------- | :------ |\n",
    "| >        | Greater than - True if left operand is greater than the right | x > y   |\n",
    "| <        | Less than - True if left operand is less than the right      | x < y   |\n",
    "| ==       | Equal to - True if both operands are equal                   | x == y  |\n",
    "| !=       | Not equal to - True if operands are not equal                | x != y  |\n",
    "| >=       | Greater than or equal to - True if left operand is greater than or equal to the right | x >= y  |\n",
    "| <=       | Less than or equal to - True if left operand is less than or equal to the right | x <= y  |"
   ]
  },
  {
   "cell_type": "code",
   "execution_count": null,
   "metadata": {},
   "outputs": [],
   "source": [
    "# comparison expressions\n",
    "#TODO showcase each comparison operator\n"
   ]
  },
  {
   "cell_type": "markdown",
   "metadata": {},
   "source": [
    "# Logical operators\n",
    "Logical operators are used to evaluate the truth of an expression.\n",
    "\n",
    "| Operator | Meaning                                            | Example |\n",
    "| :------- | :------------------------------------------------- | :------ |\n",
    "| and      | True if both the operands are true                 | x and y |\n",
    "| or       | True if either of the operands is true             | x or y  |\n",
    "| not      | True if operand is false (complements the operand) | not x   |"
   ]
  },
  {
   "cell_type": "code",
   "execution_count": null,
   "metadata": {},
   "outputs": [],
   "source": [
    "# Logical Expressions\n",
    "\n",
    "# AND\n",
    "\n",
    "\n",
    "# OR\n",
    "\n",
    "\n",
    "# NOT\n"
   ]
  },
  {
   "cell_type": "code",
   "execution_count": null,
   "metadata": {},
   "outputs": [],
   "source": [
    "# More Complex logical expressions\n",
    "\n",
    "# AND\n",
    "\n",
    "\n",
    "# OR\n",
    "\n"
   ]
  },
  {
   "cell_type": "markdown",
   "metadata": {},
   "source": [
    "# Membership Operators\n",
    "used to test whether a value or variable is found in a sequence (string, list, tuple, set and dictionary).\n",
    "\n",
    "**<em>In a dictionary we can only test for presence of key, not the value.</em>**\n",
    "| Operator | Meaning                                             | Example    |\n",
    "| :------- | :-------------------------------------------------- | :--------- |\n",
    "| in       | True if value/variable is found in the sequence     | 5 in x     |\n",
    "| not in   | True if value/variable is not found in the sequence | 5 not in x |"
   ]
  },
  {
   "cell_type": "code",
   "execution_count": null,
   "metadata": {},
   "outputs": [],
   "source": [
    "#TODO: check if 'world' is in the string 'hello world'\n",
    "var = \"Hello World\"\n"
   ]
  },
  {
   "cell_type": "code",
   "execution_count": null,
   "metadata": {},
   "outputs": [],
   "source": [
    "#TODO: check to see if the value 23 is in the list\n",
    "var = [23, 34, 1.43, 99]\n"
   ]
  },
  {
   "cell_type": "code",
   "execution_count": null,
   "metadata": {},
   "outputs": [],
   "source": [
    "#TODO: check to see if the value 11 is not in the list\n",
    "var = [12,23,34,45,56]\n"
   ]
  },
  {
   "cell_type": "markdown",
   "metadata": {},
   "source": [
    "# Identity Operators\n",
    "**is** and **is not** are the identity operators in Python. They are used to check if two values (or variables) are located on the same part of the memory. \n",
    "\n",
    "***Two variables that are equal does not imply that they are identical.***\n",
    "\n",
    "| Operator | Meaning                                                      | Example       |\n",
    "| :------- | :----------------------------------------------------------- | :------------ |\n",
    "| is       | True if the operands are identical (refer to the same object) | x is True     |\n",
    "| is not   | True if the operands are not identical (do not refer to the same object) | x is not True |\n",
    "\n",
    "<em><b>The concept of objects will make more sense when we cover objects in Module 7</b></em>"
   ]
  },
  {
   "cell_type": "code",
   "execution_count": 4,
   "metadata": {},
   "outputs": [
    {
     "name": "stdout",
     "output_type": "stream",
     "text": [
      "Memory address of var: 140716294382736\n",
      "Memory address of 25: 140716294382736\n",
      "Is var and 25 identical? True\n",
      "\n"
     ]
    }
   ],
   "source": [
    "# remember the id() function?\n",
    "var = 25\n",
    "#TODO What is the memory address of var\n",
    "#TODO What is the memory address of 25\n",
    "#TODO is var and 25 identical?\n",
    "\n",
    "# Two variables that are equal does not imply that they are identical.\n",
    "var2 = [1,2,3,4]\n",
    "var3 = [1,2,3,4]\n",
    "#TODO What is the memory address of the list [1,2,3,4]\n",
    "#TODO What is the memory address of var2 and var3\n",
    "#TODO Is var2 and var3 identical?\n",
    "\n",
    "# creating identical variables\n",
    "var4 = [4,3,2,1]\n",
    "var5 = var4\n",
    "#TODO What is the momry address of the list [4,3,2,1]\n",
    "#TODO What is the memory address of var4 and var5\n",
    "#TODO Is var4 and var5 identical?\n"
   ]
  },
  {
   "cell_type": "markdown",
   "metadata": {},
   "source": [
    "## Why is this the case???\n",
    "\n",
    "In the first example, we have the literal value 25. When we assign 25 to var, nothing new happens, we are simply referencing the memory address where 25 is located with a variable. \n",
    "\n",
    "In the second example, we create a list of 4 elements. Lists aren't literal values, they're objects. Each time an object is created, it is assigned its own location in memory, even if the elements are the same. This is because we don't actually care about what the list is holding, we only care about the object itself. Since each list is created at different moments, they are different instances of list objects. Since theyre different objects, they are assigned different memory locations. So when we check to see if the two lists are identical, we see that this is false because they do not share memory locations.\n",
    "\n",
    "In the third example, we create the variable 'var4' and assign a 4 element list to it. We then create the variable 'var5' and assign it the value of 'var4'. What this basically does is make var5 and var4 point to the value at the same memory address, which is the 4 element list. No new object is created, it's just that two variable now reference the same memory location.\n",
    "\n",
    "<img src = \"objects.png\" width = 900 height = 500>\n"
   ]
  }
 ],
 "metadata": {
  "interpreter": {
   "hash": "fd61235da8d855c081cbd5d7c6398e4c179a40a950675235256f7f30499f1124"
  },
  "kernelspec": {
   "display_name": "Python 3.7.4 64-bit ('base': conda)",
   "name": "python3"
  },
  "language_info": {
   "codemirror_mode": {
    "name": "ipython",
    "version": 3
   },
   "file_extension": ".py",
   "mimetype": "text/x-python",
   "name": "python",
   "nbconvert_exporter": "python",
   "pygments_lexer": "ipython3",
   "version": "3.7.4"
  },
  "orig_nbformat": 4
 },
 "nbformat": 4,
 "nbformat_minor": 2
}
