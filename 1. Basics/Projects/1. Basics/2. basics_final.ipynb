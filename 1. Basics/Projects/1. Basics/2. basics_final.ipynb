{
 "cells": [
  {
   "cell_type": "markdown",
   "metadata": {},
   "source": [
    "# Instructions\n",
    "Below is a \"dataset\" that contains information about the residents in Elmo city. Elmo and Big bird have noticed some problems with their data and would like your help to fix it. The dataset structure is a list of list, where each internal list is its own section. "
   ]
  },
  {
   "cell_type": "code",
   "execution_count": null,
   "metadata": {},
   "outputs": [],
   "source": [
    "data = [\n",
    "    ['number of trash cans', 1_000_000],\n",
    "    ['number of cleaners', 109_001],\n",
    "    ['number of houses', 900000],\n",
    "    ['Annual visitors', '200000'],\n",
    "    ['average house cost', '650000'],\n",
    "    ['average yearly income', 120000],\n",
    "    ['Common Jobs', ('Quantum computing', 'Psychologist', 'Data scientist', 'Construction', 'Cleaning')],\n",
    "    ['Total Number of available job positions', 250000 ],\n",
    "    ['Total number of jobs', 1700543]\n",
    "    ['number of children', 258710],\n",
    "]\n"
   ]
  },
  {
   "cell_type": "markdown",
   "metadata": {},
   "source": [
    "# How many children per house\n",
    "Calculate the number of children there are per house, and cerate a new section named `children per house` with the value you calculated."
   ]
  },
  {
   "cell_type": "code",
   "execution_count": null,
   "metadata": {},
   "outputs": [],
   "source": [
    "#TODO"
   ]
  },
  {
   "cell_type": "markdown",
   "metadata": {},
   "source": [
    "# Fixing the data Types\n",
    "It seems that the data type for annual visitors and for average house cost are strings when they should be integers. Convert the values into the appropriate data type."
   ]
  },
  {
   "cell_type": "code",
   "execution_count": null,
   "metadata": {},
   "outputs": [],
   "source": [
    "#TODO"
   ]
  },
  {
   "cell_type": "markdown",
   "metadata": {},
   "source": [
    "# How many should we hire\n",
    "Right now, elmo city has 1 million trash cans, and only ~109 thousand city cleaners. How many more workers do they need to hire so that each cleaner can get to 8 trash cans per day?\n",
    "\n",
    "Once you've calculated how many more people they need to hire, update the list where the `number of cleaners` is present to the new amount of city cleaners they have."
   ]
  },
  {
   "cell_type": "code",
   "execution_count": null,
   "metadata": {},
   "outputs": [],
   "source": [
    "#TODO claculate how many more cleaners they need to hire and update the list"
   ]
  },
  {
   "cell_type": "markdown",
   "metadata": {},
   "source": [
    "# Adding new jobs\n",
    "The list of common jobs is incomplete. There are thousands of different jobs in Elmo city yet the common jobs section only lists 5 of them. Add these 3 other common jobs to the common jobs section. \n",
    "- photographer\n",
    "- Journalist\n",
    "- physicist"
   ]
  },
  {
   "cell_type": "code",
   "execution_count": null,
   "metadata": {},
   "outputs": [],
   "source": []
  },
  {
   "cell_type": "markdown",
   "metadata": {},
   "source": [
    "# Adding a new resident\n",
    "Add some input statements for your `name, age, and occupation` then add these 3 fields to a list. Create a section in the dataset with your info as a new resident in Elmo city. \n",
    "\n",
    "### Example\n",
    "```python\n",
    "name = \"gabe\"\n",
    "age = 22\n",
    "occupation = \"psychologist\"\n",
    "\n",
    "data = [\n",
    "    ['number of trash cans', 1_000_000],\n",
    "    ['number of cleaners', 109_001],\n",
    "    ['number of houses', 900000],\n",
    "    ['Annual visitors', '200000'],\n",
    "    ['average house cost', '650000'],\n",
    "    ['average yearly income', 120000],\n",
    "    ['Common Jobs', ('Quantum computing', 'Psychologist', 'Data scientist', 'Construction', 'Cleaning')],\n",
    "    ['Total Number of available job positions', 250000 ],\n",
    "    ['Total number of jobs', 1700543]\n",
    "    ['number of children', 258710],\n",
    "    ['New resident', ['Gabe', 22, \"psychologist\"]] <-- new resident\n",
    "]\n",
    "```"
   ]
  },
  {
   "cell_type": "code",
   "execution_count": null,
   "metadata": {},
   "outputs": [],
   "source": [
    "#TODO"
   ]
  }
 ],
 "metadata": {
  "interpreter": {
   "hash": "fd61235da8d855c081cbd5d7c6398e4c179a40a950675235256f7f30499f1124"
  },
  "kernelspec": {
   "display_name": "Python 3.7.4 64-bit ('base': conda)",
   "language": "python",
   "name": "python3"
  },
  "language_info": {
   "codemirror_mode": {
    "name": "ipython",
    "version": 3
   },
   "file_extension": ".py",
   "mimetype": "text/x-python",
   "name": "python",
   "nbconvert_exporter": "python",
   "pygments_lexer": "ipython3",
   "version": "3.7.4"
  },
  "orig_nbformat": 4
 },
 "nbformat": 4,
 "nbformat_minor": 2
}
