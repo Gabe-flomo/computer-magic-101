{
 "cells": [
  {
   "cell_type": "markdown",
   "metadata": {},
   "source": [
    "# Instructions\n",
    "Below is a list of elements where each element is a different data type. Your task is to perform some basic analysis on the list of elements to come up with the following report.\n",
    "\n",
    "1. What is the data type of the element in position 3?\n",
    "2. are the data types in position 0 and position 2 the same?\n",
    "3. index the list so that you return the tuple. Assign the tuple to a new variable called `extracted`. What is the data type of the element in the 2nd position of this tuple?\n",
    "4. Index the list to return the string `return me`, what are the characters at position 0, 3, and 5\n",
    "5. Index the list to return the string `return me`, concatenate the characters at positions 0, 3, and 5 to create a new string. What is the new string?\n",
    "6. return the element at position 9 and store it in a value called `squares`. What is the data type and what are it's values.\n",
    "7. What is the result of the element at position 1 subtracted from the element at position 10\n",
    "8. what is the memory address of the list `data`\n",
    "9. are the memory addresses of the element in position 2 and position 8 the same? ***Bonus: If they are the same, explain why***"
   ]
  },
  {
   "cell_type": "code",
   "execution_count": null,
   "metadata": {},
   "outputs": [],
   "source": [
    "data = [\n",
    "    True,\n",
    "    600.548,\n",
    "    False,\n",
    "    45j,\n",
    "    [1,2,3,4,5],\n",
    "    False,\n",
    "    (True, \"Minecraft is the best\", 10.098, 'one billion', {1,2,3,4}),\n",
    "    \"return me\",\n",
    "    5 == 5,\n",
    "    [x**2 for x in [1, 2, 3, 4, 5]],\n",
    "    654.548    \n",
    "]\n"
   ]
  },
  {
   "cell_type": "code",
   "execution_count": null,
   "metadata": {},
   "outputs": [],
   "source": [
    "\n"
   ]
  },
  {
   "cell_type": "markdown",
   "metadata": {},
   "source": [
    "## YOUR ANSWERS GO HERE\n",
    "***Double click on this cell to edit it***"
   ]
  }
 ],
 "metadata": {
  "interpreter": {
   "hash": "fd61235da8d855c081cbd5d7c6398e4c179a40a950675235256f7f30499f1124"
  },
  "kernelspec": {
   "display_name": "Python 3.7.4 64-bit ('base': conda)",
   "name": "python3"
  },
  "language_info": {
   "codemirror_mode": {
    "name": "ipython",
    "version": 3
   },
   "file_extension": ".py",
   "mimetype": "text/x-python",
   "name": "python",
   "nbconvert_exporter": "python",
   "pygments_lexer": "ipython3",
   "version": "3.7.4"
  },
  "orig_nbformat": 4
 },
 "nbformat": 4,
 "nbformat_minor": 2
}
