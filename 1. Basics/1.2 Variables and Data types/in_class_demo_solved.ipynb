{
 "cells": [
  {
   "cell_type": "markdown",
   "source": [
    "<style>\r\n",
    "    h1{\r\n",
    "        /* color: #A900FF; */\r\n",
    "        font-family: \"fira code\";\r\n",
    "    }\r\n",
    "</style> \r\n",
    "<h1>Variables</h1>\r\n",
    "Variables are like named containers that store data in memory and can be changed throughout the program. "
   ],
   "metadata": {}
  },
  {
   "cell_type": "code",
   "execution_count": 1,
   "source": [
    "var = 25\r\n",
    "print(var)"
   ],
   "outputs": [
    {
     "output_type": "stream",
     "name": "stdout",
     "text": [
      "25\n"
     ]
    }
   ],
   "metadata": {}
  },
  {
   "cell_type": "markdown",
   "source": [
    "Here we have a variable named 'var' that we've assigned the value 25 to. What this means to the computer is this:\r\n",
    "* It locates an area in memory that is empty\r\n",
    "* once that location is found it stores the desired value in that memory location\r\n",
    "* when you want to access or modify that memory location, instead of using the memory address, we can reference the variable"
   ],
   "metadata": {}
  },
  {
   "cell_type": "code",
   "execution_count": null,
   "source": [
    "print(f\"The memory address of the value 25: {id(25)}\")\r\n",
    "print(f\"Memory location of the variable 'var' as an integer {id(var)}\")\r\n",
    "print(f\"Memory location of the variable 'var' as hexadecimal  {hex(id(var))}\")"
   ],
   "outputs": [],
   "metadata": {}
  },
  {
   "cell_type": "markdown",
   "source": [
    "All Memory addresses are unique, but if two variabes reference the same value in memory, then they will share memory addresses"
   ],
   "metadata": {}
  },
  {
   "cell_type": "code",
   "execution_count": null,
   "source": [
    "var = 10\r\n",
    "var2 = var\r\n",
    "message = \"hello\"\r\n",
    "\r\n",
    "print(f\"The memory address of the value 10: {id(10)}\")\r\n",
    "print(f\"Memory location of the variable 'var' as an integer {id(var)}\")\r\n",
    "print(f\"Memory location of the variable 'var2' as an integer  {id(var2)}\")\r\n",
    "print(f\"Memory location of the variable 'message' as an integer  {id(message)}\")\r\n"
   ],
   "outputs": [],
   "metadata": {}
  },
  {
   "cell_type": "markdown",
   "source": [
    "<img src = \"memory.png\" width = 700 height = 400>"
   ],
   "metadata": {}
  },
  {
   "cell_type": "markdown",
   "source": [
    "------------------------------\r\n",
    "# Variable assignment and Manipulation\r\n",
    "\r\n",
    "You assign a value to a variable by using the equals sign. \r\n",
    "\r\n",
    "Python is a type-inffered language so you dont need to explicitly define the variable type. If you change the value of the variable later in the program, it can be of a different type, however, this can cause errors if you're not careful."
   ],
   "metadata": {}
  },
  {
   "cell_type": "code",
   "execution_count": null,
   "source": [
    "# assigning a value to a variable and changing it\r\n",
    "var = 5\r\n",
    "print(var)\r\n",
    "\r\n",
    "var = 85\r\n",
    "print(var)"
   ],
   "outputs": [],
   "metadata": {}
  },
  {
   "cell_type": "code",
   "execution_count": null,
   "source": [
    "# assigning a value to a variable then changing its type\r\n",
    "var = 'hello'\r\n",
    "print(var)\r\n",
    "print(type(var), \"\\n\")\r\n",
    "\r\n",
    "var = [1,2,3,4]\r\n",
    "print(var)\r\n",
    "print(type(var))"
   ],
   "outputs": [],
   "metadata": {}
  },
  {
   "cell_type": "markdown",
   "source": [
    "**you can also assign multiple values to multiple variables at the same time**"
   ],
   "metadata": {}
  },
  {
   "cell_type": "code",
   "execution_count": null,
   "source": [
    "x, y, z = 12, 'hello', [12,34,56]\r\n",
    "print(x,y,z)"
   ],
   "outputs": [],
   "metadata": {}
  },
  {
   "cell_type": "markdown",
   "source": [
    "-----------------------\r\n",
    "# Variable Names\r\n",
    "variables can be named anything you'd like as long as its not a python keyword or built-in method\r\n",
    "\r\n",
    "#### Python Keywords\r\n",
    "\r\n",
    "|async | elif | if | or | yield|\r\n",
    "|-------------|--------------:|-----:|:-------------:|-------------:|\r\n",
    "|False | await | else | import | pass |\r\n",
    "|None | break | except | in | raise|\r\n",
    "|True | class | finally | is | return|\r\n",
    "|and | continue | for | lambda | try|\r\n",
    "|as | def | from | nonlocal | while|\r\n",
    "|assert | del | global | not | with|"
   ],
   "metadata": {}
  },
  {
   "cell_type": "code",
   "execution_count": null,
   "source": [
    "# trying to name a variable as a python built-in method\r\n",
    "print(id(10))\r\n",
    "print(type(id))\r\n",
    "\r\n",
    "id = 45\r\n",
    "print(type(id)) \r\n",
    "print(id(10)) # causes an error"
   ],
   "outputs": [],
   "metadata": {}
  },
  {
   "cell_type": "markdown",
   "source": [
    "## How Do I know If I'm overwriting a python keyword or method?\r\n",
    "\r\n",
    "Python keywords have special syntax highlighting, and in most cases, will result in an error if you try to create a variable using a keyword. Built-in methods are a little bit more tricky than keywords because they're just predefined functions that wont cause immediate errors when overwriting. The best way to know if you're overwriting a built-in method is to check if the variable changes color when assigning values to it. This works because all functions have special syntax highlighting as well, and since we haven't created our own functions yet, built-in functions will look different than normal variables."
   ],
   "metadata": {}
  },
  {
   "cell_type": "code",
   "execution_count": null,
   "source": [
    "# trying to overwrite a keyword \r\n",
    "# assert = \"Overwritten\"\r\n",
    "# raise = 'Overwritten'\r\n",
    "\r\n",
    "# showing what the max function does before it is overwritten\r\n",
    "var = max(10, 5)\r\n",
    "print(var)\r\n",
    "print(type(max), '\\n-----------------------')\r\n",
    "\r\n",
    "# overwriting the max function\r\n",
    "max = max(10,50)\r\n",
    "print(max)\r\n",
    "print(type(max))\r\n",
    "\r\n",
    "# trying to use the over written function\r\n",
    "big = max(12, 6)\r\n",
    "print(big)"
   ],
   "outputs": [],
   "metadata": {}
  },
  {
   "cell_type": "markdown",
   "source": [
    "----------------------\r\n",
    "# Variable Recap\r\n",
    "* variables are containers that hold data\r\n",
    "* the data that variables can hold may change throughout the program\r\n",
    "* variables shouldn't be named python keywords\r\n",
    "* you can create multiple variables at the same time\r\n",
    "\r\n",
    "Now that we know what variables are, lets talk about the type of data they can hold."
   ],
   "metadata": {}
  },
  {
   "cell_type": "markdown",
   "source": [
    "-----------\r\n",
    "# Data Types\r\n",
    "A data type is a description of what type of data you're working with.\r\n",
    "\r\n",
    "All values in python have a data type and the type of data allows for different types of operations.\r\n",
    "\r\n",
    "\r\n",
    "# Numbers\r\n",
    "In python numbers come in 3 flavors \r\n",
    "\r\n",
    "* **Integers**, which are any positive or negative whole number.\r\n",
    "* **Floats**, which are any positive or negative number with a fractional part\r\n",
    "* **Complex numbers**, which are specified as real_part + imaginary_part, where the imaginary_part is written with a j or J."
   ],
   "metadata": {}
  },
  {
   "cell_type": "code",
   "execution_count": null,
   "source": [
    "Integer = 4\r\n",
    "Integer = 30\r\n",
    "Integer = -64\r\n",
    "Integer = 23555431588754\r\n",
    "\r\n",
    "Float = 4.0\r\n",
    "Float = 35.87\r\n",
    "Float = -842.555734\r\n",
    "Float = 3.141592653589793\r\n",
    "\r\n",
    "Complex = 1j\r\n",
    "Complex = 43 + 2j\r\n",
    "Complex = -3 + 10j"
   ],
   "outputs": [],
   "metadata": {}
  },
  {
   "cell_type": "code",
   "execution_count": null,
   "source": [
    "# use the type function to inspect a variables type\r\n",
    "var = 4555854\r\n",
    "print(type(var))\r\n",
    "\r\n",
    "var = 45.2544558\r\n",
    "print(type(var))\r\n",
    "\r\n",
    "var = 4j + 56\r\n",
    "print(type(var))\r\n"
   ],
   "outputs": [],
   "metadata": {}
  },
  {
   "cell_type": "markdown",
   "source": [
    "# Strings\r\n",
    "Strings are used to represent text, or more technically, a sequence of Unicode characters. Strings a denoted using either single ('') or double (\"\") qutoes."
   ],
   "metadata": {}
  },
  {
   "cell_type": "code",
   "execution_count": null,
   "source": [
    "# creating strings\r\n",
    "string = 'I am a string 👋🏾'\r\n",
    "string = \"I am a double quoted string 💪🏾\"\r\n",
    "print(type(string))"
   ],
   "outputs": [],
   "metadata": {}
  },
  {
   "cell_type": "markdown",
   "source": [
    "# Strings and Indexing\r\n",
    "Because strings are a sequence of characters, you can select parts of a string by using an index.\r\n",
    "\r\n",
    "<em style = \"color: #6F69AC\">An index is a numerical representation of an item's position in a sequence.</em>\r\n",
    "\r\n",
    "In most programming languages, python included, index values start at 0. Since they start at zero, the last index value will be equal to the length of the sequence minus 1. \r\n",
    "\r\n",
    "<img src =\"strings.png\" width = \"700\" height = \"400\">\r\n",
    "\r\n",
    "\r\n",
    "<em><b>You will learn more about indexing in the lists module</b></em>"
   ],
   "metadata": {}
  },
  {
   "cell_type": "code",
   "execution_count": null,
   "source": [
    "# Returning the fist character in a string \r\n",
    "word = \"Python\"\r\n",
    "print(word[0])"
   ],
   "outputs": [],
   "metadata": {}
  },
  {
   "cell_type": "code",
   "execution_count": null,
   "source": [
    "# returning the last character in a string \r\n",
    "print(word[5])"
   ],
   "outputs": [],
   "metadata": {}
  },
  {
   "cell_type": "markdown",
   "source": [
    "## The len() function\r\n",
    "The len() function is used to find the length of a sequence. It returns the total number of items present in a sequence, making it a useful tool when working with sequences."
   ],
   "metadata": {}
  },
  {
   "cell_type": "code",
   "execution_count": null,
   "source": [
    "word = 'Washburn'\r\n",
    "print(len(word))"
   ],
   "outputs": [],
   "metadata": {}
  },
  {
   "cell_type": "code",
   "execution_count": null,
   "source": [
    "# using the len function to return the last value in a sequence \r\n",
    "seq = \"I am a sequence 😊\"\r\n",
    "\r\n",
    "# remember, sequences start at index 0, so the last index is -> (the length of the sequence - 1)\r\n",
    "index = len(seq) - 1\r\n",
    "print(f\"Length of the sequence: {len(seq)}\")\r\n",
    "print(f\"Last index value of the sequence: {index}\")\r\n",
    "print(f\"Value at the end of the sequence: {seq[index]}\")\r\n"
   ],
   "outputs": [],
   "metadata": {}
  },
  {
   "cell_type": "markdown",
   "source": [
    "## Strings are Immutable\r\n",
    "When a data type is immutable, that means that you can't change its values once it has been created. \r\n",
    "\r\n",
    "For example, if we create the string 'hello' and try to change the first character to a j so we can change it to 'jello', python will throw us an error."
   ],
   "metadata": {}
  },
  {
   "cell_type": "code",
   "execution_count": null,
   "source": [
    "var = \"hello\"\r\n",
    "var[0] = 'j'"
   ],
   "outputs": [],
   "metadata": {}
  },
  {
   "cell_type": "markdown",
   "source": [
    "## String concatenation\r\n",
    "**Concatenations means: The action of linking things together.**\r\n",
    "\r\n",
    "In python, we can concatenate strings by using the addition operator (+). "
   ],
   "metadata": {}
  },
  {
   "cell_type": "code",
   "execution_count": null,
   "source": [
    "# concatinating strings\r\n",
    "print(\"Hello\" + \" world\")"
   ],
   "outputs": [],
   "metadata": {}
  },
  {
   "cell_type": "code",
   "execution_count": null,
   "source": [
    "# concatenating string variables\r\n",
    "var1 = \"I am\"\r\n",
    "var2 = \" the goat\"\r\n",
    "print(var1 + var2)"
   ],
   "outputs": [],
   "metadata": {}
  },
  {
   "cell_type": "code",
   "execution_count": null,
   "source": [
    "# combining string literals and variables \r\n",
    "var = \"I am a string variable\"\r\n",
    "message = var + \", and I am a string literal.\" \r\n",
    "print(message)"
   ],
   "outputs": [],
   "metadata": {}
  },
  {
   "cell_type": "markdown",
   "source": [
    "# Lists\r\n",
    "A list is a sequence of items.\r\n",
    "<hr>\r\n",
    "\r\n",
    "### Creating Lists\r\n",
    "A list is created by putting elements within square brackets [] separated by commas.\r\n",
    "```python\r\n",
    "var = [1,2,3,4]\r\n",
    "```\r\n",
    "\r\n",
    "**You can also add elements of different types to a list, including other lists**\r\n",
    "```python\r\n",
    "var = [1, 2, 'list with string', 4.32, [5,4,3,2]]\r\n",
    "```\r\n",
    "\r\n",
    "Lists, like strings, are sequences meaning their elements are accessed using an index. \r\n",
    "\r\n",
    "**Remember:**<em> An index is a numerical representation of an item's position in a sequence. The index of the first item in a sequence always starts at 0</em>"
   ],
   "metadata": {}
  },
  {
   "cell_type": "code",
   "execution_count": null,
   "source": [
    "# creation of a list \r\n",
    "var = [10, 20, 30, 40, 50]\r\n",
    "\r\n",
    "# accessing list elements\r\n",
    "print(f\"List: {var}\")\r\n",
    "print(f\"First element: {var[0]}\")\r\n",
    "print(f\"Middle element: {var[2]}\")\r\n",
    "print(f\"Last element: {var[4]}\")\r\n",
    "print(f\"Length of the list: {len(var)}\")\r\n"
   ],
   "outputs": [],
   "metadata": {}
  },
  {
   "cell_type": "markdown",
   "source": [
    "## Changing list elements\r\n",
    "You can change the values of elements in a list by indicating the index of the value you want to change, and assigning the new value to that index."
   ],
   "metadata": {}
  },
  {
   "cell_type": "code",
   "execution_count": null,
   "source": [
    "# changing list elements\r\n",
    "var = [1, 2, 3, 4, 5]\r\n",
    "print(f\"List before editing: {var}\")\r\n",
    "\r\n",
    "# changing the third list element from 3 to 30\r\n",
    "var[2] = 30\r\n",
    "print(f\"List after editing: {var}\")"
   ],
   "outputs": [],
   "metadata": {}
  },
  {
   "cell_type": "markdown",
   "source": [
    "# Mutable vs. Immutable data types \r\n",
    "* **Mutable** - Has the ability to change, or mutate.\r\n",
    "* **Immutable** - Does not have the ability to change, or mutate.\r\n",
    "\r\n",
    "Data types that are mutable **are allowed** to have their values changed throughout the program. For example, Lists are mutable, so if you try to change values, add values, or remove values later in your program you are allowed to do so.\r\n",
    "\r\n",
    "```python\r\n",
    "var = [1, 2, 3, 4, 5]\r\n",
    "var[0] = 10 # this is allowed since lists are mutable\r\n",
    "print(var) \r\n",
    "#output: [10, 2, 3, 4, 5]\r\n",
    "```\r\n",
    "\r\n",
    "Data types that are immutable **aren't allowed** to have their values changed throughout the program. For example, Strings are immutable, so if you try to change values, add values, or remove values later in your program you won't be able to.\r\n",
    "\r\n",
    "```python\r\n",
    "var = \"Hello\"\r\n",
    "var[0] = \"J\" # this is not allowed since strings are immutable\r\n",
    "```\r\n",
    "\r\n",
    "### **Lets look at an immutable data type to get a better understanding of this**\r\n",
    "\r\n",
    "-----------------\r\n",
    "# Tuples \r\n",
    "A tuple is like a list, in that it is a sequence of elements. However, once a tuple is created, it never changes. \r\n",
    "\r\n",
    "Tuples are created by putting elements inside of parenthesis ().\r\n",
    "\r\n",
    "**<em>All of these concepts will be explored further in the data structures and methods section</em>**"
   ],
   "metadata": {}
  },
  {
   "cell_type": "code",
   "execution_count": null,
   "source": [
    "# creating tuples\r\n",
    "var = (1, 2, 3, 4)\r\n",
    "print(var)"
   ],
   "outputs": [],
   "metadata": {}
  },
  {
   "cell_type": "code",
   "execution_count": null,
   "source": [
    "# tuples can also have values of different types\r\n",
    "var = ('Hello', 3.14, ['I', 'am', 'a', 'list'])\r\n",
    "print(var)  "
   ],
   "outputs": [],
   "metadata": {}
  },
  {
   "cell_type": "code",
   "execution_count": null,
   "source": [
    "# indexing tuples is the same as indexing lists\r\n",
    "print(f\"First tuple element: {var[0]}\")\r\n",
    "print(f\"Last tuple element: {var[3]}\")"
   ],
   "outputs": [],
   "metadata": {}
  },
  {
   "cell_type": "code",
   "execution_count": null,
   "source": [
    "# Trying to change elements in a tuple\r\n",
    "var = (1, 2, 3, 4)\r\n",
    "var[2] = 10"
   ],
   "outputs": [],
   "metadata": {}
  },
  {
   "cell_type": "markdown",
   "source": [
    "# Dictionaries\r\n",
    "Python dictionary is an unordered collection of items. Each item of a dictionary has a key/value pair.\r\n",
    "\r\n",
    "Creating a dictionary is as simple as placing items inside curly braces {} separated by commas.\r\n",
    "\r\n",
    "An item has a **key** and a corresponding **value** that is expressed as a pair (key: value).\r\n",
    "* **Keys:** must be an immutable data type (string, number, tuple) and all keys in a dictionary must be unique\r\n",
    "* **values:** van be of any type and can repeat (they dont need to be unique)"
   ],
   "metadata": {}
  },
  {
   "cell_type": "code",
   "execution_count": null,
   "source": [
    "# empty dictionary\r\n",
    "var = {}\r\n",
    "print(f\"Empty dictionary: {var}. Length: {len(var)}\")\r\n",
    "\r\n",
    "# dictionary with integer keys\r\n",
    "fruit = {1: 'Apple',\r\n",
    "         2: 'Orange',\r\n",
    "         3: 'Blueberry'}\r\n",
    "print(f\"Fruits dictionary: {fruit}. Length: {len(fruit)}\")\r\n",
    "\r\n",
    "# dictionary with string keys\r\n",
    "phones = {'iPhone': 12, \r\n",
    "          'Galaxy': 13, \r\n",
    "          'Google': 'pixel'}\r\n",
    "print(f\"Phones dictionary: {phones}. Length: {len(phones)}\")\r\n"
   ],
   "outputs": [],
   "metadata": {}
  },
  {
   "cell_type": "markdown",
   "source": [
    "# Accessing Elements from Dictionary\r\n",
    "While indexing is used with other data types to access values, a dictionary uses keys. Keys can be used either inside square brackets [] or with the get() method.\r\n",
    "\r\n",
    "If we use the square brackets [], KeyError is raised in case a key is not found in the dictionary. On the other hand, the get() method returns None if the key is not found."
   ],
   "metadata": {}
  },
  {
   "cell_type": "code",
   "execution_count": null,
   "source": [
    "apps = {\"Discord\": \"Messaging\", \r\n",
    "        \"Instagram\":\"Photos & Video\", \r\n",
    "        \"Twitter\":\"Tweeting\"}\r\n",
    "\r\n",
    "# accesssing elements using bracket notation\r\n",
    "print(apps['Discord'])\r\n",
    "\r\n",
    "# accesssing elements using the .get() method\r\n",
    "print(apps.get('Instagram'))\r\n",
    "\r\n",
    "# accessing non existent key using bracket notation\r\n",
    "print(apps['Snapchat'])\r\n",
    "\r\n",
    "# accessing non existent key using bracket notation\r\n",
    "print(apps.get('Snapchat'))"
   ],
   "outputs": [],
   "metadata": {}
  },
  {
   "cell_type": "markdown",
   "source": [
    "## The get() Method\r\n",
    "The .get() method is useful when it comes to dictionaries because if a key is not present, instead of raising an error, you can have it return something else. \r\n",
    "\r\n",
    "* a message \r\n",
    "* None \r\n",
    "* another variable \r\n",
    "* really anything you want"
   ],
   "metadata": {}
  },
  {
   "cell_type": "code",
   "execution_count": null,
   "source": [
    "print(apps)\r\n",
    "# returning a message for when a key isn't found\r\n",
    "key = 'Snapchat'\r\n",
    "print(apps.get(key, f\"{key} Not found\"))\r\n"
   ],
   "outputs": [],
   "metadata": {}
  },
  {
   "cell_type": "markdown",
   "source": [
    "# Changing and Adding Dictionary elements\r\n",
    "Dictionaries are mutable. We can add new items or change the value of existing items using an assignment operator.\r\n",
    "\r\n",
    "If the key is already present, then the existing value gets updated. In then case the key is not present, a new (key: value) pair is added to the dictionary."
   ],
   "metadata": {}
  },
  {
   "cell_type": "code",
   "execution_count": null,
   "source": [
    "print(f\"Old twitter value: {apps['Twitter']}\")\r\n",
    "\r\n",
    "# updating existing values\r\n",
    "apps['Twitter'] = 'Microblogging'\r\n",
    "\r\n",
    "print(f\"New twitter value: {apps['Twitter']}\")\r\n"
   ],
   "outputs": [],
   "metadata": {}
  },
  {
   "cell_type": "code",
   "execution_count": null,
   "source": [
    "print(f\"Dictionary before adding new key: {apps}\")\r\n",
    "\r\n",
    "# adding a new key:value pair to the dictionary\r\n",
    "apps['Snapchat'] = 'Photo messages'\r\n",
    "print(f\"Dictionary after adding new key : {apps}\")\r\n"
   ],
   "outputs": [],
   "metadata": {}
  },
  {
   "cell_type": "code",
   "execution_count": null,
   "source": [],
   "outputs": [],
   "metadata": {}
  }
 ],
 "metadata": {
  "orig_nbformat": 4,
  "language_info": {
   "name": "python",
   "version": "3.7.4",
   "mimetype": "text/x-python",
   "codemirror_mode": {
    "name": "ipython",
    "version": 3
   },
   "pygments_lexer": "ipython3",
   "nbconvert_exporter": "python",
   "file_extension": ".py"
  },
  "kernelspec": {
   "name": "python3",
   "display_name": "Python 3.7.4 64-bit ('base': conda)"
  },
  "interpreter": {
   "hash": "fd61235da8d855c081cbd5d7c6398e4c179a40a950675235256f7f30499f1124"
  }
 },
 "nbformat": 4,
 "nbformat_minor": 2
}