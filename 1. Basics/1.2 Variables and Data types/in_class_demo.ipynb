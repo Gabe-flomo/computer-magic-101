{
 "cells": [
  {
   "cell_type": "markdown",
   "metadata": {},
   "source": [
    "<style>\n",
    "    h1{\n",
    "        /* color: #A900FF; */\n",
    "        font-family: \"fira code\";\n",
    "    }\n",
    "</style> \n",
    "<h1>Variables</h1>\n",
    "Variables are like named containers that store data in memory and can be changed throughout the program. "
   ]
  },
  {
   "cell_type": "code",
   "execution_count": null,
   "metadata": {},
   "outputs": [],
   "source": [
    "#TODO: create a variable with the value of 25 and print it\n"
   ]
  },
  {
   "cell_type": "markdown",
   "metadata": {},
   "source": [
    "<p style = \"font-size: 20px\"> In a computer, Memory is like a giant container that can store values and/or objects. Think of memory as being like lockers in a hallway. Each locker is assigned a number, and inside each locker there are objects like backpacks, or books, maybe even people. I won't judge yall for what u keep in there. The only information that I would need to access the contents of any given locker, is the value that it is assigned. </p>\n",
    "\n",
    "<p style = \"font-size: 20px\"> Memory or RAM, works the same way. Each \"cell\" in memory is associated with a unique number, which is called a memory address. When a computer wants to read/write data to memory, all it needs to know is the address of the cell that it's storing the data in. </p>\n",
    "\n",
    "**In Python, we can view a object or values memory address by using the `id()` method**"
   ]
  },
  {
   "cell_type": "code",
   "execution_count": null,
   "metadata": {},
   "outputs": [],
   "source": [
    "#TODO: print the memory address of the literal value 25 and 'var'"
   ]
  },
  {
   "cell_type": "markdown",
   "metadata": {},
   "source": [
    "All Memory addresses are unique, but if two variabes reference the same value in memory, then they will share memory addresses.\n",
    "\n",
    "<p style = \"font-size: 15px\"> This is like two people sharing a locker. </p>"
   ]
  },
  {
   "cell_type": "code",
   "execution_count": null,
   "metadata": {},
   "outputs": [],
   "source": [
    "var = 10\n",
    "var2 = var\n",
    "message = \"hello\"\n",
    "\n",
    "#TODO Print the memory address of the value 10\n",
    "#TODO Print the memory address of var\n",
    "#TODO Print the memory address of var2\n",
    "#TODO Print the memory address of message\n"
   ]
  },
  {
   "cell_type": "markdown",
   "metadata": {},
   "source": [
    "<img src = \"memory.png\" width = 700 height = 400>"
   ]
  },
  {
   "cell_type": "markdown",
   "metadata": {},
   "source": [
    "------------------------------\n",
    "# Variable assignment and Manipulation\n",
    "\n",
    "<p style = \"font-size: 15px\"> You assign a value to a variable by using the equals sign. </p>\n",
    "\n",
    "<p style = \"font-size: 15px\"> Python is a type-inffered language so you dont need to explicitly define the variable type. If you change the value of the variable later in the program, it can be of a different type, however, this can cause errors if you're not careful. </p>"
   ]
  },
  {
   "cell_type": "code",
   "execution_count": null,
   "metadata": {},
   "outputs": [],
   "source": [
    "# assigning a value to a variable then change the value\n",
    "\n",
    "#TODO: Assign an int to var\n",
    "\n",
    "\n",
    "#TODO: Assign a new int value to var\n",
    "\n"
   ]
  },
  {
   "cell_type": "code",
   "execution_count": null,
   "metadata": {},
   "outputs": [],
   "source": [
    "# assigning a value to a variable then changing its type\n",
    "#TODO: assign an int to var\n",
    "\n",
    "\n",
    "#TODO: assign a string to var\n",
    "\n"
   ]
  },
  {
   "cell_type": "markdown",
   "metadata": {},
   "source": [
    "**you can also assign multiple values to multiple variables at the same time**"
   ]
  },
  {
   "cell_type": "code",
   "execution_count": null,
   "metadata": {},
   "outputs": [],
   "source": [
    "#TODO: create the variables x y and z and assign different values to them simultaneously.\n",
    "\n"
   ]
  },
  {
   "cell_type": "markdown",
   "metadata": {},
   "source": [
    "----------------------\n",
    "# Variables Key Ideas\n",
    "* variables are containers that hold data\n",
    "* the data that variables can hold may change throughout the program\n",
    "* you can create multiple variables at the same time\n",
    "\n",
    "Now that we know what variables are, lets talk about the type of data they can hold."
   ]
  },
  {
   "cell_type": "markdown",
   "metadata": {},
   "source": [
    "-----------\n",
    "# Data Types\n",
    "A data type is a description of what type of data you're working with.\n",
    "\n",
    "All values in python have a data type and the type of data allows for different types of operations.\n",
    "\n",
    "\n",
    "# Numbers\n",
    "In python numbers come in 3 flavors \n",
    "\n",
    "* **Integers**, which are any positive or negative whole number.\n",
    "* **Floats**, which are any positive or negative number with a fractional part\n",
    "* **Complex numbers**, which are specified as real_part + imaginary_part, where the imaginary_part is written with a j or J."
   ]
  },
  {
   "cell_type": "code",
   "execution_count": null,
   "metadata": {},
   "outputs": [],
   "source": [
    "Integer = 4\n",
    "Integer = 30\n",
    "Integer = -64\n",
    "Integer = 23555431588754\n",
    "\n",
    "Float = 4.0\n",
    "Float = 35.87\n",
    "Float = -842.555734\n",
    "Float = 3.141592653589793\n",
    "\n",
    "Complex = 1j\n",
    "Complex = 43 + 2j\n",
    "Complex = -3 + 10j"
   ]
  },
  {
   "cell_type": "markdown",
   "metadata": {},
   "source": [
    "# The `type()` funtion\n",
    "This method is useful for inspecting the type of an object. A type is simply a description of the category of data being worked with.\n",
    "\n",
    "**Check the data type of an object by putting the object/variable indide of the `type` functions arguments**"
   ]
  },
  {
   "cell_type": "code",
   "execution_count": null,
   "metadata": {},
   "outputs": [],
   "source": [
    "# use the type function to inspect a variables type\n",
    "\n",
    "var = 4555854 # what is the type?\n",
    "#TODO: Print the variables type\n",
    "\n",
    "var = 45.2544558 # what is the type?\n",
    "#TODO: Print the variables type\n",
    "\n",
    "var = 4j + 56 # what is the type?\n",
    "#TODO: Print the variables type\n"
   ]
  },
  {
   "cell_type": "markdown",
   "metadata": {},
   "source": [
    "# Strings\n",
    "Strings are used to represent text, or more technically, a sequence of Unicode characters. Strings are denoted using either single ('') or double (\"\") qutoes."
   ]
  },
  {
   "cell_type": "code",
   "execution_count": null,
   "metadata": {},
   "outputs": [],
   "source": [
    "#TODO: creating strings\n"
   ]
  },
  {
   "cell_type": "markdown",
   "metadata": {},
   "source": [
    "# Strings and Indexing\n",
    "Because strings are a sequence of characters, you can select parts of a string by using an index.\n",
    "\n",
    "<em style = \"color: #6F69AC\">An index is a numerical representation of an item's position in a sequence.</em>\n",
    "\n",
    "In most programming languages, python included, index values start at 0. Since they start at zero, the last index value will be equal to the length of the sequence minus 1. \n",
    "\n",
    "<img src =\"strings.png\" width = \"700\" height = \"400\">\n",
    "\n",
    "<em><b>You will learn more about indexing in the lists module</b></em>"
   ]
  },
  {
   "cell_type": "code",
   "execution_count": null,
   "metadata": {},
   "outputs": [],
   "source": [
    "word = \"Python\"\n",
    "#TODO: Print the fist character in the string\n"
   ]
  },
  {
   "cell_type": "code",
   "execution_count": null,
   "metadata": {},
   "outputs": [],
   "source": [
    "word = \"Python\"\n",
    "#TODO: print the last character in the string\n"
   ]
  },
  {
   "cell_type": "markdown",
   "metadata": {},
   "source": [
    "## The len() function\n",
    "The len() function is used to find the length of a sequence. It returns the total number of items present in a sequence, making it a useful tool when working with sequences."
   ]
  },
  {
   "cell_type": "code",
   "execution_count": null,
   "metadata": {},
   "outputs": [],
   "source": [
    "word = 'Washburn'\n",
    "#TODO: print the length of the string\n"
   ]
  },
  {
   "cell_type": "code",
   "execution_count": null,
   "metadata": {},
   "outputs": [],
   "source": [
    "# using the len function to return the last value in a sequence \n",
    "seq = \"I am a sequence 😊\"\n",
    "\n",
    "# remember, sequences start at index 0, so the last index is -> (the length of the sequence - 1)\n",
    "#TODO: assign the numerical location of the last character in `seq` to index using the len() function\n",
    "#TODO Print the length of the sequence\n",
    "#TODO Print the value of index (which is the last position in the sequence)\n",
    "#TODO use the index variable to print the last character in the sequence\n"
   ]
  },
  {
   "cell_type": "markdown",
   "metadata": {},
   "source": [
    "## Strings are Immutable\n",
    "When a data type is immutable, that means that you can't change its values once it has been created. \n",
    "\n",
    "For example, if we create the string 'hello' and try to change the first character to a j so we can change it to 'jello', python will throw us an error."
   ]
  },
  {
   "cell_type": "code",
   "execution_count": null,
   "metadata": {},
   "outputs": [],
   "source": [
    "var = \"hello\"\n",
    "#TODO: try and change the 'h' to a 'j'\n"
   ]
  },
  {
   "cell_type": "markdown",
   "metadata": {},
   "source": [
    "## String concatenation\n",
    "**Concatenations means: The action of linking things together.**\n",
    "\n",
    "In python, we can concatenate strings by using the addition operator (+). "
   ]
  },
  {
   "cell_type": "code",
   "execution_count": null,
   "metadata": {},
   "outputs": [],
   "source": [
    "#TODO: Concatenate two strings and print the result\n"
   ]
  },
  {
   "cell_type": "code",
   "execution_count": null,
   "metadata": {},
   "outputs": [],
   "source": [
    "var1 = \"I am\"\n",
    "var2 = \" the goat\"\n",
    "#TODO: Concatenate the variables and print the result"
   ]
  },
  {
   "cell_type": "code",
   "execution_count": null,
   "metadata": {},
   "outputs": [],
   "source": [
    "var = \"I am a string variable\"\n",
    "#TODO: assign the concatination of `var` and \" I am a string literal\", to message\n",
    "print(message)"
   ]
  },
  {
   "cell_type": "markdown",
   "metadata": {},
   "source": [
    "# Lists\n",
    "A list is a sequence of items separated by commas.\n",
    "<hr>\n",
    "\n",
    "### Creating Lists\n",
    "A list is created by putting elements within square brackets [] separated by commas.\n",
    "```python\n",
    "var = [1,2,3,4]\n",
    "```\n",
    "\n",
    "**You can also add elements of different types to a list, including other lists**\n",
    "```python\n",
    "var = [1, 2, 'list with string', 4.32, [5,4,3,2]]\n",
    "```\n",
    "\n",
    "Lists, like strings, are sequences meaning their elements are accessed using an index. \n",
    "\n",
    "**Remember:**<em> An index is a numerical representation of an item's position in a sequence. The index of the first item in a sequence always starts at 0</em>"
   ]
  },
  {
   "cell_type": "code",
   "execution_count": null,
   "metadata": {},
   "outputs": [],
   "source": [
    "# creation of a list \n",
    "var = [10, 20, 30, 40, 50]\n",
    "\n",
    "# TODO: accessing list elements\n",
    "# what is the first value\n",
    "# what is the middle value\n",
    "# what is the last value\n",
    "\n"
   ]
  },
  {
   "cell_type": "markdown",
   "metadata": {},
   "source": [
    "## Lists are Mutable\n",
    "You can change the values of elements in a list by indicating the index of the value you want to change, and assigning the new value to that index."
   ]
  },
  {
   "cell_type": "code",
   "execution_count": null,
   "metadata": {},
   "outputs": [],
   "source": [
    "# changing list elements\n",
    "var = [1, 2, 3, 4, 5]\n",
    "print(f\"List before editing: {var}\")\n",
    "\n",
    "\n",
    "# TODO: change the third list element from 3 to 30\n",
    "print(f\"List after editing: {var}\")\n"
   ]
  },
  {
   "cell_type": "markdown",
   "metadata": {},
   "source": [
    "## Adding new elements to a list\n",
    "The list object has a method called `append()`. This method instructs python to add new values to the end of a list."
   ]
  },
  {
   "cell_type": "code",
   "execution_count": null,
   "metadata": {},
   "outputs": [],
   "source": [
    "#TODO: create a list of names and append 3 new names to it."
   ]
  },
  {
   "cell_type": "markdown",
   "metadata": {},
   "source": [
    "# Mutable vs. Immutable data types \n",
    "* **Mutable** - Has the ability to change, or mutate.\n",
    "* **Immutable** - Does not have the ability to change, or mutate.\n",
    "\n",
    "Data types that are mutable **are allowed** to have their values changed throughout the program. \n",
    "-----\n",
    "\n",
    "> <p style = \"color:#D36582\"><b>Imagine Mutable data types as going to a class where you don't have assigned seats. Since there was no seat assignment from the start, you are allowed to change your seat anytime during the year.</b></p>\n",
    "\n",
    "<br><br>\n",
    "\n",
    "Data types that are immutable **aren't allowed** to have their values changed throughout the program.\n",
    "----\n",
    "> <p style = \"color:#D36582\"><b>Imagine Immutable data types as going to a class where you do have assigned seats. Since there was a specific seating arrangement from the start, that seating arrangement stays the same throughout the year.</b></p>\n",
    "\n",
    "### **Lets look at an immutable data type to get a better understanding of this**\n",
    "\n",
    "-----------------\n",
    "# Tuples \n",
    "A tuple is like a list, in that it is a sequence of elements. However, once a tuple is created, it never changes. \n",
    "\n",
    "Tuples are created by putting elements inside of parenthesis ().\n",
    "\n",
    "**<em>All of these concepts will be explored further in the data structures and methods section</em>**"
   ]
  },
  {
   "cell_type": "code",
   "execution_count": null,
   "metadata": {},
   "outputs": [],
   "source": [
    "# TODO: create a 4 element tuple and print the variable\n",
    "print(var)\n"
   ]
  },
  {
   "cell_type": "code",
   "execution_count": null,
   "metadata": {},
   "outputs": [],
   "source": [
    "# TODO: Create a tuple with a string, float, list and integer\n",
    "print(var)  \n"
   ]
  },
  {
   "cell_type": "code",
   "execution_count": null,
   "metadata": {},
   "outputs": [],
   "source": [
    "#TODO: indexing tuples is the same as indexing lists\n",
    "#index a tuple element"
   ]
  },
  {
   "cell_type": "code",
   "execution_count": null,
   "metadata": {},
   "outputs": [],
   "source": [
    "var = (1, 2, 3, 4)\n",
    "# TODO: try to change the first element in the tuple\n"
   ]
  }
 ],
 "metadata": {
  "interpreter": {
   "hash": "fd61235da8d855c081cbd5d7c6398e4c179a40a950675235256f7f30499f1124"
  },
  "kernelspec": {
   "display_name": "Python 3.7.4 64-bit ('base': conda)",
   "name": "python3"
  },
  "language_info": {
   "codemirror_mode": {
    "name": "ipython",
    "version": 3
   },
   "file_extension": ".py",
   "mimetype": "text/x-python",
   "name": "python",
   "nbconvert_exporter": "python",
   "pygments_lexer": "ipython3",
   "version": "3.7.4"
  },
  "orig_nbformat": 4
 },
 "nbformat": 4,
 "nbformat_minor": 2
}
