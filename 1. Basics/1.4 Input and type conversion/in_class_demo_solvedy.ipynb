{
 "cells": [
  {
   "cell_type": "markdown",
   "metadata": {},
   "source": [
    "# Type Conversion\n",
    "The process of converting the value of one data type (integer, string, float, etc.) to another data type is called type conversion. Python has two types of type conversion.\n",
    "\n",
    "* Implicit Type Conversion\n",
    "* Explicit Type Conversion\n",
    "\n",
    "## Implicit Type Conversion\n",
    "In Implicit type conversion, Python automatically converts one data type to another data type. This process doesn't need any user involvement.\n",
    "\n",
    "Let's see an example where Python promotes the conversion of the lower data type (integer) to the higher data type (float) to avoid data loss."
   ]
  },
  {
   "cell_type": "code",
   "execution_count": null,
   "metadata": {},
   "outputs": [],
   "source": [
    "var = 20\n",
    "var2 = 1.15\n",
    "val = var + var2\n",
    "\n",
    "print(f\"Type of var: {type(var)}.    Value: {var}\")\n",
    "print(f\"Type of var2: {type(var2)}. Value: {var2}\")\n",
    "print(f\"Type of val: {type(val)}.  Value: {val}\")\n"
   ]
  },
  {
   "cell_type": "markdown",
   "metadata": {},
   "source": [
    "**Lets see another example with string and an int**"
   ]
  },
  {
   "cell_type": "code",
   "execution_count": null,
   "metadata": {},
   "outputs": [],
   "source": [
    "var = 23\n",
    "var2 = \"43\"\n",
    "val = var + var2\n",
    "\n",
    "print(f\"Type of var: {type(var)}. Value: {var}\")\n",
    "print(f\"Type of var2: {type(var2)}. Value: {var2}\")\n",
    "print(f\"Type of val: {type(val)}. Value: {val}\")\n"
   ]
  },
  {
   "cell_type": "markdown",
   "metadata": {},
   "source": [
    "**Unfortunately, python isn't able to perform the addition of a string and an int because the data types can't be implicitly converted. So lets look at a method for explicitly converting data types so that we can do these types of operations**\n",
    "\n",
    "# Explicit conversions\n",
    "\n",
    "This means to change the type of an object to the required data type by using predefined functions like int(), float(), str(), etc to perform explicit type conversion.\n",
    "\n",
    "***This type of conversion is also called typecasting because the user casts (changes) the data type of the objects.***"
   ]
  },
  {
   "cell_type": "code",
   "execution_count": null,
   "metadata": {},
   "outputs": [],
   "source": [
    "#TODO: convert a string to an int and add the values\n",
    "var = 45\n",
    "var2 = '100'\n",
    "\n",
    "print(f\"Type of var: {type(var)}.  Value: {var}\")\n",
    "print(f\"Type of var2: {type(var2)}. Value: {var2}\\n\")\n",
    "\n",
    "# type casting to int\n",
    "var2 = int(var2)\n",
    "\n",
    "# add the two values\n",
    "val = var + var2\n",
    "\n",
    "print(f\"Type of var: {type(var)}.  Value: {var}\")\n",
    "print(f\"Type of var2: {type(var2)}. Value: {var2}\")\n",
    "print(f\"Type of val: {type(val)}.  Value: {val}\")\n",
    "\n",
    "\n"
   ]
  },
  {
   "cell_type": "markdown",
   "metadata": {},
   "source": [
    "## Allowable conversions\n",
    "- int -> str \n",
    "- int -> float \n",
    "#\n",
    "- float -> int\n",
    "- float -> str\n",
    "#\n",
    "- str -> int (if the string is a number)\n",
    "- str -> float (if the string is a number)\n",
    "- str -> list \n",
    "- str -> tuple\n",
    "#\n",
    "- list -> tuple \n",
    "- list -> set \n",
    "- list -> str\n",
    "#\n",
    "- tuple -> list \n",
    "- tuple -> set\n",
    "- tuple -> str"
   ]
  },
  {
   "cell_type": "code",
   "execution_count": null,
   "metadata": {},
   "outputs": [],
   "source": [
    "#TODO: Convert a float to an int\n",
    "int(45.7)"
   ]
  },
  {
   "cell_type": "code",
   "execution_count": null,
   "metadata": {},
   "outputs": [],
   "source": [
    "#TODO: Convert a string to a float\n",
    "float('54.32')"
   ]
  },
  {
   "cell_type": "code",
   "execution_count": null,
   "metadata": {},
   "outputs": [],
   "source": [
    "# TODO: Convert a string to a list \n",
    "list(\"Hello class\")"
   ]
  },
  {
   "cell_type": "code",
   "execution_count": null,
   "metadata": {},
   "outputs": [],
   "source": [
    "#TODO: Convert a string to a tuple\n",
    "tuple(\"Hello class\")\n"
   ]
  },
  {
   "cell_type": "code",
   "execution_count": null,
   "metadata": {},
   "outputs": [],
   "source": [
    "#TODO: Convert a list to a string\n",
    "str([1,2,3,4])"
   ]
  },
  {
   "cell_type": "code",
   "execution_count": null,
   "metadata": {},
   "outputs": [],
   "source": [
    "#TODO: Convert a tuple to a string\n",
    "str((1,2,3,4,5))"
   ]
  },
  {
   "cell_type": "code",
   "execution_count": null,
   "metadata": {},
   "outputs": [],
   "source": [
    "#TODO: Convert a list to a tuple\n",
    "tuple([1,2,3,4,5])"
   ]
  },
  {
   "cell_type": "markdown",
   "metadata": {},
   "source": [
    "# User Input\n",
    "Sometimes in our programs, we want or expect the user to input some information that we can use in the rest of the program.\n",
    "\n",
    "To do this, python provides us with a function called `input()`."
   ]
  },
  {
   "cell_type": "code",
   "execution_count": null,
   "metadata": {},
   "outputs": [],
   "source": [
    "#TODO: input your name\n",
    "input()"
   ]
  },
  {
   "cell_type": "markdown",
   "metadata": {},
   "source": [
    "## Prompt\n",
    "The `input` function can also be given a prompt so that the user knows what you want them to do."
   ]
  },
  {
   "cell_type": "code",
   "execution_count": null,
   "metadata": {},
   "outputs": [],
   "source": [
    "#TODO: Input your name using a prompt and print the type\n",
    "name = input(\"Enter your name: \")\n",
    "print(type(name))"
   ]
  },
  {
   "cell_type": "code",
   "execution_count": null,
   "metadata": {},
   "outputs": [],
   "source": [
    "#TODO: Input your age using a prompt and print the type\n",
    "age = input(\"Enter your age: \")\n",
    "print(type(age))"
   ]
  },
  {
   "cell_type": "markdown",
   "metadata": {},
   "source": [
    "## All input are strings\n",
    "When using the `input()` function, all input is returned as a string. So when we enter a number, list, or tuple, we will need to convert it to the corresponding data type.\n",
    "\n",
    "**There are two ways to do this**\n",
    "* wrap the input function around the data type we want to convert to  \n",
    "* convert the variable after input is provided"
   ]
  },
  {
   "cell_type": "code",
   "execution_count": null,
   "metadata": {},
   "outputs": [],
   "source": [
    "#TODO: wrap the input function around the data type\n",
    "age = int(input(\"Enter your age: \"))\n",
    "print(type(age))\n",
    "age"
   ]
  },
  {
   "cell_type": "code",
   "execution_count": null,
   "metadata": {},
   "outputs": [],
   "source": [
    "#TODO: Convert the variable after user input is given\n",
    "age = input(\"Enter your age: \")\n",
    "age = int(age)\n",
    "print(type(age))\n",
    "age"
   ]
  },
  {
   "cell_type": "code",
   "execution_count": null,
   "metadata": {},
   "outputs": [],
   "source": []
  }
 ],
 "metadata": {
  "interpreter": {
   "hash": "fd61235da8d855c081cbd5d7c6398e4c179a40a950675235256f7f30499f1124"
  },
  "kernelspec": {
   "display_name": "Python 3.7.4 64-bit ('base': conda)",
   "name": "python3"
  },
  "language_info": {
   "codemirror_mode": {
    "name": "ipython",
    "version": 3
   },
   "file_extension": ".py",
   "mimetype": "text/x-python",
   "name": "python",
   "nbconvert_exporter": "python",
   "pygments_lexer": "ipython3",
   "version": "3.7.4"
  },
  "orig_nbformat": 4
 },
 "nbformat": 4,
 "nbformat_minor": 2
}
