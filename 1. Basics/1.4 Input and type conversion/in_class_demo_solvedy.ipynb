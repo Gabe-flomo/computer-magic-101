{
 "cells": [
  {
   "cell_type": "markdown",
   "source": [
    "# Type Conversion\r\n",
    "The process of converting the value of one data type (integer, string, float, etc.) to another data type is called type conversion. Python has two types of type conversion.\r\n",
    "\r\n",
    "* Implicit Type Conversion\r\n",
    "* Explicit Type Conversion\r\n",
    "\r\n",
    "## Implicit Type Conversion\r\n",
    "In Implicit type conversion, Python automatically converts one data type to another data type. This process doesn't need any user involvement.\r\n",
    "\r\n",
    "Let's see an example where Python promotes the conversion of the lower data type (integer) to the higher data type (float) to avoid data loss."
   ],
   "metadata": {}
  },
  {
   "cell_type": "code",
   "execution_count": null,
   "source": [
    "var = 20\r\n",
    "var2 = 1.15\r\n",
    "val = var + var2\r\n",
    "\r\n",
    "print(f\"Type of var: {type(var)}.    Value: {var}\")\r\n",
    "print(f\"Type of var2: {type(var2)}. Value: {var2}\")\r\n",
    "print(f\"Type of val: {type(val)}.  Value: {val}\")\r\n"
   ],
   "outputs": [],
   "metadata": {}
  },
  {
   "cell_type": "markdown",
   "source": [
    "**Lets see another example with string and an int**"
   ],
   "metadata": {}
  },
  {
   "cell_type": "code",
   "execution_count": null,
   "source": [
    "var = 23\r\n",
    "var2 = \"43\"\r\n",
    "val = var + var2\r\n",
    "\r\n",
    "print(f\"Type of var: {type(var)}. Value: {var}\")\r\n",
    "print(f\"Type of var2: {type(var2)}. Value: {var2}\")\r\n",
    "print(f\"Type of val: {type(val)}. Value: {val}\")\r\n"
   ],
   "outputs": [],
   "metadata": {}
  },
  {
   "cell_type": "markdown",
   "source": [
    "**Unfortunately, python isn't able to perform the addition of a string and an int because the data types can't be implicitly converted. So lets look at a method for explicitly converting data types so that we can do these types of operations**\r\n",
    "\r\n",
    "# Explicit conversions\r\n",
    "\r\n",
    "This means to change the type of an object to the required data type by using predefined functions like int(), float(), str(), etc to perform explicit type conversion.\r\n",
    "\r\n",
    "***This type of conversion is also called typecasting because the user casts (changes) the data type of the objects.***"
   ],
   "metadata": {}
  },
  {
   "cell_type": "code",
   "execution_count": null,
   "source": [
    "#TODO: convert a string to an int and add the values\r\n",
    "var = 45\r\n",
    "var2 = '100'\r\n",
    "\r\n",
    "print(f\"Type of var: {type(var)}.  Value: {var}\")\r\n",
    "print(f\"Type of var2: {type(var2)}. Value: {var2}\\n\")\r\n",
    "\r\n",
    "# type casting to int\r\n",
    "var2 = int(var2)\r\n",
    "\r\n",
    "# add the two values\r\n",
    "val = var + var2\r\n",
    "\r\n",
    "print(f\"Type of var: {type(var)}.  Value: {var}\")\r\n",
    "print(f\"Type of var2: {type(var2)}. Value: {var2}\")\r\n",
    "print(f\"Type of val: {type(val)}.  Value: {val}\")\r\n",
    "\r\n",
    "\r\n"
   ],
   "outputs": [],
   "metadata": {}
  },
  {
   "cell_type": "markdown",
   "source": [
    "## Allowable conversions\r\n",
    "- int -> str \r\n",
    "- int -> float \r\n",
    "#\r\n",
    "- float -> int\r\n",
    "- float -> str\r\n",
    "#\r\n",
    "- str -> int (if the string is a number)\r\n",
    "- str -> float (if the string is a number)\r\n",
    "- str -> list \r\n",
    "- str -> tuple\r\n",
    "#\r\n",
    "- list -> tuple \r\n",
    "- list -> set \r\n",
    "- list -> str\r\n",
    "#\r\n",
    "- tuple -> list \r\n",
    "- tuple -> set\r\n",
    "- tuple -> str"
   ],
   "metadata": {}
  },
  {
   "cell_type": "code",
   "execution_count": null,
   "source": [
    "#TODO: Convert a float to an int"
   ],
   "outputs": [],
   "metadata": {}
  },
  {
   "cell_type": "code",
   "execution_count": null,
   "source": [
    "#TODO: Convert a string to a float"
   ],
   "outputs": [],
   "metadata": {}
  },
  {
   "cell_type": "code",
   "execution_count": null,
   "source": [
    "# TODO: Convert a string to a list "
   ],
   "outputs": [],
   "metadata": {}
  },
  {
   "cell_type": "code",
   "execution_count": null,
   "source": [
    "#TODO: Convert a string to a tuple"
   ],
   "outputs": [],
   "metadata": {}
  },
  {
   "cell_type": "code",
   "execution_count": null,
   "source": [
    "#TODO: Convert a list to a string\r\n"
   ],
   "outputs": [],
   "metadata": {}
  },
  {
   "cell_type": "code",
   "execution_count": null,
   "source": [
    "#TODO: Convert a tuple to a string"
   ],
   "outputs": [],
   "metadata": {}
  },
  {
   "cell_type": "code",
   "execution_count": null,
   "source": [
    "#TODO: Convert a list to a tuple"
   ],
   "outputs": [],
   "metadata": {}
  },
  {
   "cell_type": "markdown",
   "source": [
    "# User Input\r\n",
    "Sometimes in our programs, we want or expect the user to input some information that we can use in the rest of the program.\r\n",
    "\r\n",
    "To do this, python provides us with a function called `input()`."
   ],
   "metadata": {}
  },
  {
   "cell_type": "code",
   "execution_count": null,
   "source": [
    "#TODO: input your name\r\n"
   ],
   "outputs": [],
   "metadata": {}
  },
  {
   "cell_type": "markdown",
   "source": [
    "## Prompt\r\n",
    "The `input` function can also be given a prompt so that the user knows what you want them to do."
   ],
   "metadata": {}
  },
  {
   "cell_type": "code",
   "execution_count": null,
   "source": [
    "#TODO: Input your name using a prompt and print the type\r\n",
    "name = input(\"Enter your name: \")\r\n",
    "print(type(name))"
   ],
   "outputs": [],
   "metadata": {}
  },
  {
   "cell_type": "code",
   "execution_count": null,
   "source": [
    "#TODO: Input your age using a prompt and print the type\r\n",
    "age = input(\"Enter your age: \")\r\n",
    "print(type(age))"
   ],
   "outputs": [],
   "metadata": {}
  },
  {
   "cell_type": "markdown",
   "source": [
    "## All input are strings\r\n",
    "When using the `input()` function, all input is returned as a string. So when we enter a number, list, or tuple, we will need to convert it to the corresponding data type.\r\n",
    "\r\n",
    "**There are two ways to do this**\r\n",
    "* wrap the input function around the data type we want to convert to  \r\n",
    "* convert the variable after input is provided"
   ],
   "metadata": {}
  },
  {
   "cell_type": "code",
   "execution_count": null,
   "source": [
    "#TODO: wrap the input function around the data type\r\n",
    "age = int(input(\"Enter your age: \"))\r\n",
    "print(type(age))\r\n",
    "age"
   ],
   "outputs": [],
   "metadata": {}
  },
  {
   "cell_type": "code",
   "execution_count": null,
   "source": [
    "#TODO: Convert the variable after user input is given\r\n",
    "age = input(\"Enter your age: \")\r\n",
    "age = int(age)\r\n",
    "print(type(age))\r\n",
    "age"
   ],
   "outputs": [],
   "metadata": {}
  },
  {
   "cell_type": "code",
   "execution_count": null,
   "source": [],
   "outputs": [],
   "metadata": {}
  }
 ],
 "metadata": {
  "orig_nbformat": 4,
  "language_info": {
   "name": "python",
   "version": "3.7.4",
   "mimetype": "text/x-python",
   "codemirror_mode": {
    "name": "ipython",
    "version": 3
   },
   "pygments_lexer": "ipython3",
   "nbconvert_exporter": "python",
   "file_extension": ".py"
  },
  "kernelspec": {
   "name": "python3",
   "display_name": "Python 3.7.4 64-bit ('base': conda)"
  },
  "interpreter": {
   "hash": "fd61235da8d855c081cbd5d7c6398e4c179a40a950675235256f7f30499f1124"
  }
 },
 "nbformat": 4,
 "nbformat_minor": 2
}