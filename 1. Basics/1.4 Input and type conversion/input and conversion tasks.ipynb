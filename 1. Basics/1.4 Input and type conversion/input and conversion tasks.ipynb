{
 "cells": [
  {
   "cell_type": "markdown",
   "source": [
    "# Explicit Conversion"
   ],
   "metadata": {}
  },
  {
   "cell_type": "markdown",
   "source": [
    "## TASK 1\r\n",
    "Convert the string to an integer value"
   ],
   "metadata": {}
  },
  {
   "cell_type": "code",
   "execution_count": null,
   "source": [
    "#TODO: "
   ],
   "outputs": [],
   "metadata": {}
  },
  {
   "cell_type": "markdown",
   "source": [
    "## TASK 2\r\n",
    "Convert the list into a tuple"
   ],
   "metadata": {}
  },
  {
   "cell_type": "code",
   "execution_count": null,
   "source": [
    "#TODO\r\n"
   ],
   "outputs": [],
   "metadata": {}
  },
  {
   "cell_type": "markdown",
   "source": [
    "## TASK 3\r\n",
    "convert the tuple into a string"
   ],
   "metadata": {}
  },
  {
   "cell_type": "code",
   "execution_count": null,
   "source": [
    "#TODO\r\n"
   ],
   "outputs": [],
   "metadata": {}
  },
  {
   "cell_type": "markdown",
   "source": [
    "# User input\r\n",
    "\r\n",
    "## TASK 1\r\n",
    "Ask the user for their name then ask for their age and print the results"
   ],
   "metadata": {}
  },
  {
   "cell_type": "code",
   "execution_count": null,
   "source": [
    "#TODO"
   ],
   "outputs": [],
   "metadata": {}
  },
  {
   "cell_type": "markdown",
   "source": [
    "## TASK 2\r\n",
    "Ask the user for how many classes they're taking this semester and print the results."
   ],
   "metadata": {}
  },
  {
   "cell_type": "code",
   "execution_count": null,
   "source": [
    "#TODO"
   ],
   "outputs": [],
   "metadata": {}
  },
  {
   "cell_type": "markdown",
   "source": [
    "## TASK 3\r\n",
    "Ask the user for their name and age, then convert their age to a integer and multiply by the length of their name."
   ],
   "metadata": {}
  },
  {
   "cell_type": "code",
   "execution_count": null,
   "source": [
    "#TODO\r\n"
   ],
   "outputs": [],
   "metadata": {}
  },
  {
   "cell_type": "markdown",
   "source": [
    "## TASK 4\r\n",
    "Matilda has 10 pets (she's a crazy cat lady). Input the amount of pets you have and do a comparison to see if she has more pets than you."
   ],
   "metadata": {}
  },
  {
   "cell_type": "code",
   "execution_count": null,
   "source": [
    "#TODO\r\n"
   ],
   "outputs": [],
   "metadata": {}
  }
 ],
 "metadata": {
  "orig_nbformat": 4,
  "language_info": {
   "name": "python"
  }
 },
 "nbformat": 4,
 "nbformat_minor": 2
}