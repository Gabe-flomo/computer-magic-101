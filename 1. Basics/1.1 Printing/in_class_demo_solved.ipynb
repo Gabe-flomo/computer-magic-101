{
 "cells": [
  {
   "cell_type": "markdown",
   "metadata": {},
   "source": [
    "# Print Function\n",
    "The print function is like a messenger. It can be used to show the current value of a variable, provide helper messages, or just to do further inspection of variables and functions.\n",
    "\n",
    "\n",
    "Think of it like a push notificaion for code.\n",
    "\n",
    "![image](https://i.imgflip.com/4ljdxs.png)\n",
    "\n",
    "## When to use it\n",
    "* Whenever you want to inspect the value of a variable in your code\n",
    "* Whenever you have some message that you want to display \n",
    "* During debugging to make sure values are correct\n",
    "\n",
    "## What can it print?\n",
    "Basically anything. Anything you pass to the print function will get displayed on the screen, as long as it follows python syntax.\n",
    "\n"
   ]
  },
  {
   "cell_type": "code",
   "execution_count": null,
   "metadata": {},
   "outputs": [],
   "source": [
    "# Pass a message that you want to display\n",
    "print(\"Nah he tweakin 🤦🏾‍♀️\")"
   ]
  },
  {
   "cell_type": "code",
   "execution_count": null,
   "metadata": {},
   "outputs": [],
   "source": [
    "# you can print multiple values at once\n",
    "print(\"This is the first\", \"This is the second\", \"This is the third\")"
   ]
  },
  {
   "cell_type": "code",
   "execution_count": null,
   "metadata": {},
   "outputs": [],
   "source": [
    "# you can also print variables\n",
    "x = 'This is a string'\n",
    "y = 45\n",
    "print(x,\"who's age is\",y)"
   ]
  },
  {
   "cell_type": "code",
   "execution_count": null,
   "metadata": {},
   "outputs": [],
   "source": [
    "# printing more complex variables\n",
    "var = {'my_age':22,\n",
    "       'favorite_food':'steak',\n",
    "       'school':'Nah'}\n",
    "\n",
    "print(\"Description of Gabe\",var)"
   ]
  },
  {
   "cell_type": "markdown",
   "metadata": {},
   "source": [
    "## Print Keyword Arguments\n",
    "In any programming language, functions can take inputs called arguments. The values that are passed to the print function are called positional arguments, but you can also provide keyword arguments (will be explained more in depth in the Functions Module).\n",
    "\n",
    "**important keyword arguments to know are:**\n",
    "* **objects** - This is what we've been giving the function this whole time, and u can add as many as you like.\n",
    "* **sep** - Inserts a separator between objects. (default is space)\n",
    "* **end** - Specify what to print at the end. (default is a newline '\\n')\n",
    "---------------------------------------------------------------------------------------\n",
    "\n",
    "## Sep argument\n",
    "Inserts a string between values (default is space)"
   ]
  },
  {
   "cell_type": "code",
   "execution_count": null,
   "metadata": {},
   "outputs": [],
   "source": [
    "# you can seperate values in the print function by utilizing the 'sep' argument\n",
    "print(\"This is the first\", \"This is the second\", \"This is the third\", sep=': ')"
   ]
  },
  {
   "cell_type": "code",
   "execution_count": null,
   "metadata": {},
   "outputs": [],
   "source": [
    "# anything, including variables, can be used to seperate arguments\n",
    "var = \" :seperator: \"\n",
    "print(1,2,3,4, sep = var)"
   ]
  },
  {
   "cell_type": "markdown",
   "metadata": {},
   "source": [
    "-------------------------------\n",
    "## End argument\n",
    "Specifies what to print at the end. (default is a newline)\n",
    "\n",
    "**Why use this?**\n",
    "\n",
    "This comes in handy when you want to print information about the state of your program using information that is created at different places in program execution."
   ]
  },
  {
   "cell_type": "code",
   "execution_count": null,
   "metadata": {},
   "outputs": [],
   "source": [
    "print(\"This variable was defined after the print statement\", end = \". \")\n",
    "var = [1,2,3,4,5]\n",
    "print(var)"
   ]
  },
  {
   "cell_type": "code",
   "execution_count": null,
   "metadata": {},
   "outputs": [],
   "source": [
    "# anything can be added to the end, however, it should be something that makes sense\n",
    "bad_end = None\n",
    "print(\"This should not be used.\", end = bad_end)\n",
    "print(\"Why did you do this?\")"
   ]
  },
  {
   "cell_type": "code",
   "execution_count": null,
   "metadata": {},
   "outputs": [],
   "source": [
    "# print the state of a loop on a single line (you'll learn more about loops in module 2)\n",
    "print(\"Looping...\", end = \" \")\n",
    "\n",
    "# Runs a loop 3 times\n",
    "for i in range(3):\n",
    "    print(\"iteration #\", i + 1, end = \" -> \", sep = \"\")"
   ]
  },
  {
   "cell_type": "markdown",
   "metadata": {},
   "source": [
    "-------------------------------\n",
    "## F-strings\n",
    "In python, strings are a type of variable used to represent text. When we pass information to the print function, everything gets converted into strings so that it can be shown on screen. So, whenever a variable gets printed to the screen, it is converted to string object (text).\n",
    "\n",
    "Sometimes we want to print out multiple variables in a single line, and you already learned how to do this by separating the values with commas. \n",
    "\n",
    "```python \n",
    "print(var1, var2, var3)\n",
    "```\n",
    "However, theres a better way we can do this. \n",
    "\n",
    "F-strings, or formatted strings, are strings that get evaluated at runtime so you can give it any variable or expression and python will format it as a single string.\n",
    "\n",
    "<h1 style = \"color: #fa00f4;\"> Creating f-strings</h1>\n",
    "To make a string an f-string, just add an f to the beginning of your string.\n",
    " \n",
    "``` python \n",
    "f\"I am an f-string\"\n",
    "```"
   ]
  },
  {
   "cell_type": "code",
   "execution_count": null,
   "metadata": {},
   "outputs": [],
   "source": [
    "# this is the trash and ugly way to do it, don't do it in front of your crush\n",
    "name = \"Gabe\"\n",
    "age = 22\n",
    "normal_string_formatting = \"Hello, %s. You are %s.\" % (name, age)\n",
    "\n",
    "print(normal_string_formatting)"
   ]
  },
  {
   "cell_type": "code",
   "execution_count": null,
   "metadata": {},
   "outputs": [],
   "source": [
    "# the way to do it when ur trynna impress ur crush\n",
    "name = \"Gabe\"\n",
    "age = 22\n",
    "better_string_formatting = f\"Hello, {name}. You are {age}\"\n",
    "\n",
    "print(better_string_formatting)"
   ]
  },
  {
   "cell_type": "code",
   "execution_count": null,
   "metadata": {},
   "outputs": [],
   "source": []
  }
 ],
 "metadata": {
  "interpreter": {
   "hash": "fd61235da8d855c081cbd5d7c6398e4c179a40a950675235256f7f30499f1124"
  },
  "kernelspec": {
   "display_name": "Python 3.7.4 64-bit ('base': conda)",
   "name": "python3"
  },
  "language_info": {
   "codemirror_mode": {
    "name": "ipython",
    "version": 3
   },
   "file_extension": ".py",
   "mimetype": "text/x-python",
   "name": "python",
   "nbconvert_exporter": "python",
   "pygments_lexer": "ipython3",
   "version": "3.7.4"
  },
  "orig_nbformat": 4
 },
 "nbformat": 4,
 "nbformat_minor": 2
}
