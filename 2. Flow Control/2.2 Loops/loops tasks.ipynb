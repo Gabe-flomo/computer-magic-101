{
  "nbformat": 4,
  "nbformat_minor": 0,
  "metadata": {
    "interpreter": {
      "hash": "fd61235da8d855c081cbd5d7c6398e4c179a40a950675235256f7f30499f1124"
    },
    "kernelspec": {
      "display_name": "Python 3.7.4 64-bit ('base': conda)",
      "name": "python3"
    },
    "language_info": {
      "codemirror_mode": {
        "name": "ipython",
        "version": 3
      },
      "file_extension": ".py",
      "mimetype": "text/x-python",
      "name": "python",
      "nbconvert_exporter": "python",
      "pygments_lexer": "ipython3",
      "version": "3.7.4"
    },
    "orig_nbformat": 4,
    "colab": {
      "name": "loops tasks.ipynb",
      "provenance": [],
      "include_colab_link": true
    }
  },
  "cells": [
    {
      "cell_type": "markdown",
      "metadata": {
        "id": "view-in-github",
        "colab_type": "text"
      },
      "source": [
        "<a href=\"https://colab.research.google.com/github/Gabe-flomo/computer-magic-101/blob/master/2.%20Flow%20Control/2.2%20Loops/loops%20tasks.ipynb\" target=\"_parent\"><img src=\"https://colab.research.google.com/assets/colab-badge.svg\" alt=\"Open In Colab\"/></a>"
      ]
    },
    {
      "cell_type": "markdown",
      "metadata": {
        "id": "GhdE4ELP7DrR"
      },
      "source": [
        "## TASK 1\n",
        "* create a 5 element list of strings \n",
        "* loop over each string and print out the string along with its length"
      ]
    },
    {
      "cell_type": "code",
      "metadata": {
        "id": "4UoQwRpS7DrW"
      },
      "source": [
        "#TODO"
      ],
      "execution_count": null,
      "outputs": []
    },
    {
      "cell_type": "markdown",
      "metadata": {
        "id": "3tf9E08U7DrY"
      },
      "source": [
        "## TASK 2\n",
        "- create a 6 element list or tuple\n",
        "- loop through a range equal to the length of the list or tuple\n",
        "- print out the current `iteration value` along with the element in your list or tuple at that position\n",
        "\n",
        "**Example**\n",
        "```python\n",
        "var = [10, 45, 32, 16]\n",
        "\n",
        "# should output\n",
        "0) 10\n",
        "1) 45\n",
        "2) 32\n",
        "3) 16\n",
        "```"
      ]
    },
    {
      "cell_type": "code",
      "metadata": {
        "id": "NaO69ED87DrZ"
      },
      "source": [
        "#TODO"
      ],
      "execution_count": null,
      "outputs": []
    },
    {
      "cell_type": "markdown",
      "metadata": {
        "id": "fZeyQ7bb7DrZ"
      },
      "source": [
        "## TASK 3\n",
        "- create an infinite while loop\n",
        "- ask the user to input their name \n",
        "- display the name\n",
        "- break the loop if the name is equal to `exit`"
      ]
    },
    {
      "cell_type": "code",
      "metadata": {
        "id": "qvH07UZ07Dra"
      },
      "source": [
        "#TODO"
      ],
      "execution_count": null,
      "outputs": []
    },
    {
      "cell_type": "markdown",
      "metadata": {
        "id": "XNsxgJHJ7Dra"
      },
      "source": [
        "## TASK 4\n",
        "- use any type of loop you want to find the largest value in the list\n",
        "\n",
        "**Hint**\n",
        "- declare a `maximum` variable outside of the loop and set it equal to 0\n",
        "- find values bigger than the current max"
      ]
    },
    {
      "cell_type": "code",
      "metadata": {
        "id": "Tm5OIplU7Drb"
      },
      "source": [
        "var = [20.542, .0432, 65.88, 69.689, .00053, 102.432, 66.32]\n",
        "#TODO: Find largest value"
      ],
      "execution_count": null,
      "outputs": []
    },
    {
      "cell_type": "markdown",
      "metadata": {
        "id": "dn6gBxr-7Drc"
      },
      "source": [
        "## TASK 5\n",
        "- create a 10 element list of numbers\n",
        "- Use a for loop to loop through each `value`\n",
        "- convert the current `value` to a string and store it in the variable `string_number`\n",
        "- index the first value in the `string_number` and convert it back to an integer and assign it to `reconverted`\n",
        "- multiply `reconverted` and `value` and assign the result to the variable `product`\n",
        "- check to see if `product` is even or odd\n",
        "- if it's even print EVEN along with the `product`\n",
        "- if it's odd print ODD along with the `product`"
      ]
    },
    {
      "cell_type": "code",
      "metadata": {
        "id": "zDq1o7AL7Drd"
      },
      "source": [
        "#TODO"
      ],
      "execution_count": null,
      "outputs": []
    },
    {
      "cell_type": "markdown",
      "metadata": {
        "id": "YO3E1lEp7Dre"
      },
      "source": [
        "## TASK 6\n",
        "- create an empty list called `divisible_by_5`\n",
        "- loop through the list of numbers\n",
        "- find all of the numbers divisible by 5 (a number is divisible by 5 if the remainder is 0)\n",
        "- If a number is divisible by 5, add it to the `divisible_by_5` list"
      ]
    },
    {
      "cell_type": "code",
      "metadata": {
        "id": "x2zzsl3M7Dre"
      },
      "source": [
        "var = [12, 15, 34, 55, 300, 62, 40, 23, 56, 99, 100, 52, 5125, 220, 903, 435]\n",
        "#TODO"
      ],
      "execution_count": null,
      "outputs": []
    },
    {
      "cell_type": "markdown",
      "metadata": {
        "id": "ZQZiXnDU7Drf"
      },
      "source": [
        "# TASK 7\n",
        "Write a for loop to print the current list item, as well as the next item. The loop should stop when the next element is the last element in the list. \n",
        "\n",
        "*In this case, stop the loop when next is equal to 23.*\n",
        "\n",
        "**Should look like this:**\n",
        "[10, 5, 34, 2, 65, 23]\n",
        "> current = 10, next = 5\n",
        "\n",
        "> current = 5, next = 34\n",
        "\n",
        "> current = 34, next = 2\n",
        "\n",
        "> current = 2, next = 65\n",
        "\n",
        "> current = 65, next = 23"
      ]
    },
    {
      "cell_type": "code",
      "metadata": {
        "id": "Hv4nfyMx7Drf"
      },
      "source": [
        "#TODO"
      ],
      "execution_count": null,
      "outputs": []
    },
    {
      "cell_type": "markdown",
      "metadata": {
        "id": "crn9UiYc7Drg"
      },
      "source": [
        "# TASK 8\n",
        "Using the same logic from the previous task, check to see if the next value is greater than or less than the current value.\n",
        "- if the `next` value is greater than `current`, divide the `next` value by current and print the result\n",
        "- if the `next` value is less than `current`, multiple the `current` value by `next` and print the result\n",
        "- if `next` and `current` are equal skip the iteration and go to the next"
      ]
    },
    {
      "cell_type": "code",
      "metadata": {
        "id": "Nj_y23yq7Drg"
      },
      "source": [
        "#TODO"
      ],
      "execution_count": null,
      "outputs": []
    },
    {
      "cell_type": "markdown",
      "metadata": {
        "id": "tCNzFFj-7Drh"
      },
      "source": [
        "# TASK 9 \n",
        "generate a list of 10 random *even* numbers and find the average of the list.\n",
        "\n",
        "***The average is the sum of the list divided by the total number of list elements***"
      ]
    },
    {
      "cell_type": "code",
      "metadata": {
        "id": "OiEB-PB97Drh"
      },
      "source": [
        "#TODO Find the average of a 10 element list of even numbers"
      ],
      "execution_count": null,
      "outputs": []
    }
  ]
}