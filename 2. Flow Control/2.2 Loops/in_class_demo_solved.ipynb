{
  "nbformat": 4,
  "nbformat_minor": 0,
  "metadata": {
    "interpreter": {
      "hash": "fd61235da8d855c081cbd5d7c6398e4c179a40a950675235256f7f30499f1124"
    },
    "kernelspec": {
      "display_name": "Python 3.7.4 64-bit ('base': conda)",
      "name": "python3"
    },
    "language_info": {
      "codemirror_mode": {
        "name": "ipython",
        "version": 3
      },
      "file_extension": ".py",
      "mimetype": "text/x-python",
      "name": "python",
      "nbconvert_exporter": "python",
      "pygments_lexer": "ipython3",
      "version": "3.7.4"
    },
    "orig_nbformat": 4,
    "colab": {
      "name": "in_class_demo_solved.ipynb",
      "provenance": [],
      "include_colab_link": true
    }
  },
  "cells": [
    {
      "cell_type": "markdown",
      "metadata": {
        "id": "view-in-github",
        "colab_type": "text"
      },
      "source": [
        "<a href=\"https://colab.research.google.com/github/Gabe-flomo/computer-magic-101/blob/master/2.%20Flow%20Control/2.2%20Loops/in_class_demo_solved.ipynb\" target=\"_parent\"><img src=\"https://colab.research.google.com/assets/colab-badge.svg\" alt=\"Open In Colab\"/></a>"
      ]
    },
    {
      "cell_type": "markdown",
      "metadata": {
        "id": "8U3Rg1zQ6wQQ"
      },
      "source": [
        "# What the F*** is looping???\n",
        "In programming, looping is a way to get the computer to do things over and over and over and over and over and over and over and over and over......\n",
        "\n",
        "## Why would you want to use loops anyway?\n",
        "To answer this, imagine you're working for Elmos World™ and they have a list of all of the residents in Elmo City, which is a list of **1 million** people. You are tasked with looking at every name in that list and keeping track of how many names begin with a vowel (AEIOU) and how many begin with a consonant. Assuming your quick, you can look at 1 name per second, to look at every name would literally take you over 11 days, and thats only if you are looking at names non-stop. If you were to write some python code to do this task in a loop, it may only take a couple of seconds to complete instead of multiple days.\n",
        "\n",
        "**This is a prime example of why you would want to use loops in programming, it saves lots of time and resources when doing repetitive tasks.**\n",
        "\n",
        "In some programming languages there can be as many as 4-5 different types of loops 😳. Thankfully, in python theres only 2.\n",
        " - For loops\n",
        " - While loops"
      ]
    },
    {
      "cell_type": "markdown",
      "metadata": {
        "id": "2c7XfHSb6wQV"
      },
      "source": [
        "# For loops\n",
        "For loops in python are used to iterate over:\n",
        "-  a sequence (lists, tuples, string)\n",
        "- a range of values (ex. 1 to 100)\n",
        "- any other iterable object in python (dictionaries, sets, generators). \n",
        "\n",
        "Iterating over a sequence is called a traversal, so you can think of a for loop as stepping through or *traversing* a sequence of items.\n",
        "\n",
        "<img src = \"for.png\">"
      ]
    },
    {
      "cell_type": "markdown",
      "metadata": {
        "id": "8RQXpiyh6wQX"
      },
      "source": [
        "# Breaking down a `for loop` by Looping over items in a sequence\n",
        "In this section you will see how a `for loop` works and what is going on at each iteration.\n",
        "\n",
        "**Consider the following code**"
      ]
    },
    {
      "cell_type": "code",
      "metadata": {
        "id": "O6dXo5nm6wQY"
      },
      "source": [
        "numbers = [2,4,6,8]\n",
        "new = []\n",
        "\n",
        "#TODO: Square each number and add it to the new list\n",
        "for value in numbers:\n",
        "    squared = value ** 2\n",
        "    new.append(squared)\n",
        "\n",
        "print(new)"
      ],
      "execution_count": null,
      "outputs": []
    },
    {
      "cell_type": "markdown",
      "metadata": {
        "id": "Ibr9oVk96wQZ"
      },
      "source": [
        "----\n",
        "## Iteration 1\n",
        "- **value = 2**\n",
        "- **squared = 2 * 2** \n",
        "- **new_list.append(squared)** --> [4]\n",
        "----\n",
        "## Iteration 2\n",
        "- **value = 4** \n",
        "- **squared = 4 * 4** \n",
        "- **new_list.append(squared)** --> [4, 16]\n",
        "----\n",
        "## Iteration 3\n",
        "- **value = 6** \n",
        "- **squared = 6 * 6** \n",
        "- **new_list.append(squared)** --> [4, 16, 36]\n",
        "----\n",
        "## Iteration 4\n",
        "- **value = 8** \n",
        "- **squared = 8 * 8** \n",
        "- **new_list.append(squared)** --> [4, 16, 36, 64]\n",
        "----"
      ]
    },
    {
      "cell_type": "markdown",
      "metadata": {
        "id": "FmqyOskK6wQa"
      },
      "source": [
        "<br>\n",
        "<p style = \"font-size: 20px; color:#D36582\"><b>Now that we see how this works, lets do the Elmos world task using a for loop</b> </p>\n",
        "\n",
        "You're working for Elmos World™ and they have a list of all of the residents in Elmo City, which is a list of **1 million** people. You are tasked with looking at every name in that list and keeping track of how many names begin with a vowel (AEIOU) and how many begin with a consonant.\n",
        "-"
      ]
    },
    {
      "cell_type": "code",
      "metadata": {
        "id": "P8yjnDAV6wQb"
      },
      "source": [
        "from helper_functions import *\n",
        "# Don't worry about what this does, this is just used as setup\n",
        "Elmos_world_residents = generate_names() #returns a list of 1000000 names\n",
        "len(Elmos_world_residents), Elmos_world_residents[:5]"
      ],
      "execution_count": null,
      "outputs": []
    },
    {
      "cell_type": "code",
      "metadata": {
        "id": "8lasSCkf6wQc"
      },
      "source": [
        "vowels = []\n",
        "consonants = []\n",
        "\n",
        "#TODO: populate the vowel list with names that start with a vowel and populate the consonants list with names that dont start with vowels\n",
        "for name in Elmos_world_residents:\n",
        "    if name[0] in [\"A\", \"E\", \"I\", \"O\", \"U\"]:\n",
        "        vowels.append(name)\n",
        "    else: \n",
        "        consonants.append(name)\n",
        "\n",
        "len(vowels), len(consonants)\n"
      ],
      "execution_count": null,
      "outputs": []
    },
    {
      "cell_type": "markdown",
      "metadata": {
        "id": "LDL2CX3B6wQd"
      },
      "source": [
        "# Looping over a range of values \n",
        "To loop over a range of values is almost identical to looping through a sequence of values, except we replace the `sequence` with the `range()` function. \n",
        "<p><b style = \"color: purple\">for</b> value <b style = \"color: purple\">in</b> range(10):</p>\n",
        "\n",
        "      `loop body`\n",
        "\n",
        "but now instead of looping over each value in a sequence, we are looping over the values returned by the range function."
      ]
    },
    {
      "cell_type": "code",
      "metadata": {
        "id": "dR71neA66wQf"
      },
      "source": [
        "for value in range(10):\n",
        "    # remember to indent\n",
        "    print(value, end = \" \")\n"
      ],
      "execution_count": null,
      "outputs": []
    },
    {
      "cell_type": "markdown",
      "metadata": {
        "id": "sPFtoq8O6wQf"
      },
      "source": [
        "**You can also set a start and stop value so that you have more control over the values iterated over (stop value is not included)**\n",
        "--"
      ]
    },
    {
      "cell_type": "code",
      "metadata": {
        "id": "19eFKNt_6wQg"
      },
      "source": [
        "for i in range(5, 10):\n",
        "    # remember to indent\n",
        "    print(i, end = \" \")\n"
      ],
      "execution_count": null,
      "outputs": []
    },
    {
      "cell_type": "markdown",
      "metadata": {
        "id": "Vn-awx276wQg"
      },
      "source": [
        "# Creating lists of random numbers\n",
        "This is a common task in python where you need to create a list of random numbers. This can be achieved by creating a for loop that will add a new random number to a list at each iteration."
      ]
    },
    {
      "cell_type": "code",
      "metadata": {
        "id": "yE3ErXBH6wQh"
      },
      "source": [
        "#TODO create a list of random numbers\n",
        "numbers = []\n",
        "for _ in range(12):\n",
        "    number = randint(0, 100)\n",
        "    numbers.append(number)\n",
        "\n",
        "numbers\n"
      ],
      "execution_count": null,
      "outputs": []
    },
    {
      "cell_type": "code",
      "metadata": {
        "id": "MI9Nj7Tk6wQh"
      },
      "source": [
        "#TODO Given a list of random numbers, how can we find the sum of those numbers (add all the numbers in the list together)\n",
        "total = 0\n",
        "for number in numbers:\n",
        "    total += number\n",
        "\n",
        "total\n"
      ],
      "execution_count": null,
      "outputs": []
    },
    {
      "cell_type": "markdown",
      "metadata": {
        "id": "ZXPwFeHH6wQi"
      },
      "source": [
        "# Looping through strings\n",
        "\n",
        "To loop through a string is fairly straightforward.\n",
        "```python\n",
        "string = \"Hello My Friend\"\n",
        "for character in string:\n",
        "    print(character)\n",
        "```\n",
        "\n",
        "This allows us to see each individual character that makes up the string and we can use this to do some cool things."
      ]
    },
    {
      "cell_type": "code",
      "metadata": {
        "id": "fM1JvstH6wQi"
      },
      "source": [
        "#TODO Create a new string with only the non vowel letters (constanants)\n",
        "string = \"hello my friend\"\n",
        "new_string = \"\"\n",
        "vowels = ['a', 'e', 'i', 'o', 'u']\n",
        "for char in string:\n",
        "    if char not in vowels:\n",
        "        new_string += char\n",
        "new_string\n"
      ],
      "execution_count": null,
      "outputs": []
    },
    {
      "cell_type": "markdown",
      "metadata": {
        "id": "XDFp0Iz_6wQi"
      },
      "source": [
        "# While Loops\n",
        "<p style = \"font-size: 18px\"> While loops are a way to run a loop <em>while</em> some condition is true.</p>\n",
        "<img src = \"while.png\">\n",
        "\n",
        "**Basic While loop example**\n",
        "--"
      ]
    },
    {
      "cell_type": "code",
      "metadata": {
        "id": "ImpB6oTi6wQj"
      },
      "source": [
        "#TODO: use a while to print the value of x, while the condition, x is less than 10, is true\n",
        "x = 0\n",
        "while x < 10:\n",
        "    # remember to indent\n",
        "    print(x, end = \" \")\n",
        "    x += 1\n"
      ],
      "execution_count": null,
      "outputs": []
    },
    {
      "cell_type": "code",
      "metadata": {
        "id": "JsXt5tSl6wQj"
      },
      "source": [
        "#TODO: use a while loop to print the elements of a list with the condition that index is not equal to the length of the list\n",
        "index = 0\n",
        "var = [\"I\", \"Love\", \"While\", \"Loops\"]\n",
        "while index != len(var):\n",
        "    # remember to indent\n",
        "    print(var[index])\n",
        "    index += 1"
      ],
      "execution_count": null,
      "outputs": []
    },
    {
      "cell_type": "markdown",
      "metadata": {
        "id": "2vdUejXP6wQj"
      },
      "source": [
        "# Special While loop conditions\n",
        "This section will go over som of the less obvious while loop conditions that you can use.\n",
        "\n",
        "## Creating a list until you have the number of elements you want\n",
        "The condition will look something like\n",
        "- input a list length\n",
        "- loop until the list is equal to the given length"
      ]
    },
    {
      "cell_type": "code",
      "metadata": {
        "id": "FT0SVWsX6wQk"
      },
      "source": [
        "var = []\n",
        "length = int(input(\"Enter the desired length of the list: \"))\n",
        "while len(var) != length:\n",
        "    value = int(input(\"Enter a value: \"))\n",
        "    var.append(value)\n",
        "    print(var)"
      ],
      "execution_count": null,
      "outputs": []
    },
    {
      "cell_type": "markdown",
      "metadata": {
        "id": "DWstKbno6wQk"
      },
      "source": [
        "## Loop until a certain list element gets added\n",
        "We can also continue looping until we have certain elements in our list that we want to add.\n",
        "- create a condition to check if the values 1 or 2 are not in the list\n",
        "- continue adding elements until both of them are present in the list"
      ]
    },
    {
      "cell_type": "code",
      "metadata": {
        "id": "GYZvzIVV6wQk"
      },
      "source": [
        "var = []\n",
        "while (1 not in var) or (2 not in var):\n",
        "\n",
        "    value = int(input(\"Enter value: \"))\n",
        "    var.append(value)\n",
        "    print(var)\n",
        "\n",
        "var\n"
      ],
      "execution_count": null,
      "outputs": []
    },
    {
      "cell_type": "markdown",
      "metadata": {
        "id": "9SrGjVBg6wQl"
      },
      "source": [
        "# Infinite Loops\n",
        "One problem with while loops is that, if you're not careful, you may cause the loop to run endlessly. Because *While* loops continue to run while some condition is true, if the condition is always true and never changes, the loop will always run."
      ]
    },
    {
      "cell_type": "code",
      "metadata": {
        "id": "0-xh1N256wQl"
      },
      "source": [
        "#TODO: Simple case of an infinite loop, condition is set to true\n",
        "while True:\n",
        "    print(\"Hello\")"
      ],
      "execution_count": null,
      "outputs": []
    },
    {
      "cell_type": "code",
      "metadata": {
        "id": "uTZOdrv-6wQl"
      },
      "source": [
        "#TODO: Write a loop that prints out the element at index i, but dont increase the value of i\n",
        "var = [1,2,3,4,5,6,7,8,9,10]\n",
        "i = 0\n",
        "while index < len(var):\n",
        "    print(var[i])"
      ],
      "execution_count": null,
      "outputs": []
    },
    {
      "cell_type": "code",
      "metadata": {
        "id": "AqLuxvDk6wQm"
      },
      "source": [
        "#TODO: write a while loop that causes the index to go down by 1 if it is equal to 5 and increase by 1 otherwise\n",
        "var = [10, 20, 30, 40, 50, 60, 70, 80, 90, 100]\n",
        "index = 0\n",
        "while index not in var:\n",
        "    print(var[index])\n",
        "\n",
        "    if index == 5:\n",
        "        index -= 1\n",
        "    else:\n",
        "        index += 1"
      ],
      "execution_count": null,
      "outputs": []
    },
    {
      "cell_type": "code",
      "metadata": {
        "id": "DRxntNVw6wQm"
      },
      "source": [
        "#TODO: Infinite loop that takes user input (without stop condition)\n",
        "while True:\n",
        "    name = input(\"Enter your name: \")\n",
        "    print(name)"
      ],
      "execution_count": null,
      "outputs": []
    },
    {
      "cell_type": "markdown",
      "metadata": {
        "id": "kSJMprow6wQm"
      },
      "source": [
        "# Breaking Infinite loops\n",
        "In python there is a keyword named `break` and its used to do exactly what the name says it does, breaks the execution of your program. This is useful in the case of Infinite loops becasue it allows us to break the loop if some condition is met.\n",
        "--"
      ]
    },
    {
      "cell_type": "code",
      "metadata": {
        "id": "LefsngRP6wQm"
      },
      "source": [
        "#TODO: write a loop to increase x until x equals the value you want to find, break the infinite loop if the value is found\n",
        "i = 0\n",
        "value = int(input(\"Enter a Positive number (1-1000): \"))\n",
        "print(f\"Looking for {value}\")\n",
        "while True:\n",
        "    if i == value:\n",
        "        print(f\"Value {i} found!\")\n",
        "        break\n",
        "    else:\n",
        "        i += 1"
      ],
      "execution_count": null,
      "outputs": []
    },
    {
      "cell_type": "markdown",
      "metadata": {
        "id": "pux0ETH36wQn"
      },
      "source": [
        "# Continuing Loops\n",
        "There's another keyword in python that does almost the opposite of `break` which is named `continue`. The continue statement skips the current iteration of a loop and continues with the next iteration.\n",
        "\n",
        "There will be some cases where you're looping through some iterable and you reach a point where you want to check for some condition. In most cases if that condition is `True`, you may want to do something like print a message to the screen. However, there will be some other cases where if a condition is met, you may want to just skip over the current iteration and move on. \n",
        "\n",
        "**This is where the `continue` statement comes in.**"
      ]
    },
    {
      "cell_type": "code",
      "metadata": {
        "id": "Qhbw7PnS6wQn"
      },
      "source": [
        "from random import randint\n",
        "var = [randint(0, 100) for _ in range(20)]\n",
        "#TODO: if the value is Even or odd, print the value, if the value is odd and is divisible by 5, skip it. \n",
        "for value in var:\n",
        "    if value % 2 == 0:\n",
        "        print(value)\n",
        "    elif value % 2 != 0 and value % 5 == 0:\n",
        "        continue\n",
        "    else:\n",
        "        print(value)\n",
        "    \n",
        "    "
      ],
      "execution_count": null,
      "outputs": []
    },
    {
      "cell_type": "code",
      "metadata": {
        "id": "S8M-EUzT6wQn"
      },
      "source": [
        ""
      ],
      "execution_count": null,
      "outputs": []
    }
  ]
}