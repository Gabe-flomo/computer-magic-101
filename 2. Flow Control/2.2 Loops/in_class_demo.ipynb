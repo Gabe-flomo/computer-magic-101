{
  "nbformat": 4,
  "nbformat_minor": 0,
  "metadata": {
    "interpreter": {
      "hash": "fd61235da8d855c081cbd5d7c6398e4c179a40a950675235256f7f30499f1124"
    },
    "kernelspec": {
      "display_name": "Python 3.7.4 64-bit ('base': conda)",
      "name": "python3"
    },
    "language_info": {
      "codemirror_mode": {
        "name": "ipython",
        "version": 3
      },
      "file_extension": ".py",
      "mimetype": "text/x-python",
      "name": "python",
      "nbconvert_exporter": "python",
      "pygments_lexer": "ipython3",
      "version": "3.7.4"
    },
    "orig_nbformat": 4,
    "colab": {
      "name": "in_class_demo.ipynb",
      "provenance": [],
      "include_colab_link": true
    }
  },
  "cells": [
    {
      "cell_type": "markdown",
      "metadata": {
        "id": "view-in-github",
        "colab_type": "text"
      },
      "source": [
        "<a href=\"https://colab.research.google.com/github/Gabe-flomo/computer-magic-101/blob/master/2.%20Flow%20Control/2.2%20Loops/in_class_demo.ipynb\" target=\"_parent\"><img src=\"https://colab.research.google.com/assets/colab-badge.svg\" alt=\"Open In Colab\"/></a>"
      ]
    },
    {
      "cell_type": "markdown",
      "metadata": {
        "id": "IlAB3sN87Rgm"
      },
      "source": [
        "# What the F*** is looping???\n",
        "In programming, looping is a way to get the computer to do things over and over and over and over and over and over and over and over and over......\n",
        "\n",
        "## Why would you want to use loops anyway?\n",
        "To answer this, imagine you're working for Elmos World™ and they have a list of all of the residents in Elmo City, which is a list of **1 million** people. You are tasked with looking at every name in that list and keeping track of how many names begin with a vowel (AEIOU) and how many begin with a consonant. Assuming your quick, you can look at 1 name per second, to look at every name would literally take you over 11 days, and thats only if you are looking at names non-stop. If you were to write some python code to do this task in a loop, it may only take a couple of seconds to complete instead of multiple days.\n",
        "\n",
        "**This is a prime example of why you would want to use loops in programming, it saves lots of time and resources when doing repetitive tasks.**\n",
        "\n",
        "In some programming languages there can be as many as 4-5 different types of loops 😳. Thankfully, in python theres only 2.\n",
        " - For loops\n",
        " - While loops"
      ]
    },
    {
      "cell_type": "markdown",
      "metadata": {
        "id": "QG8_Ewmh7Rgs"
      },
      "source": [
        "# For loops\n",
        "For loops in python are used to iterate over:\n",
        "-  a sequence (lists, tuples, string)\n",
        "- a range of values (ex. 1 to 100)\n",
        "- any other iterable object in python (dictionaries, sets, generators). \n",
        "\n",
        "Iterating over a sequence is called a traversal, so you can think of a for loop as stepping through or *traversing* a sequence of items.\n",
        "\n",
        "<img src = \"for.png\">"
      ]
    },
    {
      "cell_type": "markdown",
      "metadata": {
        "id": "oXk9B9vi7Rgt"
      },
      "source": [
        "# Breaking down a `for loop` by Looping over items in a sequence\n",
        "In this section you will see how a `for loop` works and what is going on at each iteration.\n",
        "\n",
        "**Consider the following code**"
      ]
    },
    {
      "cell_type": "code",
      "metadata": {
        "id": "F56F8jqN7Rgu"
      },
      "source": [
        "numbers = [2,4,6,8]\n",
        "new = []\n",
        "\n",
        "#TODO: Square each number and add it to the new list\n"
      ],
      "execution_count": null,
      "outputs": []
    },
    {
      "cell_type": "markdown",
      "metadata": {
        "id": "ZYVoUYzY7Rgv"
      },
      "source": [
        "----\n",
        "## Iteration 1\n",
        "- **value = 2**\n",
        "- **squared = 2 * 2** \n",
        "- **new_list.append(squared)** --> [4]\n",
        "----\n",
        "## Iteration 2\n",
        "- **value = 4** \n",
        "- **squared = 4 * 4** \n",
        "- **new_list.append(squared)** --> [4, 16]\n",
        "----\n",
        "## Iteration 3\n",
        "- **value = 6** \n",
        "- **squared = 6 * 6** \n",
        "- **new_list.append(squared)** --> [4, 16, 36]\n",
        "----\n",
        "## Iteration 4\n",
        "- **value = 8** \n",
        "- **squared = 8 * 8** \n",
        "- **new_list.append(squared)** --> [4, 16, 36, 64]\n",
        "----"
      ]
    },
    {
      "cell_type": "markdown",
      "metadata": {
        "id": "myazvodF7Rgw"
      },
      "source": [
        "<br>\n",
        "<p style = \"font-size: 20px; color:#D36582\"><b>Now that we see how this works, lets do the Elmos world task using a for loop</b> </p>\n",
        "\n",
        "You're working for Elmos World™ and they have a list of all of the residents in Elmo City, which is a list of **1 million** people. You are tasked with looking at every name in that list and keeping track of how many names begin with a vowel (AEIOU) and how many begin with a consonant.\n",
        "-"
      ]
    },
    {
      "cell_type": "code",
      "metadata": {
        "id": "GbA7Vtzl7Rgx"
      },
      "source": [
        "from random import randint, choice\n",
        "\n",
        "def generate_names():\n",
        "    names_string = \"\"\"Michael Christopher Jessica Matthew Ashley Jennifer Joshua Amanda Daniel David James Robert John Joseph Andrew Ryan Brandon Jason Justin Sarah William Jonathan Stephanie Brian Nicole Nicholas Anthony Heather Eric Elizabeth Adam Megan Melissa Kevin Steven Thomas Timothy Christina Kyle Rachel Laura Lauren Amber Brittany Danielle Richard Kimberly Jeffrey Amy Crystal Michelle Tiffany Jeremy Benjamin Mark Emily Aaron Charles Rebecca Jacob Stephen Patrick Sean Erin Zachary Jamie Kelly Samantha Nathan Sara Dustin Paul Angela Tyler Scott Katherine Andrea Gregory Erica Mary Travis Lisa Kenneth Bryan Lindsey Kristen Jose Alexander Jesse Katie Lindsay Shannon Vanessa Courtney Christine Alicia Cody Allison Bradley Samuel\"\"\"\n",
        "    possible_names = names_string.split()\n",
        "    million_people = [choice(possible_names) for _ in range(1_000_000)]\n",
        "    return million_people\n",
        "\n",
        "# Don't worry about what this does, this is just used as setup\n",
        "Elmos_world_residents = generate_names() #returns a list of 1000000 names\n",
        "len(Elmos_world_residents), Elmos_world_residents[:5]\n"
      ],
      "execution_count": null,
      "outputs": []
    },
    {
      "cell_type": "code",
      "metadata": {
        "id": "Ja3B7eQo7Rgz"
      },
      "source": [
        "vowels = []\n",
        "consonants = []\n",
        "\n",
        "#TODO: populate the vowel list with names that start with a vowel and populate the consonants list with names that dont start with vowels\n",
        "\n",
        "\n",
        "len(vowels), len(consonants)\n"
      ],
      "execution_count": null,
      "outputs": []
    },
    {
      "cell_type": "markdown",
      "metadata": {
        "id": "JyvstG9r7Rg0"
      },
      "source": [
        "# Looping over a range of values \n",
        "To loop over a range of values is almost identical to looping through a sequence of values, except we replace the `sequence` with the `range()` function. \n",
        "<p><b style = \"color: purple\">for</b> value <b style = \"color: purple\">in</b> range(10):</p>\n",
        "\n",
        "      `loop body`\n",
        "\n",
        "but now instead of looping over each value in a sequence, we are looping over the values returned by the range function."
      ]
    },
    {
      "cell_type": "code",
      "metadata": {
        "id": "pZPB9KWZ7Rg1"
      },
      "source": [
        "#TODO: Create a for loop with a range of 10"
      ],
      "execution_count": null,
      "outputs": []
    },
    {
      "cell_type": "markdown",
      "metadata": {
        "id": "-qdJxte_7Rg1"
      },
      "source": [
        "**You can also set a start and stop value so that you have more control over the values iterated over (stop value is not included)**\n",
        "--"
      ]
    },
    {
      "cell_type": "code",
      "metadata": {
        "id": "lYqFAkep7Rg2"
      },
      "source": [
        "#TODO: create a for loop with a range of 5 to 10\n"
      ],
      "execution_count": null,
      "outputs": []
    },
    {
      "cell_type": "markdown",
      "metadata": {
        "id": "povv3ELY7Rg2"
      },
      "source": [
        "# Creating lists of random numbers\n",
        "This is a common task in python where you need to create a list of random numbers. This can be achieved by creating a for loop that will add a new random number to a list at each iteration."
      ]
    },
    {
      "cell_type": "code",
      "metadata": {
        "id": "LNdDd3FI7Rg3"
      },
      "source": [
        "#TODO create a list of random numbers\n"
      ],
      "execution_count": null,
      "outputs": []
    },
    {
      "cell_type": "code",
      "metadata": {
        "id": "hJJhR1pi7Rg3"
      },
      "source": [
        "#TODO Given a list of random numbers, how can we find the sum of those numbers (add all the numbers in the list together)\n"
      ],
      "execution_count": null,
      "outputs": []
    },
    {
      "cell_type": "markdown",
      "metadata": {
        "id": "F1wCPAAS7Rg3"
      },
      "source": [
        "# Looping through Strings\n",
        "\n",
        "To loop through a string is fairly straightforward.\n",
        "```python\n",
        "string = \"Hello My Friend\"\n",
        "for character in string:\n",
        "    print(character)\n",
        "```\n",
        "\n",
        "This allows us to see each individual character that makes up the string and we can use this to do some cool things."
      ]
    },
    {
      "cell_type": "code",
      "metadata": {
        "id": "CsUmECyr7Rg4"
      },
      "source": [
        "#TODO Create a new string with only the non vowel letters (constanants)\n",
        "string = \"hello my friend\"\n",
        "new_string = \"\"\n",
        "vowels = ['a', 'e', 'i', 'o', 'u']"
      ],
      "execution_count": null,
      "outputs": []
    },
    {
      "cell_type": "markdown",
      "metadata": {
        "id": "Vyx8b49p7Rg4"
      },
      "source": [
        "# Looking into the future\n",
        "In programming, there will be times when you have a list and you need to look at the current value and the next value at the same time. Remeber that all elements in a list can be accessed using an index value, so all we need to do in our loop is create a value that can `index` the current list position as well as the next position.\n",
        "\n",
        "This simple task can be achieved by looping through the range of the length of the list, minus 1.\n",
        "By doing this, we can use our loop iteration counter to index our list all the way up to the second to last value.\n",
        "```python\n",
        "var = [1,2,3,4,5]\n",
        "loop = len(var) - 1\n",
        "for index in range(loop):\n",
        "    print(var[index])\n",
        "```\n",
        "This will cause the loop to look at each value in our list except for the last value. Since we don't ever reach the last index, we can safely lookahead in our list by accessing the list element at `index + 1`.\n",
        "```python\n",
        "var = [1,2,3,4,5]\n",
        "loop = len(var) - 1\n",
        "for index in range(loop):\n",
        "    print(var[index], print(var[index + 1]))\n",
        "```"
      ]
    },
    {
      "cell_type": "code",
      "metadata": {
        "id": "pzwDTEo17Rg5"
      },
      "source": [
        "#TODO implement list lookahead"
      ],
      "execution_count": null,
      "outputs": []
    },
    {
      "cell_type": "markdown",
      "metadata": {
        "id": "8-Aftiaz7Rg5"
      },
      "source": [
        "# While Loops\n",
        "<p style = \"font-size: 18px\"> While loops are a way to run a loop <em>while</em> some condition is true.</p>\n",
        "<img src = \"while.png\">\n",
        "\n",
        "**Basic While loop example**\n",
        "--"
      ]
    },
    {
      "cell_type": "code",
      "metadata": {
        "id": "ZAsDjRSZ7Rg5"
      },
      "source": [
        "#TODO: use a while to print the value of x, while the condition, x is less than 10, is true\n",
        "x = 0"
      ],
      "execution_count": null,
      "outputs": []
    },
    {
      "cell_type": "code",
      "metadata": {
        "id": "YTv_l_Oa7Rg6"
      },
      "source": [
        "#TODO: use a while loop to print the elements of a list with the condition that index is not equal to the length of the list\n",
        "index = 0\n",
        "var = [\"I\", \"Love\", \"While\", \"Loops\"]"
      ],
      "execution_count": null,
      "outputs": []
    },
    {
      "cell_type": "markdown",
      "metadata": {
        "id": "3Sqe1GEX7Rg6"
      },
      "source": [
        "# Special While loop conditions\n",
        "This section will go over som of the less obvious while loop conditions that you can use.\n",
        "\n",
        "## Creating a list until you have the number of elements you want\n",
        "The condition will look something like\n",
        "- input a list length\n",
        "- loop until the list is equal to the given length"
      ]
    },
    {
      "cell_type": "code",
      "metadata": {
        "id": "2JEs4Cuj7Rg7"
      },
      "source": [
        "#TODO Creating a list until you have the number of elements you want"
      ],
      "execution_count": null,
      "outputs": []
    },
    {
      "cell_type": "markdown",
      "metadata": {
        "id": "lXPAMH2E7Rg7"
      },
      "source": [
        "## Loop until a certain list element gets added\n",
        "We can also continue looping until we have certain elements in our list that we want to add.\n",
        "- create a condition to check if the values 1 or 2 are not in the list\n",
        "- continue adding elements until both of them are present in the list"
      ]
    },
    {
      "cell_type": "code",
      "metadata": {
        "id": "nGprMzar7Rg8"
      },
      "source": [
        "#TODO add list elements until specified elements get added\n"
      ],
      "execution_count": null,
      "outputs": []
    },
    {
      "cell_type": "markdown",
      "metadata": {
        "id": "4dOjjqiK7Rg8"
      },
      "source": [
        "# Infinite Loops\n",
        "One problem with while loops is that, if you're not careful, you may cause the loop to run endlessly. Because *While* loops continue to run while some condition is true, if the condition is always true and never changes, the loop will always run."
      ]
    },
    {
      "cell_type": "code",
      "metadata": {
        "id": "Kl3FyTPw7Rg8"
      },
      "source": [
        "#TODO: Simple case of an infinite loop, condition is set to true"
      ],
      "execution_count": null,
      "outputs": []
    },
    {
      "cell_type": "code",
      "metadata": {
        "id": "ez7oqMOo7Rg8"
      },
      "source": [
        "#TODO: Write a loop that prints out the element at index i, but dont increase the value of i\n",
        "var = [1,2,3,4,5,6,7,8,9,10]\n",
        "i = 0"
      ],
      "execution_count": null,
      "outputs": []
    },
    {
      "cell_type": "code",
      "metadata": {
        "id": "NaWcsbru7Rg9"
      },
      "source": [
        "#TODO: write a while loop that causes the index to go down by 1 if it is equal to 5 and increase by 1 otherwise\n",
        "var = [10, 20, 30, 40, 50, 60, 70, 80, 90, 100]\n",
        "index = 0"
      ],
      "execution_count": null,
      "outputs": []
    },
    {
      "cell_type": "code",
      "metadata": {
        "id": "NxfPzO-A7Rg9"
      },
      "source": [
        "#TODO: Infinite loop that takes user input (without stop condition)"
      ],
      "execution_count": null,
      "outputs": []
    },
    {
      "cell_type": "markdown",
      "metadata": {
        "id": "Cm_RrijZ7Rg9"
      },
      "source": [
        "# Breaking Infinite loops\n",
        "In python there is a keyword named `break` and its used to do exactly what the name says it does, breaks the execution of your program. This is useful in the case of Infinite loops becasue it allows us to break the loop if some condition is met.\n",
        "--"
      ]
    },
    {
      "cell_type": "code",
      "metadata": {
        "id": "lwONxLYW7Rg9"
      },
      "source": [
        "#TODO: write a loop to increase x until x equals the value you want to find, break the infinite loop if the value is found\n",
        "x = 0\n",
        "value = int(input(\"Enter a Positive number (1-1000): \"))\n",
        "print(f\"Looking for {value}\")"
      ],
      "execution_count": null,
      "outputs": []
    },
    {
      "cell_type": "markdown",
      "metadata": {
        "id": "AqkjubqL7Rg-"
      },
      "source": [
        "# Continuing Loops\n",
        "There's another keyword in python that does almost the opposite of `break` which is named `continue`. The continue statement skips the current iteration of a loop and continues with the next iteration.\n",
        "\n",
        "There will be some cases where you're looping through some iterable and you reach a point where you want to check for some condition. In most cases if that condition is `True`, you may want to do something like print a message to the screen. However, there will be some other cases where if a condition is met, you may want to just skip over the current iteration and move on. \n",
        "\n",
        "**This is where the `continue` statement comes in.**"
      ]
    },
    {
      "cell_type": "code",
      "metadata": {
        "id": "drAT-lHH7Rg-"
      },
      "source": [
        "from random import randint\n",
        "var = [randint(0, 100) for _ in range(20)]\n",
        "#TODO: if the value is Even or odd, print the value, if the value is odd and is divisible by 5, skip it.  \n",
        "    "
      ],
      "execution_count": null,
      "outputs": []
    }
  ]
}