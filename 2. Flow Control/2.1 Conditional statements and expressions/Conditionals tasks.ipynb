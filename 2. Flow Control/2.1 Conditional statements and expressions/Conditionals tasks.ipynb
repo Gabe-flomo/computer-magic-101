{
  "nbformat": 4,
  "nbformat_minor": 0,
  "metadata": {
    "interpreter": {
      "hash": "fd61235da8d855c081cbd5d7c6398e4c179a40a950675235256f7f30499f1124"
    },
    "kernelspec": {
      "display_name": "Python 3.7.4 64-bit ('base': conda)",
      "name": "python3"
    },
    "language_info": {
      "codemirror_mode": {
        "name": "ipython",
        "version": 3
      },
      "file_extension": ".py",
      "mimetype": "text/x-python",
      "name": "python",
      "nbconvert_exporter": "python",
      "pygments_lexer": "ipython3",
      "version": "3.7.4"
    },
    "orig_nbformat": 4,
    "colab": {
      "name": "Conditionals tasks.ipynb",
      "provenance": [],
      "include_colab_link": true
    }
  },
  "cells": [
    {
      "cell_type": "markdown",
      "metadata": {
        "id": "view-in-github",
        "colab_type": "text"
      },
      "source": [
        "<a href=\"https://colab.research.google.com/github/Gabe-flomo/Python-Course/blob/main/Modules/2.%20Flow%20control/2.1%20Conditional%20statements%20and%20expressions/Conditionals%20tasks.ipynb\" target=\"_parent\"><img src=\"https://colab.research.google.com/assets/colab-badge.svg\" alt=\"Open In Colab\"/></a>"
      ]
    },
    {
      "cell_type": "markdown",
      "metadata": {
        "id": "1sZQrAiHnAkJ"
      },
      "source": [
        "# IF, ELSE, ELIF Statement Exercises\n",
        "Below are a series of tasks to complete that will require the use of conditional statements."
      ]
    },
    {
      "cell_type": "code",
      "metadata": {
        "id": "JxsjpD1NnAkN"
      },
      "source": [
        "#TODO MAKE SURE TO RUN THIS!\n",
        "from random import randint, choice\n",
        "\n",
        "def generate_number(range_=(1, 100)):\n",
        "    return randint(range_[0], range_[1])\n",
        "\n",
        "\n",
        "def random_fruit():\n",
        "    fruits = [\"pomegranate\", \"apple\", \"plum\", \"orange\", \"kiwi\",\n",
        "              \"pitanga\", \"pear\", \"pineapple\", \"raspberry\", \"peach\", \"watermelon\"]\n",
        "    return choice(fruits)\n",
        "\n",
        "\n"
      ],
      "execution_count": null,
      "outputs": []
    },
    {
      "cell_type": "markdown",
      "metadata": {
        "id": "3dnUdGAQnAkP"
      },
      "source": [
        "## TASK 1 \n",
        "Write a conditional to test if `x` is greater than or equal to `y`. Print the result of the conditional."
      ]
    },
    {
      "cell_type": "code",
      "metadata": {
        "id": "avWS5L-pnAkQ"
      },
      "source": [
        "x = generate_number()\n",
        "y = generate_number()\n",
        "\n",
        "#TODO: check to see if x is greater than y\n"
      ],
      "execution_count": null,
      "outputs": []
    },
    {
      "cell_type": "markdown",
      "metadata": {
        "id": "zSty7246nAkR"
      },
      "source": [
        "## TASK 2\n",
        "write a conditional to see if x and y are equal. Print the result of the conditional"
      ]
    },
    {
      "cell_type": "code",
      "metadata": {
        "id": "dkX5cAl9nAkS"
      },
      "source": [
        "x = generate_number((0, 5))\n",
        "y = generate_number((0, 5))\n",
        "\n",
        "#TODO: write a conditional to check if x and y are equal\n"
      ],
      "execution_count": null,
      "outputs": []
    },
    {
      "cell_type": "markdown",
      "metadata": {
        "id": "ZnS76vXOnAkT"
      },
      "source": [
        "## TASK 3\n",
        "Jasmine has a fruit store and wants to answer the following questions:\n",
        "> If I choose a random fruit, will it start with the letter `P`?"
      ]
    },
    {
      "cell_type": "code",
      "metadata": {
        "id": "fPDiopH0nAkV"
      },
      "source": [
        "fruit = random_fruit()\n",
        "#TODO: Write conditional statement to check if the fruits first character is the letter p. If it is print 'starts with p' otherwise\n",
        "# print the letter that the fruit starts with. (all letters are lowercase)"
      ],
      "execution_count": null,
      "outputs": []
    },
    {
      "cell_type": "markdown",
      "metadata": {
        "id": "8OE_36iInAkW"
      },
      "source": [
        "## TASK 4\n",
        "Write a conditional statement to see if the random number that gets generated is equal to the length of a randomly chosen fruit. \n",
        "* If they are equal print the fruit as well as the length. \n",
        "* If they are not equal, print the fruit, the length of the fruit, and the number that was generated"
      ]
    },
    {
      "cell_type": "code",
      "metadata": {
        "id": "ZY4bQ8XynAkY"
      },
      "source": [
        "fruit = random_fruit()\n",
        "number = generate_number((3, 11))\n",
        "#TODO: Write a conditional statement to see if the random number that is generated is equal to the length of a randomly chosen fruit."
      ],
      "execution_count": null,
      "outputs": []
    },
    {
      "cell_type": "markdown",
      "metadata": {
        "id": "I6rFw3YunAkY"
      },
      "source": [
        "## TASK 5\n",
        "Use a ternary conditional assign the value `greater` or `smaller` to the variable `var` if the length of the random fruit is greater than 5 characters. Then print `var`"
      ]
    },
    {
      "cell_type": "code",
      "metadata": {
        "id": "dZMx66lenAkZ"
      },
      "source": [
        "fruit = random_fruit()\n",
        "#TODO"
      ],
      "execution_count": null,
      "outputs": []
    },
    {
      "cell_type": "markdown",
      "metadata": {
        "id": "lPHpYb2dnAka"
      },
      "source": [
        "## TASK 6\n",
        "Below is a list of random characters and one of them will be chosen at random. Write a series of if and elif statements to print different things based on the sign chosen.\n",
        "- @: print `@your_name`\n",
        "- #: print `#itBeLikeThat`\n",
        "- $: print `$10,000`\n",
        "- !: print `WHY AM I YELLING!!!`"
      ]
    },
    {
      "cell_type": "code",
      "metadata": {
        "id": "DjoMEYghnAka"
      },
      "source": [
        "sign = choice([\"@\", \"#\", \"$\", \"!\"])\n",
        "#TODO:\n"
      ],
      "execution_count": null,
      "outputs": []
    },
    {
      "cell_type": "markdown",
      "metadata": {
        "id": "d15d88P6nAkb"
      },
      "source": [
        "# TASK 7\n",
        "you are building an online store and depending on a users age, they are allowed access to certain products.\n",
        "\n",
        "- if they are younger than 18, they can only buy candy and school supplies\n",
        "- if they are older than or equal to 18 but younger than 21, they can buy lighters and house supplies\n",
        "- if they are 21+ they can buy anything in the store\n",
        "\n",
        "Write a series of if and elif statements to implement this logic."
      ]
    },
    {
      "cell_type": "code",
      "metadata": {
        "id": "mz-tLWDDnAkc"
      },
      "source": [
        "#TODO"
      ],
      "execution_count": null,
      "outputs": []
    },
    {
      "cell_type": "markdown",
      "metadata": {
        "id": "cipWgtUjnAkg"
      },
      "source": [
        "# Task 8\n",
        "* ask the user for a number, assign to `value`\n",
        "* ask the user for a number less than the first one, assign to `divisor`\n",
        "* if the `divisor` is greater than `value`, print `\"Divisor too big\"`\n",
        "* if the `divisor` is less than the `value`, check to see if `divisor` is a multiple of `value`.\n",
        "    * if it is a multiple, print `value` can be divided by `divisor`\n",
        "\n",
        "### Example output \n",
        "`\"10 can be divided by 5\"`"
      ]
    },
    {
      "cell_type": "code",
      "metadata": {
        "id": "bbBD3eXAnAkm"
      },
      "source": [
        "#TODO"
      ],
      "execution_count": null,
      "outputs": []
    }
  ]
}