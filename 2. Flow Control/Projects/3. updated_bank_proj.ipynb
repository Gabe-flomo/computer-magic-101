{
  "nbformat": 4,
  "nbformat_minor": 0,
  "metadata": {
    "language_info": {
      "name": "python"
    },
    "orig_nbformat": 4,
    "colab": {
      "name": "3. updated_bank_proj.ipynb",
      "provenance": [],
      "include_colab_link": true
    }
  },
  "cells": [
    {
      "cell_type": "markdown",
      "metadata": {
        "id": "view-in-github",
        "colab_type": "text"
      },
      "source": [
        "<a href=\"https://colab.research.google.com/github/Gabe-flomo/computer-magic-101/blob/master/2.%20Flow%20Control/Projects/3.%20updated_bank_proj.ipynb\" target=\"_parent\"><img src=\"https://colab.research.google.com/assets/colab-badge.svg\" alt=\"Open In Colab\"/></a>"
      ]
    },
    {
      "cell_type": "markdown",
      "metadata": {
        "id": "_5_wDW2T7nO2"
      },
      "source": [
        "# Instructions\n",
        "Using the code from our previous bank project, update it so that all of the operations can be done inside of a loop. Doing this this will let users do multiple operations one after another.\n",
        "-----\n",
        "\n",
        "**For example: I could deposit $100, withdraw $27, then deposit another $100**\n",
        "\n",
        "- Let the users choose which option to do (withdraw or deposit)\n",
        "- keep updating the total bank balance after each operation\n",
        "- create a list (or two) that will keep track of each operation the user does\n",
        "- break the loop if the user types `logout`\n",
        "- when the user logs out, print that the user has logged out along with the current bank balance and how many deposits and withdraws they made\n",
        "\n",
        "### Example output\n",
        "- `\"You deposited $100\"`\n",
        "- `\"You withdrew $57\"`\n",
        "- `\"You withdrew $19\"`\n",
        "- `\"You have logged out. Your current balance is $24 and you made 1 deposit and 2 withdrawls\"`"
      ]
    },
    {
      "cell_type": "code",
      "metadata": {
        "id": "TBniS9jx7nO-"
      },
      "source": [
        ""
      ],
      "execution_count": null,
      "outputs": []
    }
  ]
}