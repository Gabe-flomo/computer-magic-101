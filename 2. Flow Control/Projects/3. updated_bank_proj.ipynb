{
 "cells": [
  {
   "cell_type": "markdown",
   "metadata": {},
   "source": [
    "# Instructions\n",
    "Using the code from our previous bank project, update it so that all of the operations can be done inside of a loop. Doing this this will let users do multiple operations one after another.\n",
    "-----\n",
    "\n",
    "**For example: I could deposit $100, withdraw $27, then deposit another $100**\n",
    "\n",
    "- Let the users choose which option to do (withdraw or deposit)\n",
    "- keep updating the total bank balance after each operation\n",
    "- create a list (or two) that will keep track of each operation the user does\n",
    "- break the loop if the user types `logout`\n",
    "- when the user logs out, print that the user has logged out along with the current bank balance and how many deposits and withdraws they made\n",
    "\n",
    "### Example output\n",
    "- `\"You deposited $100\"`\n",
    "- `\"You withdrew $57\"`\n",
    "- `\"You withdrew $19\"`\n",
    "- `\"You have logged out. Your current balance is $24 and you made 1 deposit and 2 withdrawls\"`"
   ]
  },
  {
   "cell_type": "code",
   "execution_count": null,
   "metadata": {},
   "outputs": [],
   "source": []
  }
 ],
 "metadata": {
  "language_info": {
   "name": "python"
  },
  "orig_nbformat": 4
 },
 "nbformat": 4,
 "nbformat_minor": 2
}
