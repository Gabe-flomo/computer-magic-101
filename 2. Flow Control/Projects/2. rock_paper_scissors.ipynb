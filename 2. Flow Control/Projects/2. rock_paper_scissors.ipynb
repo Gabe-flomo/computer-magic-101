{
  "nbformat": 4,
  "nbformat_minor": 0,
  "metadata": {
    "language_info": {
      "name": "python"
    },
    "orig_nbformat": 4,
    "colab": {
      "name": "2. rock_paper_scissors.ipynb",
      "provenance": [],
      "include_colab_link": true
    }
  },
  "cells": [
    {
      "cell_type": "markdown",
      "metadata": {
        "id": "view-in-github",
        "colab_type": "text"
      },
      "source": [
        "<a href=\"https://colab.research.google.com/github/Gabe-flomo/Python-Course/blob/main/Projects/2.%20Flow/2.%20rock_paper_scissors.ipynb\" target=\"_parent\"><img src=\"https://colab.research.google.com/assets/colab-badge.svg\" alt=\"Open In Colab\"/></a>"
      ]
    },
    {
      "cell_type": "markdown",
      "metadata": {
        "id": "gXqP5cl3mFTY"
      },
      "source": [
        "# Instructions\n",
        "implement the game rock, paper, scissors using flow control. It's you agains the computer and your task is to implement the logic below.\n",
        "\n",
        "- have the computer randomly pick a move `rock, paper, or scissors`\n",
        "- input your move `rock, paper, or scissors`\n",
        "- determine the winner based on your choice and the computer choice\n",
        "\n",
        "<br>\n",
        "\n",
        "- rock beats scissors\n",
        "- scissors beats paper\n",
        "- paper beats rock"
      ]
    },
    {
      "cell_type": "code",
      "metadata": {
        "id": "47dqFxgZmFTc"
      },
      "source": [
        ""
      ],
      "execution_count": null,
      "outputs": []
    }
  ]
}