{
 "cells": [
  {
   "cell_type": "code",
   "execution_count": null,
   "metadata": {},
   "outputs": [],
   "source": [
    "#RUN THIS FIRST\n",
    "import requests\n",
    "from random import randint, choice\n",
    "url = \"https://raw.githubusercontent.com/Gabe-flomo/Instagram-Dashboard/master/JSON/saved.json?token=GHSAT0AAAAAABPLRJR7VD53GB6XVC3DWAC6YQZEPNQ\"\n",
    "data = requests.get(url).json()\n",
    "data = [data[key] for key in data]"
   ]
  },
  {
   "cell_type": "markdown",
   "metadata": {},
   "source": [
    "# TASK 1\n",
    "Run the code and locate where the error is occuring and handle it using a `try except` clause"
   ]
  },
  {
   "cell_type": "code",
   "execution_count": null,
   "metadata": {},
   "outputs": [],
   "source": [
    "def get_total_duration(data):\n",
    "    duration_total = 0\n",
    "    for row in data:\n",
    "        duration = row['duration']\n",
    "        duration_total += duration\n",
    "    \n",
    "    return duration_total\n",
    "\n",
    "get_total_duration(data)"
   ]
  },
  {
   "cell_type": "markdown",
   "metadata": {},
   "source": [
    "# TASK 2\n",
    "Below is a list of users and some information about them. Write a function that returns the users that meet these conditions.\n",
    "- They're at least 20 years old\n",
    "- They either use a mac or a windows computer\n",
    "\n",
    "The condition should be checked using an assertion and the assertion should be handled if it fails by using a `try except` clause."
   ]
  },
  {
   "cell_type": "code",
   "execution_count": null,
   "metadata": {},
   "outputs": [],
   "source": [
    "users = [\n",
    "    {\n",
    "        'name':'Gabe',\n",
    "        'age': 22,\n",
    "        'computer': 'Mac'\n",
    "    },{\n",
    "        'name':'Elais',\n",
    "        'age': 14,\n",
    "        'computer': 'Windows'\n",
    "    },{\n",
    "        'name':'Oliver',\n",
    "        'age': 15,\n",
    "        'computer': 'Windows'\n",
    "    },{\n",
    "        'name':'Cianni',\n",
    "        'age': 19,\n",
    "        'computer': 'Mac'\n",
    "    },{\n",
    "        'name':'Safe',\n",
    "        'age': 20,\n",
    "        'computer': 'Windows'\n",
    "    },{\n",
    "        'name':'Matt',\n",
    "        'age': 15,\n",
    "        'computer': 'Mac'\n",
    "    },{\n",
    "        'name':'Nathan',\n",
    "        'age': 21,\n",
    "        'computer': 'Windows'\n",
    "    },{\n",
    "        'name':'Aaron',\n",
    "        'age': 12,\n",
    "        'computer': 'Mac'\n",
    "    },{\n",
    "        'name':'Nene',\n",
    "        'age': 26,\n",
    "        'computer': 'Windows'\n",
    "    },{\n",
    "        'name':'Deanne',\n",
    "        'age': 23,\n",
    "        'computer': 'Linux'\n",
    "    },{\n",
    "        'name':'Arthur',\n",
    "        'age': 43,\n",
    "        'computer': 'Linux'\n",
    "    },\n",
    "]"
   ]
  },
  {
   "cell_type": "markdown",
   "metadata": {},
   "source": [
    "# TASK 3\n",
    "Edit the code so that if the file is not found it will be created. Read the content of each file and print it to the screen\n",
    "\n",
    "### Expected output\n",
    "```python \n",
    "\"Hello i am file files/file0.txt\"\n",
    "\"Hello i am file files/file1.txt\"\n",
    "\"Hello i am file files/file2.txt\"\n",
    "\"Hello i am file files/file3.txt\"\n",
    "\"Hello i am file files/file4.txt\"\n",
    "\"Hello i am file files/file5.txt\"\n",
    "\"Hello i am file files/file6.txt\"\n",
    "\"Hello i am file files/file7.txt\"\n",
    "\"Hello i am file files/file8.txt\"\n",
    "\"Hello i am file files/file9.txt\"\n",
    "\"Hello i am file files/file10.txt\"\n",
    "```"
   ]
  },
  {
   "cell_type": "code",
   "execution_count": 9,
   "metadata": {},
   "outputs": [],
   "source": [
    "def create_dummy_files():\n",
    "    filenames = [f\"files/file{i}.txt\" for i in range(10) if i % 2 == 0]\n",
    "    for file in filenames:\n",
    "        with open(file, 'w') as f:\n",
    "            f.write(f\"Hello i am file {file}\")\n",
    "\n",
    "def read_dummy_files():\n",
    "    filenames = [f\"files/file{i}.txt\" for i in range(10)]\n",
    "    for file in filenames:\n",
    "        with open(file, 'r') as f:\n",
    "            f.write(f\"Hello i am file {file}\")\n",
    "\n"
   ]
  }
 ],
 "metadata": {
  "interpreter": {
   "hash": "f1a916808f2d29f1a5fbd48aa1cb9129993ca703ecce713879d0cd946e898e32"
  },
  "kernelspec": {
   "display_name": "Python 3.9.7 ('legacy')",
   "language": "python",
   "name": "python3"
  },
  "language_info": {
   "codemirror_mode": {
    "name": "ipython",
    "version": 3
   },
   "file_extension": ".py",
   "mimetype": "text/x-python",
   "name": "python",
   "nbconvert_exporter": "python",
   "pygments_lexer": "ipython3",
   "version": "3.9.7"
  },
  "orig_nbformat": 4
 },
 "nbformat": 4,
 "nbformat_minor": 2
}
