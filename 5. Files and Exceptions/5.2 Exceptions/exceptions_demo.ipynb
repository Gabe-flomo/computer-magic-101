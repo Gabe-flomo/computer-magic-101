{
 "cells": [
  {
   "cell_type": "markdown",
   "metadata": {},
   "source": [
    "# What is an exception and how do they occur\n",
    "An exception is an event, which occurs during the execution of a program that disrupts the normal flow of the program's instructions. In general, when a Python script encounters a situation that it cannot cope with, it raises an exception. An exception is a Python object that represents an error.\n",
    "\n",
    "# Types of exceptions\n",
    "There are many types of object that represent exceptions, however there are only 2 categories of exceptions that you can encounter. Syntactical errors and Logical errors.\n",
    "\n",
    "## Syntax errors\n",
    "Syntax errors, also known as parsing errors, are the most common kind of complaint you will get while still learning Python. These are errors caused by writing instructions that do not follow the proper structure of the language. You can think of a syntax error as writing code that simply doesn't make any sense.\n",
    "\n",
    "**For example:** `Walked stairs the Gabe down` makes 0 sense and it is because it is full of syntax errors. This sentence doesn't follow any of the rules or structure of the english language, making it hard to understand what it is trying to say.\n",
    "\n",
    "### Syntax error examples in python\n",
    "```python\n",
    "# starting a for loop without a colon\n",
    "for i in range(10)\n",
    "print(i)\n",
    "\n",
    "# just no\n",
    "print() name\n",
    "\n",
    "# what?\n",
    "while for i in range(i):\n",
    "    print(i)\n",
    "```\n",
    "\n",
    "## Logical Errors\n",
    "Errors that occur at runtime (While the program is running) are called exceptions or logical errors. For instance, they may occur when we trying to read a file that does not exist (FileNotFoundError), trying to divide a number by zero (ZeroDivisionError), or trying to import a module that does not exist (ImportError).\n",
    "Whenever these types of runtime errors occur, Python creates an exception object. If not handled properly, it prints a traceback to that error along with some details about why that error occurred.\n",
    "\n",
    "### Logical errors in python\n",
    "```python\n",
    "import NonExistentModule -> ImportError\n",
    "\n",
    "with open('NonExistentFile', 'r') as file: -> FileNotFoundError\n",
    "\n",
    "10 / 0 -> ZeroDivisionError\n",
    "```\n",
    "\n",
    "## Other types of Exceptions\n",
    "The full list of builtin exceptions can be found [here](https://www.programiz.com/python-programming/exceptions)"
   ]
  },
  {
   "cell_type": "code",
   "execution_count": null,
   "metadata": {},
   "outputs": [],
   "source": [
    "# cause a FileNotFound error"
   ]
  },
  {
   "cell_type": "code",
   "execution_count": null,
   "metadata": {},
   "outputs": [],
   "source": [
    "# cause a syntax error"
   ]
  },
  {
   "cell_type": "code",
   "execution_count": null,
   "metadata": {},
   "outputs": [],
   "source": [
    "# cause an IndexError"
   ]
  },
  {
   "cell_type": "markdown",
   "metadata": {},
   "source": [
    "# How to handle exceptions\n",
    "In python, exceptions can be handled by using a `try` `except` clause. The `try` statement will catch any error that occurs within the block of code that is written inside of it. You can then write code that will handle the code in the `except` statement. "
   ]
  },
  {
   "cell_type": "code",
   "execution_count": null,
   "metadata": {},
   "outputs": [],
   "source": [
    "#TODO handle the exception by using a try except clause\n",
    "value = 10 / 0"
   ]
  },
  {
   "cell_type": "markdown",
   "metadata": {},
   "source": [
    "# Catching specific exceptions\n",
    "In the example above, we wrote an except statement that will catch *all* exceptions and will handle them in the same way. Usually when writing code to catch exceptions, you won't know when or where the exception will occur until it has happened and once it has happened, you can see which exception has been thrown and handle each exception appropriately. \n",
    "\n",
    "**For example:** Consider the following list `[1, 2, '3', 4, 0]`. Say we want to loop through this list and divide 2 from every element. Because some of the elements aren't a numeric data type we will run into `TypeErrors`. Also some of the elements are equal to 0 so we will also get `ZeroDivision` errors. We can catch each of these errors individually and do different things depending on which error occurs.\n",
    "\n",
    "```python\n",
    "var = [1, 2, '3', 4, 0]\n",
    "for ele in var:  \n",
    "    try:\n",
    "        print(2 / ele)\n",
    "    except TypeError as err:\n",
    "        # Do something\n",
    "    except ZeroDivisionError as err:\n",
    "        # Do something\n",
    "```"
   ]
  },
  {
   "cell_type": "code",
   "execution_count": null,
   "metadata": {},
   "outputs": [],
   "source": [
    "#TODO Determine which errors will be raised and hande each error\n",
    "var = [str(x) if x % 3 == 0 else x for x in range(10)]\n",
    "for index in range(12):\n",
    "    element = var[index]\n",
    "    print(5 / element)\n",
    "\n",
    "    "
   ]
  },
  {
   "cell_type": "markdown",
   "metadata": {},
   "source": [
    "# The finally clause\n",
    "After you have caught all of your exceptions, you can add an optional statement called `finally` that will execute some code no matter what. So say for example you try to read from a file that doesn't exist so you get a `FileNotFound` error, you can catch the exception and create the file, then use finally to read from the file.\n",
    "\n",
    "```python \n",
    "file = 'file.txt\"\n",
    "try:\n",
    "    with open(file, 'r') as f:\n",
    "        content = f.read()\n",
    "except FileNotFound as err:\n",
    "    with open(file, 'w') as f:\n",
    "        f.write(\"File created\")\n",
    "finally:\n",
    "    with open(file, 'r') as f:\n",
    "        content = f.read()\n",
    "\n",
    "print(content) -> \"File created\"\n",
    "```\n"
   ]
  },
  {
   "cell_type": "markdown",
   "metadata": {},
   "source": [
    "# Assertions\n",
    "Assert statements are like little traffic stops in your code. It helps detect problems early in your program, where the cause is clear, rather than later when some other operation fails. A type error in Python, for example, can go through several layers of code before actually raising an Exception if not caught early on.\n",
    "\n",
    "### Creating an assertion statement\n",
    "```python\n",
    "assert condition, \"message\"\n",
    "```\n",
    "\n",
    "If the condition is `True` then the assertion test passes and the execution continues. However, if the condition is `False` the assertion statement will stop the execution and print out the `message` if there is one."
   ]
  },
  {
   "cell_type": "code",
   "execution_count": null,
   "metadata": {},
   "outputs": [],
   "source": [
    "#TODO assert that 2 + 2 == 4\n",
    "\n",
    "#TODO assert that 2 + 2 == 5\n",
    "\n",
    "#TODO assert that a the string 'Hello world' is less than 3 characters"
   ]
  },
  {
   "cell_type": "markdown",
   "metadata": {},
   "source": [
    "**Assertion Use case:** Say that we have a program that asks for a users age and we use the age to calculate a discount price using the formula `discount = (age * .05) + 10`. Users can get a maximum discount of 15% meaning that the maximum age of a user is 100 years old. If we don't add any assertion statements to verify that the discount percent does't go over a certain value, users could enter any age and get any amount discounted from the product.\n",
    "\n",
    "```python\n",
    "age = int(input(\"Your age: \"))\n",
    "y = (age * .05) + 10\n",
    "assert y <= 15 and y > 10, \"This is an invalid discount percentage\"\n",
    "```"
   ]
  },
  {
   "cell_type": "code",
   "execution_count": null,
   "metadata": {},
   "outputs": [],
   "source": [
    "#TODO edit the code so that the assertion doesn't evaluate to false\n",
    "number = int(input(\"Enter your phone number: \"))\n",
    "assert isinstance(number, str), \"The phone number needs to be a string\""
   ]
  },
  {
   "cell_type": "markdown",
   "metadata": {},
   "source": [
    "# Raising Exceptions\n",
    "Another way you can halt the execution of your program is simply to raise an exception yourself. Say for example that you write a function that requires the two integers as arguments. If for some reason, the values given to the function are not integers, you may want to stop the execution and raise an error before a much more troublesome problem occurs. You can raise an exception by using the `raise` keyword followed by the [exception that you want to raise](https://www.programiz.com/python-programming/exceptions).\n",
    "\n",
    "**Common Exceptions to raise are**\n",
    "* `ValueError`: Raised when a function gets an argument of correct type but improper value.\n",
    "* `TypeError`: Raised when a function or operation is applied to an object of incorrect type.\n",
    "* `AssertionError`: Raised when an assert statement fails.\n",
    "\n",
    "### Raising an exception\n",
    "```python \n",
    "raise ValueError(\"The value provided is incorrect\")\n",
    "raise TypeError(\"What is this type???\")\n",
    "raise AssertionError(\"You failed the test\")\n",
    "```"
   ]
  },
  {
   "cell_type": "code",
   "execution_count": null,
   "metadata": {},
   "outputs": [],
   "source": [
    "# Define a function that accepts 2 arguments\n",
    "# the first argument is a list\n",
    "# the second argument is an integer\n",
    "# have the function return True or False depending on if the length of the list is less than second argument\n",
    "# verify that the first argument is a list\n",
    "# verify that that the second argument is a whole number \n",
    "# raise a value error if either of these conditions are false"
   ]
  },
  {
   "cell_type": "code",
   "execution_count": null,
   "metadata": {},
   "outputs": [],
   "source": []
  }
 ],
 "metadata": {
  "interpreter": {
   "hash": "f1a916808f2d29f1a5fbd48aa1cb9129993ca703ecce713879d0cd946e898e32"
  },
  "kernelspec": {
   "display_name": "Python 3.9.7 ('legacy')",
   "language": "python",
   "name": "python3"
  },
  "language_info": {
   "codemirror_mode": {
    "name": "ipython",
    "version": 3
   },
   "file_extension": ".py",
   "mimetype": "text/x-python",
   "name": "python",
   "nbconvert_exporter": "python",
   "pygments_lexer": "ipython3",
   "version": "3.9.7"
  },
  "orig_nbformat": 4
 },
 "nbformat": 4,
 "nbformat_minor": 2
}
