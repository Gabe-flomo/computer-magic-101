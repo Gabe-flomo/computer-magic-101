{
 "cells": [
  {
   "cell_type": "markdown",
   "metadata": {},
   "source": [
    "# Instructions \n",
    "In this version of the project you are tasked with using the previous code from your bank project (`Functional Accounts`) but adding the functionality for users to save data. This will allow you to have multiple users at a bank and each user can login to their own accounts.\n",
    "\n",
    "## New functions\n",
    "- `Create account`: allows users to create an account (required for all users before they have access to the bank)\n",
    "    * `username`: the username of the account being created. This will also be the name of the file used to save the data\n",
    "    * `password`: the password used to verify the users account\n",
    "    * `data`: All account names and balances for that users account\n",
    "- `logout`: allows users to logout of their account and all account balances will be saved\n",
    "    * will save the current state of the users account\n",
    "- `login`: will use the username to locate the file and load the previous state of the users account\n",
    "    * `username`: used to locate the file\n",
    "    * `password`: Used to log the user into the account\n",
    "- `change password`: allows the user to change their password\n",
    "- `delete account`: allows the user to delete their account which will delete the file. See how to delete files [here](https://www.w3schools.com/python/python_file_remove.asp)\n",
    "\n",
    "***Use your knowledge of handling exceptions to catch any errors that may occur.***"
   ]
  },
  {
   "cell_type": "code",
   "execution_count": null,
   "metadata": {},
   "outputs": [],
   "source": []
  }
 ],
 "metadata": {
  "language_info": {
   "name": "python"
  },
  "orig_nbformat": 4
 },
 "nbformat": 4,
 "nbformat_minor": 2
}
