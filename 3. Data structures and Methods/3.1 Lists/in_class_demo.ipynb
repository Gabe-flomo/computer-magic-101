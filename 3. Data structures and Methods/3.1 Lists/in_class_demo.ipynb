{
 "cells": [
  {
   "cell_type": "markdown",
   "metadata": {},
   "source": [
    "# What Are Methods?\n",
    "In python Data structures like `lists`, `tuples`, `strings` and basically any other data type that isn't a literal value, are objects. Objects will be explained more thoroughly in ***Module 6*** but for now you can think of them as a collection of properties and functions.\n",
    "--\n",
    "\n",
    "<br>\n",
    "\n",
    "**For Example:** If we think of a car as an object, it has properties like `color`, `weight`, `make`, and `price` along with functionality such as `start()`, `stop()`, `drive()`, `brake()`, and so on.\n",
    "--\n",
    "<br>\n",
    "\n",
    "**Methods are functionality that is associated with objects**\n",
    "--\n",
    "\n",
    "\n",
    "------------------------"
   ]
  },
  {
   "cell_type": "markdown",
   "metadata": {},
   "source": [
    "# Slicing, Negative Indexing, and Comprehensions\n",
    "Although slicing, indexing, and comprehensions aren't methods, the functionality they provide is important enough for them to be talked about here.\n",
    "--\n",
    "\n",
    "<br>\n",
    "\n",
    "## **Negative Indexing**\n",
    "In python, we index values in a sequence from left to right, starting at 0. However, you can also index items in a sequence from right to left, starting at -1.\n",
    "\n",
    "<div style = \"text-align:center\">\n",
    "    <img src = \"images/indexing.png\" style = \"\">\n",
    "</div>\n"
   ]
  },
  {
   "cell_type": "code",
   "execution_count": null,
   "metadata": {},
   "outputs": [],
   "source": [
    "#TODO: Return elements in the list using negative indexing\n"
   ]
  },
  {
   "cell_type": "code",
   "execution_count": null,
   "metadata": {},
   "outputs": [],
   "source": [
    "#TODO: Return characters in the string using negative indexing\n"
   ]
  },
  {
   "cell_type": "markdown",
   "metadata": {},
   "source": [
    "# Slicing\n",
    "To access a range of items in a list, you need to slice a list. One way to do this is to use the simple slicing operator `:`.\n",
    "With this operator you can specify where to start the slicing, where to end and specify the step.\n",
    "--\n",
    "\n",
    "<div style = \"text-align:center\">\n",
    "    <img src = \"images/slice.png\" style = \"\">\n",
    "</div>\n"
   ]
  },
  {
   "cell_type": "code",
   "execution_count": null,
   "metadata": {},
   "outputs": [],
   "source": [
    "L = ['a', 'b', 'c', 'd', 'e', 'f', 'g', 'h', 'i']\n"
   ]
  },
  {
   "cell_type": "markdown",
   "metadata": {},
   "source": [
    "<div style = \"text-align:center\">\n",
    "    <img src = \"images/slice2.png\" style = \"\">\n",
    "</div>"
   ]
  },
  {
   "cell_type": "code",
   "execution_count": null,
   "metadata": {},
   "outputs": [],
   "source": [
    "#TODO: Slice the list to return the values 3 to 9\n",
    "var = [1,2,3,4,5,6,7,8,9,10,11,12,13,14,15]"
   ]
  },
  {
   "cell_type": "code",
   "execution_count": null,
   "metadata": {},
   "outputs": [],
   "source": [
    "#TODO: Slice everything from the beginning up to the 5th index\n",
    "var = [10, True, 11, False, 12, True, 13, False]"
   ]
  },
  {
   "cell_type": "code",
   "execution_count": null,
   "metadata": {},
   "outputs": [],
   "source": [
    "#TODO: Slice the string to return the substring 'burn'\n",
    "var = \"Washburn\""
   ]
  },
  {
   "cell_type": "markdown",
   "metadata": {},
   "source": [
    "# List Comprehensions\n",
    "\n",
    "Suppose you want to create a list of all integer square numbers from 2 to 4. You could build that list creating a `for loop` with a range of 2-5 and append the square of each value to a list.\n",
    "--"
   ]
  },
  {
   "cell_type": "code",
   "execution_count": null,
   "metadata": {},
   "outputs": [],
   "source": [
    "#TODO: write a for loop to add all squared values from 2 to 4 to a list\n",
    "squares = []\n"
   ]
  },
  {
   "cell_type": "markdown",
   "metadata": {},
   "source": [
    "However, this method uses more code than what is necessary for this task and we can simplify it using a list comprehension instead.\n",
    "--\n",
    "\n",
    "**List comprehensions are a way to build a new list by applying an expression to each item in an iterable.**\n",
    "--\n",
    "\n",
    "<div style = \"text-align:center\">\n",
    "    <img src = \"images/comprehension.png\" style = \"\">\n",
    "</div>"
   ]
  },
  {
   "cell_type": "code",
   "execution_count": null,
   "metadata": {},
   "outputs": [],
   "source": [
    "#TODO: Recreate the code from above using a list comprehension\n"
   ]
  },
  {
   "cell_type": "code",
   "execution_count": null,
   "metadata": {},
   "outputs": [],
   "source": [
    "#TODO: Use a list comprehension to create a list of values from 1 to 100\n"
   ]
  },
  {
   "cell_type": "code",
   "execution_count": null,
   "metadata": {},
   "outputs": [],
   "source": [
    "names = [\"Gabe\", \"Flomo\", \"Nathan\", \"Aaron\", \"Nene\"]\n",
    "#TODO: Use a list comprehension to get the first and last characters of the name\n",
    "\n"
   ]
  },
  {
   "cell_type": "markdown",
   "metadata": {},
   "source": [
    "-----\n",
    "# List Methods\n",
    "Ever since the Variables and data types chapter, you have already been exposed to the `.append()` method, which is probably the most common list methodsed. In this section of the chapter we will go over 5 new methods that will be useful for future tasks.\n",
    "\n",
    "* `.sort()`\n",
    "* `.copy()`\n",
    "* `.pop()`\n",
    "* `.extend()`\n",
    "* `.index()`"
   ]
  },
  {
   "cell_type": "markdown",
   "metadata": {},
   "source": [
    "# List Method: `.sort()`\n",
    "used to sort the elements in the list.\n",
    "--"
   ]
  },
  {
   "cell_type": "code",
   "execution_count": null,
   "metadata": {},
   "outputs": [],
   "source": [
    "#TODO: Sort a list of numbers\n",
    "var = [23, 0, 34, 211, 64, 775, 3, 7, 33445623, 76, .66542, -.00601]"
   ]
  },
  {
   "cell_type": "code",
   "execution_count": null,
   "metadata": {},
   "outputs": [],
   "source": [
    "#TODO: Sort a list of strings\n",
    "var = [\"B\", \"C\", \"Z\", \"A\", \"Apple\", \"Banana\"]\n"
   ]
  },
  {
   "cell_type": "code",
   "execution_count": null,
   "metadata": {},
   "outputs": [],
   "source": [
    "#TODO: Sort a list of lists\n",
    "var = [[3,2,3], [0,2,1], [0, .5, 3]]"
   ]
  },
  {
   "cell_type": "markdown",
   "metadata": {},
   "source": [
    "# List Method: `.copy()`\n",
    "Returns a copy of the list.\n",
    "--"
   ]
  },
  {
   "cell_type": "code",
   "execution_count": null,
   "metadata": {},
   "outputs": [],
   "source": [
    "#TODO: create a copy of the list\n",
    "var = [1,2,3,4,5]"
   ]
  },
  {
   "cell_type": "markdown",
   "metadata": {},
   "source": [
    "In order to create a copy of a list, you need to use the copy method. Assigning an existing list to a new variable doesn't create a new list, it creates a new reference to a list that already exists, meaning that altering one will alter the other.\n",
    "---"
   ]
  },
  {
   "cell_type": "code",
   "execution_count": null,
   "metadata": {},
   "outputs": [],
   "source": [
    "#TODO: show that assigning an existing list to a new variable does't actually copy the list\n",
    "var = [1,2,3,4,5]\n",
    "\n"
   ]
  },
  {
   "cell_type": "code",
   "execution_count": null,
   "metadata": {},
   "outputs": [],
   "source": [
    "#TODO: copy a list using slicing [:]\n",
    "var = [\"I\", \"am\", \"a\", \"person\"]\n"
   ]
  },
  {
   "cell_type": "markdown",
   "metadata": {},
   "source": [
    "# List Method: `.pop()`\n",
    "The pop() method removes a single list element at specified index and returns it. If no index is specified, pop() method removes and returns the last item in the list.\n",
    "--"
   ]
  },
  {
   "cell_type": "code",
   "execution_count": null,
   "metadata": {},
   "outputs": [],
   "source": [
    "#TODO: showcase the pop method\n",
    "var = [.32, 1.89, 'flamingo']"
   ]
  },
  {
   "cell_type": "code",
   "execution_count": null,
   "metadata": {},
   "outputs": [],
   "source": [
    "#TODO: pop the first element of the list and print the value and the length before and after popping\n",
    "var = [12, 9, .432]\n"
   ]
  },
  {
   "cell_type": "markdown",
   "metadata": {},
   "source": [
    "# List Method: `.extend()`\n",
    "The extend() method extends the list by appending all the items from the iterable to the end of the list. This method does not return anything; it modifies the list in place.\n",
    "--"
   ]
  },
  {
   "cell_type": "code",
   "execution_count": null,
   "metadata": {},
   "outputs": [],
   "source": [
    "#TODO: Show what happens when you append an iterable to a list\n",
    "var = [5,6,7,8,9,10]"
   ]
  },
  {
   "cell_type": "code",
   "execution_count": null,
   "metadata": {},
   "outputs": [],
   "source": [
    "#TODO: Show what happens when you extend a list with another iterable\n",
    "var = [5, 6, 7, 8, 9, 10]\n"
   ]
  },
  {
   "cell_type": "markdown",
   "metadata": {},
   "source": [
    "# List method: `.index()`\n",
    "The index() method searches for the first occurrence of the given item and returns its index. If specified item is not found, it raises ‘ValueError’ exception.\n",
    "--"
   ]
  },
  {
   "cell_type": "code",
   "execution_count": null,
   "metadata": {},
   "outputs": [],
   "source": [
    "#TODO: What is the index of `green`\n",
    "colors = ['red', 'green', 'blue', 'yellow']\n"
   ]
  },
  {
   "cell_type": "markdown",
   "metadata": {},
   "source": [
    "-----\n",
    "# Creating Lists with unique values only\n",
    "Say we have a list of names of students in a school and we don't actually care about how many student there, we only care about what the unique names are. For example, consider the following list.\n",
    "---\n",
    "\n",
    "```python \n",
    "[\n",
    "    'Gabe',\n",
    "    'Alex',\n",
    "    'Matt',\n",
    "    'Alex',\n",
    "    'Naomi',\n",
    "    'Alex'\n",
    "]\n",
    "```\n",
    "\n",
    "There are 6 students total, but I only care about how many unique names are present in the list. The unique names in this list are `[\"Gabe\", \"Alex\", \"Matt\", \"Naomi\"]` which reduces our list from 6 to 4. One way to achieve this result in python is to cast our list to the `set` data type then back into a `list`.\n",
    "--\n",
    "\n",
    "## [sets](https://www.learnbyexample.org/python-set/)\n",
    "Sets are not going to be formally covered in this course, however, they do have some functionality that will be useful for future projects so we will briefly cover them here. A set is similar to a list or tuple with the only difference being that it does not allow you to have duplicate elements. To create a set from a list, use the `set()` constructor.\n",
    "--\n",
    "\n",
    "```python \n",
    "var = [1,2,3,3,3,4,5,5,5]\n",
    "converted = set(var) -> {1,2,3,4,5}\n",
    "```\n",
    "\n",
    "Since we aren't interested in using the `set` as it is, we can convert it back to a list by calling the list constructor around the set.\n",
    "--\n",
    "\n",
    "```python\n",
    "var = [1,2,3,3,3,4,5,5,5]\n",
    "converted = list(set(var)) -> [1,2,3,4,5]\n",
    "```\n",
    "\n",
    "Now we have a list with only the unique values from our original list.\n",
    "--\n",
    "\n"
   ]
  },
  {
   "cell_type": "code",
   "execution_count": null,
   "metadata": {},
   "outputs": [],
   "source": [
    "#TODO convert the list into a list with only the unique elements\n",
    "var = [5, 6, 5, 5, 6, 4, 7,6, 6, 7, 8, 4, 5, 5, 4]"
   ]
  },
  {
   "cell_type": "markdown",
   "metadata": {},
   "source": [
    "One use case for doing this is to create a count of all the unique elements in a list. By creating a list with only the unique elements from the original list, we can loop over the elements in the set and count how many times that element appears in our original list.\n",
    "--"
   ]
  },
  {
   "cell_type": "code",
   "execution_count": null,
   "metadata": {},
   "outputs": [],
   "source": [
    "#TODO create a counter using a set\n",
    "var = [5, 6, 5, 5, 6, 4, 7, 6, 6, 7, 8, 4, 5, 5, 4]"
   ]
  }
 ],
 "metadata": {
  "interpreter": {
   "hash": "fd61235da8d855c081cbd5d7c6398e4c179a40a950675235256f7f30499f1124"
  },
  "kernelspec": {
   "display_name": "Python 3.7.4 64-bit ('base': conda)",
   "name": "python3"
  },
  "language_info": {
   "codemirror_mode": {
    "name": "ipython",
    "version": 3
   },
   "file_extension": ".py",
   "mimetype": "text/x-python",
   "name": "python",
   "nbconvert_exporter": "python",
   "pygments_lexer": "ipython3",
   "version": "3.7.4"
  },
  "orig_nbformat": 4
 },
 "nbformat": 4,
 "nbformat_minor": 2
}
