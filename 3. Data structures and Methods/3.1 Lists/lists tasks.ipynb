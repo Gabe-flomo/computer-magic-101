{
 "cells": [
  {
   "cell_type": "markdown",
   "metadata": {},
   "source": [
    "# TASK 1\n",
    "use negative indexing to return the 3rd value in the list\n",
    "--"
   ]
  },
  {
   "cell_type": "code",
   "execution_count": null,
   "metadata": {},
   "outputs": [],
   "source": [
    "var = [\"I\", \"am\", \"the\", \"third\", \"index\"]\n",
    "#TODO"
   ]
  },
  {
   "cell_type": "markdown",
   "metadata": {},
   "source": [
    "# TASK 2\n",
    "Slice the list so that the following gets returned:\n",
    "`[(5, 10), (11, -2), (8, -12)]`\n",
    "--"
   ]
  },
  {
   "cell_type": "code",
   "execution_count": null,
   "metadata": {},
   "outputs": [],
   "source": [
    "points = [(23, 56),  (5, 10), (11, -2), (8, -12),  (-5, -5), (0, 4)]\n",
    "#TODO"
   ]
  },
  {
   "cell_type": "markdown",
   "metadata": {},
   "source": [
    "# TASK 3\n",
    "Slice the list so that everything after the 3rd position gets returned.\n",
    "--"
   ]
  },
  {
   "cell_type": "code",
   "execution_count": null,
   "metadata": {},
   "outputs": [],
   "source": [
    "prices = [4.99, 3.50, 99.99, 10.00, 5.85, 6.90, .25, 55.00]\n",
    "#TODO"
   ]
  },
  {
   "cell_type": "markdown",
   "metadata": {},
   "source": [
    "# TASK 4\n",
    "Slice the string so that the following gets returned: **\"Battery life\"**\n",
    "---"
   ]
  },
  {
   "cell_type": "code",
   "execution_count": null,
   "metadata": {},
   "outputs": [],
   "source": [
    "message = \"Amazing battery life. And a 14‑inch or 16‑inch Liquid Retina XDR display.\"\n",
    "#TODO\n"
   ]
  },
  {
   "cell_type": "markdown",
   "metadata": {},
   "source": [
    "# TASK 5\n",
    "In this example we have a list of words and we want to create a new list with only the last character from each word. Convert the for loop that does this below into a list comprehension.\n",
    "---"
   ]
  },
  {
   "cell_type": "code",
   "execution_count": null,
   "metadata": {},
   "outputs": [],
   "source": [
    "var = [\"Hello\", \"Washburn\", \"big\", \"banana\", \"saw\", \"dad\"]\n",
    "new = []\n",
    "for word in var:\n",
    "    new.append(word[-1])\n",
    "\n",
    "#TODO\n"
   ]
  },
  {
   "cell_type": "markdown",
   "metadata": {},
   "source": [
    "# TASK 6\n",
    "In this example, we have a for loop that iterates over a list of numbers and squares them. For each number in the list, a tuple is created with the original number and its squared value which is then appended to a new list resulting in a list of tuples. Convert the for loop implementation into a list comprehension.\n",
    "----\n",
    "\n",
    "### Example Output:\n",
    "[(5, 25), (11, 121), (8, 64)]"
   ]
  },
  {
   "cell_type": "code",
   "execution_count": null,
   "metadata": {},
   "outputs": [],
   "source": [
    "var = [.554, 32.5, 88.88, 43.5, 32, 54, 62, 100]\n",
    "new = []\n",
    "for value in var:\n",
    "    tup = (value, value ** 2)\n",
    "    new.append(tup)\n",
    "\n",
    "#TODO"
   ]
  },
  {
   "cell_type": "markdown",
   "metadata": {},
   "source": [
    "# TASK 7\n",
    "Write a list comprehension to create a list of cubed values (to the power of 3) from 1 to 15.\n",
    "---"
   ]
  },
  {
   "cell_type": "code",
   "execution_count": null,
   "metadata": {},
   "outputs": [],
   "source": [
    "#TODO"
   ]
  },
  {
   "cell_type": "markdown",
   "metadata": {},
   "source": [
    "# TASK 8\n",
    "Write a list comprehension to create the numbers 0 to 100 and assign it to the variable `hundred`. Then write a for loop or list comprehension to create a new list with only the even numbers from the `hundred` list.\n",
    "---\n",
    "\n",
    "### Example output\n",
    "`[0, 2, 4, 6, 8, 10, 12, ... 100]`"
   ]
  },
  {
   "cell_type": "code",
   "execution_count": null,
   "metadata": {},
   "outputs": [],
   "source": [
    "#TODO"
   ]
  },
  {
   "cell_type": "markdown",
   "metadata": {},
   "source": [
    "# TASK 9\n",
    "Calculate and return the median value of the list *(May need to use floor division -> `//`)*\n",
    "--\n",
    "\n",
    "### Example output:\n",
    "`[43, 54, 22, 12, 78] -> meadian = 43` \n",
    "\n",
    "**The median is the middle index of a sorted list of numbers**"
   ]
  },
  {
   "cell_type": "code",
   "execution_count": null,
   "metadata": {},
   "outputs": [],
   "source": [
    "#TODO:\n",
    "var = [4, 5, 2, 4, 6]"
   ]
  },
  {
   "cell_type": "markdown",
   "metadata": {},
   "source": [
    "# TASK 10\n",
    "write a for loop that removes and returns the values in the last index of the list. Print the values as they're returned.\n",
    "\n",
    "**Sample output:**\n",
    "[1,2,3]\n",
    "> value = 3, [1,2]\n",
    "\n",
    "> value = 2, [1]\n",
    "\n",
    "> value = 1, []\n"
   ]
  },
  {
   "cell_type": "code",
   "execution_count": null,
   "metadata": {},
   "outputs": [],
   "source": [
    "var = [\"last\", True, 5+5, False, [1,2,3], \"first\"]\n",
    "#TODO:"
   ]
  },
  {
   "cell_type": "markdown",
   "metadata": {},
   "source": [
    "# TASK 11\n",
    "\n",
    "Below is a list of numbers, some of which are repeated. Use a list comprehension or for loop to count how many times each number appears and create a tuple with the original number and its count. Append the tuple to a new list to create a list of tuples.\n",
    "---\n",
    "\n",
    "### Example output:\n",
    "`[1,2,2,2,3,4,4,4,5,5,6,6,7,7,7,8,8,8,8,8] -> [(1, 1), (2, 3), (4, 3), (5, 2), (6, 2), (7, 3), (8, 5)]`\n",
    "\n",
    "\n",
    "***DO NOT USE THE COUNTER METHOD FROM COLLECTIONS***\n"
   ]
  },
  {
   "cell_type": "code",
   "execution_count": null,
   "metadata": {},
   "outputs": [],
   "source": [
    "values = [10, 10, 2, 43, 43, 90, 2, 2, 10, 5, 68, 86, 86, 86, 86, 100, 0.5, .5, .5, 10, 19, 20, 20, 20, 20, 20, 20, 20, 20]"
   ]
  }
 ],
 "metadata": {
  "interpreter": {
   "hash": "fd61235da8d855c081cbd5d7c6398e4c179a40a950675235256f7f30499f1124"
  },
  "kernelspec": {
   "display_name": "Python 3.7.4 64-bit ('base': conda)",
   "name": "python3"
  },
  "language_info": {
   "codemirror_mode": {
    "name": "ipython",
    "version": 3
   },
   "file_extension": ".py",
   "mimetype": "text/x-python",
   "name": "python",
   "nbconvert_exporter": "python",
   "pygments_lexer": "ipython3",
   "version": "3.7.4"
  },
  "orig_nbformat": 4
 },
 "nbformat": 4,
 "nbformat_minor": 2
}
