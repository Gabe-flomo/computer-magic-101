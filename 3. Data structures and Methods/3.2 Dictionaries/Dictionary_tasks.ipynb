{
  "cells": [
    {
      "cell_type": "markdown",
      "metadata": {
        "colab_type": "text",
        "id": "view-in-github"
      },
      "source": [
        "<a href=\"https://colab.research.google.com/github/Gabe-flomo/Python-Course/blob/main/Modules/3.%20Data%20structures%20and%20Methods/3.2%20Dictionaries/Dictionary_tasks.ipynb\" target=\"_parent\"><img src=\"https://colab.research.google.com/assets/colab-badge.svg\" alt=\"Open In Colab\"/></a>"
      ]
    },
    {
      "cell_type": "markdown",
      "metadata": {
        "id": "jj598watez6Q"
      },
      "source": [
        "# PART 1 Tasks\n",
        "---"
      ]
    },
    {
      "cell_type": "markdown",
      "metadata": {
        "id": "uOT8pKOQez6R"
      },
      "source": [
        "# TASK 1\n",
        "Create a dictionary where the keys are numbers and the values are equal to the number squared"
      ]
    },
    {
      "cell_type": "code",
      "execution_count": null,
      "metadata": {
        "id": "ajRkaV1Oez6R"
      },
      "outputs": [],
      "source": [
        "#TODO"
      ]
    },
    {
      "cell_type": "markdown",
      "metadata": {
        "id": "N9ofOF2Kez6R"
      },
      "source": [
        "# TASK 2\n",
        "Using the dictionary from Task 1, loop through the keys to print out all the values."
      ]
    },
    {
      "cell_type": "code",
      "execution_count": null,
      "metadata": {
        "id": "DpDs6b0Eez6R"
      },
      "outputs": [],
      "source": [
        "#TODO"
      ]
    },
    {
      "cell_type": "markdown",
      "metadata": {
        "id": "_253Qr5wez6R"
      },
      "source": [
        "# TASK 3\n",
        "create a dictionary called `temperature` with the keys `low, medium, high`. Try and access the key `extreme`, which should result in an error. Resolve this error by having the dictionary return \"Extreme not in temperature\"."
      ]
    },
    {
      "cell_type": "code",
      "execution_count": null,
      "metadata": {
        "id": "cNFJZD9fez6R"
      },
      "outputs": [],
      "source": [
        "#TODO"
      ]
    },
    {
      "cell_type": "markdown",
      "metadata": {
        "id": "ErABLKpxez6R"
      },
      "source": [
        "# TASK 4\n",
        "***Below is a dictionary with words as the keys and `None` as the value. You are also provided with a list that contains all of the keys in the dictionary, plus a few extra.*** \n",
        "\n",
        "Your task is to loop through the list and check if the key is present in the dictionary.\n",
        "- If the key is present, update the value to be equal to the length of the word\n",
        "- If the key is not present, add the key to the dictionary and set the value equal to the length of the word\n",
        "\n",
        "### ***Example Input***\n",
        "\n",
        "`d = {'Hello':None, \"world\": None}`\n",
        "\n",
        "`l = [\"hello\", \"world\", \"good\", \"day\"]`\n",
        "### ***Expected output***\n",
        "`print(d) -> {'Hello':5, \"world\": 5, \"good\": 4, \"day\": 3}`\n",
        "\n"
      ]
    },
    {
      "cell_type": "code",
      "execution_count": null,
      "metadata": {
        "id": "V4gpW0rIez6S"
      },
      "outputs": [],
      "source": [
        "d = {\n",
        "    \"green\": None,\n",
        "    \"eggs\": None\n",
        "}\n",
        "\n",
        "l = [\n",
        "    \"green\",\n",
        "    \"eggs\",\n",
        "    \"and\",\n",
        "    \"ham\"\n",
        "]\n",
        "\n",
        "#TODO: update the dictionary to add all of the elements from the list as keys, and the length of each element as the values"
      ]
    },
    {
      "cell_type": "markdown",
      "metadata": {
        "id": "r_O2n7ozez6S"
      },
      "source": [
        "# TASK 5\n",
        "Create a dictionary where a color are the keys and the values are a list of objects that are that color. For example,\n",
        "`\"red\": [\"stop sign\", \"red pepper\", \"blood\"]`. Then write a for loop to print each key, and another for loop inside the first one to print each value.\n",
        "\n",
        "### **Example Output**\n",
        "```python\n",
        "{\n",
        "    'red':[\"stop sign\", \"red pepper\", \"blood\"],\n",
        "    'blue': ['sky', 'water', 'blueberry']\n",
        "}\n",
        "\n",
        "# output\n",
        "red\n",
        "    stop sign \n",
        "    red pepper\n",
        "    blood\n",
        "\n",
        "blue \n",
        "    sky\n",
        "    water\n",
        "    blueberry\n",
        "```\n",
        "\n",
        "***HINT: May need to use nested for loops***"
      ]
    },
    {
      "cell_type": "code",
      "execution_count": null,
      "metadata": {
        "id": "isGePu39ez6S"
      },
      "outputs": [],
      "source": [
        "#TODO"
      ]
    },
    {
      "cell_type": "markdown",
      "metadata": {},
      "source": [
        "-----\n",
        "# Dictionary Tasks part 2"
      ]
    },
    {
      "cell_type": "markdown",
      "metadata": {},
      "source": [
        "# TASK 1\n",
        "Using a for loop, have 3 different users enter their name and favorite food to create a list of tuples. Then use the list of tuples to create a dictionary.\n",
        "\n",
        "### Example output\n",
        "```python\n",
        "{\n",
        "    'gabe' : 'sushi',\n",
        "    'nathan' : 'pasta',\n",
        "    'cianni': 'alfredo'\n",
        "}\n",
        "```"
      ]
    },
    {
      "cell_type": "code",
      "execution_count": null,
      "metadata": {},
      "outputs": [],
      "source": [
        "# Solution goes here"
      ]
    },
    {
      "cell_type": "markdown",
      "metadata": {},
      "source": [
        "# TASK 2 \n",
        "Use the list below to create a dictionary with the default values of 10\n",
        "\n",
        "### Expected output\n",
        "```python\n",
        "{\n",
        "    'dime': 10,\n",
        "    'decade': 10,\n",
        "    '1 + 9': 10\n",
        "}\n",
        "```"
      ]
    },
    {
      "cell_type": "code",
      "execution_count": null,
      "metadata": {},
      "outputs": [],
      "source": [
        "var = [\"Dime\", \"Decade\", \"1 + 9\"]\n",
        "# Solution goes here"
      ]
    },
    {
      "cell_type": "markdown",
      "metadata": {},
      "source": [
        "# TASK 3\n",
        "Given the dictionary below, group the keys by type and also show which type has the most files."
      ]
    },
    {
      "cell_type": "code",
      "execution_count": null,
      "metadata": {},
      "outputs": [],
      "source": [
        "var = {\n",
        "    'file1': 'audio',\n",
        "    'file2': 'document',\n",
        "    'file3': 'document',\n",
        "    'file4': 'project',\n",
        "    'file5': 'audio',\n",
        "    'file6': \"document\",\n",
        "    'file7': \"project\",\n",
        "    'file8': 'project',\n",
        "    'file9': \"project\",\n",
        "    'file10': \"audio\"\n",
        "}"
      ]
    },
    {
      "cell_type": "markdown",
      "metadata": {},
      "source": [
        "# TASK 4\n",
        "using the dictionary from task 3, print out the number of unique categories in the dictionary and what those categories are."
      ]
    },
    {
      "cell_type": "code",
      "execution_count": null,
      "metadata": {},
      "outputs": [],
      "source": [
        "#TODO"
      ]
    },
    {
      "cell_type": "markdown",
      "metadata": {},
      "source": [
        "# TASK 5\n",
        "Create a new list in the dictionary that is equal to the sum of each of the elements in the list and tuple.\n",
        "\n",
        "### Expected output\n",
        "```python\n",
        "var = {\n",
        "    'list': [43, 12, 53, 66],\n",
        "    'tuple': (23, 66, 12, 77),\n",
        "    'sum': [66, 78, 65, 143]\n",
        "}\n",
        "```"
      ]
    },
    {
      "cell_type": "code",
      "execution_count": null,
      "metadata": {},
      "outputs": [],
      "source": [
        "var = {\n",
        "    'list': [43, 12, 53, 66],\n",
        "    'tuple': (23, 66, 12, 77)\n",
        "}\n",
        "\n",
        "v1 = var['list']\n",
        "v2 = var['tuple']\n",
        "for element in range(len(v1)):\n",
        "    add = v1[element] + v2[element]\n",
        "    var.setdefault('sum', [])\n",
        "    var['sum'].append(add)\n",
        "\n",
        "var"
      ]
    },
    {
      "cell_type": "markdown",
      "metadata": {},
      "source": [
        "# TASK 6\n",
        "using the dataset below, find the year when the population was the largest and create a dictionary with the year as the key and the population as the value.\n",
        "\n",
        "### Example output\n",
        "```python \n",
        "{\n",
        "    2019: 54388234\n",
        "}\n",
        "```"
      ]
    },
    {
      "cell_type": "code",
      "execution_count": null,
      "metadata": {},
      "outputs": [],
      "source": [
        "import requests\n",
        "def get_data():\n",
        "    data = requests.get(\"https://datausa.io/api/data?drilldowns=Nation&measures=Population\").json()\n",
        "    return data['data']\n",
        "\n",
        "data = get_data()\n",
        "data"
      ]
    },
    {
      "cell_type": "markdown",
      "metadata": {},
      "source": [
        "# TASK 7 \n",
        "calling the `get_user()` will return information for a random made up user account. Use the dictionary to create a new dictionary with the following items. Do this for 3 random users and create a list of dictionaries where each dictionary is a list element. Then print out each of the random users names and city.\n",
        "\n",
        "* gender\n",
        "* city\n",
        "* first and last name (combined)\n",
        "* username\n",
        "* password\n",
        "\n",
        "## Example ouput\n",
        "```python\n",
        "[\n",
        "    {\n",
        "        'gender': 'Male',\n",
        "        'city' : 'Minneapolis',\n",
        "        'name': 'gabe flomo',\n",
        "        'username': 'gabe111',\n",
        "        'password': 'securepassword'\n",
        "    },\n",
        "    {\n",
        "        'gender': 'Female',\n",
        "        'city' : 'Chicago',\n",
        "        'name': 'Cherelle bower',\n",
        "        'username': 'cherelle111',\n",
        "        'password': 'securepassword'\n",
        "    },\n",
        "    {\n",
        "        'gender': 'Male',\n",
        "        'city' : 'Minneapolis',\n",
        "        'name': 'Nathan flomo',\n",
        "        'username': 'Nathan111',\n",
        "        'password': 'securepassword'\n",
        "    }\n",
        "]\n",
        "\n",
        "#output\n",
        "\"Gabe - Minneapolis\"\n",
        "\"Cherelle - Chicago\"\n",
        "\"Nathan - Minneapolis\"\n",
        "```\n",
        "\n",
        "**Each time you call the `get_user()` function, you will get different data**"
      ]
    },
    {
      "cell_type": "code",
      "execution_count": null,
      "metadata": {},
      "outputs": [],
      "source": [
        "def get_user():\n",
        "    data = requests.get(\"https://randomuser.me/api/\").json()\n",
        "    return data['results'][0]\n",
        "\n",
        "data = get_user()\n",
        "data"
      ]
    },
    {
      "cell_type": "code",
      "execution_count": null,
      "metadata": {},
      "outputs": [],
      "source": []
    }
  ],
  "metadata": {
    "colab": {
      "include_colab_link": true,
      "name": "Dictionary_tasks.ipynb",
      "provenance": []
    },
    "interpreter": {
      "hash": "f1a916808f2d29f1a5fbd48aa1cb9129993ca703ecce713879d0cd946e898e32"
    },
    "kernelspec": {
      "display_name": "Python 3.9.7 64-bit ('legacy': conda)",
      "language": "python",
      "name": "python3"
    },
    "language_info": {
      "codemirror_mode": {
        "name": "ipython",
        "version": 3
      },
      "file_extension": ".py",
      "mimetype": "text/x-python",
      "name": "python",
      "nbconvert_exporter": "python",
      "pygments_lexer": "ipython3",
      "version": "3.9.7"
    },
    "orig_nbformat": 4
  },
  "nbformat": 4,
  "nbformat_minor": 0
}
