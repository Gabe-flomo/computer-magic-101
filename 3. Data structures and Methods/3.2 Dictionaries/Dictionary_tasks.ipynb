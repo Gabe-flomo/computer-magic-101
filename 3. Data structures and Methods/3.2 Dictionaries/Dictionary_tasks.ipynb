{
  "nbformat": 4,
  "nbformat_minor": 0,
  "metadata": {
    "language_info": {
      "name": "python"
    },
    "orig_nbformat": 4,
    "colab": {
      "name": "Dictionary_tasks.ipynb",
      "provenance": [],
      "include_colab_link": true
    }
  },
  "cells": [
    {
      "cell_type": "markdown",
      "metadata": {
        "id": "view-in-github",
        "colab_type": "text"
      },
      "source": [
        "<a href=\"https://colab.research.google.com/github/Gabe-flomo/Python-Course/blob/main/Modules/3.%20Data%20structures%20and%20Methods/3.2%20Dictionaries/Dictionary_tasks.ipynb\" target=\"_parent\"><img src=\"https://colab.research.google.com/assets/colab-badge.svg\" alt=\"Open In Colab\"/></a>"
      ]
    },
    {
      "cell_type": "markdown",
      "metadata": {
        "id": "jj598watez6Q"
      },
      "source": [
        "# PART 1 Tasks\n",
        "---"
      ]
    },
    {
      "cell_type": "markdown",
      "metadata": {
        "id": "uOT8pKOQez6R"
      },
      "source": [
        "# TASK 1\n",
        "Create a dictionary where the keys are numbers and the values are equal to the number squared"
      ]
    },
    {
      "cell_type": "code",
      "metadata": {
        "id": "ajRkaV1Oez6R"
      },
      "source": [
        "#TODO"
      ],
      "execution_count": null,
      "outputs": []
    },
    {
      "cell_type": "markdown",
      "metadata": {
        "id": "N9ofOF2Kez6R"
      },
      "source": [
        "# TASK 2\n",
        "Using the dictionary from Task 1, loop through the keys to print out all the values."
      ]
    },
    {
      "cell_type": "code",
      "metadata": {
        "id": "DpDs6b0Eez6R"
      },
      "source": [
        "#TODO"
      ],
      "execution_count": null,
      "outputs": []
    },
    {
      "cell_type": "markdown",
      "metadata": {
        "id": "_253Qr5wez6R"
      },
      "source": [
        "# TASK 3\n",
        "create a dictionary called `temperature` with the keys `low, medium, high`. Try and access the key `extreme`, which should result in an error. Resolve this error by having the dictionary return \"Extreme not in temperature\"."
      ]
    },
    {
      "cell_type": "code",
      "metadata": {
        "id": "cNFJZD9fez6R"
      },
      "source": [
        "#TODO"
      ],
      "execution_count": null,
      "outputs": []
    },
    {
      "cell_type": "markdown",
      "metadata": {
        "id": "ErABLKpxez6R"
      },
      "source": [
        "# TASK 4\n",
        "***Below is a dictionary with words as the keys and `None` as the value. You are also provided with a list that contains all of the keys in the dictionary, plus a few extra.*** \n",
        "\n",
        "Your task is to loop through the list and check if the key is present in the dictionary.\n",
        "- If the key is present, update the value to be equal to the length of the word\n",
        "- If the key is not present, add the key to the dictionary and set the value equal to the length of the word\n",
        "\n",
        "### ***Example Input***\n",
        "\n",
        "`d = {'Hello':None, \"world\": None}`\n",
        "\n",
        "`l = [\"hello\", \"world\", \"good\", \"day\"]`\n",
        "### ***Expected output***\n",
        "`print(d) -> {'Hello':5, \"world\": 5, \"good\": 4, \"day\": 3}`\n",
        "\n"
      ]
    },
    {
      "cell_type": "code",
      "metadata": {
        "id": "V4gpW0rIez6S"
      },
      "source": [
        "d = {\n",
        "    \"green\": None,\n",
        "    \"eggs\": None\n",
        "}\n",
        "\n",
        "l = [\n",
        "    \"green\",\n",
        "    \"eggs\",\n",
        "    \"and\",\n",
        "    \"ham\"\n",
        "]\n",
        "\n",
        "#TODO: update the dictionary to add all of the elements from the list as keys, and the length of each element as the values"
      ],
      "execution_count": null,
      "outputs": []
    },
    {
      "cell_type": "markdown",
      "metadata": {
        "id": "r_O2n7ozez6S"
      },
      "source": [
        "# TASK 5\n",
        "Create a dictionary where a color are the keys and the values are a list of objects that are that color. For example,\n",
        "`\"red\": [\"stop sign\", \"red pepper\", \"blood\"]`. Then write a for loop to print each key, and another for loop inside the first one to print each value.\n",
        "\n",
        "### **Example Output**\n",
        "```python\n",
        "{\n",
        "    'red':[\"stop sign\", \"red pepper\", \"blood\"],\n",
        "    'blue': ['sky', 'water', 'blueberry']\n",
        "}\n",
        "\n",
        "# output\n",
        "red\n",
        "    stop sign \n",
        "    red pepper\n",
        "    blood\n",
        "\n",
        "blue \n",
        "    sky\n",
        "    water\n",
        "    blueberry\n",
        "```\n",
        "\n",
        "***HINT: May need to use nested for loops***"
      ]
    },
    {
      "cell_type": "code",
      "metadata": {
        "id": "isGePu39ez6S"
      },
      "source": [
        "#TODO"
      ],
      "execution_count": null,
      "outputs": []
    }
  ]
}