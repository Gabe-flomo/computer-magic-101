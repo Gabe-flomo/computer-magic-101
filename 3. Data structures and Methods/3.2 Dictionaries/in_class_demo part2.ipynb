{
  "cells": [
    {
      "cell_type": "markdown",
      "metadata": {
        "colab_type": "text",
        "id": "view-in-github"
      },
      "source": [
        "<a href=\"https://colab.research.google.com/github/Gabe-flomo/Python-Course/blob/main/Modules/3.%20Data%20structures%20and%20Methods/3.2%20Dictionaries/in_class_demo%20part2.ipynb\" target=\"_parent\"><img src=\"https://colab.research.google.com/assets/colab-badge.svg\" alt=\"Open In Colab\"/></a>"
      ]
    },
    {
      "cell_type": "markdown",
      "metadata": {
        "id": "1oyFusbNe50D"
      },
      "source": [
        "# Other ways to create dictionaries\n",
        "Like with many other concepts in python, there are multiple ways to create dictionaries. In this section we will look at the most useful alternatives to creating this data structure.\n",
        "\n",
        "# The `dict()` constructor\n",
        "Since dictionaries are a collection of items, or `key:value` pairs, we can create a list containing 2 element tuples that can be converted into items in a dictionary.\n",
        "--\n",
        "\n",
        "```python \n",
        "items = [\n",
        "    ('name', 'Gabe'),\n",
        "    ('age', 22),\n",
        "    ('job', 'instructor')\n",
        "]\n",
        "```\n",
        "\n",
        "Now that we have our list of items, all we need to do is call the `dict()` constructor and give it our list of items and it will convert it to a dictionary for us.\n",
        "--\n",
        "\n",
        "```python\n",
        "dictionary = dict(items)\n",
        "print(dictionary) -> {'name': 'Gabe', 'age', 22, 'job', 'instructor'}\n",
        "\n",
        "```"
      ]
    },
    {
      "cell_type": "code",
      "execution_count": 2,
      "metadata": {
        "id": "8yMNSUYge50F",
        "outputId": "18843870-4691-420d-8bda-01de6749986b"
      },
      "outputs": [
        {
          "data": {
            "text/plain": [
              "{'name': 'Bill', 'age': 33, 'job': 'janitors'}"
            ]
          },
          "execution_count": 2,
          "metadata": {},
          "output_type": "execute_result"
        }
      ],
      "source": [
        "#TODO create a list of tuples and convert it inot a dictionary\n",
        "emp = [\n",
        "    ('name', 'Bill'),\n",
        "    ('age', 33),\n",
        "    ('job', 'janitors')\n",
        "]\n",
        "\n",
        "emp = dict(emp)\n",
        "emp\n",
        "\n",
        "\n"
      ]
    },
    {
      "cell_type": "code",
      "execution_count": 4,
      "metadata": {
        "id": "VT3MAfBMe50G",
        "outputId": "5a830cd0-cae7-4576-8920-63e9cc5bde7e"
      },
      "outputs": [
        {
          "data": {
            "text/plain": [
              "{'gabe': 'IT', 'elias': 'HR', 'oliver': 'CEO'}"
            ]
          },
          "execution_count": 4,
          "metadata": {},
          "output_type": "execute_result"
        }
      ],
      "source": [
        "#TODO Lets use a for loop to create an employee list of tuples, then convert it into a dictionary\n",
        "# create an empty list\n",
        "employees_list = []\n",
        "# create a for loop that iterates 3 times\n",
        "for _ in range(3):\n",
        "    # get the employee name\n",
        "    name = input(\"Enter your name: \")\n",
        "    # get the employee department\n",
        "    department = input(\"Whats your department: \")\n",
        "    # create a tuple with the name and department\n",
        "    info = (name, department)\n",
        "    # add the employee tuple to the list of employees\n",
        "    employees_list.append(info)\n",
        "\n",
        "# create a dictionary from the list of employee tuples\n",
        "employees_list = dict(employees_list)\n",
        "employees_list"
      ]
    },
    {
      "cell_type": "markdown",
      "metadata": {
        "id": "HSPmyTA2e50H"
      },
      "source": [
        "# The `.fromkeys()` method\n",
        "The `.fromkeys()` method is a way to create a dictionary from another iterable object. Given a sequence, like a list or tuple, the `.fromkeys()` method will create a dictionary where the keys of the dictionary are generated from the elements of the sequence.\n",
        "--\n",
        "\n",
        "```python \n",
        "var = [\"Name\", \"age\", \"title\"]\n",
        "dictionary = dict.fromkeys(var) -> {\"Name\": None, \"age\": None, \"title\": None}\n",
        "```\n",
        "\n",
        "When the dictionary gets created, all the values are set to `None` by default. `None` in python basically means *no type* or *not a value* which isn't very useful. To resolve this issue, the `.fromkeys()` method can take a second argument that will specify a default value for each of keys in our dictionary.\n",
        "--\n",
        "\n",
        "```python \n",
        "var = [\"Name\", \"age\", \"title\"]\n",
        "default = 'unknown'\n",
        "dictionary = dict.fromkeys(var, default) -> {\"Name\": 'unknown', \"age\": 'unknown', \"title\": 'unknown'}\n",
        "```"
      ]
    },
    {
      "cell_type": "code",
      "execution_count": 5,
      "metadata": {
        "id": "oERJbR-6e50H",
        "outputId": "9e01b7b8-fb5c-4d1e-df31-75a0e5fb5d04"
      },
      "outputs": [
        {
          "data": {
            "text/plain": [
              "{'python': 'general_purpose',\n",
              " 'C++': 'general_purpose',\n",
              " 'Java': 'general_purpose'}"
            ]
          },
          "execution_count": 5,
          "metadata": {},
          "output_type": "execute_result"
        }
      ],
      "source": [
        "#TODO create a list of programming languages then create a dictionary and  set the default value to 'general_purpose'\n",
        "languages = ['python', 'C++', 'Java']\n",
        "default = \"general_purpose\"\n",
        "dictionary = dict.fromkeys(languages, default)\n",
        "dictionary"
      ]
    },
    {
      "cell_type": "markdown",
      "metadata": {
        "id": "hfhtVnpke50H"
      },
      "source": [
        "# Accessing all keys, values, and item pairs\n",
        "Say we have a dictionary of social media apps where the app name is the key and the app type or category are the values.\n",
        "--\n",
        "```python\n",
        "{\n",
        "    'Snapchat': 'social networking',\n",
        "    'discord': 'social networking',\n",
        "    'twitter': 'microblogging',\n",
        "    'instagram': 'media sharing',\n",
        "    'vsco': 'media sharing'\n",
        "}\n",
        "```\n",
        "Given this information, we want to create a new dictionary where the app category is the key and the apps that fall under that category are our values. We are going to look at a few ways to do this using the `.keys(), .values(), and .items()` dictionary methods.\n",
        "--\n",
        "-----\n",
        "# *.keys()*\n",
        "The `keys()` method returns an iterable object containing all the keys in a dictionary.\n",
        "--"
      ]
    },
    {
      "cell_type": "code",
      "execution_count": 15,
      "metadata": {
        "id": "YO6l4pcme50I",
        "outputId": "4b2bfb6f-7171-4df2-ef2c-2d2d2015921f"
      },
      "outputs": [
        {
          "data": {
            "text/plain": [
              "dict_keys(['Snapchat', 'discord', 'twitter', 'instagram', 'vsco'])"
            ]
          },
          "execution_count": 15,
          "metadata": {},
          "output_type": "execute_result"
        }
      ],
      "source": [
        "data = {\n",
        "    'Snapchat': 'social networking',\n",
        "    'discord': 'social networking',\n",
        "    'twitter': 'microblogging',\n",
        "    'instagram': 'media sharing',\n",
        "    'vsco': 'media sharing'\n",
        "}\n",
        "\n",
        "#TODO get all the keys from the dict and show its type\n",
        "keys = data.keys()\n",
        "keys"
      ]
    },
    {
      "cell_type": "code",
      "execution_count": 20,
      "metadata": {
        "id": "WycNhhX2e50I",
        "outputId": "5efde594-05cb-4061-f897-c29083f6ee8f"
      },
      "outputs": [
        {
          "data": {
            "text/plain": [
              "['Snapchat', 'discord', 'twitter', 'instagram', 'vsco']"
            ]
          },
          "execution_count": 20,
          "metadata": {},
          "output_type": "execute_result"
        }
      ],
      "source": [
        "#TODO cast the keys to a list\n",
        "keys = list(keys)\n",
        "keys"
      ]
    },
    {
      "cell_type": "markdown",
      "metadata": {
        "id": "sMtPIKmse50J"
      },
      "source": [
        "-------\n",
        "# *.values()*\n",
        "The `values()` method returns all the values in a dictionary.\n",
        "--"
      ]
    },
    {
      "cell_type": "code",
      "execution_count": 21,
      "metadata": {
        "id": "Cs9dnvPpe50J",
        "outputId": "71ad22f0-16c1-4517-c4a0-6128eb281551"
      },
      "outputs": [
        {
          "data": {
            "text/plain": [
              "dict_values(['social networking', 'social networking', 'microblogging', 'media sharing', 'media sharing'])"
            ]
          },
          "execution_count": 21,
          "metadata": {},
          "output_type": "execute_result"
        }
      ],
      "source": [
        "#TODO get all of the dictionary values and show its type\n",
        "data.values()"
      ]
    },
    {
      "cell_type": "code",
      "execution_count": 22,
      "metadata": {
        "id": "eERSlKede50J",
        "outputId": "690476dc-53a9-4d0a-f14f-cfc653197b93"
      },
      "outputs": [
        {
          "data": {
            "text/plain": [
              "['social networking',\n",
              " 'social networking',\n",
              " 'microblogging',\n",
              " 'media sharing',\n",
              " 'media sharing']"
            ]
          },
          "execution_count": 22,
          "metadata": {},
          "output_type": "execute_result"
        }
      ],
      "source": [
        "#TODO We can convert the values into a list by casting it as well\n",
        "list(data.values())"
      ]
    },
    {
      "cell_type": "markdown",
      "metadata": {
        "id": "mUQkz3fae50K"
      },
      "source": [
        "-----\n",
        "# *.items()*\n",
        "This method returns all the keys and values of the dictionary at the same time.\n",
        "--"
      ]
    },
    {
      "cell_type": "code",
      "execution_count": 27,
      "metadata": {
        "id": "Vh3MUQYje50K",
        "outputId": "a867c345-cd05-4d6e-d227-ca901dcdc4c1"
      },
      "outputs": [
        {
          "data": {
            "text/plain": [
              "[('Snapchat', 'social networking'),\n",
              " ('discord', 'social networking'),\n",
              " ('twitter', 'microblogging'),\n",
              " ('instagram', 'media sharing'),\n",
              " ('vsco', 'media sharing')]"
            ]
          },
          "execution_count": 27,
          "metadata": {},
          "output_type": "execute_result"
        }
      ],
      "source": [
        "list(data.items())"
      ]
    },
    {
      "cell_type": "markdown",
      "metadata": {
        "id": "X0Xk-np8e50K"
      },
      "source": [
        "Notice how the items get returned as a list of tuples, this goes back to the dictionary constructor where we could intialize a dictionary simply by giving it a list of tuples, or in other words, a list of items. We can convert this list of items from the type `dict_items` to a `list` by using the same casting technique.\n",
        "--"
      ]
    },
    {
      "cell_type": "code",
      "execution_count": null,
      "metadata": {
        "id": "QeheSvKWe50K",
        "outputId": "952df434-7dbc-47cf-ccdb-84645ce95165"
      },
      "outputs": [],
      "source": []
    },
    {
      "cell_type": "markdown",
      "metadata": {},
      "source": [
        "# Looping through keys, values and items\n",
        "Since the each of these methods are used to convert the dictionary into some kind of iterable, we are able to loop through them as if they were lists."
      ]
    },
    {
      "cell_type": "code",
      "execution_count": null,
      "metadata": {},
      "outputs": [],
      "source": [
        "data = {\n",
        "    'Snapchat': 'social networking',\n",
        "    'discord': 'social networking',\n",
        "    'twitter': 'microblogging',\n",
        "    'instagram': 'media sharing',\n",
        "    'vsco': 'media sharing'\n",
        "}\n"
      ]
    },
    {
      "cell_type": "code",
      "execution_count": 29,
      "metadata": {},
      "outputs": [
        {
          "name": "stdout",
          "output_type": "stream",
          "text": [
            "Snapchat\n",
            "discord\n",
            "twitter\n",
            "instagram\n",
            "vsco\n"
          ]
        }
      ],
      "source": [
        "#TODO Loop through dictionary keys\n",
        "for key in data.keys():\n",
        "    print(key)"
      ]
    },
    {
      "cell_type": "code",
      "execution_count": 30,
      "metadata": {},
      "outputs": [
        {
          "name": "stdout",
          "output_type": "stream",
          "text": [
            "social networking\n",
            "social networking\n",
            "microblogging\n",
            "media sharing\n",
            "media sharing\n"
          ]
        }
      ],
      "source": [
        "#TODO loop through dictionary values\n",
        "for value in data.values():\n",
        "    print(value)"
      ]
    },
    {
      "cell_type": "code",
      "execution_count": 38,
      "metadata": {},
      "outputs": [
        {
          "name": "stdout",
          "output_type": "stream",
          "text": [
            "Snapchat social networking\n",
            "discord social networking\n",
            "twitter microblogging\n",
            "instagram media sharing\n",
            "vsco media sharing\n"
          ]
        }
      ],
      "source": [
        "#TODO loop through dictionary items\n",
        "for key, value in data.items():\n",
        "    print(key, value)"
      ]
    },
    {
      "cell_type": "code",
      "execution_count": 39,
      "metadata": {},
      "outputs": [
        {
          "name": "stdout",
          "output_type": "stream",
          "text": [
            "('Snapchat', 'social networking')\n",
            "('discord', 'social networking')\n",
            "('twitter', 'microblogging')\n",
            "('instagram', 'media sharing')\n",
            "('vsco', 'media sharing')\n"
          ]
        }
      ],
      "source": [
        "#TODO loop through dictionary items by unpacking the pairs\n",
        "for item in data.items():\n",
        "    print(item)"
      ]
    },
    {
      "cell_type": "markdown",
      "metadata": {
        "id": "m0WOIE_xe50L"
      },
      "source": [
        "# Nested Data structures\n",
        "A nested data structure is basically a data structure that has another data structure as one of its elements. You've already seen something this when working with a `list of tuples` or a `list of lists` and you can also do this with dictionaries. All you have to do is add the data structure as one of the values to your dictionary and you're set."
      ]
    },
    {
      "cell_type": "code",
      "execution_count": 41,
      "metadata": {},
      "outputs": [
        {
          "data": {
            "text/plain": [
              "{'integers': [1, 2, 3, 4, 5], 'floats': [1.1, 2.2, 3.3, 4.4, 5.5]}"
            ]
          },
          "execution_count": 41,
          "metadata": {},
          "output_type": "execute_result"
        }
      ],
      "source": [
        "#TODO create a dictionary with a list as its values\n",
        "var = {\n",
        "    'integers': [1,2,3,4,5],\n",
        "    'floats': [1.1, 2.2, 3.3, 4.4, 5.5]\n",
        "}\n",
        "\n",
        "var\n"
      ]
    },
    {
      "cell_type": "markdown",
      "metadata": {},
      "source": [
        "# Question: If I want to return the number 3.3 from my dictionary how should I do it?"
      ]
    },
    {
      "cell_type": "code",
      "execution_count": 45,
      "metadata": {},
      "outputs": [
        {
          "data": {
            "text/plain": [
              "3.3"
            ]
          },
          "execution_count": 45,
          "metadata": {},
          "output_type": "execute_result"
        }
      ],
      "source": [
        "#TODO return the value 3.3\n",
        "var['floats'][2]\n"
      ]
    },
    {
      "cell_type": "code",
      "execution_count": 46,
      "metadata": {},
      "outputs": [],
      "source": [
        "var['floats'].append(6.6)\n"
      ]
    },
    {
      "cell_type": "code",
      "execution_count": 47,
      "metadata": {},
      "outputs": [
        {
          "data": {
            "text/plain": [
              "{'integers': [1, 2, 3, 4, 5], 'floats': [1.1, 2.2, 3.3, 4.4, 5.5, 6.6]}"
            ]
          },
          "execution_count": 47,
          "metadata": {},
          "output_type": "execute_result"
        }
      ],
      "source": [
        "var"
      ]
    },
    {
      "cell_type": "markdown",
      "metadata": {},
      "source": [
        "## Dictionary inside of a dictionary\n",
        "Noy only can you nest list/tuples or any other data structure inside of dictionaries, but you can also nest a dictionary inside of itself."
      ]
    },
    {
      "cell_type": "code",
      "execution_count": 48,
      "metadata": {},
      "outputs": [
        {
          "data": {
            "text/plain": [
              "{'dict1': {'bool': True, 'list': [1, 2, 3, 4, 5]},\n",
              " 'dict2': {'bool': False, 'tuple': (5, 4, 3, 2, 1)}}"
            ]
          },
          "execution_count": 48,
          "metadata": {},
          "output_type": "execute_result"
        }
      ],
      "source": [
        "#TODO create a nested dictionary dict1 and dict2 with lists and bools as values\n",
        "var = {\n",
        "    'dict1': {\n",
        "        'bool': True,\n",
        "        'list': [1,2,3,4,5]\n",
        "    },\n",
        "    'dict2': {\n",
        "        'bool':False,\n",
        "        'tuple': (5,4,3,2,1)\n",
        "    }\n",
        "}\n",
        "\n",
        "var"
      ]
    },
    {
      "cell_type": "markdown",
      "metadata": {},
      "source": [
        "# Question: If I wanted to access the list in dict2, how would I do it?"
      ]
    },
    {
      "cell_type": "code",
      "execution_count": 53,
      "metadata": {},
      "outputs": [
        {
          "data": {
            "text/plain": [
              "{'bool': False, 'tuple': (5, 4, 3, 2, 1)}"
            ]
          },
          "execution_count": 53,
          "metadata": {},
          "output_type": "execute_result"
        }
      ],
      "source": [
        "#TODO access the list in dict2\n",
        "var['dict2']"
      ]
    },
    {
      "cell_type": "markdown",
      "metadata": {
        "id": "ldYjXp0We50L"
      },
      "source": [
        "----\n",
        "# Mini Project: Clustering app names by category\n",
        "Utilize either the `keys()`, `values()`, or `items()` methods along with nested data types to group the resturaunts by category.\n",
        "\n",
        "### Expected output\n",
        "```python\n",
        "resturaunts = {\n",
        "    'mcdonalds': 'fast food',\n",
        "    'wakame': 'sushi',\n",
        "    'wendys': 'fast food',\n",
        "    'caribou': 'cafe',\n",
        "    'starbucks': 'cafe',\n",
        "    'burger king': 'fast food',\n",
        "    'bagu': 'sushi',\n",
        "    'popeyes': 'fast food',\n",
        "    'dunkin doughnuts': 'cafe',\n",
        "    'kyoto sushi': 'sushi'\n",
        "}\n",
        "\n",
        "categories = {\n",
        "    'fast food': ['mcdonalds', 'wendys', 'burger king', 'popeyes'],\n",
        "    'cafe': ['caribou', 'starbucks', 'dunkin doughnuts'],\n",
        "    'sushi': ['wakame', 'kyoto sushi', 'bagu sushi'],\n",
        "}\n",
        "```"
      ]
    },
    {
      "cell_type": "code",
      "execution_count": 58,
      "metadata": {},
      "outputs": [
        {
          "data": {
            "text/plain": [
              "{'fast food': ['mcdonalds', 'wendys', 'burger king', 'popeyes'],\n",
              " 'sushi': ['wakame', 'bagu', 'kyoto sushi'],\n",
              " 'cafe': ['caribou', 'starbucks', 'dunkin doughnuts']}"
            ]
          },
          "execution_count": 58,
          "metadata": {},
          "output_type": "execute_result"
        }
      ],
      "source": [
        "resturaunts = {\n",
        "    'mcdonalds': 'fast food',\n",
        "    'wakame': 'sushi',\n",
        "    'wendys': 'fast food',\n",
        "    'caribou': 'cafe',\n",
        "    'starbucks': 'cafe',\n",
        "    'burger king': 'fast food',\n",
        "    'bagu': 'sushi',\n",
        "    'popeyes': 'fast food',\n",
        "    'dunkin doughnuts': 'cafe',\n",
        "    'kyoto sushi': 'sushi'\n",
        "}\n",
        "\n",
        "#TODO group by catagory\n",
        "categories = {}\n",
        "\n",
        "for key, value in resturaunts.items():\n",
        "    if value not in categories:\n",
        "        categories[value] = [key]\n",
        "    else:\n",
        "        categories[value].append(key)\n",
        "\n",
        "categories"
      ]
    },
    {
      "cell_type": "markdown",
      "metadata": {
        "id": "TYuQ2Vwje50L"
      },
      "source": [
        "# Other Methods\n",
        "In this section we will look at some of the remaining dictionary methods that'll be useful for current and future projects.\n",
        "\n",
        "* `.pop()`, `.popitem()`, and `.clear()`\n",
        "* `.update()`\n",
        "* `setdefault()`\n",
        "\n",
        "\n",
        "## Removing items from dictionaries\n",
        "There are 3 methods that can be used to remove items from dictionaries. `pop(key)` removes and returns the item with the specified key, `popitem()` returns and removes the last added item, and `clear()` deletes all items in the dictionary."
      ]
    },
    {
      "cell_type": "code",
      "execution_count": 65,
      "metadata": {},
      "outputs": [
        {
          "data": {
            "text/plain": [
              "{'bunjee': None, 'great': None}"
            ]
          },
          "execution_count": 65,
          "metadata": {},
          "output_type": "execute_result"
        }
      ],
      "source": [
        "#TODO remove all items where the key starts with the letter F\n",
        "var = {\n",
        "    'filler': None,\n",
        "    'bunjee': None,\n",
        "    'fast': None,\n",
        "    'furious': None,\n",
        "    'great': None,\n",
        "    'fax': None\n",
        "}\n",
        "\n",
        "var.pop('filler')\n",
        "var.pop('fast')\n",
        "var.pop('furious')\n",
        "var.pop('fax')\n",
        "\n",
        "var\n"
      ]
    },
    {
      "cell_type": "code",
      "execution_count": null,
      "metadata": {},
      "outputs": [],
      "source": [
        "var"
      ]
    },
    {
      "cell_type": "code",
      "execution_count": 67,
      "metadata": {},
      "outputs": [
        {
          "data": {
            "text/plain": [
              "{1: 1.11, 2: 2.22, 3: 3.33}"
            ]
          },
          "execution_count": 67,
          "metadata": {},
          "output_type": "execute_result"
        }
      ],
      "source": [
        "#TODO create a dictionary of integer keys and float values. Remove the last item\n",
        "var = {\n",
        "    1: 1.11,\n",
        "    2: 2.22,\n",
        "    3: 3.33,\n",
        "    4: 4.44\n",
        "}\n",
        "\n",
        "var.popitem()\n",
        "var"
      ]
    },
    {
      "cell_type": "code",
      "execution_count": 68,
      "metadata": {},
      "outputs": [
        {
          "data": {
            "text/plain": [
              "{}"
            ]
          },
          "execution_count": 68,
          "metadata": {},
          "output_type": "execute_result"
        }
      ],
      "source": [
        "#TODO delete all items from the dictionary\n",
        "var = {\n",
        "    \"I\": \"am\",\n",
        "    \"A\": \"Dictionary\",\n",
        "    'And': \"I\", \n",
        "    \"Want\": \"to\",\n",
        "    \"Be\": \"Deleted 🥲\"\n",
        "}\n",
        "\n",
        "var.clear()\n",
        "var"
      ]
    },
    {
      "cell_type": "markdown",
      "metadata": {},
      "source": [
        "# Combining dictionaries\n",
        "The `update()` method inserts the specified items to the dictionary.\n",
        "The specified items can be a dictionary, or an iterable object with key value pairs.\n",
        "\n",
        "```python\n",
        "dict.update(items)\n",
        "```"
      ]
    },
    {
      "cell_type": "code",
      "execution_count": 73,
      "metadata": {},
      "outputs": [
        {
          "data": {
            "text/plain": [
              "{'one': 1,\n",
              " 'one-hundred': 100,\n",
              " 'ninety-nine-thousand': 99000,\n",
              " 'one and a half': 1.5,\n",
              " 'two and three quarters': 2.75,\n",
              " 'pi': 3.14159,\n",
              " 'name': 'Gabe'}"
            ]
          },
          "execution_count": 73,
          "metadata": {},
          "output_type": "execute_result"
        }
      ],
      "source": [
        "#TODO update the float dictionary to also hold integers by combining the integers and float dictionaries\n",
        "integers = {\n",
        "    'one': 1,\n",
        "    'one-hundred': 100,\n",
        "    'ninety-nine-thousand': 99000\n",
        "}\n",
        "\n",
        "floats = {\n",
        "    'one and a half': 1.5,\n",
        "    'two and three quarters': 2.75,\n",
        "    'pi': 3.14159\n",
        "}\n",
        "\n",
        "var = {\n",
        "    'name': 'Gabe'\n",
        "}\n",
        "\n",
        "integers.update(floats)\n",
        "integers.update(var)\n",
        "integers\n",
        "\n"
      ]
    },
    {
      "cell_type": "code",
      "execution_count": 74,
      "metadata": {},
      "outputs": [
        {
          "data": {
            "text/plain": [
              "{'Iron man': 'Marvel',\n",
              " 'spider man': 'Marvel',\n",
              " 'batman': 'DC',\n",
              " 'wonder woman': 'DC',\n",
              " 'venom': 'marvel',\n",
              " 'joker': 'DC'}"
            ]
          },
          "execution_count": 74,
          "metadata": {},
          "output_type": "execute_result"
        }
      ],
      "source": [
        "#TODO update the dictionary with a list of item tuples\n",
        "var = {\n",
        "    'Iron man':'Marvel',\n",
        "    'spider man': 'Marvel',\n",
        "    'batman': 'DC'\n",
        "}\n",
        "\n",
        "items = [\n",
        "    ('wonder woman', 'DC'),\n",
        "    (\"venom\", \"marvel\"),\n",
        "    (\"joker\", \"DC\")\n",
        "]\n",
        "\n",
        "var.update(items)\n",
        "var\n"
      ]
    },
    {
      "cell_type": "markdown",
      "metadata": {},
      "source": [
        "# Default values\n",
        "The `setdefault()` method returns the value of the item with the specified key.\n",
        "If the key does not exist, insert the key, with the specified value. If the key does exist, the original value will be returned.\n",
        "\n",
        "***This methog is similar to `.get()` except that this method will actuall create a new `key : value` pair if the key doesn't exist.***\n",
        "\n",
        "```python\n",
        "dict.setdefault(key, value)\n",
        "```"
      ]
    },
    {
      "cell_type": "code",
      "execution_count": 79,
      "metadata": {},
      "outputs": [
        {
          "data": {
            "text/plain": [
              "{'uber': 'car', 'air uber': 'plane', 'space uber': 'rocketship'}"
            ]
          },
          "execution_count": 79,
          "metadata": {},
          "output_type": "execute_result"
        }
      ],
      "source": [
        "var = {\n",
        "    'uber': 'car',\n",
        "    'air uber': \"plane\"\n",
        "}\n",
        "\n",
        "# use setdefault to return the value for uber\n",
        "var.setdefault('uber', 'pickup')\n",
        "# use setdefault to return the value for air uber\n",
        "var.setdefault('air uber')\n",
        "# use setdefault to return the value for space uber, if the key is not present set the value to rocketship\n",
        "var.setdefault(\"space uber\", 'rocketship')\n",
        "var"
      ]
    },
    {
      "cell_type": "markdown",
      "metadata": {},
      "source": [
        "## Using setdefault to simplify our resturaunt grouping\n",
        "In the original project, if we wanted to add a new key and value, we had to check if the key existed in the dictionary already. If it didn't exist, we would create the key and set its value as a list. \n",
        "\n",
        "We can simplify this with the `setdefault()` method to check and create the `key : value` pair for us."
      ]
    },
    {
      "cell_type": "code",
      "execution_count": 83,
      "metadata": {},
      "outputs": [
        {
          "data": {
            "text/plain": [
              "{'fast food': ['mcdonalds', 'wendys', 'burger king', 'popeyes'],\n",
              " 'sushi': ['wakame', 'bagu', 'kyoto sushi'],\n",
              " 'cafe': ['caribou', 'starbucks', 'dunkin doughnuts']}"
            ]
          },
          "execution_count": 83,
          "metadata": {},
          "output_type": "execute_result"
        }
      ],
      "source": [
        "resturaunts = {\n",
        "    'mcdonalds': 'fast food',\n",
        "    'wakame': 'sushi',\n",
        "    'wendys': 'fast food',\n",
        "    'caribou': 'cafe',\n",
        "    'starbucks': 'cafe',\n",
        "    'burger king': 'fast food',\n",
        "    'bagu': 'sushi',\n",
        "    'popeyes': 'fast food',\n",
        "    'dunkin doughnuts': 'cafe',\n",
        "    'kyoto sushi': 'sushi'\n",
        "}\n",
        "\n",
        "#TODO group by catagory\n",
        "categories = {}\n",
        "\n",
        "for key, value in resturaunts.items():\n",
        "    if value not in categories:\n",
        "        categories[value] = [key]\n",
        "    else:\n",
        "        categories[value].append(key)\n",
        "\n",
        "categories"
      ]
    },
    {
      "cell_type": "code",
      "execution_count": 84,
      "metadata": {},
      "outputs": [
        {
          "data": {
            "text/plain": [
              "{'fast food': ['mcdonalds', 'wendys', 'burger king', 'popeyes'],\n",
              " 'sushi': ['wakame', 'bagu', 'kyoto sushi'],\n",
              " 'cafe': ['caribou', 'starbucks', 'dunkin doughnuts']}"
            ]
          },
          "execution_count": 84,
          "metadata": {},
          "output_type": "execute_result"
        }
      ],
      "source": [
        "categories2 = {}\n",
        "\n",
        "for key, value in resturaunts.items():\n",
        "    categories2.setdefault(value, [])\n",
        "    categories2[value].append(key)\n",
        "    \n",
        "categories2"
      ]
    },
    {
      "cell_type": "code",
      "execution_count": null,
      "metadata": {},
      "outputs": [],
      "source": []
    }
  ],
  "metadata": {
    "colab": {
      "include_colab_link": true,
      "name": "in_class_demo part2.ipynb",
      "provenance": []
    },
    "interpreter": {
      "hash": "fd61235da8d855c081cbd5d7c6398e4c179a40a950675235256f7f30499f1124"
    },
    "kernelspec": {
      "display_name": "Python 3.7.4 64-bit ('base': conda)",
      "name": "python3"
    },
    "language_info": {
      "codemirror_mode": {
        "name": "ipython",
        "version": 3
      },
      "file_extension": ".py",
      "mimetype": "text/x-python",
      "name": "python",
      "nbconvert_exporter": "python",
      "pygments_lexer": "ipython3",
      "version": "3.9.7"
    },
    "orig_nbformat": 4
  },
  "nbformat": 4,
  "nbformat_minor": 0
}
