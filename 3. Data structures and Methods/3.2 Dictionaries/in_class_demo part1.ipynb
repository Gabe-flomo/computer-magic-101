{
  "nbformat": 4,
  "nbformat_minor": 0,
  "metadata": {
    "interpreter": {
      "hash": "fd61235da8d855c081cbd5d7c6398e4c179a40a950675235256f7f30499f1124"
    },
    "kernelspec": {
      "display_name": "Python 3.7.4 64-bit ('base': conda)",
      "name": "python3"
    },
    "language_info": {
      "codemirror_mode": {
        "name": "ipython",
        "version": 3
      },
      "file_extension": ".py",
      "mimetype": "text/x-python",
      "name": "python",
      "nbconvert_exporter": "python",
      "pygments_lexer": "ipython3",
      "version": "3.9.7"
    },
    "orig_nbformat": 4,
    "colab": {
      "name": "in_class_demo part1.ipynb",
      "provenance": [],
      "include_colab_link": true
    }
  },
  "cells": [
    {
      "cell_type": "markdown",
      "metadata": {
        "id": "view-in-github",
        "colab_type": "text"
      },
      "source": [
        "<a href=\"https://colab.research.google.com/github/Gabe-flomo/Python-Course/blob/main/Modules/3.%20Data%20structures%20and%20Methods/3.2%20Dictionaries/in_class_demo%20part1.ipynb\" target=\"_parent\"><img src=\"https://colab.research.google.com/assets/colab-badge.svg\" alt=\"Open In Colab\"/></a>"
      ]
    },
    {
      "cell_type": "markdown",
      "metadata": {
        "id": "q3lb6seWeeDr"
      },
      "source": [
        "# Dictionaries\n",
        "\n",
        "You can think of a dictionary as a mapping between a set of keys and a set of values. Each key maps to a value. The association of a key and a value is called a **key:value** pair or sometimes an item.\n",
        "--\n",
        "\n",
        "**As an example, we’ll build a dictionary that stores employee record.**\n",
        "--\n",
        "\n",
        "<img src = \"imgs/dict.png\">\n"
      ]
    },
    {
      "cell_type": "markdown",
      "metadata": {
        "id": "KxVMca_4eeDt"
      },
      "source": [
        "# Creating Dictionaries\n",
        "You can create a dictionary by placing a comma-separated list of `key:value` pairs in curly braces `{}`. Each key is separated from its associated value by a colon `:`\n",
        "--\n",
        "\n",
        "```python\n",
        "dictionary = {'key': 'value',\n",
        "              'key2': 'value2'}\n",
        "```\n",
        "\n",
        ">Think about a dictionary in python as being like an actual dictionary, or phone book. All of the words in a dictionary are unique yet two unique words may share similar definitions"
      ]
    },
    {
      "cell_type": "code",
      "metadata": {
        "id": "4hGUnDY1eeDt"
      },
      "source": [
        "#TODO: Build the dictionary that stores employee records\n",
        "\n"
      ],
      "execution_count": null,
      "outputs": []
    },
    {
      "cell_type": "markdown",
      "metadata": {
        "id": "y5IMoxNfeeDu"
      },
      "source": [
        "# Properties of a Dictionary\n",
        "----------\n",
        "\n",
        "## **Keys must be unique:**\n",
        "A key can appear in a dictionary only once.\n",
        "---\n",
        "\n",
        "**if you specify a key more than once during the creation of a dictionary, the last value for that key becomes the associated value.**\n"
      ]
    },
    {
      "cell_type": "code",
      "metadata": {
        "id": "Emrdm7_GeeDu"
      },
      "source": [
        "#TODO: Create a dictionary with some of the keys being identical"
      ],
      "execution_count": null,
      "outputs": []
    },
    {
      "cell_type": "markdown",
      "metadata": {
        "id": "C7BmPsxQeeDu"
      },
      "source": [
        "## **Keys must be immutable:**\n",
        "> *Remember, immutable types can't change.* \n",
        "\n",
        "You can create a key in a dictionary using any immutable data type – such as *numbers, strings, booleans or tuples.*\n",
        "--"
      ]
    },
    {
      "cell_type": "code",
      "metadata": {
        "id": "foq2fR9ueeDv"
      },
      "source": [
        "#TODO Create a dictionary with the key data types -> number, string, tuple"
      ],
      "execution_count": null,
      "outputs": []
    },
    {
      "cell_type": "code",
      "metadata": {
        "id": "0K4onEOkeeDv"
      },
      "source": [
        "#TODO Show what happens when a key is created with a mutable type, such as a list"
      ],
      "execution_count": null,
      "outputs": []
    },
    {
      "cell_type": "markdown",
      "metadata": {
        "id": "jOd4QG_xeeDv"
      },
      "source": [
        "## **Value can be of any type:**\n",
        "There are no restrictions on dictionary values. A dictionary value can be any type of object and can appear in a dictionary multiple times.\n",
        "--"
      ]
    },
    {
      "cell_type": "code",
      "metadata": {
        "id": "wQSpG6Z9eeDw"
      },
      "source": [
        "#TODO Create dictionary values of types -> string, list, tuple\n"
      ],
      "execution_count": null,
      "outputs": []
    },
    {
      "cell_type": "code",
      "metadata": {
        "id": "R7z0wAvLeeDw"
      },
      "source": [
        "#TODO Create a dictionary with all identical values\n"
      ],
      "execution_count": null,
      "outputs": []
    },
    {
      "cell_type": "markdown",
      "metadata": {
        "id": "2f_prb8deeDw"
      },
      "source": [
        "# Accessing Dictionary Items\n",
        "-----\n",
        "Unlike lists or tuples, the items of a dictionary are not indexed with integer indices. Instead, you use the keys to access the corresponding values.\n",
        "--\n",
        "\n",
        "***You can fetch a value from a dictionary by referring to its key in square brackets [].***\n",
        "\n",
        "```python\n",
        "D = {'name': 'Bob',\n",
        "     'age': 25,\n",
        "     'job': 'Dev'}\n",
        "\n",
        "print(D['name'])\n",
        "# Prints Bob\n",
        "```"
      ]
    },
    {
      "cell_type": "code",
      "metadata": {
        "id": "RoT2GskMeeDw"
      },
      "source": [
        "#TODO print the name and age from the dictionary\n",
        "var = {'name': 'Gabe',\n",
        "       'age': 22,\n",
        "       'job': 'Dev',\n",
        "       'city': 'Minneapolis',\n",
        "       'email': 'Gabe@lituation.com'}\n",
        "\n",
        "\n"
      ],
      "execution_count": null,
      "outputs": []
    },
    {
      "cell_type": "code",
      "metadata": {
        "id": "iWjkk3_HeeDx"
      },
      "source": [
        "#TODO print the first and last dictionary values\n",
        "var = {\n",
        "    101: \"Intro to python\",\n",
        "    \"location\": \"Washburn\",\n",
        "    \"Currently teaching\": True,\n",
        "    (3.15, 5.30): \"time\"\n",
        "}\n",
        "\n"
      ],
      "execution_count": null,
      "outputs": []
    },
    {
      "cell_type": "markdown",
      "metadata": {
        "id": "M-jUQfgxeeDx"
      },
      "source": [
        "If you refer to a key that is not in the dictionary, you’ll get an error. To avoid such exception, you can use the special dictionary `get()` method. This method returns the value for key if key is in the dictionary, else None, so that this method never raises an error.\n",
        "--\n",
        "\n"
      ]
    },
    {
      "cell_type": "code",
      "metadata": {
        "id": "fqii6i00eeDx"
      },
      "source": [
        "#TODO Try an access a key that is not in the dictionary\n",
        "var = {\n",
        "    \"Snapchat\": \"Photo messaging\",\n",
        "    \"Instagram\": \"Photo and video\",\n",
        "    \"Twitter\": \"MicroBlogging\"\n",
        "}\n"
      ],
      "execution_count": null,
      "outputs": []
    },
    {
      "cell_type": "code",
      "metadata": {
        "id": "N7W3vblLeeDx"
      },
      "source": [
        "#TODO Try an access a key that is not in the dictionary using the get method"
      ],
      "execution_count": null,
      "outputs": []
    },
    {
      "cell_type": "code",
      "metadata": {
        "id": "qtD6W6wVeeDx"
      },
      "source": [
        "#TODO: Set a default value for when a key is not found"
      ],
      "execution_count": null,
      "outputs": []
    },
    {
      "cell_type": "markdown",
      "metadata": {
        "id": "2FNVGRlreeDx"
      },
      "source": [
        "# Adding/Updating dictionary values\n",
        "-----\n",
        "Adding or updating dictionary values is easy. Just refer to the item by its key and assign a value. If the key is already present in the dictionary, its value is replaced by the new one.\n",
        "--\n",
        "\n"
      ]
    },
    {
      "cell_type": "code",
      "metadata": {
        "id": "_BAgpkIieeDy"
      },
      "source": [
        "#TODO Update the snapchat value to \"Sneaky Media\"\n",
        "print(f\"Value before edit: {var['Snapchat']}\")\n",
        "\n"
      ],
      "execution_count": null,
      "outputs": []
    },
    {
      "cell_type": "markdown",
      "metadata": {
        "id": "r7a9flpNeeDy"
      },
      "source": [
        "You can also add a new `key:value` pair by referring to the item by its key and assign a value. If the key is already present in the dictionary, its value is replaced by the new one.\n",
        "--"
      ]
    },
    {
      "cell_type": "code",
      "metadata": {
        "id": "YnOI39KdeeDy"
      },
      "source": [
        "#TODO add a new key value pair to the dictionary"
      ],
      "execution_count": null,
      "outputs": []
    },
    {
      "cell_type": "markdown",
      "metadata": {
        "id": "jN3lZDvTeeDy"
      },
      "source": [
        "# Using loops with dictionaries\n",
        "There are many ways to use loop with dictionaries, many of which are useful for the creation of or updating dictionaries.\n",
        "\n",
        "## Creating dictionaries from a list using for loops\n",
        "Given a list, you can loop through the elements and use them as either the keys or values for a dictionary. In this example, we will use the list of names to create 3 different dictionaries using loops.\n",
        "- Names as keys\n",
        "- Names as values\n",
        "- Names as values, Name length as values"
      ]
    },
    {
      "cell_type": "code",
      "metadata": {
        "id": "riU6dEqIeeDy"
      },
      "source": [
        "#TODO create a dictionary using the names list with the names being the keys and the amount of times the name is in the list as the value"
      ],
      "execution_count": null,
      "outputs": []
    },
    {
      "cell_type": "code",
      "metadata": {
        "id": "_1hjV3iCeeDy"
      },
      "source": [
        "#TODO Create a dictionary where the index of the name is the key and the name is the value"
      ],
      "execution_count": null,
      "outputs": []
    },
    {
      "cell_type": "code",
      "metadata": {
        "id": "6WiCFlc3eeDy"
      },
      "source": [
        "#TODO create a dictionary where the names are keys and the name length are the values"
      ],
      "execution_count": null,
      "outputs": []
    },
    {
      "cell_type": "markdown",
      "metadata": {
        "id": "ASI-GVx5eeDy"
      },
      "source": [
        "# Checking for Key Memebership\n",
        "---\n",
        "You can use the `in` operator to check if a key is present inside of a dictionary. This can be useful for updating dictionaries, as well as creating things like counters (we will go over this in part 2 of this lesson).\n",
        "--"
      ]
    },
    {
      "cell_type": "code",
      "metadata": {
        "id": "sR5-xZB6eeDy"
      },
      "source": [
        "contacts = {\n",
        "    \"Oliver\": '612-542-7787',\n",
        "    \"Elias\": '651-990-1102',\n",
        "    \"Harper\": '952-665-9088'\n",
        "}\n",
        "\n",
        "#TODO Check is Harper is in the dictionary\n",
        "#TODO Check if Gabe is in the dictionary\n"
      ],
      "execution_count": null,
      "outputs": []
    },
    {
      "cell_type": "markdown",
      "metadata": {
        "id": "K6y6L74zeeDy"
      },
      "source": [
        "# Looping through Dictionary keys\n",
        "---------\n",
        "Although dictionaries aren't considered sequences in python, they are still iterable objects. You can loop through the keys in a dictionary by using a `for in` loop.\n",
        "--\n",
        "\n",
        "```python\n",
        "d = {'key':'value', 'key2':'value2'}\n",
        "for key in d:\n",
        "    print(key)\n",
        "```"
      ]
    },
    {
      "cell_type": "code",
      "metadata": {
        "id": "a8sSPiWteeDy"
      },
      "source": [
        "contacts = {\n",
        "    \"Oliver\": '612-542-7787',\n",
        "    \"Elias\": '651-990-1102',\n",
        "    \"Harper\": '952-665-9088'\n",
        "}\n",
        "\n",
        "#TODO loop over the contacts dictionary\n",
        "#TODO loop over the contacts and print the values\n"
      ],
      "execution_count": null,
      "outputs": []
    }
  ]
}