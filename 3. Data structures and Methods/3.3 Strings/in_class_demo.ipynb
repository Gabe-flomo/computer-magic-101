{
  "cells": [
    {
      "cell_type": "markdown",
      "metadata": {
        "id": "view-in-github",
        "colab_type": "text"
      },
      "source": [
        "<a href=\"https://colab.research.google.com/github/Gabe-flomo/Python-Course/blob/main/Modules/3.%20Data%20structures%20and%20Methods/3.3%20Strings/in_class_demo.ipynb\" target=\"_parent\"><img src=\"https://colab.research.google.com/assets/colab-badge.svg\" alt=\"Open In Colab\"/></a>"
      ]
    },
    {
      "cell_type": "markdown",
      "metadata": {
        "id": "g15gaMf5zv3m"
      },
      "source": [
        "# Strings\n",
        "Python represents text with the string data type. A string is a sequence of characters which also makes it an iterable object.\n",
        "\n",
        "So far, we've covered:\n",
        "- Single and double quoted strings\n",
        "- f-strings\n",
        "- string indexing/slicing\n",
        "- string concatenation\n",
        "\n",
        "In this section we will cover:\n",
        "- multiline strings (AKA docstrings)\n",
        "- string replacement\n",
        "- String splitting/joining\n",
        "- string case conversion\n",
        "- `count()`, `isnumeric()`, `startswith()`, `endswith()`\n",
        "--------\n",
        "\n",
        "# Multiline strings\n",
        "A multiline string is exactly what is sounds like... a string that can span multiple lines. Use triple quotes to create a multiline string."
      ]
    },
    {
      "cell_type": "code",
      "execution_count": null,
      "metadata": {
        "id": "6h1iv1kWzv3n"
      },
      "outputs": [],
      "source": [
        "#TODO Create a multiline string on a single line\n",
        "\n"
      ]
    },
    {
      "cell_type": "code",
      "execution_count": null,
      "metadata": {
        "id": "Wnd6zr1Hzv3n"
      },
      "outputs": [],
      "source": [
        "#TODO Create a multiline string over multiple lines\n"
      ]
    },
    {
      "cell_type": "markdown",
      "metadata": {
        "id": "Nf2FcOCLzv3n"
      },
      "source": [
        "----\n",
        "# String replacement\n",
        "Since strings are immutable data types, you aren't able to change it's characters once its been created. However, there are string methods that allow you to alter strings as much as you'd like. \n",
        "\n",
        "The replace method replaces target text inside of a string with substitute text you wanna replace it with."
      ]
    },
    {
      "cell_type": "code",
      "execution_count": null,
      "metadata": {
        "id": "GkVBkOxZzv3o"
      },
      "outputs": [],
      "source": [
        "#TODO replace 'world' with 'universe' in the string\n",
        "var = \"Hello world\"\n"
      ]
    },
    {
      "cell_type": "code",
      "execution_count": null,
      "metadata": {
        "id": "SvOSKb4Tzv3o"
      },
      "outputs": [],
      "source": [
        "#TODO replace the placeholder with the names in the list\n",
        "names = ['gabe', 'nathan', 'nene', 'aaron']\n",
        "string = \"My name is placeholder\"\n"
      ]
    },
    {
      "cell_type": "markdown",
      "metadata": {
        "id": "c9AdSjyezv3o"
      },
      "source": [
        "------\n",
        "# Splitting Strings \n",
        "Consider the following string:\n",
        "\n",
        "```python\n",
        "var = \"Gabe, Nathan, Nene, Aaron\"\n",
        "```\n",
        "\n",
        "Say instead of being a long string seperated by commas, we want to just convert it into a list. At first, you may think that we can just cast the string to a list, but this is what the result of that looks like.\n",
        "\n",
        "```python\n",
        "['G', 'a', 'b', 'e', ',', ' ', 'N', 'a', 't', 'h', 'a', 'n', ',', ' ', 'N', 'e', 'n', 'e', ',', ' ', 'A', 'a', 'r', 'o', 'n']\n",
        "\n",
        "```\n",
        "\n",
        "*Which is not what we want*\n",
        "\n",
        "**The `split` method allows us to convert a string into a list around a specific delimeter, which would look like this.**\n",
        "\n",
        "```python\n",
        "var = \"Gabe, Nathan, Nene, Aaron\"\n",
        "print(var.split(\",\"))\n",
        "\n",
        "#output\n",
        "['Gabe', 'Nathan', 'Nene', 'Aaron']\n",
        "```\n",
        "\n",
        "\n",
        "*A delimeter is just something that marks the begining or end of a string*"
      ]
    },
    {
      "cell_type": "code",
      "execution_count": null,
      "metadata": {
        "id": "tlB3mcubzv3o"
      },
      "outputs": [],
      "source": [
        "#TODO split a string using the default delimeter\n",
        "var = \"Hello world 👋🏾\"\n"
      ]
    },
    {
      "cell_type": "code",
      "execution_count": null,
      "metadata": {
        "id": "wABYqrDSzv3o"
      },
      "outputs": [],
      "source": [
        "#TODO split a string using a custom delimeter\n",
        "var = \"I-am-a-hyphenated-string\"\n"
      ]
    },
    {
      "cell_type": "markdown",
      "metadata": {
        "id": "XQhTx9pZzv3o"
      },
      "source": [
        "-----\n",
        "# Joining Strings\n",
        "Consider the following the list:\n",
        "\n",
        "```python\n",
        "var = ['The', 'cat', 'in', 'the', 'hat']\n",
        "```\n",
        "Say that we wanted to convert this list into a single string because it would make more sense to treat it as such. We can do this using the `join` method.\n",
        "\n",
        "**The join method allows us to convert a list into a string seperated by a delimeter**\n",
        "\n",
        "```python\n",
        "var = ['The', 'cat', 'in', 'the', 'hat']\n",
        "var = \" \".join(var)\n",
        "print(var)\n",
        "\n",
        "# output\n",
        "\"The cat in the hat\"\n",
        "```"
      ]
    },
    {
      "cell_type": "code",
      "execution_count": null,
      "metadata": {
        "id": "qo6cNQ5bzv3p"
      },
      "outputs": [],
      "source": [
        "#TODO join the list using a space\n",
        "var = ['Gabe', 'Nathan', 'Nene', 'Aaron']"
      ]
    },
    {
      "cell_type": "code",
      "execution_count": null,
      "metadata": {
        "id": "BvCZJf54zv3p"
      },
      "outputs": [],
      "source": [
        "#TODO join the list using a comma\n",
        "var = ['Gabe', 'Nathan', 'Nene', 'Aaron']"
      ]
    },
    {
      "cell_type": "markdown",
      "metadata": {
        "id": "xUDF3Bdzzv3p"
      },
      "source": [
        "----\n",
        "# Case conversion \n",
        "Case conversion is the process of changing the *capitilization* of a string. Python has 5 [conversion methods](https://www.learnbyexample.org/python-string/#string-case-conversion) and theres 3 of them that will be relevant for us. \n",
        "\n",
        "- `lower`\n",
        "- `upper`\n",
        "- `title`\n",
        "\n",
        "\n",
        "## Make everything small 🤏🏾\n",
        "Say you're working on a natural language project where you need to normailize all of the text. Normalization in this context may mean converting everything to lowercase letters. Python has a method called `.lower()` that can be appended to the end of any literal or string variable to convert the text to lowercase characters.\n",
        "```python\n",
        "var = \"I AM A FULLY CAPITALIZED STRING\"\n",
        "var.lower() -> # \"i am a fully capitalized string\"\n",
        "\n",
        "print(\"LITeral STRing to LOWERcase\".lower()) -> # \"literal string to lowercase\"\n",
        "```\n",
        "\n",
        "\n",
        "\n",
        "\n"
      ]
    },
    {
      "cell_type": "code",
      "execution_count": null,
      "metadata": {
        "id": "ZW8ur6VCzv3p"
      },
      "outputs": [],
      "source": [
        "# TODO convert the strings to lowercase\n",
        "var = \"COnvert ME\"\n"
      ]
    },
    {
      "cell_type": "markdown",
      "metadata": {
        "id": "rCmpYdYizv3p"
      },
      "source": [
        "***There is also a method that allows us to check if a string is already in lowercase format or not***"
      ]
    },
    {
      "cell_type": "code",
      "execution_count": null,
      "metadata": {
        "id": "KJimbJWXzv3p"
      },
      "outputs": [],
      "source": [
        "#TODO: use the .islower() method to check if a string is lowercase.\n",
        "var = \"Is This String Lowercase?\"\n"
      ]
    },
    {
      "cell_type": "code",
      "execution_count": null,
      "metadata": {
        "id": "xsS7VEXNzv3p"
      },
      "outputs": [],
      "source": [
        "# Convert the string from above to lowercase and call the .islower() method again. \n",
        "var = var.lower()\n"
      ]
    },
    {
      "cell_type": "markdown",
      "metadata": {
        "id": "3RLHmXdHzv3q"
      },
      "source": [
        "# Make everything BIG \n",
        "Similar to the `.lower()` method that could be used to normalize some text to be all lower case, theres another method that we could use to do the opposite. The `.upper()` method will convert all of the characters in a string to their capitilized versions.\n",
        "\n",
        "```python\n",
        "var = \"I am a lower case string\"\n",
        "var.upper() -> # I AM A LOWER CASE STRING\n",
        "```"
      ]
    },
    {
      "cell_type": "code",
      "execution_count": null,
      "metadata": {
        "id": "vYcRq02Yzv3q"
      },
      "outputs": [],
      "source": [
        "#TODO: Make the text all upper case\n",
        "var = \"please make me bigger\"\n"
      ]
    },
    {
      "cell_type": "markdown",
      "metadata": {
        "id": "BHHzNXqczv3q"
      },
      "source": [
        "***Similar to `.islower()` we can use `.isupper()` to chect if a string is all upper case***"
      ]
    },
    {
      "cell_type": "code",
      "execution_count": null,
      "metadata": {
        "id": "SbSO2InFzv3q"
      },
      "outputs": [],
      "source": [
        "#TODO: Check to see if the string is already upper case\n",
        "var = \"Am i Upper CASE?\"\n"
      ]
    },
    {
      "cell_type": "markdown",
      "metadata": {
        "id": "Xe4S_5BDzv3q"
      },
      "source": [
        "# Titles\n",
        "Whenever you see a book or a movie title, the first letters are always capitilazed. Who know why this is the case but just know that it is. Say you're given a task to enter a bunch of books/movies into a database and you need to make sure that the title is in the correct format, meaning every first letter of each word needs to be capitalized. In python, you can do this by calling the `.title` method on the string.\n",
        "\n",
        "```python\n",
        "title = \"i am not a title :(\"\n",
        "print(title.title()) -> # I Am Not A Title :(\n",
        "```\n"
      ]
    },
    {
      "cell_type": "code",
      "execution_count": null,
      "metadata": {
        "id": "nH24tlZXzv3q"
      },
      "outputs": [],
      "source": [
        "#TODO: Convert the movie title into the valid title format\n",
        "movie = \"spiderman: take me home\"\n"
      ]
    },
    {
      "cell_type": "markdown",
      "metadata": {
        "id": "zbZKP1nIzv3q"
      },
      "source": [
        "***Similar to the previous two methods, we can check if a string is a title by using the `.istitle()` method***"
      ]
    },
    {
      "cell_type": "code",
      "execution_count": null,
      "metadata": {
        "id": "UDpytSx1zv3r"
      },
      "outputs": [],
      "source": [
        "#TODO: Is the string a title??\n",
        "book = \"This book Has No title\"\n"
      ]
    },
    {
      "cell_type": "markdown",
      "metadata": {
        "id": "qPs20zWCzv3r"
      },
      "source": [
        "--------\n",
        "# Other string methods\n",
        "There are actually tons of [string methods](https://www.programiz.com/python-programming/methods/string) that you can check out on your own time, but the last most useful ones that we'll look at are:\n",
        "\n",
        "* `count`\n",
        "* `isnumeric` and `isalum`\n",
        "* `startswith` and `endswith`"
      ]
    },
    {
      "cell_type": "markdown",
      "metadata": {
        "id": "yjatUK7qzv3r"
      },
      "source": [
        "# Count\n",
        "Counts the occurrence of a given substring or character in a string.\n",
        "\n",
        "```python\n",
        "original_string = \"I am the original string\"\n",
        "character = 'i'\n",
        "substring = 'ri'\n",
        "\n",
        "original_string.count(character) -> # 3\n",
        "original_string.count(substring) -> # 2\n",
        "```"
      ]
    },
    {
      "cell_type": "code",
      "execution_count": null,
      "metadata": {
        "id": "DTPOqkFFzv3r"
      },
      "outputs": [],
      "source": [
        "#TODO Count the occureences of 'he', 'hello', 'o', and 'world world' in the string\n",
        "var = \"Hello world, hello world hello world world hello hello world\"\n"
      ]
    },
    {
      "cell_type": "markdown",
      "metadata": {
        "id": "7OWJTcjmzv3r"
      },
      "source": [
        "# isnumeric\n",
        "This method is used to determine if a string only contains numeric characters\n",
        "\n",
        "```python \n",
        "\"100\".isnumeric() -> # True\n",
        "\"Hello\".isnumeric() -> # False\n",
        "```"
      ]
    },
    {
      "cell_type": "code",
      "execution_count": null,
      "metadata": {
        "id": "CpizjBE2zv3r"
      },
      "outputs": [],
      "source": [
        "#TODO Check to see which of the strings are numeric\n",
        "var = [\"Hello\", \"234\", 'N1c3', \"Im numeric\", '999', '23o1']\n"
      ]
    },
    {
      "cell_type": "markdown",
      "metadata": {
        "id": "GPMUKc5rzv3r"
      },
      "source": [
        "# isalum\n",
        "This method is used to determine if the string contains any alpha-numeric characters. If there are any non alpha-numeric charaters in the string, it will return `False`\n",
        "\n",
        "```python \n",
        "\"h3ll0\".isalum() -> # True\n",
        "\"Hello\".isalum() -> # True\n",
        "\"..no\".isalum() -> # False\n",
        "\"3.1415\".isalum() -> # False\n",
        "```"
      ]
    },
    {
      "cell_type": "code",
      "execution_count": null,
      "metadata": {
        "id": "PGWyUvXtzv3r"
      },
      "outputs": [],
      "source": [
        "# TODO determine which string contains non alpha-numeric characters\n",
        "var = [\"Hello\", \"I am 22 years old\", \"This has punctuation!!\"]"
      ]
    },
    {
      "cell_type": "markdown",
      "metadata": {
        "id": "FvsY0ZVrzv3r"
      },
      "source": [
        "# Starts/Ends with\n",
        "There will be many times where you'll need to check the begining or the end of a string for a set of characters. Sure you can check the end or begining by using bracket notation `[]`, but that isn't always the best way to achieve this.\n",
        "\n",
        "## startswith\n",
        "Checks to see if a string ***starts*** with a given character or substring.\n",
        "\n",
        "```python\n",
        "string = \"Pictionary\"\n",
        "string.startswith(\"Pic\") -> # True\n",
        "```\n",
        "\n",
        "## endswith\n",
        "Checks to see if a string ***ends*** with a given character or substring.\n",
        "```python\n",
        "string = \"Pictionary\"\n",
        "string.endsswith(\"nary\") -> # True\n",
        "```"
      ]
    },
    {
      "cell_type": "code",
      "execution_count": null,
      "metadata": {
        "id": "yD6ydpf7zv3r"
      },
      "outputs": [],
      "source": [
        "#TODO given a list of files names, count how many end with .png\n",
        "pictures = ['picture.png', 'picture.png', 'picture.gif', 'picture.mp4', 'picture.png', 'picture.jpg']\n",
        "count = 0\n",
        "\n"
      ]
    },
    {
      "cell_type": "code",
      "execution_count": null,
      "metadata": {
        "id": "No0Dv9sVzv3r"
      },
      "outputs": [],
      "source": [
        "#TODO given a list of words, see which ones start with the letter 'a'\n",
        "words = ['apple', 'orange', 'anger', 'sadness', 'appetite', 'full']\n"
      ]
    },
    {
      "cell_type": "markdown",
      "metadata": {
        "id": "OqDDbTulzv3r"
      },
      "source": [
        "***You can also pass a tuple of substrings to check for multiple prefixes or postfixes***"
      ]
    },
    {
      "cell_type": "code",
      "execution_count": null,
      "metadata": {
        "id": "FXSvVEQBzv3r"
      },
      "outputs": [],
      "source": [
        "#TODO Check to see if the words start with vowels\n",
        "vowels = ('a','e','i','o','u')\n",
        "words = ['friend', 'array', 'ergonomic', 'ostrich', 'happy', 'yellow', 'thot', 'umbrella']\n"
      ]
    }
  ],
  "metadata": {
    "interpreter": {
      "hash": "fd61235da8d855c081cbd5d7c6398e4c179a40a950675235256f7f30499f1124"
    },
    "kernelspec": {
      "display_name": "Python 3.7.4 64-bit ('base': conda)",
      "name": "python3"
    },
    "language_info": {
      "codemirror_mode": {
        "name": "ipython",
        "version": 3
      },
      "file_extension": ".py",
      "mimetype": "text/x-python",
      "name": "python",
      "nbconvert_exporter": "python",
      "pygments_lexer": "ipython3",
      "version": "3.9.7"
    },
    "orig_nbformat": 4,
    "colab": {
      "name": "in_class_demo.ipynb",
      "provenance": [],
      "include_colab_link": true
    }
  },
  "nbformat": 4,
  "nbformat_minor": 0
}