{
  "cells": [
    {
      "cell_type": "markdown",
      "metadata": {
        "colab_type": "text",
        "id": "view-in-github"
      },
      "source": [
        "<a href=\"https://colab.research.google.com/github/Gabe-flomo/Python-Course/blob/main/Projects/3.%20Data%20structures%20/word%20probabilities.ipynb\" target=\"_parent\"><img src=\"https://colab.research.google.com/assets/colab-badge.svg\" alt=\"Open In Colab\"/></a>"
      ]
    },
    {
      "cell_type": "markdown",
      "metadata": {
        "id": "p3pc2CFbSxU5"
      },
      "source": [
        "# Instructions \n",
        "Given a list of 150 random words create a dictionary with the chance of each word occuring, then have the user input a word from the list and return the probability of it occuring.\n",
        "\n",
        "### Example\n",
        "```\n",
        "{'imposter': 16,\n",
        " 'thot': 22,\n",
        " 'friday': 24,\n",
        " 'eminent': 28,\n",
        " 'chance': 24,\n",
        " 'yesterday': 17,\n",
        " 'help': 19}\n",
        "\n",
        "Enter a word: Thought\n",
        "word not in list, try again.\n",
        "\n",
        "Enter a word: imposter\n",
        "the probability of imposter is 8%\n",
        " ```\n",
        "\n",
        "\n"
      ]
    },
    {
      "cell_type": "code",
      "execution_count": null,
      "metadata": {
        "id": "gEX2ediASxU6"
      },
      "outputs": [],
      "source": [
        "from random import choice\n",
        "words = [choice([\n",
        "    \"chance\",\n",
        "    \"eminent\",\n",
        "    \"imposter\",\n",
        "    \"help\",\n",
        "    \"thot\",\n",
        "    \"friday\",\n",
        "    \"yesterday\"\n",
        "]) for _ in range(150)]\n",
        "\n",
        "counts = {word: words.count(word) for word in set(words)}"
      ]
    },
    {
      "cell_type": "code",
      "execution_count": null,
      "metadata": {},
      "outputs": [],
      "source": [
        "#TODO Code goes here"
      ]
    }
  ],
  "metadata": {
    "colab": {
      "include_colab_link": true,
      "name": "word probabilities.ipynb",
      "provenance": []
    },
    "interpreter": {
      "hash": "f1a916808f2d29f1a5fbd48aa1cb9129993ca703ecce713879d0cd946e898e32"
    },
    "kernelspec": {
      "display_name": "Python 3.9.7 64-bit ('legacy': conda)",
      "language": "python",
      "name": "python3"
    },
    "language_info": {
      "codemirror_mode": {
        "name": "ipython",
        "version": 3
      },
      "file_extension": ".py",
      "mimetype": "text/x-python",
      "name": "python",
      "nbconvert_exporter": "python",
      "pygments_lexer": "ipython3",
      "version": "3.9.7"
    },
    "orig_nbformat": 4
  },
  "nbformat": 4,
  "nbformat_minor": 0
}
