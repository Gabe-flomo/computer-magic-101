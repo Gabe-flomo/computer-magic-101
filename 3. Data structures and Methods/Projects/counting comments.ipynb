{
  "cells": [
    {
      "cell_type": "markdown",
      "metadata": {
        "id": "view-in-github",
        "colab_type": "text"
      },
      "source": [
        "<a href=\"https://colab.research.google.com/github/Gabe-flomo/Python-Course/blob/main/Projects/3.%20Data%20structures%20/counting%20comments.ipynb\" target=\"_parent\"><img src=\"https://colab.research.google.com/assets/colab-badge.svg\" alt=\"Open In Colab\"/></a>"
      ]
    },
    {
      "cell_type": "code",
      "execution_count": null,
      "metadata": {
        "id": "fzxQKRW4wK6w"
      },
      "outputs": [],
      "source": [
        "import requests\n",
        "url = \"https://raw.githubusercontent.com/Gabe-flomo/Python-Course/main/Projects/3.%20Data%20structures%20/files/all_comments.json\"\n",
        "data = requests.get(url).json()\n",
        "\n",
        "posts = [] # <- THIS IS THE DATASET\n",
        "\n",
        "for row in data:\n",
        "    del row['profile_pic'], row['timestamp'], row['comment_id']\n",
        "    posts.append(row)\n"
      ]
    },
    {
      "cell_type": "markdown",
      "metadata": {
        "id": "3vAV4WCywK6x"
      },
      "source": [
        "# **MAKE SURE TO RUN THE CELL ABOVE ↑** \n",
        "-----\n",
        "# Instructions\n",
        "You are provided a dataset full of instagram comments and you are asked to analyze the dataset to extract some useful information. You will be asked to complete 3 extraction/transformation tasks and 3 reporting task.\n",
        "\n",
        "# Task 1\n",
        "Inspect the structure of the dataset and notice how we have nested data structures. The raw unfiltered data contains a list where each element in the list are dictionaries. Each dictionary in the list can be thought of as a `row` in a table and each `key` can be though of as a `column` for that `row`. For example, consider the following list of dictionaries.\n",
        "```python\n",
        "[\n",
        "    {\n",
        "        'name': \"gabe\",\n",
        "        'age': 22, \n",
        "        'favorite food': \"steak bowl\"\n",
        "    },\n",
        "    \n",
        "    {\n",
        "        'name': \"Nathan\",\n",
        "        'age': 20, \n",
        "        'favorite food': \"pasta\"\n",
        "    }\n",
        "]\n",
        "```\n",
        "\n",
        "This data structure can be rewritten as a table like this\n",
        "<table>\n",
        "  <tr>\n",
        "    <th>Name</th>\n",
        "    <th>age</th>\n",
        "    <th>favorite food</th>\n",
        "  </tr>\n",
        "  <tr>\n",
        "    <td>gabe</td>\n",
        "    <td>22</td>\n",
        "    <td>steak bowl</td>\n",
        "  </tr>\n",
        "  <tr>\n",
        "    <td>Nathan</td>\n",
        "    <td>20</td>\n",
        "    <td>pasta</td>\n",
        "  </tr>\n",
        "</table>\n",
        "\n",
        "**Thinking about the data as rows in a table, how many rows are present in the dataset? put your answer in the markdown cell for task 1**"
      ]
    },
    {
      "cell_type": "code",
      "execution_count": null,
      "metadata": {
        "id": "2eKmXNf4wK6z"
      },
      "outputs": [],
      "source": [
        "#TODO How many rows in the dataset are there?"
      ]
    },
    {
      "cell_type": "markdown",
      "metadata": {
        "id": "VaOySnwbwK6z"
      },
      "source": [
        "# TASK 1 response (double click to edit)"
      ]
    },
    {
      "cell_type": "markdown",
      "metadata": {
        "id": "x34jY_ZVwK6z"
      },
      "source": [
        "------\n",
        "# TASK 2\n",
        "Create an empty list called users, then go through all the rows in the dataset and add all of the `usernames` to the list of users."
      ]
    },
    {
      "cell_type": "code",
      "execution_count": null,
      "metadata": {
        "id": "xSr6VpFEwK6z"
      },
      "outputs": [],
      "source": [
        "#TODO create a list of users\n",
        "\n"
      ]
    },
    {
      "cell_type": "markdown",
      "metadata": {
        "id": "6Aa_DyRfwK60"
      },
      "source": [
        "# TASK 3\n",
        "* Create an empty dictionary called `comments_per_post`\n",
        "* Loop through each `row` in the data set\n",
        "* extract the `post_id` from the row\n",
        "* check to see if the `post_id` *is not present* as a dictionary key\n",
        "    * if it is not present, add it as a key and set the value to 1\n",
        "* if the `post_id` is present, add 1 to the current value\n",
        "\n",
        "<br>\n",
        "\n",
        "* How many comments did the post_id `1555432648208714279` get?\n",
        "* how many comments did the post_id `1657709667876773584` get?\n",
        "\n",
        "## Example output\n",
        "```python\n",
        "{\n",
        "    1867889837437371967: 12,\n",
        "    1826560476046182100: 8,\n",
        "    1815687864407766540: 1,\n",
        "}\n",
        "```"
      ]
    },
    {
      "cell_type": "code",
      "execution_count": null,
      "metadata": {
        "id": "4mtfCDBJwK60"
      },
      "outputs": [],
      "source": [
        "#TODO calculate the comments per post"
      ]
    },
    {
      "cell_type": "markdown",
      "metadata": {
        "id": "cdzYu3E8wK61"
      },
      "source": [
        "# TASK 4\n",
        "* create an empty dictionary called `user_comments`.\n",
        "* Loop through each `row` in the dataset\n",
        "* Extract the `username` from the `row`\n",
        "* Extract the `comment` for that row\n",
        "* check to see if the extracted `username` *is not present* as a key in the dictionary\n",
        "    * if the `username` is not present as a key, add it as a key and set the value to be a list with the only element being the `comment` for that row\n",
        "* if the `username` is already present as a dictionary key, append the `comment` for that `row` to the list of comments that the user has made.\n",
        "\n",
        "## Example output\n",
        "```python\n",
        "{\n",
        "    'Gabe': [\"wow\", \"thats dope asf\", \"lmk when we goin too\"],\n",
        "    'Cianni': [\"Lmao\", \"Where is this at\", \"😂\"],\n",
        "    'Matt': [\"This was lit\"]\n",
        "}\n",
        "```"
      ]
    },
    {
      "cell_type": "code",
      "execution_count": null,
      "metadata": {
        "id": "OTGXkfAIwK61"
      },
      "outputs": [],
      "source": [
        "#TODO "
      ]
    },
    {
      "cell_type": "markdown",
      "metadata": {
        "id": "w66T1MVDwK61"
      },
      "source": [
        "# TASK 5 \n",
        "How many unique `users` are there total that commented on these instagram posts?\n",
        "\n",
        "***Hint: refer to task 2***"
      ]
    },
    {
      "cell_type": "code",
      "execution_count": null,
      "metadata": {
        "id": "azY6bVuRwK62"
      },
      "outputs": [],
      "source": [
        ""
      ]
    },
    {
      "cell_type": "markdown",
      "metadata": {
        "id": "y-eSdshuwK62"
      },
      "source": [
        "# TASK 6 \n",
        "How many posts were there total?\n",
        "\n",
        "***Hint: refer to Task 3***"
      ]
    },
    {
      "cell_type": "code",
      "execution_count": null,
      "metadata": {
        "id": "EGl3lf9HwK62"
      },
      "outputs": [],
      "source": [
        ""
      ]
    }
  ],
  "metadata": {
    "interpreter": {
      "hash": "f1a916808f2d29f1a5fbd48aa1cb9129993ca703ecce713879d0cd946e898e32"
    },
    "kernelspec": {
      "display_name": "Python 3.9.7 64-bit ('legacy': conda)",
      "language": "python",
      "name": "python3"
    },
    "language_info": {
      "codemirror_mode": {
        "name": "ipython",
        "version": 3
      },
      "file_extension": ".py",
      "mimetype": "text/x-python",
      "name": "python",
      "nbconvert_exporter": "python",
      "pygments_lexer": "ipython3",
      "version": "3.9.7"
    },
    "orig_nbformat": 4,
    "colab": {
      "name": "counting comments.ipynb",
      "provenance": [],
      "include_colab_link": true
    }
  },
  "nbformat": 4,
  "nbformat_minor": 0
}