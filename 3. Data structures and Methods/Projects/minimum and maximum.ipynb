{
  "cells": [
    {
      "cell_type": "markdown",
      "metadata": {
        "id": "view-in-github",
        "colab_type": "text"
      },
      "source": [
        "<a href=\"https://colab.research.google.com/github/Gabe-flomo/Python-Course/blob/main/Projects/3.%20Data%20structures%20/minimum%20and%20maximum.ipynb\" target=\"_parent\"><img src=\"https://colab.research.google.com/assets/colab-badge.svg\" alt=\"Open In Colab\"/></a>"
      ]
    },
    {
      "cell_type": "markdown",
      "metadata": {
        "id": "85uGw_NKSOdP"
      },
      "source": [
        "# Instructions\n",
        "Given a dictionary of subjects and scores for each, find the subject with the highes score and the subject with the lowest score and create a new dictionary called `range` that only contains the subject with the min and max score.\n",
        "\n",
        "### Example output\n",
        "```\n",
        "{\n",
        "    math: 87,\n",
        "    english: 72,\n",
        "    physics: 91,\n",
        "    history: 86,\n",
        "    health: 100,\n",
        "    programming: 82\n",
        "}\n",
        "\n",
        "range = {\n",
        "    health: 100,\n",
        "    english: 72\n",
        "}\n",
        "\n",
        "```"
      ]
    },
    {
      "cell_type": "code",
      "execution_count": null,
      "metadata": {
        "id": "UtlzBjbASOdQ"
      },
      "outputs": [],
      "source": [
        "subjects = {\n",
        "    \"math\": 87,\n",
        "    \"english\": 72,\n",
        "    \"physics\": 91,\n",
        "    \"history\": 86,\n",
        "    \"health\": 100,\n",
        "    \"programming\": 82\n",
        "}"
      ]
    }
  ],
  "metadata": {
    "language_info": {
      "name": "python"
    },
    "orig_nbformat": 4,
    "colab": {
      "name": "minimum and maximum.ipynb",
      "provenance": [],
      "include_colab_link": true
    }
  },
  "nbformat": 4,
  "nbformat_minor": 0
}