{
  "cells": [
    {
      "cell_type": "markdown",
      "metadata": {
        "id": "view-in-github",
        "colab_type": "text"
      },
      "source": [
        "<a href=\"https://colab.research.google.com/github/Gabe-flomo/Python-Course/blob/main/Projects/3.%20Data%20structures%20/counter.ipynb\" target=\"_parent\"><img src=\"https://colab.research.google.com/assets/colab-badge.svg\" alt=\"Open In Colab\"/></a>"
      ]
    },
    {
      "cell_type": "markdown",
      "metadata": {
        "id": "ng14V1JjR_va"
      },
      "source": [
        "# Instructions\n",
        "In this project, you are given a list of 50 random words and you are tasked with creating a word counter dictionary where the keys are the words and the count of each word is the value.\n",
        "\n",
        "### Example output\n",
        "```\n",
        "words = ['a', 'b', 'a', 'a', 'd', 'a', 'x', 'x', 'd', 'd', 'b']\n",
        "counter = {\n",
        "    a: 4,\n",
        "    b: 2,\n",
        "    d: 3, \n",
        "    x: 2\n",
        "}\n",
        "```"
      ]
    },
    {
      "cell_type": "code",
      "execution_count": null,
      "metadata": {
        "id": "N5oMqG9rR_vb"
      },
      "outputs": [],
      "source": [
        "from random import choice\n",
        "words = [\"example\", 'throw', 'count', 'frequency', 'vibrate', 'superposition', 'force', 'quantity', 'electomagnetic']\n",
        "random_words = [choice(words) for _ in range(50)]"
      ]
    },
    {
      "cell_type": "code",
      "execution_count": null,
      "metadata": {
        "id": "ShWP-VLCR_vc"
      },
      "outputs": [],
      "source": [
        "#TODO create a counter from the list of random words"
      ]
    }
  ],
  "metadata": {
    "interpreter": {
      "hash": "f1a916808f2d29f1a5fbd48aa1cb9129993ca703ecce713879d0cd946e898e32"
    },
    "kernelspec": {
      "display_name": "Python 3.9.7 64-bit ('legacy': conda)",
      "language": "python",
      "name": "python3"
    },
    "language_info": {
      "codemirror_mode": {
        "name": "ipython",
        "version": 3
      },
      "file_extension": ".py",
      "mimetype": "text/x-python",
      "name": "python",
      "nbconvert_exporter": "python",
      "pygments_lexer": "ipython3",
      "version": "3.9.7"
    },
    "orig_nbformat": 4,
    "colab": {
      "name": "counter.ipynb",
      "provenance": [],
      "include_colab_link": true
    }
  },
  "nbformat": 4,
  "nbformat_minor": 0
}