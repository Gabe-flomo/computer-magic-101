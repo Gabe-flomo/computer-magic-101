{
  "cells": [
    {
      "cell_type": "markdown",
      "metadata": {
        "colab_type": "text",
        "id": "view-in-github"
      },
      "source": [
        "<a href=\"https://colab.research.google.com/github/Gabe-flomo/Python-Course/blob/main/Projects/3.%20Data%20structures%20/Adding%20bank%20accounts.ipynb\" target=\"_parent\"><img src=\"https://colab.research.google.com/assets/colab-badge.svg\" alt=\"Open In Colab\"/></a>"
      ]
    },
    {
      "cell_type": "markdown",
      "metadata": {
        "id": "IY5wOxsVSG1z"
      },
      "source": [
        "# Instructions\n",
        "This is part 3 of your bank account pproject and today you will be adding the functionality of users being able to add and delete accounts as well as being able to transfer money to other accounts.\n",
        "\n",
        "## Expectations\n",
        "- Create a dictionary with only one key called `checkings` with a default value of `$50`\n",
        "- Allow the users to withdraw and deposit money into their `checkings` account \n",
        "- Let the users create new accounts with default values of `$0`\n",
        "- before the user makes a transaction they need to specify which account they're making the transaction in.\n",
        "- allow users to delete accounts and transfer any remaining amounts to other accounts.\n",
        "\n",
        "### Commands\n",
        "* `withdraw` - remove money from account\n",
        "* `deposit` - add money to account\n",
        "* `add account` - add a new account to the users bank\n",
        "* `remove account` - remove an existing account\n",
        "* `info` - display all accounts and their balances\n",
        "\n",
        "\n",
        "### Example output\n",
        "```\n",
        "current accounts\n",
        "{\n",
        "    checking: 50\n",
        "}\n",
        "\n",
        "What type of transaction would you like to do? -> withdraw\n",
        "\n",
        "    What account would you like to withdraw from? -> savings\n",
        "\n",
        "    You do not have a savings account, your available accounts are:\n",
        "    - checkings\n",
        "\n",
        "---------------------------------------------------------------------\n",
        "\n",
        "What type of transaction would you like to do? -> add account\n",
        "\n",
        "    What would you like to name your account? -> savings\n",
        "\n",
        "    savings account created, would you like to deposit into this account? -> yes\n",
        "\n",
        "    enter the amount you would like to deposit: 100\n",
        "    current savings account balance: 100\n",
        "\n",
        "---------------------------------------------------------------------\n",
        "\n",
        "What type of transaction would you like to do? -> withdraw\n",
        "\n",
        "    which account would you like to withdraw from? -> savings\n",
        "\n",
        "    How much would you like to withdraw: 25\n",
        "    current savings account balance: 75\n",
        "\n",
        "---------------------------------------------------------------------    \n",
        "\n",
        "What type of transaction would you like to do? -> info\n",
        "\n",
        "    current accounts:\n",
        "        - checkings: 50\n",
        "        - savings: 75\n",
        "\n",
        "---------------------------------------------------------------------\n",
        "\n",
        "What type of transaction would you like to do? -> remove account\n",
        "\n",
        "    Which account would you like to remove? -> savings\n",
        "\n",
        "    Would you like to transfer the remaining $75 to another account? -> yes\n",
        "\n",
        "    which account would you like to move it to? -> checkings\n",
        "\n",
        "    current accounts:\n",
        "        - checkings: 125\n",
        "```"
      ]
    },
    {
      "cell_type": "code",
      "execution_count": 1,
      "metadata": {
        "id": "J37LyMoqSG10"
      },
      "outputs": [],
      "source": [
        "accounts = {\n",
        "    'checking': 50\n",
        "}"
      ]
    },
    {
      "cell_type": "code",
      "execution_count": null,
      "metadata": {},
      "outputs": [],
      "source": []
    },
    {
      "cell_type": "code",
      "execution_count": null,
      "metadata": {},
      "outputs": [],
      "source": []
    }
  ],
  "metadata": {
    "colab": {
      "include_colab_link": true,
      "name": "Adding bank accounts.ipynb",
      "provenance": []
    },
    "interpreter": {
      "hash": "f1a916808f2d29f1a5fbd48aa1cb9129993ca703ecce713879d0cd946e898e32"
    },
    "kernelspec": {
      "display_name": "Python 3.9.7 64-bit ('legacy': conda)",
      "language": "python",
      "name": "python3"
    },
    "language_info": {
      "codemirror_mode": {
        "name": "ipython",
        "version": 3
      },
      "file_extension": ".py",
      "mimetype": "text/x-python",
      "name": "python",
      "nbconvert_exporter": "python",
      "pygments_lexer": "ipython3",
      "version": "3.9.7"
    },
    "orig_nbformat": 4
  },
  "nbformat": 4,
  "nbformat_minor": 0
}
