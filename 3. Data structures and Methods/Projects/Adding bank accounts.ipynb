{
  "cells": [
    {
      "cell_type": "markdown",
      "metadata": {
        "id": "view-in-github",
        "colab_type": "text"
      },
      "source": [
        "<a href=\"https://colab.research.google.com/github/Gabe-flomo/Python-Course/blob/main/Projects/3.%20Data%20structures%20/Adding%20bank%20accounts.ipynb\" target=\"_parent\"><img src=\"https://colab.research.google.com/assets/colab-badge.svg\" alt=\"Open In Colab\"/></a>"
      ]
    },
    {
      "cell_type": "markdown",
      "metadata": {
        "id": "IY5wOxsVSG1z"
      },
      "source": [
        "# Instructions\n",
        "This is part 3 of your bank account pproject and today you will be adding the functionality of users being able to add and delete accounts as well as being able to transfer money to other accounts.\n",
        "\n",
        "## Expectations\n",
        "- Create a dictionary with only one key called `checkings` with a default value of `$50`\n",
        "- Allow the users to withdraw and deposit money into their `checkings` account \n",
        "- Let the users create new accounts with default values of `$0`\n",
        "- before the user makes a transaction they need to specify which account they're making the transaction in.\n",
        "- allow users to delete accounts and transfer any remaining amounts to other accounts.\n",
        "\n",
        "### Commands\n",
        "* `withdraw` - remove money from account\n",
        "* `deposit` - add money to account\n",
        "* `add account` - add a new account to the users bank\n",
        "* `remove account` - remove an existing account\n",
        "* `info` - display all accounts and their balances\n",
        "\n",
        "\n",
        "### Example output\n",
        "```\n",
        "current accounts\n",
        "{\n",
        "    checking: 50\n",
        "}\n",
        "\n",
        "What type of transaction would you like to do? -> withdraw\n",
        "\n",
        "    What account would you like to withdraw from? -> savings\n",
        "\n",
        "    You do not have a savings account, your available accounts are:\n",
        "    - checkings\n",
        "\n",
        "---------------------------------------------------------------------\n",
        "\n",
        "What type of transaction would you like to do? -> add account\n",
        "\n",
        "    What would you like to name your account? -> savings\n",
        "\n",
        "    savings account created, would you like to deposit into this account? -> yes\n",
        "\n",
        "    enter the amount you would like to deposit: 100\n",
        "    current savings account balance: 100\n",
        "\n",
        "---------------------------------------------------------------------\n",
        "\n",
        "What type of transaction would you like to do? -> withdraw\n",
        "\n",
        "    which account would you like to withdraw from? -> savings\n",
        "\n",
        "    How much would you like to withdraw: 25\n",
        "    current savings account balance: 75\n",
        "\n",
        "---------------------------------------------------------------------    \n",
        "\n",
        "What type of transaction would you like to do? -> info\n",
        "\n",
        "    current accounts:\n",
        "        - checkings: 50\n",
        "        - savings: 75\n",
        "\n",
        "---------------------------------------------------------------------\n",
        "\n",
        "What type of transaction would you like to do? -> remove account\n",
        "\n",
        "    Which account would you like to remove? -> savings\n",
        "\n",
        "    Would you like to transfer the remaining $75 to another account? -> yes\n",
        "\n",
        "    which account would you like to move it to? -> checkings\n",
        "\n",
        "    current accounts:\n",
        "        - checkings: 125\n",
        "```"
      ]
    },
    {
      "cell_type": "code",
      "execution_count": null,
      "metadata": {
        "id": "J37LyMoqSG10"
      },
      "outputs": [],
      "source": [
        "#TODO"
      ]
    }
  ],
  "metadata": {
    "language_info": {
      "name": "python"
    },
    "orig_nbformat": 4,
    "colab": {
      "name": "Adding bank accounts.ipynb",
      "provenance": [],
      "include_colab_link": true
    }
  },
  "nbformat": 4,
  "nbformat_minor": 0
}