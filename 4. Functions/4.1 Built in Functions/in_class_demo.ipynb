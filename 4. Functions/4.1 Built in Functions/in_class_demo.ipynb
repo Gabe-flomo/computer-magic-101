{
  "cells": [
    {
      "cell_type": "markdown",
      "metadata": {
        "id": "view-in-github",
        "colab_type": "text"
      },
      "source": [
        "<a href=\"https://colab.research.google.com/github/Gabe-flomo/Python-Course/blob/main/Modules/4.%20Functions/4.1%20Built%20in%20Functions/in_class_demo.ipynb\" target=\"_parent\"><img src=\"https://colab.research.google.com/assets/colab-badge.svg\" alt=\"Open In Colab\"/></a>"
      ]
    },
    {
      "cell_type": "markdown",
      "metadata": {
        "id": "Bl1TYuD039cV"
      },
      "source": [
        "# What are functions\n",
        "In programming, a function can be thought of as a *`reusable block of code`*. For example, say we're working on a project where we will need to find the maximum value of a list many times throughout our program. Without the use of functions, we would have to write the code to perform this task each time the task is needed to be performed, which is highly inefficient. With functions, we can create a kind of mapping from a set of inputs to generate the desired output. In this example, our input would be a list of numbers and out output would be the maximum value in that list.\n",
        "\n",
        "<table style = \"margin-left: auto; margin-right: auto;\">\n",
        "<tr>\n",
        "<th> Without Functions </th>\n",
        "<th> With functions </th>\n",
        "</tr>\n",
        "<tr>\n",
        "<td>\n",
        "\n",
        "```python\n",
        "var = [1,2,3,4,5]\n",
        "\n",
        "var_max = 0\n",
        "for val in var:\n",
        "    if val > var_max:\n",
        "        var_max = val\n",
        "\n",
        "######################\n",
        "#                    #\n",
        "# ~ some more code ~ #\n",
        "#                    #\n",
        "######################\n",
        "\n",
        "var2 = [43, 542, 3, 665, 246, 2234]\n",
        "var2_max = 0\n",
        "for val in var2:\n",
        "    if val > var2_max:\n",
        "        var2_max = val\n",
        "\n",
        "######################\n",
        "#                    #\n",
        "# ~ some more code ~ #\n",
        "#                    #\n",
        "######################\n",
        "\n",
        "var3 = [65, 776, 3454, 244565, 34454, 23, 43323455]\n",
        "var3_max = 0\n",
        "for val in var3:\n",
        "    if val > var3_max:\n",
        "        var3_max = val\n",
        "```\n",
        "\n",
        "</td>\n",
        "<td>\n",
        "\n",
        "```python\n",
        "var = [1,2,3,4,5]\n",
        "\n",
        "var_max = max(var)\n",
        "\n",
        "######################\n",
        "#                    #\n",
        "# ~ some more code ~ #\n",
        "#                    #\n",
        "######################\n",
        "\n",
        "var2 = [43, 542, 3, 665, 246, 2234]\n",
        "var2_max = max(var2)\n",
        "\n",
        "######################\n",
        "#                    #\n",
        "# ~ some more code ~ #\n",
        "#                    #\n",
        "######################\n",
        "\n",
        "var3 = [65, 776, 3454, 244565, 34454, 23, 43323455]\n",
        "var3_max = max(var3)\n",
        "```\n",
        "\n",
        "</td>\n",
        "</tr>\n",
        "</table>\n"
      ]
    },
    {
      "cell_type": "markdown",
      "metadata": {
        "id": "Vj5zW08y39cW"
      },
      "source": [
        "# What are built in functions\n",
        "A built in function is a reusable block of code that has already been written for you and comes built in to the python programming language. Most built in functions are used to achieve common tasks like `sorting an iterable, calculating sums/averages, etc.` and we will look at a few of the most useful ones in this section. A built in function is not something that you need to define/write yourself, however it is important that you know which builtin functions are available so that you don't need to waste time writing them yourself. \n",
        "\n",
        "### List of built in functions [here](https://www.programiz.com/python-programming/methods/built-in)\n",
        "\n",
        "# What are arguments\n",
        "A function argument(s) is simply that which is used as input to our function. Almost all built in functions will require at least 1 argument in order for them to work properly. We will go more in depth with arguments when we start making own custom functions."
      ]
    },
    {
      "cell_type": "markdown",
      "metadata": {
        "id": "ioIEG8eP39cX"
      },
      "source": [
        "# Min, Max, and Sum\n",
        "Throughout this course, I have asked you all multiple times to find the minumum value, maximum value, and sum of different iterable objects. I had you do this by hand in order to gain an understanding of certain concepts, but now that you all understand thos concepts well enough I will show you the way that you will do these tasks in the real world. \n",
        "\n",
        "<table style = \"margin-left: auto; margin-right: auto;\">\n",
        "<tr>\n",
        "<th> min( ) </th>\n",
        "<th> max( ) </th>\n",
        "<th> sum( ) </th>\n",
        "</tr>\n",
        "<tr>\n",
        "<td>\n",
        "\n",
        "```python\n",
        "var = [23, 124, 54, 3, 654, 2]\n",
        "minumum = min(var) \n",
        "print(minumum) -> 2\n",
        "```\n",
        "</td>\n",
        "<td>\n",
        "\n",
        "```python\n",
        "var = [23, 124, 54, 3, 654, 2]\n",
        "maximum = max(var) \n",
        "print(maximum) -> 654\n",
        "```\n",
        "</td>\n",
        "<td>\n",
        "\n",
        "```python\n",
        "var = [23, 124, 54, 3, 654, 2]\n",
        "Sum = sum(var) \n",
        "print(Sum) -> 860\n",
        "```\n",
        "</td>\n",
        "\n",
        "</tr>\n",
        "</table>"
      ]
    },
    {
      "cell_type": "code",
      "execution_count": null,
      "metadata": {
        "id": "GzbA0HHD39cX"
      },
      "outputs": [],
      "source": [
        "#TODO Find the minumum, maximum, and sum of the list\n",
        "var = [34, 32, 543, 5, 222, 53, 761, 4]\n"
      ]
    },
    {
      "cell_type": "markdown",
      "metadata": {
        "id": "Y9wUR0Az39cY"
      },
      "source": [
        "# Enumerate\n",
        "The enumerate function allows us to iterate through a collection (an iterable object) but also provides a counter for each element in the collection. The enumerate function takes up to 2 arguments, `iterable` and `start`. \n",
        "\n",
        "* `iterable` is the collection that you want to iterate through\n",
        "* `start` is the value that the function should start counting from (default is 0)\n",
        "\n",
        "## Simple use case\n",
        "```python\n",
        "var = [10, 9, 8 , 7, 6, 5]\n",
        "enum = list(enumerate(var)) # casting to a list so that we can see the values\n",
        "print(enum) -> [(0, 10), (1, 9), (2, 8), (3, 7), (4, 6), (5, 5)]\n",
        "```\n",
        "\n",
        "## Using start argument\n",
        "```python\n",
        "var = [10, 9, 8 , 7, 6, 5]\n",
        "enum = list(enumerate(var, start = 1)) # casting to a list so that we can see the values\n",
        "print(enum) -> [(1, 10), (2, 9), (3, 8), (4, 7), (5, 6), (6, 5)]\n",
        "```"
      ]
    },
    {
      "cell_type": "code",
      "execution_count": null,
      "metadata": {
        "id": "8RivMyjp39cY"
      },
      "outputs": [],
      "source": [
        "#TODO create an enumerated list from the list of colors starting at 1\n",
        "var = ['red', 'blue', 'green']\n"
      ]
    },
    {
      "cell_type": "markdown",
      "metadata": {
        "id": "sonr7m_l39cY"
      },
      "source": [
        "# Common use case\n",
        "Most of the times you won't be using `enumerate` in this way, usually you'll be using it within the context of a `for loop`. You can use the enumerate function within a for loop to do either of the following.\n",
        "* keep track of the current iteration\n",
        "* loop over list elements and index position simultaneously\n",
        "\n",
        "\n",
        "### Looping: current iteration\n",
        "```python\n",
        "var = ['red', 'blue', 'green']\n",
        "for iteration, element in enumerate(var):\n",
        "    print(f\"the current iteration is #{iteration} with the element {element}\") -> # the current iteration is 0 with the element red\n",
        "```\n",
        "\n",
        "### Looping: element and index position simultaneously\n",
        "```python\n",
        "var = ['red', 'blue', 'green']\n",
        "for index, element in enumerate(var):\n",
        "    print(f\"The element at position {index} is {element}\")\n",
        "    var[index] = element.upper()\n",
        "\n",
        "print(var) -> # [\"RED\", \"BLUE\", \"GREEN\"]\n",
        "```"
      ]
    },
    {
      "cell_type": "code",
      "execution_count": null,
      "metadata": {
        "id": "WAFcKOri39cZ"
      },
      "outputs": [],
      "source": [
        "#TODO loop over the list of countries and print out the iteration \n",
        "countries = [\"France\", \"Italy\", \"Egypt\", \"Liberia\", \"Mexico\"]\n"
      ]
    },
    {
      "cell_type": "code",
      "execution_count": null,
      "metadata": {
        "id": "49dUd2tP39cZ"
      },
      "outputs": [],
      "source": [
        "#TODO loop over the list of countries but update the list to capitalize the countries as we iterate through them\n",
        "countries = [\"France\", \"Italy\", \"Egypt\", \"Liberia\", \"Mexico\"]"
      ]
    },
    {
      "cell_type": "markdown",
      "metadata": {
        "id": "cB-bai0p39cZ"
      },
      "source": [
        "# Zip\n",
        "The zip function is used to combine elements from 2 or more iterable objects. \n",
        "\n",
        "```python\n",
        "colors = [\"blue\", \"red\", \"purple\"]\n",
        "length = [4, 3, 6]\n",
        "\n",
        "result = list(zip(colors, lenght)) # cast to list to view results\n",
        "print(results) -> [(\"blue\", 4), ('red', 3), ('purple', 6)]\n",
        "```"
      ]
    },
    {
      "cell_type": "code",
      "execution_count": null,
      "metadata": {
        "id": "MFYWmxvM39cZ"
      },
      "outputs": [],
      "source": [
        "#TODO zip the county and population lists together\n",
        "country = [\"france\", \"italy\", \"rome\"]\n",
        "population = [2000000, 1500000, 1000000]"
      ]
    },
    {
      "cell_type": "markdown",
      "metadata": {
        "id": "mKriyWMl39ca"
      },
      "source": [
        "# Zip in for loops\n",
        "More commonly, you'll want to use the zip function to iterate over 2 or more lists at the same time. All we need to do is add our `zip` function call to our for loop to do this.\n",
        "\n",
        "```python \n",
        "colors = [\"blue\", \"red\", \"purple\"]\n",
        "length = [4, 3, 6]\n",
        "\n",
        "for size, color in zip(lenght, colors):\n",
        "    print(f\"The color {color} has a length of {size}\") -> # The color blue has a size of 3\n",
        "```"
      ]
    },
    {
      "cell_type": "code",
      "execution_count": null,
      "metadata": {
        "id": "8D-w6XJ539ca"
      },
      "outputs": [],
      "source": [
        "#TODO loop over the counties and populations lists and print each countries population\n",
        "country = [\"france\", \"italy\", \"rome\"]\n",
        "population = [2000000, 1500000, 1000000]\n"
      ]
    },
    {
      "cell_type": "markdown",
      "metadata": {
        "id": "hZm7S4Rb39ca"
      },
      "source": [
        "# Any and All\n",
        "Both of these functions work in similar ways despite them doing different things. Both functions require that you pass some sort of iterable object as an argument and is designed to test the `truth` of the entire collection. This basically means that each function is looking to see if the elements of the iterable can be interpreted as either `True` or `False` values.\n",
        "\n",
        "## Any \n",
        "This function returns true if ***`any`*** elements within an iterable are `True`. It will return `False` if none of the elements in the iterable are true.\n",
        "```python \n",
        "var = [True,\"Hello\",3.14,{'key':'value'},5]\n",
        "any(var) -> True\n",
        "\n",
        "var = [\"\",0,{},0.0,False]\n",
        "any(var) -> False\n",
        "```\n",
        "\n",
        "## All\n",
        "This function returns true if ***`all`*** elements within an iterable are `True`. It will return `False` if any of the elements are false.\n",
        "```python\n",
        "var = [True,\"Hello\",3.14,{'key':'value'},5]\n",
        "all(var) -> True\n",
        "\n",
        "var = [True, True, False, True]\n",
        "all(var) -> False\n",
        "\n",
        "var = [0, False, [], \"\", True]\n",
        "all(var) -> False\n",
        "```"
      ]
    },
    {
      "cell_type": "code",
      "execution_count": null,
      "metadata": {
        "id": "COgN2qKI39ca"
      },
      "outputs": [],
      "source": [
        "#TODO Determine if any of the students passed the test (doesn't matter which)\n",
        "students = [\"Oliver\", \"Elias\", \"Gabe\", \"Harper\"]\n",
        "grades = [\"pass\", \"pass\", \"fail\", \"pass\"]"
      ]
    },
    {
      "cell_type": "code",
      "execution_count": null,
      "metadata": {
        "id": "rlw5sizx39ca"
      },
      "outputs": [],
      "source": [
        "#TODO Determine if all of the students passed the test\n"
      ]
    },
    {
      "cell_type": "code",
      "execution_count": null,
      "metadata": {
        "id": "mkgPTZy_39cc"
      },
      "outputs": [],
      "source": [
        "#TODO verify that all row of data has no errors in the data\n",
        "columns = ['Gender', 'age', 'adult', 'title']\n",
        "data = [\n",
        "    ['Male', 22, True, 'Instructor'],\n",
        "    ['Male', 15, False, 'Student'],\n",
        "    ['', 15, False, 'Student'],\n",
        "    ['Female', 18, True, 'Student'],\n",
        "    [None, None, None, 'Student']\n",
        "]\n",
        "\n"
      ]
    },
    {
      "cell_type": "markdown",
      "metadata": {
        "id": "gkKtkYLp39cc"
      },
      "source": [
        "# isinstance\n",
        "This function is used to check if some value is an instance of an object. An instance of an object is just another way to say ***\"What is the data type of this value.\"*** For example, the next two statements are the same just said in different ways.\n",
        "\n",
        "* The value `45` is of type `int`\n",
        "* The value `45` is an instance of the `int` object\n",
        "\n",
        "We will cover what an ***instance*** is more thoroughly when we talk about `classes` just know that an instance means to *use* the object.\n",
        "\n",
        "## Arguments\n",
        "THe is instance function requires 2 arguments. `isinstance(object, type)`\n",
        "* `object` is the value whos type you want to verify\n",
        "* `type` is the desired type of the object you're verifying\n",
        "\n",
        "## Use case\n",
        "* simply checking the type of an object or variable\n",
        "* asserting that an object or variable is the correct type\n",
        "\n",
        "<table style = \"margin-left: auto; margin-right: auto;\">\n",
        "<tr>\n",
        "<th> Using type( ) </th>\n",
        "<th> Using isinstance( ) </th>\n",
        "</tr>\n",
        "<tr>\n",
        "<td>\n",
        "\n",
        "```python\n",
        "var = 100\n",
        "if type(var) == int:\n",
        "    print(\"The variable is an integer\")\n",
        "else:\n",
        "    print(f\"The variable is {type(var)}\")\n",
        "```\n",
        "\n",
        "</td>\n",
        "<td>\n",
        "\n",
        "```python\n",
        "var = 100\n",
        "if isinstance(var, int):\n",
        "    print(\"The variable is an integer\")\n",
        "else: \n",
        "    print(f\"The variable is {type(var)}\")\n",
        "```\n",
        "\n",
        "</td>\n",
        "</tr>\n",
        "</table>\n",
        "\n",
        "## Checking for multiple types\n",
        "The is instance method can also take a tuple of types to verify if the object matches any of them. This is a huge advantage over using the `type` function since you can only check one type at a time.\n",
        "\n",
        "<table style = \"margin-left: auto; margin-right: auto;\">\n",
        "<tr>\n",
        "<th> Using type( ) </th>\n",
        "<th> Using isinstance( ) </th>\n",
        "</tr>\n",
        "<tr>\n",
        "<td>\n",
        "\n",
        "```python\n",
        "var = 100\n",
        "if type(var) == int or type(var) == float or type(var) == complex:\n",
        "    print(\"The variable is a number\")\n",
        "else:\n",
        "    print(f\"The variable is {type(var)}\")\n",
        "```\n",
        "\n",
        "</td>\n",
        "<td>\n",
        "\n",
        "```python\n",
        "var = 100\n",
        "if isinstance(var, (int, float, complex)):\n",
        "    print(\"The variable is an integer\")\n",
        "else: \n",
        "    print(f\"The variable is {type(var)}\")\n",
        "```\n",
        "\n",
        "</td>\n",
        "</tr>\n",
        "</table>\n",
        "\n",
        "## Why use `isinstance` over `type`\n",
        "The differences between these two methods are small, yet the technicalities of their differences are beyond the scope of this lesson. Just know that if you want to check the type of an object/variable, use `isinstance` instead of `type`. Only use `type` when you need to actually know the type of an object.\n"
      ]
    },
    {
      "cell_type": "code",
      "execution_count": null,
      "metadata": {
        "id": "MRuWl8d139cc"
      },
      "outputs": [],
      "source": [
        "#TODO verify the `var` is an instance of a list\n",
        "var = [1,2,3,4,5]\n",
        "\n"
      ]
    },
    {
      "cell_type": "code",
      "execution_count": null,
      "metadata": {
        "id": "--I8HFuh39cc"
      },
      "outputs": [],
      "source": [
        "#TODO verify that all of the elements in the list are numbers\n",
        "var = [.1j, 5, 10, 44.44, 23, '66']\n"
      ]
    },
    {
      "cell_type": "markdown",
      "metadata": {
        "id": "BWonTTjt39cc"
      },
      "source": [
        "# Sorted and reversed\n",
        "\n",
        "* The `sorted` function is used to sort an iterable object\n",
        "* The `reversed` method is used to reverse an iterable object\n",
        "\n",
        "The sorted method has some extra parameters so that you can do more controlled sorting (like sorting a dictionary by value), but we'll look at that more in depth when we talk about calback functions.\n",
        "\n",
        "```python\n",
        "var = [342, 565, 234, 2, 566, 23, 678, 34, 12, 777, 234]\n",
        "sorted(var) -> [2, 12, 23, 34, 234, 234, 342, 565, 566, 678, 777]\n",
        "\n",
        "list(reversed(var)) -> [234, 777, 12, 34, 678, 23, 566, 2, 234, 565, 342]\n",
        "```"
      ]
    },
    {
      "cell_type": "code",
      "execution_count": null,
      "metadata": {
        "id": "JxuJyCMj39cc"
      },
      "outputs": [],
      "source": [
        "#TODO Sort the list of randomly generated numbers\n",
        "from random import randint\n",
        "var = [randint(1, 1000) for _ in range(25)]\n"
      ]
    },
    {
      "cell_type": "code",
      "execution_count": null,
      "metadata": {
        "id": "W1cIU2sY39cc"
      },
      "outputs": [],
      "source": [
        "#TODO reverse the list of randomly generated numbers\n"
      ]
    }
  ],
  "metadata": {
    "interpreter": {
      "hash": "fd61235da8d855c081cbd5d7c6398e4c179a40a950675235256f7f30499f1124"
    },
    "kernelspec": {
      "display_name": "Python 3.7.4 64-bit ('base': conda)",
      "language": "python",
      "name": "python3"
    },
    "language_info": {
      "codemirror_mode": {
        "name": "ipython",
        "version": 3
      },
      "file_extension": ".py",
      "mimetype": "text/x-python",
      "name": "python",
      "nbconvert_exporter": "python",
      "pygments_lexer": "ipython3",
      "version": "3.9.7"
    },
    "orig_nbformat": 4,
    "colab": {
      "name": "in_class_demo.ipynb",
      "provenance": [],
      "include_colab_link": true
    }
  },
  "nbformat": 4,
  "nbformat_minor": 0
}