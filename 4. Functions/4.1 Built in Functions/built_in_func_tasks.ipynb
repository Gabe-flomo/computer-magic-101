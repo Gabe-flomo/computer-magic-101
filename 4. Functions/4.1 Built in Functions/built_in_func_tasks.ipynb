{
  "cells": [
    {
      "cell_type": "markdown",
      "metadata": {
        "id": "view-in-github",
        "colab_type": "text"
      },
      "source": [
        "<a href=\"https://colab.research.google.com/github/Gabe-flomo/Python-Course/blob/main/Modules/4.%20Functions/4.1%20Built%20in%20Functions/built_in_func_tasks.ipynb\" target=\"_parent\"><img src=\"https://colab.research.google.com/assets/colab-badge.svg\" alt=\"Open In Colab\"/></a>"
      ]
    },
    {
      "cell_type": "markdown",
      "metadata": {
        "id": "2BLdxbwf4BLh"
      },
      "source": [
        "# TASK 1\n",
        "Describe in your own words what a built in function is"
      ]
    },
    {
      "cell_type": "markdown",
      "metadata": {
        "id": "4SbGIezw4BLi"
      },
      "source": [
        "***Double click to edit***"
      ]
    },
    {
      "cell_type": "markdown",
      "metadata": {
        "id": "97tsYo7-4BLi"
      },
      "source": [
        "# TASK 2\n",
        "Generate a list of 50 random numbers between -100 and 100. Find the `min` `max` and `sum` of the list. Then add the minimum and maximum value and see if it is greater than the sum.\n",
        "\n",
        "## Example output\n",
        "```python\n",
        "var = [random numbers]\n",
        "result = calulation\n",
        "print(f\"Is the min + max greater than the sum? {result}\")\n",
        "```"
      ]
    },
    {
      "cell_type": "code",
      "execution_count": null,
      "metadata": {
        "id": "xjsCiPbK4BLi"
      },
      "outputs": [],
      "source": [
        "#TODO"
      ]
    },
    {
      "cell_type": "markdown",
      "metadata": {
        "id": "ojs1yDNB4BLi"
      },
      "source": [
        "# TASK 3\n",
        "Given a list of numbers, the `range` is defined as the difference between the largest and smallest value. Generate a list of 10 random numbers and calculate the range.\n",
        "\n",
        "## Example output\n",
        "```python \n",
        "var = [1,2,3,4,5,6,7,100]\n",
        "range = 99\n",
        "```"
      ]
    },
    {
      "cell_type": "markdown",
      "metadata": {
        "id": "97ROf8ro4BLi"
      },
      "source": [
        "# TASK 4\n",
        "Below you're given a list of files. Print out the file name as well as it's position in the list.\n",
        "\n",
        "## Expected output\n",
        "```python\n",
        "1) file1\n",
        "2) file2\n",
        "3) file3\n",
        "```"
      ]
    },
    {
      "cell_type": "code",
      "execution_count": null,
      "metadata": {
        "id": "07GRmFAR4BLi"
      },
      "outputs": [],
      "source": [
        "from random import choice\n",
        "var = [f'file_{x}.{choice([\"wav\", \"mp3\", \"mp4\", \"mov\"])}' for x in range(20)]"
      ]
    },
    {
      "cell_type": "markdown",
      "metadata": {
        "id": "qZj4yv9N4BLj"
      },
      "source": [
        "# TASK 5 \n",
        "using the previous list of file names, convert all of the audio files (wav or mp3) to be `wav` and all of the video files (mp4 or mov) to be `mp4`.\n",
        "\n",
        "## Expected output\n",
        "```python\n",
        "file.wav\n",
        "file.mp4\n",
        "file.mp4\n",
        "```\n"
      ]
    },
    {
      "cell_type": "code",
      "execution_count": null,
      "metadata": {
        "id": "tsGeXR3O4BLj"
      },
      "outputs": [],
      "source": [
        "#TODO"
      ]
    },
    {
      "cell_type": "markdown",
      "metadata": {
        "id": "ZV8kO0kd4BLj"
      },
      "source": [
        "# TASK 6\n",
        "Using the list from the previous task, split the file type from the file name and add the file types to a seperate list. Then recombine the filename and type so that it is in this format:\n",
        "\n",
        "```python \n",
        "[('filename', 'filetype'), ('filename', 'filetype')]\n",
        "```\n",
        "\n",
        "***I expect you to use the zip function for this***"
      ]
    },
    {
      "cell_type": "code",
      "execution_count": null,
      "metadata": {
        "id": "SINJnMHm4BLj"
      },
      "outputs": [],
      "source": [
        "#TODO   "
      ]
    },
    {
      "cell_type": "markdown",
      "metadata": {
        "id": "qQyKl_Kc4BLj"
      },
      "source": [
        "# TASK 7 \n",
        "Using the list from the previous task, I want you to verify that all of the filetypes are of the extension `wav` or `mp4`."
      ]
    },
    {
      "cell_type": "code",
      "execution_count": null,
      "metadata": {
        "id": "AtFS9eRZ4BLj"
      },
      "outputs": [],
      "source": [
        "#TODO"
      ]
    },
    {
      "cell_type": "markdown",
      "metadata": {
        "id": "seeFX3-64BLj"
      },
      "source": [
        "# TASK 8\n",
        "Below you are given a list and you need to check if all of the elements are either a `string` or a `float`"
      ]
    },
    {
      "cell_type": "code",
      "execution_count": null,
      "metadata": {
        "id": "8DmtwSYW4BLj"
      },
      "outputs": [],
      "source": [
        "values = [1, 43.2, \"43.2\", 54.554, \"332\"]\n",
        "#TODO"
      ]
    },
    {
      "cell_type": "markdown",
      "metadata": {
        "id": "OtgjraKy4BLj"
      },
      "source": [
        "# TASK 9\n",
        "Check to see if any of the strings are numeric"
      ]
    },
    {
      "cell_type": "code",
      "execution_count": null,
      "metadata": {
        "id": "pGcSU-se4BLj"
      },
      "outputs": [],
      "source": [
        "strings = ['hello', \"world\", \"today it is\", \"negative\", \"16\", \"degrees\"]\n",
        "#TODO"
      ]
    },
    {
      "cell_type": "markdown",
      "metadata": {
        "id": "UNfXLqal4BLj"
      },
      "source": [
        "# TASK 10\n",
        "Given a list of elements you are tasked with sorting the list. However, before you can sort you need to make sure that all of the elements are numbers. Implement the logic to:\n",
        "* check to see if all of the elements are numeric\n",
        "* if they're not numeric, convert them into a number\n",
        "* sort the list"
      ]
    },
    {
      "cell_type": "code",
      "execution_count": null,
      "metadata": {
        "id": "iXCgmEOC4BLj"
      },
      "outputs": [],
      "source": [
        "#RUN THIS CELL FIRST\n",
        "from random import randint\n",
        "def get_value():\n",
        "    number = randint(0, 100) \n",
        "    string_number = str(randint(0, 100))\n",
        "    complex_number = complex(randint(0, 100))\n",
        "    bool_value = choice([True, False])\n",
        "    return choice([number, string_number, complex_number, bool_value])"
      ]
    },
    {
      "cell_type": "code",
      "execution_count": null,
      "metadata": {
        "id": "S6uzMeNd4BLk"
      },
      "outputs": [],
      "source": [
        "elements = [get_value() for _ in range(100)]\n",
        "#TODO"
      ]
    }
  ],
  "metadata": {
    "interpreter": {
      "hash": "f1a916808f2d29f1a5fbd48aa1cb9129993ca703ecce713879d0cd946e898e32"
    },
    "kernelspec": {
      "display_name": "Python 3.9.7 64-bit ('legacy': conda)",
      "language": "python",
      "name": "python3"
    },
    "language_info": {
      "codemirror_mode": {
        "name": "ipython",
        "version": 3
      },
      "file_extension": ".py",
      "mimetype": "text/x-python",
      "name": "python",
      "nbconvert_exporter": "python",
      "pygments_lexer": "ipython3",
      "version": "3.9.7"
    },
    "orig_nbformat": 4,
    "colab": {
      "name": "built_in_func_tasks.ipynb",
      "provenance": [],
      "include_colab_link": true
    }
  },
  "nbformat": 4,
  "nbformat_minor": 0
}