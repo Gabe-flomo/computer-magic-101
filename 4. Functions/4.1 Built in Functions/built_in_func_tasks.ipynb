{
  "cells": [
    {
      "cell_type": "markdown",
      "metadata": {
        "colab_type": "text",
        "id": "view-in-github"
      },
      "source": [
        "<a href=\"https://colab.research.google.com/github/Gabe-flomo/Python-Course/blob/main/Modules/4.%20Functions/4.1%20Built%20in%20Functions/built_in_func_tasks.ipynb\" target=\"_parent\"><img src=\"https://colab.research.google.com/assets/colab-badge.svg\" alt=\"Open In Colab\"/></a>"
      ]
    },
    {
      "cell_type": "markdown",
      "metadata": {
        "id": "2BLdxbwf4BLh"
      },
      "source": [
        "# TASK 1\n",
        "Describe in your own words what a built in function is"
      ]
    },
    {
      "cell_type": "markdown",
      "metadata": {
        "id": "4SbGIezw4BLi"
      },
      "source": [
        "***A built in function is a function that was already written and comes with the python language***"
      ]
    },
    {
      "cell_type": "markdown",
      "metadata": {
        "id": "97tsYo7-4BLi"
      },
      "source": [
        "# TASK 2\n",
        "Generate a list of 50 random numbers between -100 and 100. Find the `min` `max` and `sum` of the list. Then add the minimum and maximum value and see if it is greater than the sum.\n",
        "\n",
        "## Example output\n",
        "```python\n",
        "var = [random numbers]\n",
        "result = calulation\n",
        "print(f\"Is the min + max greater than the sum? {result}\")\n",
        "```"
      ]
    },
    {
      "cell_type": "code",
      "execution_count": 15,
      "metadata": {
        "id": "xjsCiPbK4BLi"
      },
      "outputs": [
        {
          "name": "stdout",
          "output_type": "stream",
          "text": [
            "Is the sum of the min and max value > than the sum of the list? False\n",
            "Min value: -96\n",
            "Max value: 98\n",
            "Min + Max: 2\n",
            "Sum of the list: 377\n"
          ]
        }
      ],
      "source": [
        "#TODO\n",
        "from random import randint"
      ]
    },
    {
      "cell_type": "markdown",
      "metadata": {
        "id": "ojs1yDNB4BLi"
      },
      "source": [
        "# TASK 3\n",
        "Given a list of numbers, the `range` is defined as the difference between the largest and smallest value. Generate a list of 10 random numbers and calculate the range.\n",
        "\n",
        "## Example output\n",
        "```python \n",
        "var = [1,2,3,4,5,6,7,100]\n",
        "range = 99\n",
        "```"
      ]
    },
    {
      "cell_type": "code",
      "execution_count": 25,
      "metadata": {},
      "outputs": [
        {
          "data": {
            "text/plain": [
              "83"
            ]
          },
          "execution_count": 25,
          "metadata": {},
          "output_type": "execute_result"
        }
      ],
      "source": []
    },
    {
      "cell_type": "markdown",
      "metadata": {
        "id": "97ROf8ro4BLi"
      },
      "source": [
        "# TASK 4\n",
        "Below you're given a list of files. Print out the file name as well as it's position in the list.\n",
        "\n",
        "## Expected output\n",
        "```python\n",
        "1) file1\n",
        "2) file2\n",
        "3) file3\n",
        "```"
      ]
    },
    {
      "cell_type": "code",
      "execution_count": 29,
      "metadata": {
        "id": "07GRmFAR4BLi"
      },
      "outputs": [
        {
          "name": "stdout",
          "output_type": "stream",
          "text": [
            "1) file_0.mov\n",
            "2) file_1.mov\n",
            "3) file_2.mp4\n",
            "4) file_3.mp3\n",
            "5) file_4.mp3\n",
            "6) file_5.wav\n",
            "7) file_6.wav\n",
            "8) file_7.wav\n",
            "9) file_8.mp4\n",
            "10) file_9.mp4\n",
            "11) file_10.mp3\n",
            "12) file_11.mov\n",
            "13) file_12.mp4\n",
            "14) file_13.wav\n",
            "15) file_14.mov\n",
            "16) file_15.wav\n",
            "17) file_16.mp3\n",
            "18) file_17.mp3\n",
            "19) file_18.wav\n",
            "20) file_19.mov\n"
          ]
        }
      ],
      "source": []
    },
    {
      "cell_type": "markdown",
      "metadata": {
        "id": "qZj4yv9N4BLj"
      },
      "source": [
        "# TASK 5 \n",
        "using the previous list of file names, convert all of the audio files (wav or mp3) to be `wav` and all of the video files (mp4 or mov) to be `mp4`.\n",
        "\n",
        "## Expected output\n",
        "```python\n",
        "file.wav\n",
        "file.mp4\n",
        "file.mp4\n",
        "```\n"
      ]
    },
    {
      "cell_type": "code",
      "execution_count": 30,
      "metadata": {
        "id": "tsGeXR3O4BLj"
      },
      "outputs": [
        {
          "data": {
            "text/plain": [
              "['file_0.mp4',\n",
              " 'file_1.mp4',\n",
              " 'file_2.mp4',\n",
              " 'file_3.wav',\n",
              " 'file_4.wav',\n",
              " 'file_5.wav',\n",
              " 'file_6.wav',\n",
              " 'file_7.wav',\n",
              " 'file_8.mp4',\n",
              " 'file_9.mp4',\n",
              " 'file_10.wav',\n",
              " 'file_11.mp4',\n",
              " 'file_12.mp4',\n",
              " 'file_13.wav',\n",
              " 'file_14.mp4',\n",
              " 'file_15.wav',\n",
              " 'file_16.wav',\n",
              " 'file_17.wav',\n",
              " 'file_18.wav',\n",
              " 'file_19.mp4']"
            ]
          },
          "execution_count": 30,
          "metadata": {},
          "output_type": "execute_result"
        }
      ],
      "source": [
        "#TODO\n",
        "\n"
      ]
    },
    {
      "cell_type": "markdown",
      "metadata": {
        "id": "ZV8kO0kd4BLj"
      },
      "source": [
        "# TASK 6\n",
        "Using the list from the previous task, split the file type from the file name and add the file types to a seperate list. Then recombine the filename and type so that it is in this format:\n",
        "\n",
        "```python \n",
        "[('filename', 'filetype'), ('filename', 'filetype')]\n",
        "```\n",
        "\n",
        "***I expect you to use the zip function for this***"
      ]
    },
    {
      "cell_type": "code",
      "execution_count": 31,
      "metadata": {
        "id": "SINJnMHm4BLj"
      },
      "outputs": [
        {
          "data": {
            "text/plain": [
              "[('file_0', 'mp4'),\n",
              " ('file_1', 'mp4'),\n",
              " ('file_2', 'mp4'),\n",
              " ('file_3', 'wav'),\n",
              " ('file_4', 'wav'),\n",
              " ('file_5', 'wav'),\n",
              " ('file_6', 'wav'),\n",
              " ('file_7', 'wav'),\n",
              " ('file_8', 'mp4'),\n",
              " ('file_9', 'mp4'),\n",
              " ('file_10', 'wav'),\n",
              " ('file_11', 'mp4'),\n",
              " ('file_12', 'mp4'),\n",
              " ('file_13', 'wav'),\n",
              " ('file_14', 'mp4'),\n",
              " ('file_15', 'wav'),\n",
              " ('file_16', 'wav'),\n",
              " ('file_17', 'wav'),\n",
              " ('file_18', 'wav'),\n",
              " ('file_19', 'mp4')]"
            ]
          },
          "execution_count": 31,
          "metadata": {},
          "output_type": "execute_result"
        }
      ],
      "source": [
        "#TODO  \n"
      ]
    },
    {
      "cell_type": "markdown",
      "metadata": {
        "id": "qQyKl_Kc4BLj"
      },
      "source": [
        "# TASK 7 \n",
        "Using the list from the previous task, I want you to verify that all of the filetypes are of the extension `wav` or `mp4`."
      ]
    },
    {
      "cell_type": "code",
      "execution_count": 33,
      "metadata": {
        "id": "AtFS9eRZ4BLj"
      },
      "outputs": [
        {
          "data": {
            "text/plain": [
              "True"
            ]
          },
          "execution_count": 33,
          "metadata": {},
          "output_type": "execute_result"
        }
      ],
      "source": [
        "#TODO\n"
      ]
    },
    {
      "cell_type": "markdown",
      "metadata": {
        "id": "seeFX3-64BLj"
      },
      "source": [
        "# TASK 8\n",
        "Below you are given a list and you need to check if all of the elements are either a `string` or a `float`"
      ]
    },
    {
      "cell_type": "code",
      "execution_count": 36,
      "metadata": {
        "id": "8DmtwSYW4BLj"
      },
      "outputs": [
        {
          "data": {
            "text/plain": [
              "False"
            ]
          },
          "execution_count": 36,
          "metadata": {},
          "output_type": "execute_result"
        }
      ],
      "source": [
        "values = [1, 43.2, \"43.2\", 54.554, \"332\"]\n",
        "#TODO\n"
      ]
    },
    {
      "cell_type": "markdown",
      "metadata": {
        "id": "OtgjraKy4BLj"
      },
      "source": [
        "# TASK 9\n",
        "Check to see if any of the strings are numeric"
      ]
    },
    {
      "cell_type": "code",
      "execution_count": null,
      "metadata": {
        "id": "pGcSU-se4BLj"
      },
      "outputs": [],
      "source": [
        "strings = ['hello', \"world\", \"today it is\", \"negative\", \"16\", \"degrees\"]\n",
        "#TODO"
      ]
    },
    {
      "cell_type": "markdown",
      "metadata": {
        "id": "UNfXLqal4BLj"
      },
      "source": [
        "# TASK 10\n",
        "Given a list of elements you are tasked with sorting the list. However, before you can sort you need to make sure that all of the elements are numbers. Implement the logic to:\n",
        "* check to see if all of the elements are numeric\n",
        "* if they're not numeric, convert them into a number\n",
        "* sort the list"
      ]
    },
    {
      "cell_type": "code",
      "execution_count": null,
      "metadata": {
        "id": "iXCgmEOC4BLj"
      },
      "outputs": [],
      "source": [
        "#RUN THIS CELL FIRST\n",
        "from random import randint\n",
        "def get_value():\n",
        "    number = randint(0, 100) \n",
        "    string_number = str(randint(0, 100))\n",
        "    complex_number = complex(randint(0, 100))\n",
        "    bool_value = choice([True, False])\n",
        "    return choice([number, string_number, complex_number, bool_value])"
      ]
    },
    {
      "cell_type": "code",
      "execution_count": null,
      "metadata": {
        "id": "S6uzMeNd4BLk"
      },
      "outputs": [],
      "source": [
        "elements = [get_value() for _ in range(100)]\n",
        "#TODO"
      ]
    }
  ],
  "metadata": {
    "colab": {
      "include_colab_link": true,
      "name": "built_in_func_tasks.ipynb",
      "provenance": []
    },
    "interpreter": {
      "hash": "f1a916808f2d29f1a5fbd48aa1cb9129993ca703ecce713879d0cd946e898e32"
    },
    "kernelspec": {
      "display_name": "Python 3.9.7 64-bit ('legacy': conda)",
      "language": "python",
      "name": "python3"
    },
    "language_info": {
      "codemirror_mode": {
        "name": "ipython",
        "version": 3
      },
      "file_extension": ".py",
      "mimetype": "text/x-python",
      "name": "python",
      "nbconvert_exporter": "python",
      "pygments_lexer": "ipython3",
      "version": "3.9.7"
    },
    "orig_nbformat": 4
  },
  "nbformat": 4,
  "nbformat_minor": 0
}
