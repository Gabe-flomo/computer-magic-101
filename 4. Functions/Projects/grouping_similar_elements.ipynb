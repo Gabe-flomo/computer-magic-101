{
 "cells": [
  {
   "cell_type": "markdown",
   "metadata": {},
   "source": [
    "# Instructions\n",
    "Write a function to group similar elements in a list together.\n",
    "\n",
    "## Example output\n",
    "```python\n",
    "var = [1,2,3,4,4,5,6,1,2,4,8,7,5]\n",
    "group_elements(var)\n",
    "\n",
    "#output\n",
    "[\n",
    "    [1,1],\n",
    "    [2,2],\n",
    "    [3],\n",
    "    [4,4,4],\n",
    "    [5,5],\n",
    "    [6],\n",
    "    [7],\n",
    "    [8]\n",
    "]\n",
    "```"
   ]
  },
  {
   "cell_type": "code",
   "execution_count": null,
   "metadata": {},
   "outputs": [],
   "source": []
  }
 ],
 "metadata": {
  "language_info": {
   "name": "python"
  },
  "orig_nbformat": 4
 },
 "nbformat": 4,
 "nbformat_minor": 2
}
