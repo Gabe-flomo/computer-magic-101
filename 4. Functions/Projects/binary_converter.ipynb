{
 "cells": [
  {
   "cell_type": "markdown",
   "metadata": {},
   "source": [
    "# Instructions\n",
    "In this task, you will write a function that can convert binary numbers into decimal numbers.\n",
    "\n",
    "## Counting decimal numbers vs. Binary numbers\n",
    "A decimal number is a number represented in base 10, meaning that you have 10 whole numbers (0-9) to count with until you need to start reusing the same numbers to count to higher values. A binary number is a number represented in base 2, meaning that you have 2 whole numbers (0 and 1) to count with until you need to reuse the same numbers to count to higher values.\n",
    "\n",
    "* Decimal: `0, 1, 2, 3, 4, 5, 6, 7, 8, 9` -> `10, 11, 12, 13, 14, 15, 16, 17, 18, 19`\n",
    "* Binary: `0, 1` -> `10 (2), 11 (3)` -> `100 (4), 101 (5), 110 (6), 111 (7)` -> `1000 (8), 1001 (9), 1010 (10), 1011 (11), 1100 (12) ...`\n",
    "\n",
    "## Decimal places and binary places\n",
    "To represent any value in base 10 (decimal), numbers have place values likes `ones, tens, hundreds, and thousands` to represent a total value. Since were in base 10, the place values go up by a factor of 10 each time. So if said `\"There are 9 thousands, 2 hundreds, 4 tens, and 3 ones\"` this is equivalent to saying `\"The number is 9,243\"`.\n",
    "\n",
    "![](https://delightlylinux.files.wordpress.com/2014/08/lesson2-place-value-power.png)\n",
    "\n",
    "\n",
    "However, binary place values are `ones, twos, fours, eights, and so on`. Because binary only works with 2 values (0, 1) you can think of each binary number as being a set of switches that represent `on or off`. So if I said `\"The ones place is on, twos is off, and fours is on\"` this is equivalent to saying `\"101\"` which is equal to `5`.\n",
    "\n",
    "\n",
    "![](https://www.onlinemathlearning.com/image-files/binary-to-decimal.png)\n",
    "\n",
    "***Notice how in both of the visuals above, each 'place' is represented by the base system you're using raised to the exponent of `n`, where `n` starts at zero and increases by one (from right to left)***\n",
    "---\n",
    "\n",
    "## Converting from binary to decimal\n",
    "Each place in a binary number is occupied by a binary digit, or *`bit`* for short. Each of these `bits` can be on (1) or off (0). If we put 8 of these `bits` in a sequence to represent a single value we have an 8-bit number, which is also called a `byte`. If you were to generate 1024 8-bit numbers or 1024 `bytes`, you can represent 1 kilobyte worth of information. Consider the 8-bit value `00101110`, we can convert this number to decimal by taking the sum of all the positions where the `bit` is equal to 1. \n",
    "\n",
    "* $2^{7}$ == 128 --->`0`  --> 0\n",
    "* $2^{6}$ == 64 ---> `0`  --> 0\n",
    "* $2^{5}$ == 32 ---> `1`  --> 32\n",
    "* $2^{4}$ == 16 ---> `0`  --> 0            \n",
    "* $2^{3}$ == 8 ----> `1`  --> 8\n",
    "* $2^{2}$ == 4 ----> `1`  --> 4\n",
    "* $2^{1}$ == 2 ----> `1`  --> 2\n",
    "* $2^{0}$ == 1 -----> `0` --> 0\n",
    "\n",
    "**`32 + 8 + 4 + 2 = 46`**\n",
    "\n",
    "## Function expectations\n",
    "* convert an 8-bit binary string into a decimal value (8-bit only, do not convert any other size)\n",
    "* returns the value as an integer\n",
    "\n",
    "### Examples\n",
    "```python \n",
    "var = '00100101'\n",
    "decimal = convert(var) -> 37\n",
    "\n",
    "var = \"10101010\"\n",
    "decimal = convert(var) -> 170\n",
    "```"
   ]
  },
  {
   "cell_type": "code",
   "execution_count": null,
   "metadata": {},
   "outputs": [],
   "source": [
    "#TODO"
   ]
  }
 ],
 "metadata": {
  "language_info": {
   "name": "python"
  },
  "orig_nbformat": 4
 },
 "nbformat": 4,
 "nbformat_minor": 2
}
