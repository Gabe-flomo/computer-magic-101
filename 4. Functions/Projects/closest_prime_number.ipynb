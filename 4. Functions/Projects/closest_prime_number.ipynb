{
 "cells": [
  {
   "cell_type": "markdown",
   "metadata": {},
   "source": [
    "# Instructions\n",
    "In this project, you are tasked with writing a function that is able to find the closest prime number given an input number.\n",
    "\n",
    "***A prime number is a whole number greater than 1 whose only factors are 1 and itself. A factor is a whole number that can be divided evenly into another number.***\n",
    "\n",
    "## Example\n",
    "```python\n",
    "closest_prime(25) -> 23\n",
    "closest_prime(26) -> 29\n",
    "closest_prime(75) -> 73\n",
    "```\n",
    "\n",
    "## Expectations\n",
    "* given a number, find the closest prime number\n",
    "* if a number is an equal distance away from two prime numbers, return the prime number that is bigger"
   ]
  },
  {
   "cell_type": "code",
   "execution_count": 1,
   "metadata": {},
   "outputs": [],
   "source": [
    "#TODO: Solution goes here"
   ]
  }
 ],
 "metadata": {
  "interpreter": {
   "hash": "f1a916808f2d29f1a5fbd48aa1cb9129993ca703ecce713879d0cd946e898e32"
  },
  "kernelspec": {
   "display_name": "Python 3.9.7 64-bit ('legacy': conda)",
   "language": "python",
   "name": "python3"
  },
  "language_info": {
   "codemirror_mode": {
    "name": "ipython",
    "version": 3
   },
   "file_extension": ".py",
   "mimetype": "text/x-python",
   "name": "python",
   "nbconvert_exporter": "python",
   "pygments_lexer": "ipython3",
   "version": "3.9.7"
  },
  "orig_nbformat": 4
 },
 "nbformat": 4,
 "nbformat_minor": 2
}
