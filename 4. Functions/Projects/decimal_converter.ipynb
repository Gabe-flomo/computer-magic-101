{
 "cells": [
  {
   "cell_type": "markdown",
   "metadata": {},
   "source": [
    "# DO THIS AFTER `BINARY_CONVERTER`"
   ]
  },
  {
   "cell_type": "markdown",
   "metadata": {},
   "source": [
    "# Instructions \n",
    "Using your knowledge of binary and decimal numbers, write a function that will convert a decimal number into an 8-bit binary number.\n",
    "\n",
    "## Example output\n",
    "```python \n",
    "var = 32\n",
    "binary = convert(var) -> '00100000'\n",
    "\n",
    "var = 30 \n",
    "binary = convert(var) -> '00011110'\n",
    "\n",
    "var = 100\n",
    "binary = convert(var) -> '01100100'\n",
    "```\n",
    "\n",
    "## Example conversion\n",
    "Convert `100` to binary\n",
    "* lowest active bit = `64`\n",
    "* `100 - 64 = 36`\n",
    "* lowest active bit = `32`\n",
    "* `36 - 32 = 4`\n",
    "* lowest active bit = `4`\n",
    "* `4 - 4 = 0`\n",
    "* active bits -> `[4, 32, 64]`\n",
    "* binary number -> `01100100`\n"
   ]
  },
  {
   "cell_type": "code",
   "execution_count": null,
   "metadata": {},
   "outputs": [],
   "source": []
  }
 ],
 "metadata": {
  "language_info": {
   "name": "python"
  },
  "orig_nbformat": 4
 },
 "nbformat": 4,
 "nbformat_minor": 2
}
