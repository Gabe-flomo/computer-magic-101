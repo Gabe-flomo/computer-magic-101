{
 "cells": [
  {
   "cell_type": "markdown",
   "metadata": {},
   "source": [
    "# Instructions\n",
    "Python has a built-in method called `filter` that takes a callback function and an iterable which if filtered using the callback function. In this project you are tasked with rewriting the filter method using your own custom function.\n",
    "\n",
    "## What does filter do?\n",
    "The filter method uses a callback function to check if each element in an iterable meets some condition. If the condition is met (the callback returns `True`) the element is kept in the list. If the condition is not met (the callback returns `False`) then the element is removed from the list.\n",
    "\n",
    "## example output\n",
    "```python\n",
    "var = [1,2,3,4,5,6,7,8]\n",
    "custom_filter(lambda ele: ele % 2 == 0, var) -> [2,4,6,8]"
   ]
  },
  {
   "cell_type": "code",
   "execution_count": null,
   "metadata": {},
   "outputs": [],
   "source": []
  }
 ],
 "metadata": {
  "language_info": {
   "name": "python"
  },
  "orig_nbformat": 4
 },
 "nbformat": 4,
 "nbformat_minor": 2
}
