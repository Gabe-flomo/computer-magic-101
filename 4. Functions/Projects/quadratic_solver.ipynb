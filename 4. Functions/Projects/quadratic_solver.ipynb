{
 "cells": [
  {
   "cell_type": "markdown",
   "metadata": {},
   "source": [
    "# Instructions\n",
    "The quadratic formula is defined as \n",
    "\n",
    "<div style = \"text-align:center;\">\n",
    "\n",
    "$x=\\dfrac{-b\\pm \\sqrt{b^{2}-4ac}}{2a}$\n",
    "\n",
    "</div>\n",
    "\n",
    "* When $b^{2}-4ac$ = 0 there is one real root.\n",
    "\n",
    "* When $b^{2}-4ac$ > 0 there are two real roots.\n",
    "\n",
    "* When $b^{2}-4ac$ < 0 there are two complex roots.\n",
    "\n",
    "Your task is to write a function that can solve the quadratic formula for any coefficients `a, b, and c`. If the solution for $b^{2}-4ac$ is less than 0, just return `there is no real solution`. \n",
    "\n",
    "**To test your function, use the following coefficients (ordered: a, b, c) and check against the actual solution.**\n",
    "```\n",
    "1, 2, 1 ->  one real solution = -1\n",
    "\n",
    "1, 3, 3 -> two real solutions = −1 and −2\n",
    "\n",
    "1, 1, 1 -> no real solution\n",
    "```\n"
   ]
  },
  {
   "cell_type": "code",
   "execution_count": null,
   "metadata": {},
   "outputs": [],
   "source": []
  }
 ],
 "metadata": {
  "language_info": {
   "name": "python"
  },
  "orig_nbformat": 4
 },
 "nbformat": 4,
 "nbformat_minor": 2
}
