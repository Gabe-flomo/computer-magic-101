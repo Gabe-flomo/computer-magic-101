{
 "cells": [
  {
   "cell_type": "code",
   "execution_count": 10,
   "metadata": {},
   "outputs": [],
   "source": [
    "import pandas as pd\n",
    "path = r\"https://raw.githubusercontent.com/Gabe-flomo/Python-Course/main/Projects/4.%20Functions/files/netflix.csv\"\n",
    "df = pd.read_csv(path)\n",
    "data = df.to_dict(orient='records')"
   ]
  },
  {
   "cell_type": "markdown",
   "metadata": {},
   "source": [
    "# Objectives\n",
    "In this project you will build some functions to perform analysis on some netflix data."
   ]
  },
  {
   "cell_type": "markdown",
   "metadata": {},
   "source": [
    "# Function 1\n",
    "Write a function to return all the movies that fall under a specific rating. This function should 2 arguments\n",
    "* rating (required)\n",
    "* release_year (optional)\n",
    "\n",
    "`rating` is used to to find all of the movie titles with the given rating.\n",
    "\n",
    "`release_year` is an optional parameter to only return movies with a specific rating that came out in that year. By default this value should be None meaning all release years should be considered.\n",
    "\n",
    "`The function should return a list of all the movie titles that fall under the rating.`\n",
    "\n",
    "## Example output\n",
    "```python \n",
    "movies = filter_ratings(rating = 'pg-13')\n",
    "len(movies) -> 100\n",
    "\n",
    "movies = filter_ratings(rating = 'g', release_year = 2016)\n",
    "len(movies) -> 23\n",
    "```"
   ]
  },
  {
   "cell_type": "code",
   "execution_count": null,
   "metadata": {},
   "outputs": [],
   "source": []
  },
  {
   "cell_type": "markdown",
   "metadata": {},
   "source": [
    "# Function 2\n",
    "Write a function that given a release year it will calculate the average `user rating score` for each type of rating. The arguments are:\n",
    "* `release_year` the year the movie was released\n",
    "\n",
    "`The function should return a dictionary with each rating as the key and the average user score as the value`\n",
    "\n",
    "### Example output\n",
    "```python \n",
    "scores = average_ratings(2009)\n",
    "print(scores) -> {'G': 54.6, 'PG': 84.4, \"PG-13\": 81.6, \"R\": 87.9}\n",
    "```"
   ]
  },
  {
   "cell_type": "code",
   "execution_count": null,
   "metadata": {},
   "outputs": [],
   "source": []
  }
 ],
 "metadata": {
  "interpreter": {
   "hash": "f1a916808f2d29f1a5fbd48aa1cb9129993ca703ecce713879d0cd946e898e32"
  },
  "kernelspec": {
   "display_name": "Python 3.9.7 ('legacy')",
   "language": "python",
   "name": "python3"
  },
  "language_info": {
   "codemirror_mode": {
    "name": "ipython",
    "version": 3
   },
   "file_extension": ".py",
   "mimetype": "text/x-python",
   "name": "python",
   "nbconvert_exporter": "python",
   "pygments_lexer": "ipython3",
   "version": "3.9.7"
  },
  "orig_nbformat": 4
 },
 "nbformat": 4,
 "nbformat_minor": 2
}
