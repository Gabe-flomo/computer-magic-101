{
 "cells": [
  {
   "cell_type": "markdown",
   "metadata": {},
   "source": [
    "# Instructions\n",
    "Given some monthly engagement data, write a function that can calculate the percent change in engagement over a period of time. The function should take 4 arguments.\n",
    "\n",
    "\n",
    "`data` which is the data provided to you. `start` and `end` which will indicate which month to start and end at. If a `start` month is given that comes after the `end` data, return `invalid date rage` from the function. For example, `start = april, end = jan` is an invalid date range. The third argument should be `interval` which can take on two values, `overall` and `increment`.\n",
    "* `overall` show the change between the start and end date only, even if there are months in between.\n",
    "* `increment` show the change between the start and end date and the change from all the months in between\n",
    "\n",
    "## Examples\n",
    "```python\n",
    "monthly_change(data, start = 'jan', end = 'may', interval = 'overall') -> \"90.2% increase in activity from jan to may\"\n",
    "\n",
    "monthly_change(data, start = 'jan', end = 'may', interval = 'interval') -> \n",
    "{\n",
    "    'feb': \"10% increase in activity\",\n",
    "    'march': \"83% decrease in activity\",\n",
    "    'april': \"45% increase in activity\",\n",
    "    'may': \"79% increase in activity\"\n",
    "}\n",
    "\n",
    "\n",
    "```\n"
   ]
  },
  {
   "cell_type": "code",
   "execution_count": null,
   "metadata": {},
   "outputs": [],
   "source": [
    "data = {\n",
    "    'jan': 503,\n",
    "    'feb': 902,\n",
    "    'march': 1003,\n",
    "    'april': 800,\n",
    "    'may': 1211,\n",
    "    'june': 1249,\n",
    "    'july': 1503,\n",
    "    'aug': 1592,\n",
    "    'sep': 1321,\n",
    "    'oct': 1022,\n",
    "    'nov': 948,\n",
    "    'dec': 900,\n",
    "}"
   ]
  }
 ],
 "metadata": {
  "language_info": {
   "name": "python"
  },
  "orig_nbformat": 4
 },
 "nbformat": 4,
 "nbformat_minor": 2
}
