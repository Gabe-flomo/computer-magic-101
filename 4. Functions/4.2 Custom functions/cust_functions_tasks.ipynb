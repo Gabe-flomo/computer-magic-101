{
  "cells": [
    {
      "cell_type": "markdown",
      "metadata": {
        "colab_type": "text",
        "id": "view-in-github"
      },
      "source": [
        "<a href=\"https://colab.research.google.com/github/Gabe-flomo/Python-Course/blob/main/Modules/4.%20Functions/4.2%20Custom%20functions/cust_functions_tasks.ipynb\" target=\"_parent\"><img src=\"https://colab.research.google.com/assets/colab-badge.svg\" alt=\"Open In Colab\"/></a>"
      ]
    },
    {
      "cell_type": "markdown",
      "metadata": {
        "id": "RM4eMB8Tk06W"
      },
      "source": [
        "# TASK 1\n",
        "Have the user input 2 numbers and write a function that returns the largest of the two.\n",
        "\n",
        "## Example output\n",
        "```python\n",
        "def function(arg1, arg2):\n",
        "    return largest\n",
        "\n",
        "# output\n",
        "\"10 is bigger than 2\"\n",
        "```"
      ]
    },
    {
      "cell_type": "code",
      "execution_count": null,
      "metadata": {
        "id": "vqsdaJs-k06W"
      },
      "outputs": [],
      "source": [
        "#TODO"
      ]
    },
    {
      "cell_type": "markdown",
      "metadata": {
        "id": "PCkfMaNUk06X"
      },
      "source": [
        "# TASK 2\n",
        "Given a lists, write a function named `average` that returns the average value of a list and print the output as message like:\n",
        "\n",
        "`The mean of the list is: 43.3`"
      ]
    },
    {
      "cell_type": "code",
      "execution_count": 1,
      "metadata": {
        "id": "yLxQtJIdk06X"
      },
      "outputs": [],
      "source": [
        "from random import randint\n",
        "values = [randint(10, 100) for _ in range(randint(10, 20))]\n",
        "\n",
        "#TODO: function goes here"
      ]
    },
    {
      "cell_type": "markdown",
      "metadata": {
        "id": "k546mb6lk06X"
      },
      "source": [
        "# TASK 3\n",
        "Write a function called `new_list` that returns a list of 10 random numbers, then call the function inside of a list comprehension to create a list of lists.\n",
        "\n",
        "### Expected output\n",
        "```python\n",
        "[\n",
        "    [1, 5, 3, 7, 2, 5, 3],\n",
        "    [4, 6, 2, 7, 44, 2, 11],\n",
        "    [0, 43, 23, 66, 2, 54],\n",
        "    [23, 56, 23, 6, 7, 4],\n",
        "    [1,2,3,4,5,6],\n",
        "]\n",
        "\n",
        "```"
      ]
    },
    {
      "cell_type": "code",
      "execution_count": 2,
      "metadata": {
        "id": "OdBznLeck06X"
      },
      "outputs": [
        {
          "data": {
            "text/plain": [
              "[[42, 48, 76, 32, 42, 49, 4, 21, 67, 34],\n",
              " [23, 46, 58, 20, 78, 77, 96, 75, 83, 35],\n",
              " [21, 6, 8, 0, 17, 32, 16, 31, 85, 67],\n",
              " [5, 3, 40, 100, 17, 77, 41, 16, 43, 18],\n",
              " [51, 89, 31, 96, 42, 9, 62, 56, 35, 46]]"
            ]
          },
          "execution_count": 2,
          "metadata": {},
          "output_type": "execute_result"
        }
      ],
      "source": [
        "#TODO: Create function here\n",
        "\n",
        "\n",
        "#TODO: Create list of lists here\n"
      ]
    },
    {
      "cell_type": "markdown",
      "metadata": {
        "id": "QY4mseQ1k06X"
      },
      "source": [
        "# TASK 3\n",
        "Using the list of lists from task 2, write a function called `highest_average` that will return the index position of the row with the highest average.\n",
        "\n",
        "### Expected output\n",
        "```python\n",
        "def your_function(list):\n",
        "    return index, average\n",
        "\n",
        "[\n",
        "    [1,2,3,4,5],\n",
        "    [5,6,7,8,9],\n",
        "    [1,3,5,7,9],\n",
        "    [2,4,6,8,10],\n",
        "    [1,2,3,9,8],\n",
        "]\n",
        "\n",
        "# output should look like\n",
        "\"Row 4 has the highest average of 22.3\"\n",
        "```"
      ]
    },
    {
      "cell_type": "code",
      "execution_count": null,
      "metadata": {
        "id": "d6F6sRFkk06X"
      },
      "outputs": [],
      "source": []
    },
    {
      "cell_type": "markdown",
      "metadata": {
        "id": "POqOU7qAk06X"
      },
      "source": [
        "# TASK 5\n",
        "Write a function named `generate_data` to generate fake user data for a social media account. The arguments to your function should be structured as follows:\n",
        "* **`int:`**    `num_of_users`: Lets the function know how many users to create\n",
        "* **`tuple:`**  `like_range`: Lets the function know the lower and upper limits for like data. ***(Default (5, 100))***\n",
        "* **`tuple:`**  `comment_range`: Lets the function know the lower and upper limits for comment data ***(Default (5, 30))***\n",
        "* **`tuple:`**  `saved_range`: Lets the function know the lower and upper limits for saved data  ***(Default (0, 10))***\n",
        "\n",
        "The function should return a nested dictionary where the keys are the username and the values are dictionaries with the folllowing `key:value` pairs:\n",
        "* `following`: True or False\n",
        "* `likes`: an int within the range of `like_range`\n",
        "* `comments`: an int within the range of `comment_range`\n",
        "* `saved`: an int within the range of `saved_range` \n",
        "\n",
        "## Expected output\n",
        "```python\n",
        "\n",
        "data = {\n",
        "    \"user_1\":{\n",
        "        \"following\": True,\n",
        "        \"Likes\": 85,\n",
        "        \"Comments\": 31,\n",
        "        \"Saved\": 4\n",
        "    },\n",
        "    \"user_2\":{\n",
        "        \"following\": True,\n",
        "        \"Likes\": 45,\n",
        "        \"Comments\": 23,\n",
        "        \"Saved\": 0\n",
        "    },\n",
        "    \"user_3\":{\n",
        "        \"following\": False,\n",
        "        \"Likes\": 15,\n",
        "        \"Comments\": 3,\n",
        "        \"Saved\": 1\n",
        "    }\n",
        "}\n",
        "```"
      ]
    },
    {
      "cell_type": "code",
      "execution_count": null,
      "metadata": {
        "id": "w4s2Phplk06Y"
      },
      "outputs": [],
      "source": [
        "#TODO"
      ]
    },
    {
      "cell_type": "markdown",
      "metadata": {
        "id": "58662vzqk06Y"
      },
      "source": [
        "# TASK 6\n",
        "using the fake social media account data generated from the function above, write a new function named `follower_types` that returns a list of primary followers or secondary followers. \n",
        "* A primary follower is any user that follows you and you also follow them\n",
        "* A secondary follower is any user that follows you but you don't follow them \n",
        "\n",
        "The function should accept the following arguments:\n",
        "* `data`: a dictionary that contains all of the follower data\n",
        "* `mode`: a string that determines how the list should be returned ***(Default: both)***\n",
        "    * `mode = \"primary\"`: returns a list of primary followers only\n",
        "    * `mode = \"secondary\"`: returns a list of secondary followers only\n",
        "\n",
        "## Example output\n",
        "```python\n",
        "data = {\n",
        "    \"user_1\":{\n",
        "        \"following\": True,\n",
        "        \"Likes\": 85,\n",
        "        \"Comments\": 31,\n",
        "        \"Saved\": 4\n",
        "    },\n",
        "    \"user_2\":{\n",
        "        \"following\": True,\n",
        "        \"Likes\": 45,\n",
        "        \"Comments\": 23,\n",
        "        \"Saved\": 0\n",
        "    },\n",
        "    \"user_3\":{\n",
        "        \"following\": False,\n",
        "        \"Likes\": 15,\n",
        "        \"Comments\": 3,\n",
        "        \"Saved\": 1\n",
        "    }\n",
        "}\n",
        "\n",
        "primary = follower_types(data, mode = \"primary\")\n",
        "secondary = follower_types(data, mode = \"secondary\")\n",
        "\n",
        "#output\n",
        "print(primary) -> [\"user_1\", \"user_2\"]\n",
        "print(secondary) -> [\"user_3\"]\n",
        "```"
      ]
    },
    {
      "cell_type": "code",
      "execution_count": null,
      "metadata": {
        "id": "pEZnhiZrk22x"
      },
      "outputs": [],
      "source": [
        "#TODO"
      ]
    }
  ],
  "metadata": {
    "colab": {
      "include_colab_link": true,
      "name": "cust_functions_tasks.ipynb",
      "provenance": []
    },
    "interpreter": {
      "hash": "f1a916808f2d29f1a5fbd48aa1cb9129993ca703ecce713879d0cd946e898e32"
    },
    "kernelspec": {
      "display_name": "Python 3.9.7 64-bit ('legacy': conda)",
      "language": "python",
      "name": "python3"
    },
    "language_info": {
      "codemirror_mode": {
        "name": "ipython",
        "version": 3
      },
      "file_extension": ".py",
      "mimetype": "text/x-python",
      "name": "python",
      "nbconvert_exporter": "python",
      "pygments_lexer": "ipython3",
      "version": "3.9.7"
    },
    "orig_nbformat": 4
  },
  "nbformat": 4,
  "nbformat_minor": 0
}
