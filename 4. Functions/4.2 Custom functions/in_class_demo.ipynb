{
  "cells": [
    {
      "cell_type": "markdown",
      "metadata": {
        "colab_type": "text",
        "id": "view-in-github"
      },
      "source": [
        "<a href=\"https://colab.research.google.com/github/Gabe-flomo/Python-Course/blob/main/Modules/4.%20Functions/4.2%20Custom%20functions/in_class_demo.ipynb\" target=\"_parent\"><img src=\"https://colab.research.google.com/assets/colab-badge.svg\" alt=\"Open In Colab\"/></a>"
      ]
    },
    {
      "cell_type": "markdown",
      "metadata": {
        "id": "VBIwCcu2lKkU"
      },
      "source": [
        "# Functions Recap\n",
        "Remember a function is a reusable block of code, meaning that it gets defined once and can be used as many times as you want. We've already looked at pythons built-in functions, however, more complex tasks may not have a predefined function already built. This is where custom functions come in. A custom function is just a function that you define and design yourself."
      ]
    },
    {
      "cell_type": "markdown",
      "metadata": {
        "id": "4qtVVWvtlKkU"
      },
      "source": [
        "# Defining a function\n",
        "To define a function we use the python keyword <b style = \"color:#CF9FFF;\"> def </b> followed by the `name` of the function, parenthesis for `arguments`, and a `return` statement at the end of the function.\n",
        "\n",
        "```python \n",
        "def name(arguments):\n",
        "    # Function body\n",
        "    # must be \n",
        "    # indented\n",
        "    return value    \n",
        "```\n",
        "\n",
        "***Everything that that comes after the <b style = \"color:#CF9FFF;\"> def </b> keyword is known as the function `signature`***"
      ]
    },
    {
      "cell_type": "code",
      "execution_count": null,
      "metadata": {
        "id": "d4kJ-CoPlKkU"
      },
      "outputs": [],
      "source": [
        "#TODO define a simple function that prints \"Hello world\"\n"
      ]
    },
    {
      "cell_type": "markdown",
      "metadata": {
        "id": "SagMOmbQlKkV"
      },
      "source": [
        "# Calling funtions\n",
        "The <b style = \"color:#CF9FFF;\"> def </b> keyword only defines our functions, if we actually want to use our function then we need to call it. To call a function, add parenthesis after the functions name.\n",
        "\n",
        "```python \n",
        "# function definition\n",
        "def function():\n",
        "    print(\"I am a function\")\n",
        "\n",
        "# function call\n",
        "funtion() -> # \"I am a function\"\n",
        "```"
      ]
    },
    {
      "cell_type": "code",
      "execution_count": null,
      "metadata": {
        "id": "F3SH7dTRlKkV"
      },
      "outputs": [],
      "source": [
        "#TODO call the 'greeting' function defined above\n"
      ]
    },
    {
      "cell_type": "code",
      "execution_count": null,
      "metadata": {
        "id": "_llPAd-3lKkV"
      },
      "outputs": [],
      "source": [
        "#TODO What happens when you try and call a function without parenthesis?\n"
      ]
    },
    {
      "cell_type": "markdown",
      "metadata": {
        "id": "eYgZUUIalKkV"
      },
      "source": [
        "*This is also why we can't name variables things like `max`, `input`, `print`, etc. Since these are actually functions, creating variables with these names will override the function*"
      ]
    },
    {
      "cell_type": "markdown",
      "metadata": {
        "id": "-XXOBc8elKkV"
      },
      "source": [
        "# Arguments\n",
        "Most times when building functions, they're going to be doing more complex tasks than just printing something to the screen. In order to do more complex tasks functions will usually need some type of ***'external'*** information as `inputs` to the function. These inputs come in the form of arguments and arguments come in 5 different types.\n",
        "\n",
        "* positional arguments\n",
        "* keyword arguments\n",
        "* default arguments\n",
        "* variable length positional arguments\n",
        "* variable length keyword arguments\n",
        "\n",
        "For now we will only focus on the first 3.\n",
        "\n",
        "## Positional arguments\n",
        "Positional arguments are values that are given to a function in a particular order. With positional arguments you need to pass values in the order with which they were defined.\n",
        "\n",
        "```python \n",
        "def positional(name, age):\n",
        "    print(f\"{name} is {age} years old\")\n",
        "```\n",
        "\n",
        "In this case, we've defined two positional arguments, `name` and `age`, to be used in out function."
      ]
    },
    {
      "cell_type": "code",
      "execution_count": null,
      "metadata": {
        "id": "RUYyltSBlKkW"
      },
      "outputs": [],
      "source": [
        "#TODO implement a function that takes 2 positional arguments 'name' and 'food' to print out someones favorite food\n"
      ]
    },
    {
      "cell_type": "code",
      "execution_count": null,
      "metadata": {
        "id": "aE1toK2WlKkW"
      },
      "outputs": [],
      "source": [
        "#TODO What happens if I give the arguments out of order?\n"
      ]
    },
    {
      "cell_type": "markdown",
      "metadata": {
        "id": "Y18IW1hHlKkW"
      },
      "source": [
        "## Keyword arguments\n",
        "If you want to ignore the position of the arguments, provide the name of the argument to the function along with its value. This will override the positional restriction since the arguments will now be mathced by name.\n",
        "\n",
        "```python \n",
        "def keyword(name, age):\n",
        "    print(f\"{name} is {age} years old\")\n",
        "\n",
        "keyword(name = \"Gabe\", age = 22) -> # Gabe is 22 years old\n",
        "keyword(age = 22, name = \"Gabe\") -> # Gabe is 22 years old\n",
        "```\n",
        "\n",
        "***For functions with more than one argument, you should use keyword arguments***"
      ]
    },
    {
      "cell_type": "code",
      "execution_count": null,
      "metadata": {
        "id": "UFXGTdKqlKkW"
      },
      "outputs": [],
      "source": [
        "#TODO call the fav_food function using keyword arguments\n"
      ]
    },
    {
      "cell_type": "markdown",
      "metadata": {
        "id": "ycocIOxzlKkW"
      },
      "source": [
        "## Default arguments\n",
        "A default argument is an argument that has a default value. If a value is not given to the function, it will execute using the default value. This is especially useful for functions that you want to have optional functionality depending if certain information is provided.\n",
        "\n",
        "*default arguments must be placed after all positional arguments.*\n",
        "\n",
        "```python\n",
        "def default(name, age = 22):\n",
        "    print(f\"{name} is {age} years old\")\n",
        "\n",
        "default(\"Gabe\") -> # Gabe is 22 years old\n",
        "default(name = \"Nene\") -> # Nene is 22 years old\n",
        "default(\"Nathan\", age = 21) # Nathan is 21 years old\n",
        "```"
      ]
    },
    {
      "cell_type": "code",
      "execution_count": null,
      "metadata": {
        "id": "Az0p9eNQlKkW"
      },
      "outputs": [],
      "source": [
        "#TODO define a function that adds 2 numbers but the second value has a default of 10\n"
      ]
    },
    {
      "cell_type": "code",
      "execution_count": null,
      "metadata": {
        "id": "It2NZcK-lKkW"
      },
      "outputs": [],
      "source": [
        "#TODO define a function that subtracts the default values of 10 and 5\n"
      ]
    },
    {
      "cell_type": "markdown",
      "metadata": {
        "id": "a6OqCkPBlKkW"
      },
      "source": [
        "# Docstrings\n",
        "A docstring is a description of a function inside of the function so that anyone using it can get an idea of what the function is doing. You write a docstring right after the functions `signature` and is created using a `multiline` string. \n",
        "\n",
        "### What to add in the docstring\n",
        "* A description of the function\n",
        "* An explanation of the arguments\n",
        "* Example use cases (optional)\n",
        "\n",
        "```python\n",
        "def complex_function(arg1, arg2, arg3 = True):\n",
        "    '''This function is very complex and will do lots and lots of cool things 😁\n",
        "\n",
        "        - arg1: is the first argument and will be used in this super complex task\n",
        "        - arg2: is the second argument and will be used in this complex task\n",
        "        - arg3: is the third argument and might be used in this complex task\n",
        "\n",
        "        complex_value = complex_function(\"complex_arg\", \"complex_arg\")\n",
        "    '''\n",
        "```"
      ]
    },
    {
      "cell_type": "code",
      "execution_count": null,
      "metadata": {
        "id": "vHK6BvOTlKkb"
      },
      "outputs": [],
      "source": [
        "#TODO redefine the fav_food function and add a docstring that describes the function and its arguments\n"
      ]
    },
    {
      "cell_type": "markdown",
      "metadata": {
        "id": "i89ipWMGlKkb"
      },
      "source": [
        "# Return statements\n",
        "When writing functions you usually aren't just printing out values, you want your functions to actually return some type of value. `Return` statements allow us to do exactly this. Think of the return statement of a function as the output of the function. If arguments are our inputs then return values are our outputs.\n",
        "\n",
        "To return a value from a function, add the return statement in the body of the function along with the value that you want to return.\n",
        "\n",
        "```python \n",
        "def add(x, y):\n",
        "    return x + y\n",
        "\n",
        "print(add(5, 10)) -> # 15\n",
        "```\n",
        "\n",
        "Keep in mind that whenever a function encounters a return statement, the execution of the function will stop. So make sure that you have done everything that you need to do in your function before adding a return statement becasue any code after it will not be executed."
      ]
    },
    {
      "cell_type": "code",
      "execution_count": null,
      "metadata": {
        "id": "H0bcliqUlKkb"
      },
      "outputs": [],
      "source": [
        "#TODO create a function that returns a list of random numbers between 0 - 100 where the size of the list is dependent\n",
        "# on a length argument \n",
        "from random import randint\n"
      ]
    },
    {
      "cell_type": "markdown",
      "metadata": {
        "id": "3wjShrE1lKkb"
      },
      "source": [
        "# Return multiple values\n",
        "Not only can you return a single value from a function, you can return as many values as you'd like. Each new value that you want to return from your function is separated by commas, similar to the elements in a list. \n",
        "\n",
        "```python \n",
        "def return_many():\n",
        "    return (3, \"return\", \"values\")\n",
        "\n",
        "# you can assign all 3 values to a single variable as a tuple\n",
        "val = return_many()\n",
        "print(val) -> # (3, \"return\", \"values\")\n",
        "\n",
        "# or you can assign all 3 values to individual values \n",
        "x, y, z = return_many()\n",
        "print(x) -> # 3\n",
        "print(y) -> # \"return\"\n",
        "print(z) -> # \"values\"\n",
        "```\n"
      ]
    },
    {
      "cell_type": "code",
      "execution_count": null,
      "metadata": {
        "id": "_9s8BRdflKkc",
        "outputId": "51bdea71-61be-4d56-e223-4e48536c9baf"
      },
      "outputs": [
        {
          "data": {
            "text/plain": [
              "10"
            ]
          },
          "execution_count": 11,
          "metadata": {},
          "output_type": "execute_result"
        }
      ],
      "source": [
        "#TODO define a function that generates 3 random numbers and returns each of them\n",
        "\n"
      ]
    }
  ],
  "metadata": {
    "colab": {
      "include_colab_link": true,
      "name": "in_class_demo.ipynb",
      "provenance": []
    },
    "interpreter": {
      "hash": "f1a916808f2d29f1a5fbd48aa1cb9129993ca703ecce713879d0cd946e898e32"
    },
    "kernelspec": {
      "display_name": "Python 3.9.7 64-bit ('legacy': conda)",
      "language": "python",
      "name": "python3"
    },
    "language_info": {
      "codemirror_mode": {
        "name": "ipython",
        "version": 3
      },
      "file_extension": ".py",
      "mimetype": "text/x-python",
      "name": "python",
      "nbconvert_exporter": "python",
      "pygments_lexer": "ipython3",
      "version": "3.9.7"
    },
    "orig_nbformat": 4
  },
  "nbformat": 4,
  "nbformat_minor": 0
}
