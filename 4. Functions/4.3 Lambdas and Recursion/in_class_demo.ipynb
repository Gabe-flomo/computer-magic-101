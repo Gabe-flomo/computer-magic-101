{
 "cells": [
  {
   "cell_type": "markdown",
   "metadata": {},
   "source": [
    "# What are anonymous functions?\n",
    "In programming, an anonymus function is a function that has no name. You might be thinking \"how can a function have no name?\" which is a valid question.\n",
    "\n",
    "Anonymus functions in python are called `Lambda` functions and we will go through why these 'nameless' functions are useful.\n",
    "\n",
    "# Creating lambda functions\n",
    "While normal functions are defined using the `def` keyword in Python, anonymous functions are defined using the `lambda` keyword.\n",
    "\n",
    "Although `lambdas` can have multiple arguments, they are limited to a single expression. You can think of a `lambda` as a function with only a return statement, which is why they're limited to a single expression.\n",
    "\n",
    "### Lambda syntax\n",
    "```python \n",
    "lambda arguments: expression\n",
    "```\n",
    "\n",
    "### Lambda example\n",
    "```python\n",
    "add = lambda x, y: x + y\n",
    "add(5, 10) -> 15\n",
    "```\n",
    "\n"
   ]
  },
  {
   "cell_type": "code",
   "execution_count": 3,
   "metadata": {},
   "outputs": [
    {
     "name": "stdout",
     "output_type": "stream",
     "text": [
      "Hello world has a length of 11\n"
     ]
    }
   ],
   "source": [
    "#TODO create a lambda function to print out a string and its length\n"
   ]
  },
  {
   "cell_type": "code",
   "execution_count": 4,
   "metadata": {},
   "outputs": [
    {
     "data": {
      "text/plain": [
       "'larger'"
      ]
     },
     "execution_count": 4,
     "metadata": {},
     "output_type": "execute_result"
    }
   ],
   "source": [
    "#TODO create a lambda function that takes 2 arguments, A and B. If A is larger than B return 'larger'\n",
    "# If A is smaller than B return 'smaller'\n"
   ]
  },
  {
   "cell_type": "markdown",
   "metadata": {},
   "source": [
    "# Callback functions\n",
    "A callback function in this context is a function that calls another function. For example, there are two builtin methods in python called `map` and `filter`, both of which require callback functions.\n",
    "\n",
    "## Filter example\n",
    "The `filter` function extracts elements from an iterable (list, tuple etc.) for which a function returns True. For example, I have the list `[1,2,3,4,5,7,8,10]` and I want to filter the list to return only the divisible by 3 after the number has been multiplied by itself plus 1 divided by 2 for a range of numbers equal to the number.\n",
    "```python\n",
    "def is_odd(num):\n",
    "    val = num\n",
    "    for i in range(num, num + num):\n",
    "        val *= i/2\n",
    "\n",
    "    if val % 3 == 0:\n",
    "        return False\n",
    "    else: return True\n",
    "```\n"
   ]
  },
  {
   "cell_type": "code",
   "execution_count": 53,
   "metadata": {},
   "outputs": [],
   "source": [
    "#TODO Use the function from above to filter a list of numbers\n",
    "from random import randint\n",
    "var = [randint(0, 100) for _ in range(20)]"
   ]
  },
  {
   "cell_type": "markdown",
   "metadata": {},
   "source": [
    "# Lambdas as callback functions\n",
    "Sometimes the call back function won't need to be as complex as the one above so we can simplify our code by using lambdas as callbacks. Say we want to filter our list to only return even numbers, this operation can be done in a single expression so it would make more sense to use a lambda function here.\n",
    "\n",
    " \n",
    "\n",
    "```python \n",
    "var = [1,2,3,4,5,6,7,8,9,10]\n",
    "callback = lambda element: element % 2 == 0\n",
    "list(filter(callback, var)) -> [2,4,6,8,10]\n",
    "```\n",
    "\n",
    "Under the hood, the filter function takes each element in our `var` iterable and runs it through our callback. For each element in our iterable, the filter function uses the callback function to check if the element is divisible by 2. If the result of our callback is `True` the filter function will keep the element, if the callback returns `False` \n",
    "\n"
   ]
  },
  {
   "cell_type": "code",
   "execution_count": 15,
   "metadata": {},
   "outputs": [],
   "source": [
    "#TODO use a callback to return a sorted list of values that are equal to or less than 10\n",
    "var = [8, 17, 23, 2, 16, 21, 10, 4, 1, 20, 9, 18, 14, 12, 5, 16, 0, 17, 0, 8, 0, 2, 13, 15, 8]"
   ]
  },
  {
   "cell_type": "code",
   "execution_count": 16,
   "metadata": {},
   "outputs": [
    {
     "data": {
      "text/plain": [
       "['Mystery', 'Annoying', 'Fortnite']"
      ]
     },
     "execution_count": 16,
     "metadata": {},
     "output_type": "execute_result"
    }
   ],
   "source": [
    "#TODO use a callback to return elements that are longer than 4 characters and have a capitalized first character\n",
    "words = [\"hello\", \"eat\", \"fan\", \"Mystery\", \"Help\", \"Pie\", \"Annoying\", \"tedious\", 'party', 'Fortnite']"
   ]
  },
  {
   "cell_type": "markdown",
   "metadata": {},
   "source": [
    "## Map example\n",
    "The `map` function is used to apply a function to every element in an iterable and like the `filter` function, it does this is by using a callback function. For example, we can use `map` to double every element in an iterable, or make everything capitalized.\n",
    "\n",
    "```python \n",
    "# Duble all elements\n",
    "var = [1,2,3,4,5]\n",
    "callback = lambda element: element * 2\n",
    "list(map(callback, var)) -> [2, 4, 6, 8, 10]\n",
    "\n",
    "# Capitalize all words\n",
    "var = ['thanos', \"infinity\", 'endgame']\n",
    "callback = lambda e: e.upper()\n",
    "list(map(callback, var)) -> ['THANOS', \"INFINITY\", \"ENDGAME\"]\n",
    "```"
   ]
  },
  {
   "cell_type": "code",
   "execution_count": 18,
   "metadata": {},
   "outputs": [
    {
     "data": {
      "text/plain": [
       "[5, 3, 3, 7, 4, 3, 8, 7, 5, 8]"
      ]
     },
     "execution_count": 18,
     "metadata": {},
     "output_type": "execute_result"
    }
   ],
   "source": [
    "#TODO convert every element in the list to the length of the string\n",
    "words = [\"hello\", \"eat\", \"fan\", \"Mystery\", \"Help\", \"Pie\", \"Annoying\", \"tedious\", 'party', 'Fortnite']"
   ]
  },
  {
   "cell_type": "code",
   "execution_count": null,
   "metadata": {},
   "outputs": [],
   "source": [
    "#Use a lambda to convert each number into a string\n",
    "var = [14, 12, 5, 16, 0, 17, 0, 8, 0, 2, 13, 15, 8]"
   ]
  },
  {
   "cell_type": "markdown",
   "metadata": {},
   "source": [
    "# Recursion\n",
    "In programmming, the concept of recursion is an object that calls itself. In most cases this object is a function but there are also cases of classes using recursion to create data structures like linked lists. You can think of recursion as putting two mirrors in front of eachother so that any object that you put between them will be seen recursively in the mirrors. \n",
    "\n",
    "```python\n",
    "def recurse()\n",
    "    if 'stop condition met':\n",
    "        # 'do something and return some value'\n",
    "        return some_value\n",
    "    else:\n",
    "        # 'the rest of the function body ending in a recursive call'\n",
    "        return recurse()\n",
    "```\n",
    "\n",
    "## How does recursion work\n",
    "Recursion works because of 2 operations working together, a `stop condition` and a `recursive call`. The `recursive call` is just where the function calls itself inside of itself. The recursive call doesn't actually execute anything new, it just calls the same function with new inputs. The `stop condition` is any condition that does not result in another recursive call. In theory, anything that you can do in a loop, you can also convert it into a recursive function.\n",
    "\n",
    "## Using recusrion to calculate factorials\n",
    "A factorial is a function in mathematics with the symbol that multiplies a number (n) by every number that comes after it. So if I want to find the factorial of 5 (5!), I would multiply `5 x 4 x 3 x 2 x 1` which will result in the number 120. Since the calculation is just multiply `n` by `n - 1` we can implement this logic recursively. \n",
    "\n",
    "* In this case our stop condition will be once `n` is equal to 1 since if you multiply by `n - 1` which would be 0, the output will be 0.\n",
    "* Our recursive call will be to multiply `n` by the result of the factorial of `n - 1`"
   ]
  },
  {
   "cell_type": "code",
   "execution_count": 1,
   "metadata": {},
   "outputs": [],
   "source": [
    "#TODO Implement the recursive function to calculate factorials"
   ]
  },
  {
   "cell_type": "markdown",
   "metadata": {},
   "source": [
    "# Call 1\n",
    "```python \n",
    "n == 3\n",
    "3 * factorial(3 - 1) -> results in another function call\n",
    "```\n",
    "\n",
    "# Call 2\n",
    "```python \n",
    "n == 2\n",
    "2 * factorial(2 - 1) -> results in another function call\n",
    "```\n",
    "\n",
    "# Call 3\n",
    "```python \n",
    "n == 1\n",
    "1 -> results in returning all previous functions\n",
    "```\n",
    "\n",
    "# Results\n",
    "```python \n",
    "call 3 returns 1 meaning that the return of the function call in call 2 is: 2 * 1\n",
    "call 2 returns 2 meaning that the return of the function call in call 1 is: 3 * 2\n",
    "call 1 returns 6 but since this was the original function call, the recursion terminates and the final answer gets returned\n",
    "```"
   ]
  }
 ],
 "metadata": {
  "interpreter": {
   "hash": "f1a916808f2d29f1a5fbd48aa1cb9129993ca703ecce713879d0cd946e898e32"
  },
  "kernelspec": {
   "display_name": "Python 3.9.7 64-bit ('legacy': conda)",
   "language": "python",
   "name": "python3"
  },
  "language_info": {
   "codemirror_mode": {
    "name": "ipython",
    "version": 3
   },
   "file_extension": ".py",
   "mimetype": "text/x-python",
   "name": "python",
   "nbconvert_exporter": "python",
   "pygments_lexer": "ipython3",
   "version": "3.9.7"
  },
  "orig_nbformat": 4
 },
 "nbformat": 4,
 "nbformat_minor": 2
}
