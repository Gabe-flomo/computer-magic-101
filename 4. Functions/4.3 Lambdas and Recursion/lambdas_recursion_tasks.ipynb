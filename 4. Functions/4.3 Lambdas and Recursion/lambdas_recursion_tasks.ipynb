{
 "cells": [
  {
   "cell_type": "markdown",
   "metadata": {},
   "source": [
    "# TASK 1\n",
    "Write a function named `gen_num` to generate a list of 50 random numbers between the range of (0 - 500)"
   ]
  },
  {
   "cell_type": "code",
   "execution_count": null,
   "metadata": {},
   "outputs": [],
   "source": [
    "#TODO code goes here"
   ]
  },
  {
   "cell_type": "markdown",
   "metadata": {},
   "source": [
    "# TASK 2\n",
    "Write a function called `is_prime` that will return `True` if a number is prime and `False` if it's not. A prime number is any number that can only be divided by 1 and itself.\n",
    "\n",
    "### Prime number pseudocode\n",
    "* define a function with the argument `num`\n",
    "* check to see if the `num` is less than or equal to 1, if true return `False`\n",
    "* start a loop between the range of 2 and `num` with the current iteration being `i`\n",
    "* if `num` mod `i` is equal to 0, then the `num` is not prime and you can return `False`\n",
    "* if the loop has finished and no factor has been found, return `True`"
   ]
  },
  {
   "cell_type": "code",
   "execution_count": 23,
   "metadata": {},
   "outputs": [
    {
     "data": {
      "text/plain": [
       "True"
      ]
     },
     "execution_count": 23,
     "metadata": {},
     "output_type": "execute_result"
    }
   ],
   "source": [
    "#TODO code goes here"
   ]
  },
  {
   "cell_type": "markdown",
   "metadata": {},
   "source": [
    "# TASK 3\n",
    "Using the `gen_num` function, write some code to filter out all of the prime numbers "
   ]
  },
  {
   "cell_type": "code",
   "execution_count": null,
   "metadata": {},
   "outputs": [],
   "source": [
    "#TODO code goes here"
   ]
  },
  {
   "cell_type": "markdown",
   "metadata": {},
   "source": [
    "# TASK 4\n",
    "Given a list of usernames, uppercase all of the usernames that have a length that can be divided by 3"
   ]
  },
  {
   "cell_type": "code",
   "execution_count": 30,
   "metadata": {},
   "outputs": [],
   "source": [
    "names = ['sillyBilly', \"nutrition_facts\", \"breeze_baby\", \"sir_lamof\", \"rill0\", \"ppp\", \"frostySierra\"]\n",
    "\n"
   ]
  },
  {
   "cell_type": "markdown",
   "metadata": {},
   "source": [
    "# TASK 5\n",
    "Given a list of lists, filter out all of the lists that have an average value greater than a number input by the user.\n",
    "\n",
    "## Example output\n",
    "```python\n",
    "data = [[5, 28, 14, 18, 23],\n",
    "        [10, 31, 7, 14, 21, 33, 33, 11, 46, 50, 8, 5, 41, 7],\n",
    "        [40, 44, 3, 33, 15, 21],\n",
    "        [3, 11, 3, 47, 12],\n",
    "        [38, 27, 23, 9, 46, 46, 50, 39, 43]]\n",
    "\n",
    "averages = [17.6, 22.6, 26.0, 15.2, 35.6]\n",
    "num = 25\n",
    "filter(averages) -> [17.6, 22.6, 15.2]\n",
    "```\n",
    "\n"
   ]
  },
  {
   "cell_type": "code",
   "execution_count": 51,
   "metadata": {},
   "outputs": [],
   "source": [
    "from random import randint\n",
    "def get_list():\n",
    "    data = []\n",
    "    for _ in range(randint(4, 8)):\n",
    "        var = [randint(0, 50) for _ in range(randint(1, 15))]\n",
    "        data.append(var)\n",
    "\n",
    "    return data\n"
   ]
  },
  {
   "cell_type": "markdown",
   "metadata": {},
   "source": [
    "# TASK \n",
    "In this task, you are given a fake file directory as a dictionary. Each key is a number and each value is either a file or folder which in this case is just another dictionary. Following the pseudocode below, implement a recursive function to count all of the files within the directory tree.\n",
    "\n",
    "## Pseudocode\n",
    "* define a function that takes 2 arguments\n",
    "    - `data`: This is a dictionary that contains files and possibly other folders\n",
    "    - `file_count`: This is a number to pass the current file count to each recursive call (default value should be 0)\n",
    "    \n",
    "<br>\n",
    "\n",
    "* Start looping through the `key:value` pairs in the dictionary\n",
    "    - check to see if the `current_value` is a file\n",
    "        - If the value is a file, add one to your `file_count`\n",
    "    - check to see if the `current_value` is a dictionary\n",
    "        - if it is a dictionary, set the `file_count` equal to the result of calling `count_files` where the `data` argument is equal to the `current_value` and `file_count` is equal to the current file count. ***This is the recursive call***\n",
    "        \n",
    "<br>\n",
    "\n",
    "* Once the loop has finished, return the `file_count`. ***This is our stop condition***"
   ]
  },
  {
   "cell_type": "code",
   "execution_count": 13,
   "metadata": {},
   "outputs": [],
   "source": [
    "data = {\n",
    "    1: 'file',\n",
    "    2: 'file',\n",
    "    3: {\n",
    "        1:\"file\",\n",
    "        2:\"file\",\n",
    "        3:\"file\",\n",
    "        4:\"file\",\n",
    "        5:{\n",
    "            1:{\n",
    "                1:\"file\",\n",
    "                2:\"file\",\n",
    "                3:\"file\"\n",
    "            },\n",
    "            2:\"file\",\n",
    "            3:\"file\",\n",
    "            4:{\n",
    "                1:\"file\",\n",
    "                2:\"file\",\n",
    "                3:\"file\",\n",
    "                4:\"file\"\n",
    "            }\n",
    "        },\n",
    "        6:\"file\",\n",
    "        7:\"file\",\n",
    "        8:\"file\",\n",
    "        9:\"file\",\n",
    "        10:{\n",
    "            1:\"file\",\n",
    "            2:\"file\",\n",
    "            3:\"file\",\n",
    "            4:{1:\"file\", 2:\"file\", 3:\"file\"}\n",
    "        }\n",
    "    }\n",
    "    \n",
    "}\n",
    "\n",
    "#TODO     \n"
   ]
  }
 ],
 "metadata": {
  "interpreter": {
   "hash": "f1a916808f2d29f1a5fbd48aa1cb9129993ca703ecce713879d0cd946e898e32"
  },
  "kernelspec": {
   "display_name": "Python 3.9.7 64-bit ('legacy': conda)",
   "language": "python",
   "name": "python3"
  },
  "language_info": {
   "codemirror_mode": {
    "name": "ipython",
    "version": 3
   },
   "file_extension": ".py",
   "mimetype": "text/x-python",
   "name": "python",
   "nbconvert_exporter": "python",
   "pygments_lexer": "ipython3",
   "version": "3.9.7"
  },
  "orig_nbformat": 4
 },
 "nbformat": 4,
 "nbformat_minor": 2
}
