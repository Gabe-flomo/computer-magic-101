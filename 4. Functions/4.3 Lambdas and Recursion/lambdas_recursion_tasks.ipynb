{
 "cells": [
  {
   "cell_type": "markdown",
   "metadata": {},
   "source": [
    "# TASK 1\n",
    "Write a function named `gen_num` to generate a list of 50 random numbers between the range of (0 - 500)"
   ]
  },
  {
   "cell_type": "code",
   "execution_count": 3,
   "metadata": {},
   "outputs": [],
   "source": [
    "#TODO code goes here\n",
    "from random import randint\n",
    "gen_num = lambda: [randint(0, 500) for _ in range(50)]\n"
   ]
  },
  {
   "cell_type": "markdown",
   "metadata": {},
   "source": [
    "# TASK 2\n",
    "Write a function called `is_prime` that will return `True` if a number is prime and `False` if it's not. A prime number is any number that can only be divided by 1 and itself.\n",
    "\n",
    "### Prime number pseudocode\n",
    "* define a function with the argument `num`\n",
    "* check to see if the `num` is less than or equal to 1, if true return `False`\n",
    "* start a loop between the range of 2 and `num` with the current iteration being `i`\n",
    "* if `num` mod `i` is equal to 0, then the `num` is not prime and you can return `False`\n",
    "* if the loop has finished and no factor has been found, return `True`"
   ]
  },
  {
   "cell_type": "code",
   "execution_count": 12,
   "metadata": {},
   "outputs": [
    {
     "data": {
      "text/plain": [
       "False"
      ]
     },
     "execution_count": 12,
     "metadata": {},
     "output_type": "execute_result"
    }
   ],
   "source": [
    "#TODO code goes here\n",
    "def is_prime(num):\n",
    "    if num <= 1:\n",
    "        return False\n",
    "    else:\n",
    "        for i in range(2, num):\n",
    "            if num % i == 0:\n",
    "                return False\n",
    "        return True\n",
    "\n",
    "is_prime(9)\n"
   ]
  },
  {
   "cell_type": "markdown",
   "metadata": {},
   "source": [
    "# TASK 3\n",
    "Using the `gen_num` function, write some code to filter out all of the prime numbers "
   ]
  },
  {
   "cell_type": "code",
   "execution_count": 17,
   "metadata": {},
   "outputs": [
    {
     "name": "stdout",
     "output_type": "stream",
     "text": [
      "[360, 148, 482, 145, 170, 41, 459, 361, 111, 125, 356, 400, 307, 289, 342, 238, 41, 349, 367, 466, 356, 134, 319, 65, 261, 37, 236, 393, 381, 483, 29, 217, 352, 120, 222, 282, 198, 220, 328, 270, 288, 147, 91, 223, 32, 285, 389, 310, 42, 453]\n"
     ]
    },
    {
     "data": {
      "text/plain": [
       "[41, 307, 41, 349, 367, 37, 29, 223, 389]"
      ]
     },
     "execution_count": 17,
     "metadata": {},
     "output_type": "execute_result"
    }
   ],
   "source": [
    "#TODO code goes here\n",
    "var = gen_num()\n",
    "print(var)\n",
    "list(filter(is_prime, var))"
   ]
  },
  {
   "cell_type": "markdown",
   "metadata": {},
   "source": [
    "# TASK 4\n",
    "Given a list of usernames, uppercase all of the usernames that have a length that can be divided by 3"
   ]
  },
  {
   "cell_type": "code",
   "execution_count": 19,
   "metadata": {},
   "outputs": [
    {
     "data": {
      "text/plain": [
       "['sillyBilly',\n",
       " 'NUTRITION_FACTS',\n",
       " 'breeze_baby',\n",
       " 'SIR_LAMOF',\n",
       " 'rill0',\n",
       " 'PPP',\n",
       " 'FROSTYSIERRA']"
      ]
     },
     "execution_count": 19,
     "metadata": {},
     "output_type": "execute_result"
    }
   ],
   "source": [
    "names = ['sillyBilly', \"nutrition_facts\", \"breeze_baby\", \"sir_lamof\", \"rill0\", \"ppp\", \"frostySierra\"]\n",
    "callback = lambda element: element.upper() if len(element) % 3 == 0 else element\n",
    "list(map(callback, names))"
   ]
  },
  {
   "cell_type": "markdown",
   "metadata": {},
   "source": [
    "# TASK 5\n",
    "Given a list of lists, filter out all of the lists that have an average value greater than a number input by the user.\n",
    "\n",
    "## Example output\n",
    "```python\n",
    "data = [[5, 28, 14, 18, 23],\n",
    "        [10, 31, 7, 14, 21, 33, 33, 11, 46, 50, 8, 5, 41, 7],\n",
    "        [40, 44, 3, 33, 15, 21],\n",
    "        [3, 11, 3, 47, 12],\n",
    "        [38, 27, 23, 9, 46, 46, 50, 39, 43]]\n",
    "\n",
    "averages = [17.6, 22.6, 26.0, 15.2, 35.6]\n",
    "num = 25\n",
    "filter(averages) -> [17.6, 22.6, 15.2]\n",
    "```\n",
    "\n"
   ]
  },
  {
   "cell_type": "code",
   "execution_count": 33,
   "metadata": {},
   "outputs": [
    {
     "name": "stdout",
     "output_type": "stream",
     "text": [
      "[30.4, 38.0, 25.89, 18.0, 25.5]\n",
      "Filtering out averages that are greater than 21\n"
     ]
    },
    {
     "data": {
      "text/plain": [
       "[18.0]"
      ]
     },
     "execution_count": 33,
     "metadata": {},
     "output_type": "execute_result"
    }
   ],
   "source": [
    "from random import randint\n",
    "def get_list():\n",
    "    data = []\n",
    "    for _ in range(randint(4, 8)):\n",
    "        var = [randint(0, 50) for _ in range(randint(1, 15))]\n",
    "        data.append(var)\n",
    "\n",
    "    return data\n",
    "\n",
    "average = lambda iterable: sum(iterable)/len(iterable)\n",
    "num = int(input(\"Enter a number: \"))\n",
    "averages = [round(average(val), 2) for val in get_list()]\n",
    "print(averages)\n",
    "print(f\"Filtering out averages that are greater than {num}\")\n",
    "extract = lambda element: element < num\n",
    "list(filter(extract, averages))\n",
    "\n",
    "\n"
   ]
  },
  {
   "cell_type": "markdown",
   "metadata": {},
   "source": [
    "# TASK \n",
    "In this task, you are given a fake file directory as a dictionary. Each key is a number and each value is either a file or folder which in this case is just another dictionary. Following the pseudocode below, implement a recursive function to count all of the files within the directory tree.\n",
    "\n",
    "## Pseudocode\n",
    "* define a function that takes 2 arguments\n",
    "    - `data`: This is a dictionary that contains files and possibly other folders\n",
    "    - `file_count`: This is a number to pass the current file count to each recursive call (default value should be 0)\n",
    "    \n",
    "<br>\n",
    "\n",
    "* Start looping through the `key:value` pairs in the dictionary\n",
    "    - check to see if the `current_value` is a file\n",
    "        - If the value is a file, add one to your `file_count`\n",
    "    - check to see if the `current_value` is a dictionary\n",
    "        - if it is a dictionary, set the `file_count` equal to the result of calling `count_files` where the `data` argument is equal to the `current_value` and `file_count` is equal to the current file count. ***This is the recursive call***\n",
    "        \n",
    "<br>\n",
    "\n",
    "* Once the loop has finished, return the `file_count`. ***This is our stop condition***"
   ]
  },
  {
   "cell_type": "code",
   "execution_count": 48,
   "metadata": {},
   "outputs": [
    {
     "name": "stdout",
     "output_type": "stream",
     "text": [
      "Current file count 1\n",
      "Current file count 2\n",
      "Entering another directory {\n",
      "   \"1\": \"file\",\n",
      "   \"2\": \"file\",\n",
      "   \"3\": \"file\",\n",
      "   \"4\": \"file\",\n",
      "   \"5\": {\n",
      "      \"1\": {\n",
      "         \"1\": \"file\",\n",
      "         \"2\": \"file\",\n",
      "         \"3\": \"file\"\n",
      "      },\n",
      "      \"2\": \"file\",\n",
      "      \"3\": \"file\",\n",
      "      \"4\": {\n",
      "         \"1\": \"file\",\n",
      "         \"2\": \"file\",\n",
      "         \"3\": \"file\",\n",
      "         \"4\": \"file\"\n",
      "      }\n",
      "   },\n",
      "   \"6\": \"file\",\n",
      "   \"7\": \"file\",\n",
      "   \"8\": \"file\",\n",
      "   \"9\": \"file\",\n",
      "   \"10\": {\n",
      "      \"1\": \"file\",\n",
      "      \"2\": \"file\",\n",
      "      \"3\": \"file\",\n",
      "      \"4\": {\n",
      "         \"1\": \"file\",\n",
      "         \"2\": \"file\",\n",
      "         \"3\": \"file\"\n",
      "      }\n",
      "   }\n",
      "} \n",
      "\n",
      "Current file count 3\n",
      "Current file count 4\n",
      "Current file count 5\n",
      "Current file count 6\n",
      "Entering another directory {\n",
      "   \"1\": {\n",
      "      \"1\": \"file\",\n",
      "      \"2\": \"file\",\n",
      "      \"3\": \"file\"\n",
      "   },\n",
      "   \"2\": \"file\",\n",
      "   \"3\": \"file\",\n",
      "   \"4\": {\n",
      "      \"1\": \"file\",\n",
      "      \"2\": \"file\",\n",
      "      \"3\": \"file\",\n",
      "      \"4\": \"file\"\n",
      "   }\n",
      "} \n",
      "\n",
      "Entering another directory {\n",
      "   \"1\": \"file\",\n",
      "   \"2\": \"file\",\n",
      "   \"3\": \"file\"\n",
      "} \n",
      "\n",
      "Current file count 7\n",
      "Current file count 8\n",
      "Current file count 9\n",
      "Exiting a function call\n",
      "\n",
      "Current file count 10\n",
      "Current file count 11\n",
      "Entering another directory {\n",
      "   \"1\": \"file\",\n",
      "   \"2\": \"file\",\n",
      "   \"3\": \"file\",\n",
      "   \"4\": \"file\"\n",
      "} \n",
      "\n",
      "Current file count 12\n",
      "Current file count 13\n",
      "Current file count 14\n",
      "Current file count 15\n",
      "Exiting a function call\n",
      "\n",
      "Exiting a function call\n",
      "\n",
      "Current file count 16\n",
      "Current file count 17\n",
      "Current file count 18\n",
      "Current file count 19\n",
      "Entering another directory {\n",
      "   \"1\": \"file\",\n",
      "   \"2\": \"file\",\n",
      "   \"3\": \"file\",\n",
      "   \"4\": {\n",
      "      \"1\": \"file\",\n",
      "      \"2\": \"file\",\n",
      "      \"3\": \"file\"\n",
      "   }\n",
      "} \n",
      "\n",
      "Current file count 20\n",
      "Current file count 21\n",
      "Current file count 22\n",
      "Entering another directory {\n",
      "   \"1\": \"file\",\n",
      "   \"2\": \"file\",\n",
      "   \"3\": \"file\"\n",
      "} \n",
      "\n",
      "Current file count 23\n",
      "Current file count 24\n",
      "Current file count 25\n",
      "Exiting a function call\n",
      "\n",
      "Exiting a function call\n",
      "\n",
      "Exiting a function call\n",
      "\n",
      "Exiting a function call\n",
      "\n"
     ]
    },
    {
     "data": {
      "text/plain": [
       "25"
      ]
     },
     "execution_count": 48,
     "metadata": {},
     "output_type": "execute_result"
    }
   ],
   "source": [
    "import json\n",
    "def count_files(data, file_count = 0, verbose = False):\n",
    "    for key, value in data.items():\n",
    "        if value == 'file':\n",
    "            file_count += 1\n",
    "            if verbose:\n",
    "                print(f\"Current file count {file_count}\")\n",
    "\n",
    "        elif isinstance(value, dict):\n",
    "            if verbose:\n",
    "                print(f\"Entering another directory {json.dumps(value, indent = 3)} \\n\")\n",
    "            file_count = count_files(value, file_count = file_count, verbose = verbose)\n",
    "    \n",
    "    if verbose:\n",
    "        print(\"Exiting a function call\\n\")\n",
    "    return file_count\n",
    "\n",
    "\n",
    "\n",
    "\n",
    "\n",
    "data = {\n",
    "    1: 'file',\n",
    "    2: 'file',\n",
    "    3: {\n",
    "        1:\"file\",\n",
    "        2:\"file\",\n",
    "        3:\"file\",\n",
    "        4:\"file\",\n",
    "        5:{\n",
    "            1:{\n",
    "                1:\"file\",\n",
    "                2:\"file\",\n",
    "                3:\"file\"\n",
    "            },\n",
    "            2:\"file\",\n",
    "            3:\"file\",\n",
    "            4:{\n",
    "                1:\"file\",\n",
    "                2:\"file\",\n",
    "                3:\"file\",\n",
    "                4:\"file\"\n",
    "            }\n",
    "        },\n",
    "        6:\"file\",\n",
    "        7:\"file\",\n",
    "        8:\"file\",\n",
    "        9:\"file\",\n",
    "        10:{\n",
    "            1:\"file\",\n",
    "            2:\"file\",\n",
    "            3:\"file\",\n",
    "            4:{1:\"file\", 2:\"file\", 3:\"file\"}\n",
    "        }\n",
    "    }\n",
    "    \n",
    "}\n",
    "\n",
    "#TODO     \n",
    "count_files(data, verbose = True)"
   ]
  },
  {
   "cell_type": "code",
   "execution_count": null,
   "metadata": {},
   "outputs": [],
   "source": []
  }
 ],
 "metadata": {
  "interpreter": {
   "hash": "f1a916808f2d29f1a5fbd48aa1cb9129993ca703ecce713879d0cd946e898e32"
  },
  "kernelspec": {
   "display_name": "Python 3.9.7 64-bit ('legacy': conda)",
   "language": "python",
   "name": "python3"
  },
  "language_info": {
   "codemirror_mode": {
    "name": "ipython",
    "version": 3
   },
   "file_extension": ".py",
   "mimetype": "text/x-python",
   "name": "python",
   "nbconvert_exporter": "python",
   "pygments_lexer": "ipython3",
   "version": "3.9.7"
  },
  "orig_nbformat": 4
 },
 "nbformat": 4,
 "nbformat_minor": 2
}
